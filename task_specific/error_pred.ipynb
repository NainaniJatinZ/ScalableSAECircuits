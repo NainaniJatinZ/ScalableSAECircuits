{
 "cells": [
  {
   "cell_type": "code",
   "execution_count": 1,
   "metadata": {},
   "outputs": [],
   "source": [
    "import json\n",
    "from sae_lens import SAE, HookedSAETransformer\n",
    "from functools import partial\n",
    "import einops\n",
    "import os\n",
    "import gc\n",
    "import torch\n",
    "import torch.nn as nn\n",
    "import matplotlib.pyplot as plt\n",
    "import torch.optim as optim\n",
    "from datasets import load_dataset\n",
    "from transformers import AutoTokenizer\n",
    "from transformer_lens.hook_points import (\n",
    "    HookPoint,\n",
    ") \n",
    "import numpy as np\n",
    "import pandas as pd\n",
    "from pprint import pprint as pp\n",
    "from typing import Tuple\n",
    "from torch import Tensor\n",
    "from functools import lru_cache\n",
    "from typing import TypedDict, Optional, Tuple, Union\n",
    "from tqdm import tqdm\n",
    "import random"
   ]
  },
  {
   "cell_type": "code",
   "execution_count": 2,
   "metadata": {},
   "outputs": [
    {
     "name": "stderr",
     "output_type": "stream",
     "text": [
      "WARNING:root:You tried to specify center_unembed=True for a model using logit softcap, but this can't be done! Softcapping is not invariant upon adding a constantSetting center_unembed=False instead.\n"
     ]
    },
    {
     "name": "stdout",
     "output_type": "stream",
     "text": [
      "Device: cuda\n"
     ]
    },
    {
     "data": {
      "application/vnd.jupyter.widget-view+json": {
       "model_id": "401afe1fbdaa4c66b138217b83c46a27",
       "version_major": 2,
       "version_minor": 0
      },
      "text/plain": [
       "Loading checkpoint shards:   0%|          | 0/8 [00:00<?, ?it/s]"
      ]
     },
     "metadata": {},
     "output_type": "display_data"
    },
    {
     "name": "stderr",
     "output_type": "stream",
     "text": [
      "WARNING:root:You are not using LayerNorm, so the writing weights can't be centered! Skipping\n"
     ]
    },
    {
     "name": "stdout",
     "output_type": "stream",
     "text": [
      "Loaded pretrained model google/gemma-2-9b into HookedTransformer\n"
     ]
    }
   ],
   "source": [
    "with open(\"config.json\", 'r') as file:\n",
    "   config = json.load(file)\n",
    "token = config.get('huggingface_token', None)\n",
    "os.environ[\"HF_TOKEN\"] = token\n",
    "\n",
    "# Define device\n",
    "device = \"cuda\" if torch.cuda.is_available() else \"cpu\"\n",
    "print(f\"Device: {device}\")\n",
    "\n",
    "hf_cache = \"/work/pi_jensen_umass_edu/jnainani_umass_edu/mechinterp/huggingface_cache/hub\"\n",
    "os.environ[\"HF_HOME\"] = hf_cache\n",
    "\n",
    "# Load the model\n",
    "model = HookedSAETransformer.from_pretrained(\"google/gemma-2-9b\", device=device, cache_dir=hf_cache) \n",
    "\n",
    "pad_token_id = model.tokenizer.pad_token_id\n",
    "for param in model.parameters():\n",
    "   param.requires_grad_(False)"
   ]
  },
  {
   "cell_type": "code",
   "execution_count": 3,
   "metadata": {},
   "outputs": [],
   "source": [
    "device = \"cuda\"\n",
    "layers= [7, 14, 21, 40]\n",
    "l0s = [92, 67, 129, 125]\n",
    "saes = [SAE.from_pretrained(release=\"gemma-scope-9b-pt-res\", sae_id=f\"layer_{layers[i]}/width_16k/average_l0_{l0s[i]}\", device=device)[0] for i in range(len(layers))]"
   ]
  },
  {
   "cell_type": "code",
   "execution_count": 4,
   "metadata": {},
   "outputs": [],
   "source": [
    "def cleanup_cuda():\n",
    "   torch.cuda.empty_cache()\n",
    "   gc.collect()\n",
    "\n",
    "def clear_memory():\n",
    "   for sae in saes:\n",
    "      for param in sae.parameters():\n",
    "         param.grad = None\n",
    "      for param in sae.mask.parameters():\n",
    "         param.grad = None\n",
    "\n",
    "   for param in model.parameters():\n",
    "      param.grad = None\n",
    "   cleanup_cuda()\n"
   ]
  },
  {
   "cell_type": "code",
   "execution_count": 34,
   "metadata": {},
   "outputs": [],
   "source": [
    "class SAEMasks(nn.Module):\n",
    "    def __init__(self, hook_points, masks):\n",
    "        super().__init__()\n",
    "        self.hook_points = hook_points  # list of strings\n",
    "        self.masks = masks\n",
    "\n",
    "    def forward(self, x, sae_hook_point, mean_ablation=None):\n",
    "        index = self.hook_points.index(sae_hook_point)\n",
    "        mask = self.masks[index]\n",
    "        censored_activations = torch.ones_like(x)\n",
    "        if mean_ablation is not None:\n",
    "            censored_activations = censored_activations * mean_ablation\n",
    "        else:\n",
    "            censored_activations = censored_activations * 0\n",
    "        \n",
    "        diff_to_x = x - censored_activations\n",
    "        return censored_activations + diff_to_x * mask\n",
    "\n",
    "    def print_mask_statistics(self):\n",
    "        \"\"\"\n",
    "        Prints statistics about each binary mask:\n",
    "          - total number of elements (latents)\n",
    "          - total number of 'on' latents (mask == 1)\n",
    "          - average on-latents per token\n",
    "            * If shape == [latent_dim], there's effectively 1 token\n",
    "            * If shape == [seq, latent_dim], it's 'sum of on-latents / seq'\n",
    "        \"\"\"\n",
    "        for i, mask in enumerate(self.masks):\n",
    "            shape = list(mask.shape)\n",
    "            total_latents = mask.numel()\n",
    "            total_on = mask.sum().item()  # number of 1's in the mask\n",
    "\n",
    "            # Average on-latents per token depends on dimensions\n",
    "            if len(shape) == 1:\n",
    "                # e.g., shape == [latent_dim]\n",
    "                avg_on_per_token = total_on  # only one token\n",
    "            elif len(shape) == 2:\n",
    "                # e.g., shape == [seq, latent_dim]\n",
    "                seq_len = shape[0]\n",
    "                avg_on_per_token = total_on / seq_len if seq_len > 0 else 0\n",
    "            else:\n",
    "                # If there's more than 2 dims, adapt as needed;\n",
    "                # we'll just define \"token\" as the first dimension.\n",
    "                seq_len = shape[0]\n",
    "                avg_on_per_token = total_on / seq_len if seq_len > 0 else 0\n",
    "\n",
    "            print(f\"Statistics for mask '{self.hook_points[i]}':\")\n",
    "            print(f\"  - Shape: {shape}\")\n",
    "            print(f\"  - Total latents: {total_latents}\")\n",
    "            print(f\"  - Latents ON (mask=1): {int(total_on)}\")\n",
    "            print(f\"  - Average ON per token: {avg_on_per_token:.4f}\\n\")\n",
    "\n",
    "    def save(self, save_dir, file_name=\"sae_masks.pt\"):\n",
    "        \"\"\"\n",
    "        Saves hook_points and masks to a single file (file_name) within save_dir.\n",
    "        If you want multiple mask sets in the same directory, call save() with\n",
    "        different file_name values. The directory is created if it does not exist.\n",
    "        \"\"\"\n",
    "        if not os.path.exists(save_dir):\n",
    "            os.makedirs(save_dir)\n",
    "\n",
    "        save_path = os.path.join(save_dir, file_name)\n",
    "        checkpoint = {\n",
    "            \"hook_points\": self.hook_points,\n",
    "            \"masks\": self.masks\n",
    "        }\n",
    "        torch.save(checkpoint, save_path)\n",
    "        print(f\"SAEMasks saved to {save_path}\")\n",
    "\n",
    "    @classmethod\n",
    "    def load(cls, load_dir, file_name=\"sae_masks.pt\"):\n",
    "        \"\"\"\n",
    "        Loads hook_points and masks from a single file (file_name) within load_dir,\n",
    "        returning an instance of SAEMasks. If you stored multiple mask sets in the\n",
    "        directory, specify the file_name to load the correct one.\n",
    "        \"\"\"\n",
    "        load_path = os.path.join(load_dir, file_name)\n",
    "        if not os.path.isfile(load_path):\n",
    "            raise FileNotFoundError(f\"No saved SAEMasks found at {load_path}\")\n",
    "\n",
    "        checkpoint = torch.load(load_path)\n",
    "        hook_points = checkpoint[\"hook_points\"]\n",
    "        masks = checkpoint[\"masks\"]\n",
    "\n",
    "        instance = cls(hook_points=hook_points, masks=masks)\n",
    "        print(f\"SAEMasks loaded from {load_path}\")\n",
    "        return instance\n",
    "    def get_num_latents(self):\n",
    "        num_latents = 0\n",
    "        for mask in self.masks:\n",
    "            num_latents += (mask>0).sum().item()\n",
    "        return num_latents\n",
    "\n",
    "class SparseMask(nn.Module):\n",
    "    def __init__(self, shape, l1, seq_len=None, distinct_l1=0):\n",
    "        super().__init__()\n",
    "        if seq_len is not None:\n",
    "            self.mask = nn.Parameter(torch.ones(seq_len, shape))\n",
    "        else:\n",
    "            self.mask = nn.Parameter(torch.ones(shape))\n",
    "        self.l1 = l1\n",
    "        self.distinct_l1 = distinct_l1\n",
    "        self.max_temp = torch.tensor(1000.0)\n",
    "        self.sparsity_loss = None\n",
    "        self.ratio_trained = 1\n",
    "        self.temperature = 1\n",
    "        self.distinct_sparsity_loss = 0\n",
    "\n",
    "\n",
    "    def forward(self, x, binary=False, mean_ablation=None):\n",
    "        if binary:\n",
    "            # binary mask, 0 if negative, 1 if positive\n",
    "            binarized = (self.mask > 0).float()\n",
    "            if mean_ablation is None:\n",
    "                return x * binarized\n",
    "            else:\n",
    "                diff = x - mean_ablation\n",
    "                return diff * binarized + mean_ablation\n",
    "            \n",
    "\n",
    "        self.temperature = self.max_temp ** self.ratio_trained\n",
    "        mask = torch.sigmoid(self.mask * self.temperature)\n",
    "        # mask = self.mask\n",
    "        self.sparsity_loss = torch.abs(mask).sum() * self.l1\n",
    "        # print(\"hello\", torch.abs(mask).sum()) \n",
    "        # if len(mask.shape) == 2:\n",
    "        #     self.distinct_sparsity_loss = torch.abs(mask).max(dim=0).values.sum() * self.distinct_l1\n",
    "\n",
    "        if mean_ablation is None:\n",
    "            return x * mask\n",
    "        else:\n",
    "            diff = x - mean_ablation\n",
    "            return diff * mask + mean_ablation\n",
    "\n",
    "# for sae in saes:\n",
    "#     sae.mask = SparseMask(sae.cfg.d_sae, 1.0, seq_len=65)\n",
    "\n",
    "class IGMask(nn.Module):\n",
    "    # igscores is seq x num_sae_latents\n",
    "    def __init__(self, ig_scores):\n",
    "        super().__init__()\n",
    "        self.ig_scores = ig_scores\n",
    "\n",
    "    def forward(self, x, threshold, mean_ablation = None):\n",
    "        censored_activations = torch.ones_like(x)\n",
    "        if mean_ablation != None:\n",
    "            censored_activations = censored_activations * mean_ablation\n",
    "        else:\n",
    "            censored_activations = censored_activations * 0\n",
    "\n",
    "        mask = (self.ig_scores.abs() > threshold).float()\n",
    "        \n",
    "        diff_to_x = x - censored_activations\n",
    "        return censored_activations + diff_to_x * mask\n",
    "    \n",
    "    def get_threshold_info(self, threshold):\n",
    "        mask = (self.ig_scores.abs() > threshold).float()\n",
    "\n",
    "        total_latents = mask.sum()\n",
    "        avg_latents_per_tok = mask.sum()/mask.shape[0]\n",
    "        latents_per_tok = mask.sum(dim=-1)\n",
    "        return {\"total_latents\":total_latents,\n",
    "                \"avg_latents_per_tok\":avg_latents_per_tok,\n",
    "                \"latents_per_tok\":latents_per_tok}\n",
    "    \n",
    "    def get_binarized_mask(self, threshold):\n",
    "        return (self.ig_scores.abs()>threshold).float()\n",
    "    \n",
    "def refresh_class():\n",
    "    for sae in saes:\n",
    "        if hasattr(sae, 'igmask'):\n",
    "            sae.igmask = IGMask(sae.igmask.ig_scores)\n",
    "\n",
    "try:\n",
    "    refresh_class()\n",
    "except Exception as e:\n",
    "    print(e)\n",
    "\n",
    "refresh_class()\n",
    "\n",
    "def produce_ig_binary_masks(threshold=0.01):\n",
    "    hook_points = []\n",
    "    masks = []\n",
    "\n",
    "    for sae in saes:\n",
    "        hook_point = sae.cfg.hook_name\n",
    "        mask = sae.igmask.get_binarized_mask(threshold=threshold)\n",
    "        hook_points.append(hook_point)\n",
    "        masks.append(mask)\n",
    "    \n",
    "    return SAEMasks(\n",
    "        hook_points=hook_points,\n",
    "        masks=masks\n",
    "    )"
   ]
  },
  {
   "cell_type": "code",
   "execution_count": 35,
   "metadata": {},
   "outputs": [],
   "source": [
    "bos_token_id = model.tokenizer.bos_token_id\n",
    "\n",
    "def build_sae_hook_fn(\n",
    "    # Core components\n",
    "    sae,\n",
    "    sequence,\n",
    "    \n",
    "    # Masking options\n",
    "    circuit_mask: Optional[SAEMasks] = None,\n",
    "    use_mask=False,\n",
    "    binarize_mask=False,\n",
    "    mean_mask=False,\n",
    "    ig_mask_threshold=None,\n",
    "    \n",
    "    # Caching behavior\n",
    "    cache_sae_grads=False,\n",
    "    cache_masked_activations=False,\n",
    "    cache_sae_activations=False,\n",
    "    \n",
    "    # Ablation options\n",
    "    mean_ablate=False,  # Controls mean ablation of the SAE\n",
    "    fake_activations=False,  # Controls whether to use fake activations\n",
    "    ):    # make the mask for the sequence\n",
    "    mask = torch.ones_like(sequence, dtype=torch.bool)\n",
    "    # mask[sequence == pad_token_id] = False\n",
    "    mask[sequence == bos_token_id] = False # where mask is false, keep original\n",
    "    def sae_hook(value, hook):\n",
    "        # print(f\"sae {sae.cfg.hook_name} running at layer {hook.layer()}\")\n",
    "        feature_acts = sae.encode(value)\n",
    "        feature_acts = feature_acts * mask.unsqueeze(-1)\n",
    "        if fake_activations != False and sae.cfg.hook_layer == fake_activations[0]:\n",
    "            feature_acts = fake_activations[1]\n",
    "        if cache_sae_grads:\n",
    "            raise NotImplementedError(\"torch is confusing\")\n",
    "            sae.feature_acts = feature_acts.requires_grad_(True)\n",
    "            sae.feature_acts.retain_grad()\n",
    "        \n",
    "        if cache_sae_activations:\n",
    "            sae.feature_acts = feature_acts.detach().clone()\n",
    "        \n",
    "        \n",
    "        \n",
    "        # Learned Binary Masking\n",
    "        if use_mask:\n",
    "            if mean_mask:\n",
    "                # apply the mask, with mean ablations\n",
    "                feature_acts = sae.mask(feature_acts, binary=binarize_mask, mean_ablation=sae.mean_ablation)\n",
    "            else:\n",
    "                # apply the mask, without mean ablations\n",
    "                feature_acts = sae.mask(feature_acts, binary=binarize_mask)\n",
    "\n",
    "        # IG Masking\n",
    "        if ig_mask_threshold != None:\n",
    "            # apply the ig mask\n",
    "            if mean_mask:\n",
    "                feature_acts = sae.igmask(feature_acts, threshold=ig_mask_threshold, mean_ablation=sae.mean_ablation)\n",
    "            else:\n",
    "                feature_acts = sae.igmask(feature_acts, threshold=ig_mask_threshold)\n",
    "\n",
    "                \n",
    "        if circuit_mask is not None:\n",
    "            hook_point = sae.cfg.hook_name\n",
    "            if mean_mask==True:\n",
    "                feature_acts = circuit_mask(feature_acts, hook_point, mean_ablation=sae.mean_ablation)\n",
    "            else:\n",
    "                feature_acts = circuit_mask(feature_acts, hook_point)\n",
    "            \n",
    "        if cache_masked_activations:\n",
    "            sae.feature_acts = feature_acts.detach().clone()\n",
    "        if mean_ablate:\n",
    "            feature_acts = sae.mean_ablation\n",
    "\n",
    "        out = sae.decode(feature_acts)\n",
    "        # choose out or value based on the mask\n",
    "        mask_expanded = mask.unsqueeze(-1).expand_as(value)\n",
    "        value = torch.where(mask_expanded, out, value)\n",
    "        return value\n",
    "    return sae_hook\n",
    "\n",
    "\n",
    "    # def sae_hook_ablate(value, hook):\n",
    "    # feature_acts = sae.encode(value)\n",
    "    # # feature_acts[:, :, topsae_attr_indices] = 0\n",
    "    # out = sae.decode(feature_acts)\n",
    "    # return out\n",
    "\n",
    "\n",
    "def build_hooks_list(sequence,\n",
    "                    cache_sae_activations=False,\n",
    "                    cache_sae_grads=False,\n",
    "                    circuit_mask=None,\n",
    "                    use_mask=False,\n",
    "                    binarize_mask=False,\n",
    "                    mean_mask=False,\n",
    "                    cache_masked_activations=False,\n",
    "                    mean_ablate=False,\n",
    "                    fake_activations: Tuple[int, torch.Tensor] = False,\n",
    "                    ig_mask_threshold=None,\n",
    "                    ):\n",
    "    hooks = []\n",
    "    # blocks.0.hook_resid_pre\n",
    "    # # fake hook that adds zero so gradients propagate through the model\n",
    "    # param = nn.Parameter(torch.tensor(0.0, requires_grad=True))\n",
    "    # hooks.append(\n",
    "    #     (\n",
    "    #         \"blocks.0.hook_resid_pre\",\n",
    "    #         lambda value, hook: value + param,\n",
    "    #     )\n",
    "    # )\n",
    "    for sae in saes:\n",
    "        hooks.append(\n",
    "            (\n",
    "            sae.cfg.hook_name,\n",
    "            build_sae_hook_fn(sae, sequence, cache_sae_grads=cache_sae_grads, circuit_mask=circuit_mask, use_mask=use_mask, binarize_mask=binarize_mask, cache_masked_activations=cache_masked_activations, cache_sae_activations=cache_sae_activations, mean_mask=mean_mask, mean_ablate=mean_ablate, fake_activations=fake_activations, ig_mask_threshold=ig_mask_threshold),\n",
    "            )\n",
    "        )\n",
    "    return hooks \n",
    "\n",
    "def build_sae_logitfn(**kwargs):\n",
    "    def logitfn(tokens):\n",
    "        return model.run_with_hooks(\n",
    "            tokens, \n",
    "            return_type=\"logits\", \n",
    "            fwd_hooks=build_hooks_list(tokens, **kwargs)\n",
    "            )\n",
    "    return logitfn"
   ]
  },
  {
   "cell_type": "markdown",
   "metadata": {},
   "source": [
    "# data creation - Index Error"
   ]
  },
  {
   "cell_type": "code",
   "execution_count": 11,
   "metadata": {},
   "outputs": [
    {
     "name": "stdout",
     "output_type": "stream",
     "text": [
      "Tokenized prompt: ['<bos>', '>>>', ' age', ' =', ' {\"', 'John', '\":', '1', '2', ',', ' \"', 'Emily', '\":', '1', '5', ',', ' \"', 'Megan', '\":', '1', '1', '}', '\\n', '>>>', ' age', '[\"', 'Emily', '\"]', '\\n']\n",
      "Tokenized answer: ['Traceback']\n"
     ]
    },
    {
     "data": {
      "text/html": [
       "<pre style=\"white-space:pre;overflow-x:auto;line-height:normal;font-family:Menlo,'DejaVu Sans Mono',consolas,'Courier New',monospace\">Performance on answer token:\n",
       "<span style=\"font-weight: bold\">Rank: </span><span style=\"color: #008080; text-decoration-color: #008080; font-weight: bold\">7</span><span style=\"font-weight: bold\">        Logit: </span><span style=\"color: #008080; text-decoration-color: #008080; font-weight: bold\">21.79</span><span style=\"font-weight: bold\"> Prob:  </span><span style=\"color: #008080; text-decoration-color: #008080; font-weight: bold\">0.14</span><span style=\"font-weight: bold\">% Token: |Traceback|</span>\n",
       "</pre>\n"
      ],
      "text/plain": [
       "Performance on answer token:\n",
       "\u001b[1mRank: \u001b[0m\u001b[1;36m7\u001b[0m\u001b[1m        Logit: \u001b[0m\u001b[1;36m21.79\u001b[0m\u001b[1m Prob:  \u001b[0m\u001b[1;36m0.14\u001b[0m\u001b[1m% Token: |Traceback|\u001b[0m\n"
      ]
     },
     "metadata": {},
     "output_type": "display_data"
    },
    {
     "name": "stdout",
     "output_type": "stream",
     "text": [
      "Top 0th token. Logit: 28.28 Prob: 94.41% Token: |1|\n",
      "Top 1th token. Logit: 24.82 Prob:  2.99% Token: |>>>|\n",
      "Top 2th token. Logit: 22.39 Prob:  0.26% Token: | |\n",
      "Top 3th token. Logit: 22.25 Prob:  0.23% Token: |#|\n",
      "Top 4th token. Logit: 22.09 Prob:  0.19% Token: |age|\n",
      "Top 5th token. Logit: 22.01 Prob:  0.18% Token: |2|\n",
      "Top 6th token. Logit: 21.87 Prob:  0.16% Token: |    |\n",
      "Top 7th token. Logit: 21.79 Prob:  0.14% Token: |Traceback|\n",
      "Top 8th token. Logit: 21.69 Prob:  0.13% Token: |...|\n",
      "Top 9th token. Logit: 21.57 Prob:  0.12% Token: |'|\n"
     ]
    },
    {
     "data": {
      "text/html": [
       "<pre style=\"white-space:pre;overflow-x:auto;line-height:normal;font-family:Menlo,'DejaVu Sans Mono',consolas,'Courier New',monospace\"><span style=\"font-weight: bold\">Ranks of the answer tokens:</span> <span style=\"font-weight: bold\">[(</span><span style=\"color: #008000; text-decoration-color: #008000\">'Traceback'</span>, <span style=\"color: #008080; text-decoration-color: #008080; font-weight: bold\">7</span><span style=\"font-weight: bold\">)]</span>\n",
       "</pre>\n"
      ],
      "text/plain": [
       "\u001b[1mRanks of the answer tokens:\u001b[0m \u001b[1m[\u001b[0m\u001b[1m(\u001b[0m\u001b[32m'Traceback'\u001b[0m, \u001b[1;36m7\u001b[0m\u001b[1m)\u001b[0m\u001b[1m]\u001b[0m\n"
      ]
     },
     "metadata": {},
     "output_type": "display_data"
    }
   ],
   "source": [
    "from transformer_lens.utils import test_prompt\n",
    "prompt = \"\"\">>> age = {\"John\":12, \"Emily\":15, \"Megan\":11}\n",
    ">>> age[\"Emily\"]\n",
    "\"\"\"\n",
    "test_prompt(prompt, \"Traceback\", model, prepend_space_to_answer=False)"
   ]
  },
  {
   "cell_type": "code",
   "execution_count": 82,
   "metadata": {},
   "outputs": [
    {
     "name": "stdout",
     "output_type": "stream",
     "text": [
      "Tokenized prompt: ['<bos>', '>>>', ' data', ' =', ' [', '4', ',', ' ', '7', ',', ' ', '5', ',', ' ', '6', ',', ' ', '8', ',', ' ', '1', ']', '\\n', '>>>', ' val', ' =', ' data', '[', '4', ']', '\\n']\n",
      "Tokenized answer: ['Traceback']\n"
     ]
    },
    {
     "data": {
      "text/html": [
       "<pre style=\"white-space:pre;overflow-x:auto;line-height:normal;font-family:Menlo,'DejaVu Sans Mono',consolas,'Courier New',monospace\">Performance on answer token:\n",
       "<span style=\"font-weight: bold\">Rank: </span><span style=\"color: #008080; text-decoration-color: #008080; font-weight: bold\">3</span><span style=\"font-weight: bold\">        Logit: </span><span style=\"color: #008080; text-decoration-color: #008080; font-weight: bold\">-0.94</span><span style=\"font-weight: bold\"> Prob:  </span><span style=\"color: #008080; text-decoration-color: #008080; font-weight: bold\">0.20</span><span style=\"font-weight: bold\">% Token: |Traceback|</span>\n",
       "</pre>\n"
      ],
      "text/plain": [
       "Performance on answer token:\n",
       "\u001b[1mRank: \u001b[0m\u001b[1;36m3\u001b[0m\u001b[1m        Logit: \u001b[0m\u001b[1;36m-0.94\u001b[0m\u001b[1m Prob:  \u001b[0m\u001b[1;36m0.20\u001b[0m\u001b[1m% Token: |Traceback|\u001b[0m\n"
      ]
     },
     "metadata": {},
     "output_type": "display_data"
    },
    {
     "name": "stdout",
     "output_type": "stream",
     "text": [
      "Top 0th token. Logit:  5.26 Prob: 96.31% Token: |>>>|\n",
      "Top 1th token. Logit:  1.13 Prob:  1.56% Token: |4|\n",
      "Top 2th token. Logit: -0.87 Prob:  0.21% Token: |#|\n",
      "Top 3th token. Logit: -0.94 Prob:  0.20% Token: |Traceback|\n",
      "Top 4th token. Logit: -1.14 Prob:  0.16% Token: |5|\n",
      "Top 5th token. Logit: -1.18 Prob:  0.16% Token: |1|\n",
      "Top 6th token. Logit: -1.24 Prob:  0.15% Token: |...|\n",
      "Top 7th token. Logit: -1.37 Prob:  0.13% Token: |val|\n",
      "Top 8th token. Logit: -1.72 Prob:  0.09% Token: |7|\n",
      "Top 9th token. Logit: -1.73 Prob:  0.09% Token: |6|\n"
     ]
    },
    {
     "data": {
      "text/html": [
       "<pre style=\"white-space:pre;overflow-x:auto;line-height:normal;font-family:Menlo,'DejaVu Sans Mono',consolas,'Courier New',monospace\"><span style=\"font-weight: bold\">Ranks of the answer tokens:</span> <span style=\"font-weight: bold\">[(</span><span style=\"color: #008000; text-decoration-color: #008000\">'Traceback'</span>, <span style=\"color: #008080; text-decoration-color: #008080; font-weight: bold\">3</span><span style=\"font-weight: bold\">)]</span>\n",
       "</pre>\n"
      ],
      "text/plain": [
       "\u001b[1mRanks of the answer tokens:\u001b[0m \u001b[1m[\u001b[0m\u001b[1m(\u001b[0m\u001b[32m'Traceback'\u001b[0m, \u001b[1;36m3\u001b[0m\u001b[1m)\u001b[0m\u001b[1m]\u001b[0m\n"
      ]
     },
     "metadata": {},
     "output_type": "display_data"
    }
   ],
   "source": [
    "from transformer_lens.utils import test_prompt\n",
    "prompt = \"\"\">>> data = [4, 7, 5, 6, 8, 1]\n",
    ">>> val = data[4]\n",
    "\"\"\"\n",
    "test_prompt(prompt, \"Traceback\", model, prepend_space_to_answer=False)"
   ]
  },
  {
   "cell_type": "code",
   "execution_count": 23,
   "metadata": {},
   "outputs": [
    {
     "name": "stdout",
     "output_type": "stream",
     "text": [
      "Dataset saved to data/codereason/index/data_len6_digit1.json\n"
     ]
    }
   ],
   "source": [
    "import random\n",
    "import string\n",
    "import json\n",
    "\n",
    "def generate_index_error_dataset(num_prompts, N, K, output_path):\n",
    "    \"\"\"\n",
    "    Generate a JSON dataset of prompts with and without index errors.\n",
    "\n",
    "    Args:\n",
    "        num_prompts (int): Number of prompt pairs to generate.\n",
    "        N (int): Length of the list to generate.\n",
    "        K (int): Number of digits for the integers in the list.\n",
    "        output_path (str): Path to save the generated dataset as a JSON file.\n",
    "\n",
    "    Returns:\n",
    "        None: Saves the dataset to the specified JSON file.\n",
    "    \"\"\"\n",
    "    dataset = []\n",
    "    var_names = [\"age\", \"scores\", \"values\", \"data\", \"items\"]  # Pool of variable names to choose from\n",
    "    \n",
    "    for _ in range(num_prompts):\n",
    "        var_name = random.choice(var_names)\n",
    "        # Generate a list of length N with random integers of K digits\n",
    "        random_list = [random.randint(10**(K-1), 10**K - 1) for _ in range(N)]\n",
    "        \n",
    "        # Generate valid and invalid indices\n",
    "        valid_index = random.randint(0, N - 1)\n",
    "        invalid_index = N + random.randint(1, 5)  # Index out of bounds\n",
    "\n",
    "        # Extract the answer for the valid index (first digit of the value at the index)\n",
    "        valid_value = random_list[valid_index]\n",
    "        no_error_answer = str(valid_value)[0]\n",
    "        \n",
    "        # Define the prompts\n",
    "        no_error_prompt = f\"\"\">>> {var_name} = {random_list}\\n>>> {var_name}[{valid_index}]\\n\"\"\"\n",
    "        index_error_prompt = f\"\"\">>> {var_name} = {random_list}\\n>>> {var_name}[{invalid_index}]\\n\"\"\"\n",
    "\n",
    "        # Create the first entry (no error prompt as clean, index error as patch)\n",
    "        dataset.append({\n",
    "            \"clean_prefix\": no_error_prompt,\n",
    "            \"patch_prefix\": index_error_prompt,\n",
    "            \"clean_answer\": no_error_answer,\n",
    "            \"patch_answer\": \"Traceback\",\n",
    "            \"case\": f\"index_len{N}_digit{K}_no_err\"\n",
    "        })\n",
    "\n",
    "        # Create the second entry (index error prompt as clean, no error as patch)\n",
    "        dataset.append({\n",
    "            \"clean_prefix\": index_error_prompt,\n",
    "            \"patch_prefix\": no_error_prompt,\n",
    "            \"clean_answer\": \"Traceback\",\n",
    "            \"patch_answer\": no_error_answer,\n",
    "            \"case\": f\"index_len{N}_digit{K}_err\"\n",
    "        })\n",
    "\n",
    "    save_path = os.path.join(output_path, f\"data_len{N}_digit{K}.json\")\n",
    "    # Save the dataset to a JSON file\n",
    "    with open(save_path, \"w\") as json_file:\n",
    "        json.dump(dataset, json_file, indent=2)\n",
    "\n",
    "    # Display confirmation\n",
    "    print(f\"Dataset saved to {save_path}\")\n",
    "\n",
    "# Example usage\n",
    "num_prompts = 10000\n",
    "output_path = \"data/codereason/index/\"\n",
    "generate_index_error_dataset(num_prompts, N=6, K=1, output_path=output_path)\n"
   ]
  },
  {
   "cell_type": "code",
   "execution_count": 25,
   "metadata": {},
   "outputs": [
    {
     "data": {
      "text/plain": [
       "{'clean_prefix': '>>> data = [4, 7, 5, 6, 8, 1]\\n>>> data[4]\\n',\n",
       " 'patch_prefix': '>>> data = [4, 7, 5, 6, 8, 1]\\n>>> data[9]\\n',\n",
       " 'clean_answer': '8',\n",
       " 'patch_answer': 'Traceback',\n",
       " 'case': 'index_len6_digit1_no_err'}"
      ]
     },
     "execution_count": 25,
     "metadata": {},
     "output_type": "execute_result"
    }
   ],
   "source": [
    "import json\n",
    "N = 6\n",
    "K = 1\n",
    "file_path = f'data/codereason/index/data_len{N}_digit{K}.json'\n",
    "with open(file_path, 'r') as file:\n",
    "    data = json.load(file)\n",
    "data[0]"
   ]
  },
  {
   "cell_type": "code",
   "execution_count": 31,
   "metadata": {},
   "outputs": [
    {
     "data": {
      "text/plain": [
       "29"
      ]
     },
     "execution_count": 31,
     "metadata": {},
     "output_type": "execute_result"
    }
   ],
   "source": [
    "len(model.tokenizer(data[10]['clean_prefix']).input_ids)"
   ]
  },
  {
   "cell_type": "code",
   "execution_count": 32,
   "metadata": {},
   "outputs": [
    {
     "data": {
      "text/plain": [
       "30"
      ]
     },
     "execution_count": 32,
     "metadata": {},
     "output_type": "execute_result"
    }
   ],
   "source": [
    "len(model.tokenizer(data[10]['patch_prefix']).input_ids)"
   ]
  },
  {
   "cell_type": "code",
   "execution_count": 34,
   "metadata": {},
   "outputs": [
    {
     "name": "stdout",
     "output_type": "stream",
     "text": [
      "12080\n"
     ]
    }
   ],
   "source": [
    "clean_data = []\n",
    "corr_data = []\n",
    "clean_labels = []\n",
    "corr_labels = []\n",
    "for entry in data:\n",
    "    clean_len = len(model.tokenizer(entry['clean_prefix']).input_ids)\n",
    "    corr_len = len(model.tokenizer(entry['patch_prefix']).input_ids)\n",
    "    if clean_len == corr_len == 29:\n",
    "        clean_data.append(entry['clean_prefix'])\n",
    "        corr_data.append(entry['patch_prefix'])\n",
    "        clean_labels.append(entry['clean_answer'])\n",
    "        corr_labels.append(entry['patch_answer'])\n",
    "print(len(clean_data))"
   ]
  },
  {
   "cell_type": "code",
   "execution_count": 39,
   "metadata": {},
   "outputs": [
    {
     "name": "stdout",
     "output_type": "stream",
     "text": [
      "torch.Size([3000, 29]) torch.Size([3000, 29])\n",
      "torch.Size([187, 16, 29]) torch.Size([187, 16, 29]) torch.Size([187, 16]) torch.Size([187, 16])\n"
     ]
    }
   ],
   "source": [
    "N = 3000\n",
    "clean_tokens = model.to_tokens(clean_data[:N])\n",
    "corr_tokens = model.to_tokens(corr_data[:N])\n",
    "clean_label_tokens = model.to_tokens(clean_labels[:N], prepend_bos=False).squeeze(-1)\n",
    "corr_label_tokens = model.to_tokens(corr_labels[:N], prepend_bos=False).squeeze(-1)\n",
    "print(clean_tokens.shape, corr_tokens.shape)\n",
    "\n",
    "def logit_diff_fn(logits, clean_labels, corr_labels, token_wise=False):\n",
    "    clean_logits = logits[torch.arange(logits.shape[0]), -1, clean_labels]\n",
    "    corr_logits = logits[torch.arange(logits.shape[0]), -1, corr_labels]\n",
    "    return (clean_logits - corr_logits).mean() if not token_wise else (clean_logits - corr_logits)\n",
    "\n",
    "batch_size = 16 \n",
    "clean_tokens = clean_tokens[:batch_size*(len(clean_tokens)//batch_size)]\n",
    "corr_tokens = corr_tokens[:batch_size*(len(corr_tokens)//batch_size)]\n",
    "clean_label_tokens = clean_label_tokens[:batch_size*(len(clean_label_tokens)//batch_size)]\n",
    "corr_label_tokens = corr_label_tokens[:batch_size*(len(corr_label_tokens)//batch_size)]\n",
    "\n",
    "clean_tokens = clean_tokens.reshape(-1, batch_size, clean_tokens.shape[-1])\n",
    "corr_tokens = corr_tokens.reshape(-1, batch_size, corr_tokens.shape[-1])\n",
    "clean_label_tokens = clean_label_tokens.reshape(-1, batch_size)\n",
    "corr_label_tokens = corr_label_tokens.reshape(-1, batch_size)\n",
    "\n",
    "print(clean_tokens.shape, corr_tokens.shape, clean_label_tokens.shape, corr_label_tokens.shape)"
   ]
  },
  {
   "cell_type": "code",
   "execution_count": 40,
   "metadata": {},
   "outputs": [],
   "source": [
    "example_length = 29"
   ]
  },
  {
   "cell_type": "code",
   "execution_count": 41,
   "metadata": {},
   "outputs": [
    {
     "name": "stdout",
     "output_type": "stream",
     "text": [
      "tensor(4.2678, device='cuda:0')\n",
      "tensor(4.3395, device='cuda:0')\n",
      "tensor(3.6911, device='cuda:0')\n",
      "tensor(4.4798, device='cuda:0')\n",
      "tensor(4.2827, device='cuda:0')\n",
      "tensor(4.2606, device='cuda:0')\n",
      "tensor(4.3051, device='cuda:0')\n",
      "tensor(3.9882, device='cuda:0')\n",
      "tensor(4.0821, device='cuda:0')\n",
      "tensor(3.9572, device='cuda:0')\n",
      "Average LD:  4.165408134460449\n"
     ]
    }
   ],
   "source": [
    "use_mask = False \n",
    "mean_mask = False\n",
    "avg_logit_diff = 0\n",
    "cleanup_cuda()\n",
    "with torch.no_grad():\n",
    "    for i in range(10):\n",
    "        logits = model.run_with_hooks(\n",
    "            clean_tokens[i], \n",
    "            return_type=\"logits\", \n",
    "            fwd_hooks=build_hooks_list(clean_tokens[i], use_mask=use_mask, mean_mask=mean_mask)\n",
    "            )\n",
    "        ld = logit_diff_fn(logits, clean_label_tokens[i], corr_label_tokens[i])\n",
    "        print(ld)\n",
    "        avg_logit_diff += ld\n",
    "        del logits\n",
    "        cleanup_cuda()\n",
    "avg_logit_diff = (avg_logit_diff / 10).item()\n",
    "print(\"Average LD: \", avg_logit_diff)"
   ]
  },
  {
   "cell_type": "code",
   "execution_count": 42,
   "metadata": {},
   "outputs": [],
   "source": [
    "for sae in saes:\n",
    "    sae.mask = SparseMask(sae.cfg.d_sae, 1.0, seq_len=example_length).to(device)"
   ]
  },
  {
   "cell_type": "code",
   "execution_count": 43,
   "metadata": {},
   "outputs": [
    {
     "name": "stderr",
     "output_type": "stream",
     "text": [
      "Mean Accum Progress: 100%|██████████| 400/400 [01:29<00:00,  4.48it/s]\n"
     ]
    }
   ],
   "source": [
    "def running_mean_tensor(old_mean, new_value, n):\n",
    "    return old_mean + (new_value - old_mean) / n\n",
    "\n",
    "def get_sae_means(mean_tokens, total_batches, batch_size, per_token_mask=False):\n",
    "    for sae in saes:\n",
    "        sae.mean_ablation = torch.zeros(sae.cfg.d_sae).float().to(device)\n",
    "    \n",
    "    with tqdm(total=total_batches*batch_size, desc=\"Mean Accum Progress\") as pbar:\n",
    "        for i in range(total_batches):\n",
    "            for j in range(batch_size):\n",
    "                with torch.no_grad():\n",
    "                    _ = model.run_with_hooks(\n",
    "                        mean_tokens[i, j], \n",
    "                        return_type=\"logits\", \n",
    "                        fwd_hooks=build_hooks_list(mean_tokens[i, j], cache_sae_activations=True)\n",
    "                        )\n",
    "                    for sae in saes:\n",
    "                        sae.mean_ablation = running_mean_tensor(sae.mean_ablation, sae.feature_acts, i+1)\n",
    "                    cleanup_cuda()\n",
    "                pbar.update(1)\n",
    "\n",
    "            if i >= total_batches:\n",
    "                break\n",
    "\n",
    "get_sae_means(corr_tokens, 25, 16)"
   ]
  },
  {
   "cell_type": "code",
   "execution_count": 44,
   "metadata": {},
   "outputs": [
    {
     "name": "stdout",
     "output_type": "stream",
     "text": [
      "tensor(0., device='cuda:0')\n",
      "tensor(0., device='cuda:0')\n",
      "tensor(0., device='cuda:0')\n",
      "tensor(0., device='cuda:0')\n",
      "tensor(0., device='cuda:0')\n",
      "Average LD:  tensor(0., device='cuda:0')\n"
     ]
    }
   ],
   "source": [
    "avg_mean_diff = 0\n",
    "with torch.no_grad():\n",
    "    for i in range(5):\n",
    "        logits = model.run_with_hooks(\n",
    "            clean_tokens[i], \n",
    "            return_type=\"logits\", \n",
    "            fwd_hooks=build_hooks_list(clean_tokens[i], mean_ablate=True)\n",
    "            )\n",
    "        ld = logit_diff_fn(logits, clean_label_tokens[i], corr_label_tokens[i])\n",
    "        print(ld)\n",
    "        avg_mean_diff += ld\n",
    "        del logits\n",
    "        cleanup_cuda()\n",
    "print(\"Average LD: \", avg_mean_diff)"
   ]
  },
  {
   "cell_type": "markdown",
   "metadata": {},
   "source": [
    "## Mask training"
   ]
  },
  {
   "cell_type": "code",
   "execution_count": 45,
   "metadata": {},
   "outputs": [],
   "source": [
    "import torch.nn.functional as F\n",
    "import wandb\n",
    "import signal\n",
    "class KeyboardInterruptBlocker:\n",
    "    def __enter__(self):\n",
    "        # Block SIGINT and store old mask\n",
    "        self.old_mask = signal.pthread_sigmask(signal.SIG_BLOCK, {signal.SIGINT})\n",
    "\n",
    "    def __exit__(self, exc_type, exc_value, traceback):\n",
    "        # Restore old mask (unblock SIGINT)\n",
    "        signal.pthread_sigmask(signal.SIG_SETMASK, self.old_mask)\n",
    "\n",
    "class Range:\n",
    "    def __init__(self, *args):\n",
    "        # Support for range(start, stop, step) or range(stop)\n",
    "        self.args = args\n",
    "\n",
    "        # Validate input like the built-in range does\n",
    "        if len(self.args) not in {1, 2, 3}:\n",
    "            raise TypeError(f\"Range expected at most 3 arguments, got {len(self.args)}\")\n",
    "        \n",
    "        self.range = __builtins__.range(*self.args)  # Create the range object\n",
    "\n",
    "    def __iter__(self):\n",
    "        for i in self.range:\n",
    "            try:\n",
    "                with KeyboardInterruptBlocker():\n",
    "                    yield i\n",
    "            except KeyboardInterrupt:\n",
    "                print(\"Keyboard interrupt received. Exiting iteration.\")\n",
    "                break\n",
    "\n",
    "    def __len__(self):\n",
    "        return len(self.range)"
   ]
  },
  {
   "cell_type": "code",
   "execution_count": 50,
   "metadata": {},
   "outputs": [],
   "source": [
    "def do_training_run(token_dataset, labels_dataset, corr_labels_dataset, sparsity_multiplier, task, example_length=6, loss_function='ce', per_token_mask=False, use_mask=True, mean_mask=False, portion_of_data = 0.5, distinct_sparsity_multiplier=0 ):\n",
    "\n",
    "    def logitfn(tokens, use_mask, mean_mask):\n",
    "        logits =  model.run_with_hooks(\n",
    "            tokens, \n",
    "            return_type=\"logits\", \n",
    "            fwd_hooks=build_hooks_list(tokens, use_mask=use_mask, mean_mask=mean_mask)\n",
    "            )\n",
    "        return logits\n",
    "\n",
    "    def forward_pass(batch, clean_label_tokens, corr_label_tokens, logitfn, ratio_trained=1, loss_function='ce'):\n",
    "        for sae in saes:\n",
    "            sae.mask.ratio_trained = ratio_trained\n",
    "        tokens = batch\n",
    "        logits = logitfn(tokens, use_mask, mean_mask)\n",
    "        model_logits = logitfn(tokens, False, False)\n",
    "        last_token_logits = logits[:, -1, :]\n",
    "        if loss_function == 'ce':\n",
    "            loss = F.cross_entropy(last_token_logits, clean_label_tokens)\n",
    "        elif loss_function == 'logit_diff':\n",
    "            fwd_logit_diff = logit_diff_fn(logits, clean_label_tokens, corr_label_tokens)\n",
    "            model_logit_diff = logit_diff_fn(model_logits, clean_label_tokens, corr_label_tokens)\n",
    "            loss = torch.abs(model_logit_diff - fwd_logit_diff)\n",
    "        \n",
    "        del model_logits, logits\n",
    "        cleanup_cuda()\n",
    "\n",
    "        sparsity_loss = 0\n",
    "        distinct_sparsity_loss = 0\n",
    "        # if per_token_mask:\n",
    "        #     distinct_sparsity_loss = 0\n",
    "        for sae in saes:\n",
    "            sparsity_loss = sparsity_loss + sae.mask.sparsity_loss\n",
    "            # if per_token_mask:\n",
    "            #     distinct_sparsity_loss = distinct_sparsity_loss + sae.mask.distinct_sparsity_loss\n",
    "        \n",
    "        sparsity_loss = sparsity_loss / len(saes)\n",
    "        distinct_sparsity_loss = distinct_sparsity_loss / len(saes)\n",
    "\n",
    "        return loss, sparsity_loss, distinct_sparsity_loss\n",
    "\n",
    "    print(\"doing a run with sparsity multiplier\", sparsity_multiplier)\n",
    "    all_optimized_params = []\n",
    "    config = {\n",
    "        \"batch_size\": 16,\n",
    "        \"learning_rate\": 1,\n",
    "        \"total_steps\": token_dataset.shape[0]*portion_of_data,\n",
    "        \"sparsity_multiplier\": sparsity_multiplier\n",
    "    }\n",
    "\n",
    "    for sae in saes:\n",
    "        if per_token_mask:\n",
    "            sae.mask = SparseMask(sae.cfg.d_sae, 1.0, seq_len=example_length).to(device)\n",
    "        else:\n",
    "            sae.mask = SparseMask(sae.cfg.d_sae, 1.0).to(device)\n",
    "        all_optimized_params.extend(list(sae.mask.parameters()))\n",
    "        sae.mask.max_temp = torch.tensor(200.0)\n",
    "    \n",
    "    wandb.init(project=\"sae circuits\", config=config)\n",
    "    optimizer = optim.Adam(all_optimized_params, lr=config[\"learning_rate\"])\n",
    "    total_steps = config[\"total_steps\"] #*20 #*config[\"batch_size\"]\n",
    "    # epochs = 20\n",
    "    with tqdm(total=total_steps*1.1, desc=\"Training Progress\") as pbar:\n",
    "        # for epoch in range(epochs):\n",
    "        for i, (x, y, z) in enumerate(zip(token_dataset, labels_dataset, corr_labels_dataset)):\n",
    "            with KeyboardInterruptBlocker():\n",
    "                optimizer.zero_grad()\n",
    "                \n",
    "                # Calculate ratio trained\n",
    "                ratio_trained =  i / total_steps*1.1\n",
    "                \n",
    "                # Update mask ratio for each SAE\n",
    "                for sae in saes:\n",
    "                    sae.mask.ratio_trained = ratio_trained\n",
    "                \n",
    "                # Forward pass with updated ratio_trained\n",
    "                loss, sparsity_loss, _ = forward_pass(x, y, z, logitfn, ratio_trained=ratio_trained, loss_function=loss_function)\n",
    "                # if per_token_mask:\n",
    "                #     sparsity_loss = sparsity_loss / example_length\n",
    "                # print(\"sp loss\", sparsity_loss)\n",
    "                # print(\"sae 0 sp loss\", saes[0].mask.sparsity_loss)\n",
    "                # print(\"sae 1 sp loss\", saes[1].mask.sparsity_loss)\n",
    "                # print(\"sae 2 sp loss\", saes[2].mask.sparsity_loss)\n",
    "                # print(\"sae 3 sp loss\", saes[3].mask.sparsity_loss)\n",
    "                \n",
    "                avg_nonzero_elements = sparsity_loss\n",
    "                # avg_distinct_nonzero_elements = distinct_sparsity_loss\n",
    "                    \n",
    "                sparsity_loss = sparsity_loss * config[\"sparsity_multiplier\"] #+ distinct_sparsity_loss * distinct_sparsity_multiplier\n",
    "                total_loss = sparsity_loss + loss\n",
    "                infodict  = {\"Step\": i, \"Progress\": ratio_trained, \"Avg Nonzero Elements\": avg_nonzero_elements.item(), \"Task Loss\": loss.item(), \"Sparsity Loss\": sparsity_loss.item(), \"temperature\": saes[0].mask.temperature} # \"avg distinct lat/sae\":avg_distinct_nonzero_elements.item()\n",
    "                wandb.log(infodict)\n",
    "                # break\n",
    "                # Backward pass and optimizer step\n",
    "                total_loss.backward()\n",
    "                optimizer.step()\n",
    "                \n",
    "                # Update tqdm bar with relevant metrics\n",
    "                pbar.set_postfix(infodict)\n",
    "                \n",
    "                # Update the tqdm progress bar\n",
    "                pbar.update(1)\n",
    "                # break\n",
    "                if i >= total_steps*1.1:\n",
    "                    break\n",
    "    wandb.finish()\n",
    "\n",
    "    optimizer.zero_grad()\n",
    "\n",
    "    for sae in saes:\n",
    "        for param in sae.parameters():\n",
    "            param.grad = None\n",
    "        for param in sae.mask.parameters():\n",
    "            param.grad = None\n",
    "    \n",
    "    for param in model.parameters():\n",
    "        param.grad = None\n",
    "\n",
    "    torch.cuda.empty_cache()\n",
    "\n",
    "    ### EVAL ###\n",
    "    def masked_logit_fn(tokens):\n",
    "        logits =  model.run_with_hooks(\n",
    "            tokens, \n",
    "            return_type=\"logits\", \n",
    "            fwd_hooks=build_hooks_list(tokens, use_mask=use_mask, mean_mask=mean_mask, binarize_mask=True)\n",
    "            )\n",
    "        return logits\n",
    "\n",
    "    def eval_ce_loss(batch, labels, logitfn, ratio_trained=10):\n",
    "        for sae in saes:\n",
    "            sae.mask.ratio_trained = ratio_trained\n",
    "        tokens = batch\n",
    "        logits = logitfn(tokens)\n",
    "        last_token_logits = logits[:, -1, :]\n",
    "        loss = F.cross_entropy(last_token_logits, labels)\n",
    "        return loss\n",
    "    \n",
    "    def eval_logit_diff(num_batches, batch, clean_labels, corr_labels, logitfn, ratio_trained=10):\n",
    "        for sae in saes:\n",
    "            sae.mask.ratio_trained = ratio_trained\n",
    "        avg_ld = 0\n",
    "        for i in range(num_batches):\n",
    "            tokens = batch[-i]\n",
    "            logits = logitfn(tokens)\n",
    "            ld = logit_diff_fn(logits, clean_labels[-i], corr_labels[-i])\n",
    "            avg_ld += ld\n",
    "            del logits\n",
    "            cleanup_cuda()\n",
    "        return (avg_ld / num_batches).item()\n",
    "\n",
    "    with torch.no_grad():\n",
    "        loss = eval_ce_loss(token_dataset[-1], labels_dataset[-1], masked_logit_fn)\n",
    "        print(\"CE loss:\", loss)\n",
    "        cleanup_cuda()\n",
    "        logit_diff = eval_logit_diff(10, token_dataset, labels_dataset, corr_labels_dataset, masked_logit_fn)\n",
    "        print(\"Logit Diff:\", logit_diff)\n",
    "        cleanup_cuda()\n",
    "    \n",
    "    mask_dict = {}\n",
    "\n",
    "    total_density = 0\n",
    "    for sae in saes:\n",
    "        mask_dict[sae.cfg.hook_name] = torch.where(sae.mask.mask > 0)[1].tolist()   # rob thinks .view(-1) needed here\n",
    "        total_density += (sae.mask.mask > 0).sum().item()\n",
    "    mask_dict[\"total_density\"] = total_density\n",
    "    mask_dict['avg_density'] = total_density / len(saes)\n",
    "\n",
    "    if per_token_mask:\n",
    "        print(\"total # latents in circuit: \", total_density)\n",
    "    print(\"avg density\", mask_dict['avg_density'])\n",
    "\n",
    "    save_path = f\"masks/{task}/{loss_function}_{str(sparsity_multiplier)}_run/\"\n",
    "    os.makedirs(save_path, exist_ok=True)\n",
    "    mask_dict['ce_loss'] = loss.item()\n",
    "    mask_dict['logit_diff'] = logit_diff\n",
    "    faithfulness = logit_diff / avg_logit_diff\n",
    "    mask_dict['faithfulness'] = faithfulness\n",
    "    \n",
    "    for idx, sae in enumerate(saes):\n",
    "        mask_path = f\"sae_mask_{idx}.pt\"\n",
    "        torch.save(sae.mask.state_dict(), os.path.join(save_path,mask_path))\n",
    "        print(f\"Saved mask for SAE {idx} to {mask_path}\")\n",
    "\n",
    "    json.dump(mask_dict, open(os.path.join(save_path,f\"{str(sparsity_multiplier)}_run.json\"), \"w\"))"
   ]
  },
  {
   "cell_type": "code",
   "execution_count": 62,
   "metadata": {},
   "outputs": [
    {
     "name": "stdout",
     "output_type": "stream",
     "text": [
      "doing a run with sparsity multiplier 0.01\n"
     ]
    },
    {
     "data": {
      "text/html": [
       "wandb version 0.19.1 is available!  To upgrade, please run:\n",
       " $ pip install wandb --upgrade"
      ],
      "text/plain": [
       "<IPython.core.display.HTML object>"
      ]
     },
     "metadata": {},
     "output_type": "display_data"
    },
    {
     "data": {
      "text/html": [
       "Tracking run with wandb version 0.16.6"
      ],
      "text/plain": [
       "<IPython.core.display.HTML object>"
      ]
     },
     "metadata": {},
     "output_type": "display_data"
    },
    {
     "data": {
      "text/html": [
       "Run data is saved locally in <code>/work/pi_jensen_umass_edu/jnainani_umass_edu/ScalableSAECircuits/wandb/run-20250101_125340-pi9i6pvs</code>"
      ],
      "text/plain": [
       "<IPython.core.display.HTML object>"
      ]
     },
     "metadata": {},
     "output_type": "display_data"
    },
    {
     "data": {
      "text/html": [
       "Syncing run <strong><a href='https://wandb.ai/jnainani-university-of-massachusetts-amherst/sae%20circuits/runs/pi9i6pvs' target=\"_blank\">different-violet-103</a></strong> to <a href='https://wandb.ai/jnainani-university-of-massachusetts-amherst/sae%20circuits' target=\"_blank\">Weights & Biases</a> (<a href='https://wandb.me/run' target=\"_blank\">docs</a>)<br/>"
      ],
      "text/plain": [
       "<IPython.core.display.HTML object>"
      ]
     },
     "metadata": {},
     "output_type": "display_data"
    },
    {
     "data": {
      "text/html": [
       " View project at <a href='https://wandb.ai/jnainani-university-of-massachusetts-amherst/sae%20circuits' target=\"_blank\">https://wandb.ai/jnainani-university-of-massachusetts-amherst/sae%20circuits</a>"
      ],
      "text/plain": [
       "<IPython.core.display.HTML object>"
      ]
     },
     "metadata": {},
     "output_type": "display_data"
    },
    {
     "data": {
      "text/html": [
       " View run at <a href='https://wandb.ai/jnainani-university-of-massachusetts-amherst/sae%20circuits/runs/pi9i6pvs' target=\"_blank\">https://wandb.ai/jnainani-university-of-massachusetts-amherst/sae%20circuits/runs/pi9i6pvs</a>"
      ],
      "text/plain": [
       "<IPython.core.display.HTML object>"
      ]
     },
     "metadata": {},
     "output_type": "display_data"
    },
    {
     "name": "stderr",
     "output_type": "stream",
     "text": [
      "Training Progress: 84it [03:24,  2.43s/it, Step=83, Progress=1.22, Avg Nonzero Elements=99.8, Task Loss=0.141, Sparsity Loss=0.998, temperature=tensor(643.5912)]                              \n"
     ]
    },
    {
     "data": {
      "application/vnd.jupyter.widget-view+json": {
       "model_id": "2a90139d2bf0465cae450442ef1c4ecc",
       "version_major": 2,
       "version_minor": 0
      },
      "text/plain": [
       "VBox(children=(Label(value='0.012 MB of 0.012 MB uploaded\\r'), FloatProgress(value=1.0, max=1.0)))"
      ]
     },
     "metadata": {},
     "output_type": "display_data"
    },
    {
     "data": {
      "text/html": [
       "<style>\n",
       "    table.wandb td:nth-child(1) { padding: 0 10px; text-align: left ; width: auto;} td:nth-child(2) {text-align: left ; width: 100%}\n",
       "    .wandb-row { display: flex; flex-direction: row; flex-wrap: wrap; justify-content: flex-start; width: 100% }\n",
       "    .wandb-col { display: flex; flex-direction: column; flex-basis: 100%; flex: 1; padding: 10px; }\n",
       "    </style>\n",
       "<div class=\"wandb-row\"><div class=\"wandb-col\"><h3>Run history:</h3><br/><table class=\"wandb\"><tr><td>Avg Nonzero Elements</td><td>█▃▁▁▁▁▁▁▁▁▁▁▁▁▁▁▁▁▁▁▁▁▁▁▁▁▁▁▁▁▁▁▁▁▁▁▁▁▁▁</td></tr><tr><td>Progress</td><td>▁▁▁▂▂▂▂▂▂▃▃▃▃▃▃▄▄▄▄▄▅▅▅▅▅▅▆▆▆▆▆▆▇▇▇▇▇███</td></tr><tr><td>Sparsity Loss</td><td>█▃▁▁▁▁▁▁▁▁▁▁▁▁▁▁▁▁▁▁▁▁▁▁▁▁▁▁▁▁▁▁▁▁▁▁▁▁▁▁</td></tr><tr><td>Step</td><td>▁▁▁▂▂▂▂▂▂▃▃▃▃▃▃▄▄▄▄▄▅▅▅▅▅▅▆▆▆▆▆▆▇▇▇▇▇███</td></tr><tr><td>Task Loss</td><td>▇▂▅▂▂▆▅▁▂▂▂▃▃▃▁▄█▂▃▂▃▇▂▂▃▂▂▂▂▂▃▂▂▅▂▂▂▅▃▂</td></tr><tr><td>temperature</td><td>▁▁▁▁▁▁▁▁▁▁▁▁▁▁▁▁▁▁▁▁▁▁▁▁▂▂▂▂▂▂▂▃▃▄▄▄▅▆▇█</td></tr></table><br/></div><div class=\"wandb-col\"><h3>Run summary:</h3><br/><table class=\"wandb\"><tr><td>Avg Nonzero Elements</td><td>99.75</td></tr><tr><td>Progress</td><td>1.22059</td></tr><tr><td>Sparsity Loss</td><td>0.9975</td></tr><tr><td>Step</td><td>83</td></tr><tr><td>Task Loss</td><td>0.14125</td></tr><tr><td>temperature</td><td>643.59125</td></tr></table><br/></div></div>"
      ],
      "text/plain": [
       "<IPython.core.display.HTML object>"
      ]
     },
     "metadata": {},
     "output_type": "display_data"
    },
    {
     "data": {
      "text/html": [
       " View run <strong style=\"color:#cdcd00\">different-violet-103</strong> at: <a href='https://wandb.ai/jnainani-university-of-massachusetts-amherst/sae%20circuits/runs/pi9i6pvs' target=\"_blank\">https://wandb.ai/jnainani-university-of-massachusetts-amherst/sae%20circuits/runs/pi9i6pvs</a><br/> View project at: <a href='https://wandb.ai/jnainani-university-of-massachusetts-amherst/sae%20circuits' target=\"_blank\">https://wandb.ai/jnainani-university-of-massachusetts-amherst/sae%20circuits</a><br/>Synced 5 W&B file(s), 0 media file(s), 0 artifact file(s) and 0 other file(s)"
      ],
      "text/plain": [
       "<IPython.core.display.HTML object>"
      ]
     },
     "metadata": {},
     "output_type": "display_data"
    },
    {
     "data": {
      "text/html": [
       "Find logs at: <code>./wandb/run-20250101_125340-pi9i6pvs/logs</code>"
      ],
      "text/plain": [
       "<IPython.core.display.HTML object>"
      ]
     },
     "metadata": {},
     "output_type": "display_data"
    },
    {
     "name": "stdout",
     "output_type": "stream",
     "text": [
      "CE loss: tensor(2.7404, device='cuda:0')\n",
      "Logit Diff: 4.137451648712158\n",
      "total # latents in circuit:  399\n",
      "avg density 99.75\n",
      "Saved mask for SAE 0 to sae_mask_0.pt\n",
      "Saved mask for SAE 1 to sae_mask_1.pt\n",
      "Saved mask for SAE 2 to sae_mask_2.pt\n",
      "Saved mask for SAE 3 to sae_mask_3.pt\n"
     ]
    }
   ],
   "source": [
    "do_training_run(token_dataset=clean_tokens, labels_dataset= clean_label_tokens, corr_labels_dataset=corr_label_tokens, sparsity_multiplier=0.01, task=f'codereason/index/len6_digit1', example_length=example_length, loss_function=\"logit_diff\", per_token_mask=True, use_mask=True, mean_mask=True, portion_of_data=0.4)"
   ]
  },
  {
   "cell_type": "markdown",
   "metadata": {},
   "source": [
    "### Sweep"
   ]
  },
  {
   "cell_type": "code",
   "execution_count": 60,
   "metadata": {},
   "outputs": [
    {
     "data": {
      "text/plain": [
       "[0.01,\n",
       " 0.020495238095238094,\n",
       " 0.04474285714285713,\n",
       " 0.08274285714285712,\n",
       " 0.13449523809523808]"
      ]
     },
     "execution_count": 60,
     "metadata": {},
     "output_type": "execute_result"
    }
   ],
   "source": [
    "thresholds = []\n",
    "modify_fn=lambda x: x**2\n",
    "start_threshold = 0.005\n",
    "end_threshold = 0.2\n",
    "n_runs = 5\n",
    "delta = (end_threshold - start_threshold) / n_runs\n",
    "def linear_map(x):\n",
    "        mod_start = modify_fn(start_threshold)\n",
    "        mod_end = modify_fn(end_threshold)\n",
    "        return (x - mod_start) / (mod_end - mod_start) * (end_threshold - start_threshold) + start_threshold\n",
    "    \n",
    "mf = lambda x: linear_map(modify_fn(x))\n",
    "for i in range(n_runs):\n",
    "    thresholds.append(\n",
    "        mf(start_threshold + i*delta)\n",
    "        )\n",
    "thresholds"
   ]
  },
  {
   "cell_type": "code",
   "execution_count": 61,
   "metadata": {},
   "outputs": [
    {
     "name": "stdout",
     "output_type": "stream",
     "text": [
      "doing a run with sparsity multiplier 0.01\n"
     ]
    },
    {
     "data": {
      "text/html": [
       "wandb version 0.19.1 is available!  To upgrade, please run:\n",
       " $ pip install wandb --upgrade"
      ],
      "text/plain": [
       "<IPython.core.display.HTML object>"
      ]
     },
     "metadata": {},
     "output_type": "display_data"
    },
    {
     "data": {
      "text/html": [
       "Tracking run with wandb version 0.16.6"
      ],
      "text/plain": [
       "<IPython.core.display.HTML object>"
      ]
     },
     "metadata": {},
     "output_type": "display_data"
    },
    {
     "data": {
      "text/html": [
       "Run data is saved locally in <code>/work/pi_jensen_umass_edu/jnainani_umass_edu/ScalableSAECircuits/wandb/run-20250101_123649-m6r9fjz3</code>"
      ],
      "text/plain": [
       "<IPython.core.display.HTML object>"
      ]
     },
     "metadata": {},
     "output_type": "display_data"
    },
    {
     "data": {
      "text/html": [
       "Syncing run <strong><a href='https://wandb.ai/jnainani-university-of-massachusetts-amherst/sae%20circuits/runs/m6r9fjz3' target=\"_blank\">usual-pond-98</a></strong> to <a href='https://wandb.ai/jnainani-university-of-massachusetts-amherst/sae%20circuits' target=\"_blank\">Weights & Biases</a> (<a href='https://wandb.me/run' target=\"_blank\">docs</a>)<br/>"
      ],
      "text/plain": [
       "<IPython.core.display.HTML object>"
      ]
     },
     "metadata": {},
     "output_type": "display_data"
    },
    {
     "data": {
      "text/html": [
       " View project at <a href='https://wandb.ai/jnainani-university-of-massachusetts-amherst/sae%20circuits' target=\"_blank\">https://wandb.ai/jnainani-university-of-massachusetts-amherst/sae%20circuits</a>"
      ],
      "text/plain": [
       "<IPython.core.display.HTML object>"
      ]
     },
     "metadata": {},
     "output_type": "display_data"
    },
    {
     "data": {
      "text/html": [
       " View run at <a href='https://wandb.ai/jnainani-university-of-massachusetts-amherst/sae%20circuits/runs/m6r9fjz3' target=\"_blank\">https://wandb.ai/jnainani-university-of-massachusetts-amherst/sae%20circuits/runs/m6r9fjz3</a>"
      ],
      "text/plain": [
       "<IPython.core.display.HTML object>"
      ]
     },
     "metadata": {},
     "output_type": "display_data"
    },
    {
     "name": "stderr",
     "output_type": "stream",
     "text": [
      "Training Progress:  99%|█████████▉| 61/61.71000000000001 [02:30<00:01,  2.43s/it, Step=61, Progress=1.2, Avg Nonzero Elements=108, Task Loss=1.33, Sparsity Loss=1.08, temperature=tensor(565.2133)]       /home/jnainani_umass_edu/.conda/envs/finetuning/lib/python3.10/site-packages/tqdm/std.py:636: TqdmWarning: clamping frac to range [0, 1]\n",
      "  full_bar = Bar(frac,\n",
      "Training Progress: 63it [02:33,  2.43s/it, Step=62, Progress=1.22, Avg Nonzero Elements=108, Task Loss=0.769, Sparsity Loss=1.08, temperature=tensor(627.0910)]                                       \n"
     ]
    },
    {
     "data": {
      "application/vnd.jupyter.widget-view+json": {
       "model_id": "3c36b54c52054bc89288e325a5d6eda5",
       "version_major": 2,
       "version_minor": 0
      },
      "text/plain": [
       "VBox(children=(Label(value='0.012 MB of 0.012 MB uploaded\\r'), FloatProgress(value=1.0, max=1.0)))"
      ]
     },
     "metadata": {},
     "output_type": "display_data"
    },
    {
     "data": {
      "text/html": [
       "<style>\n",
       "    table.wandb td:nth-child(1) { padding: 0 10px; text-align: left ; width: auto;} td:nth-child(2) {text-align: left ; width: 100%}\n",
       "    .wandb-row { display: flex; flex-direction: row; flex-wrap: wrap; justify-content: flex-start; width: 100% }\n",
       "    .wandb-col { display: flex; flex-direction: column; flex-basis: 100%; flex: 1; padding: 10px; }\n",
       "    </style>\n",
       "<div class=\"wandb-row\"><div class=\"wandb-col\"><h3>Run history:</h3><br/><table class=\"wandb\"><tr><td>Avg Nonzero Elements</td><td>█▆▂▁▁▁▁▁▁▁▁▁▁▁▁▁▁▁▁▁▁▁▁▁▁▁▁▁▁▁▁▁▁▁▁▁▁▁▁▁</td></tr><tr><td>Progress</td><td>▁▁▁▁▂▂▂▂▂▃▃▃▃▃▄▄▄▄▄▄▅▅▅▅▅▅▆▆▆▆▆▇▇▇▇▇████</td></tr><tr><td>Sparsity Loss</td><td>█▆▂▁▁▁▁▁▁▁▁▁▁▁▁▁▁▁▁▁▁▁▁▁▁▁▁▁▁▁▁▁▁▁▁▁▁▁▁▁</td></tr><tr><td>Step</td><td>▁▁▁▁▂▂▂▂▂▃▃▃▃▃▄▄▄▄▄▄▅▅▅▅▅▅▆▆▆▆▆▇▇▇▇▇████</td></tr><tr><td>Task Loss</td><td>▅▂▃▄▂▁▁▅▅▃▃▃▂▅▃▅▂▃▄▆▅▃▆▂▃█▇▆▆▃▅▃▄▄▄▃▂▄▂▄</td></tr><tr><td>temperature</td><td>▁▁▁▁▁▁▁▁▁▁▁▁▁▁▁▁▁▁▁▁▁▁▁▂▂▂▂▂▂▂▃▃▃▄▄▅▆▆▇█</td></tr></table><br/></div><div class=\"wandb-col\"><h3>Run summary:</h3><br/><table class=\"wandb\"><tr><td>Avg Nonzero Elements</td><td>108.25</td></tr><tr><td>Progress</td><td>1.21569</td></tr><tr><td>Sparsity Loss</td><td>1.0825</td></tr><tr><td>Step</td><td>62</td></tr><tr><td>Task Loss</td><td>0.76866</td></tr><tr><td>temperature</td><td>627.091</td></tr></table><br/></div></div>"
      ],
      "text/plain": [
       "<IPython.core.display.HTML object>"
      ]
     },
     "metadata": {},
     "output_type": "display_data"
    },
    {
     "data": {
      "text/html": [
       " View run <strong style=\"color:#cdcd00\">usual-pond-98</strong> at: <a href='https://wandb.ai/jnainani-university-of-massachusetts-amherst/sae%20circuits/runs/m6r9fjz3' target=\"_blank\">https://wandb.ai/jnainani-university-of-massachusetts-amherst/sae%20circuits/runs/m6r9fjz3</a><br/> View project at: <a href='https://wandb.ai/jnainani-university-of-massachusetts-amherst/sae%20circuits' target=\"_blank\">https://wandb.ai/jnainani-university-of-massachusetts-amherst/sae%20circuits</a><br/>Synced 5 W&B file(s), 0 media file(s), 0 artifact file(s) and 0 other file(s)"
      ],
      "text/plain": [
       "<IPython.core.display.HTML object>"
      ]
     },
     "metadata": {},
     "output_type": "display_data"
    },
    {
     "data": {
      "text/html": [
       "Find logs at: <code>./wandb/run-20250101_123649-m6r9fjz3/logs</code>"
      ],
      "text/plain": [
       "<IPython.core.display.HTML object>"
      ]
     },
     "metadata": {},
     "output_type": "display_data"
    },
    {
     "name": "stdout",
     "output_type": "stream",
     "text": [
      "CE loss: tensor(2.8253, device='cuda:0')\n",
      "Logit Diff: 2.969186544418335\n",
      "total # latents in circuit:  433\n",
      "avg density 108.25\n",
      "Saved mask for SAE 0 to sae_mask_0.pt\n",
      "Saved mask for SAE 1 to sae_mask_1.pt\n",
      "Saved mask for SAE 2 to sae_mask_2.pt\n",
      "Saved mask for SAE 3 to sae_mask_3.pt\n",
      "doing a run with sparsity multiplier 0.020495238095238094\n"
     ]
    },
    {
     "data": {
      "text/html": [
       "wandb version 0.19.1 is available!  To upgrade, please run:\n",
       " $ pip install wandb --upgrade"
      ],
      "text/plain": [
       "<IPython.core.display.HTML object>"
      ]
     },
     "metadata": {},
     "output_type": "display_data"
    },
    {
     "data": {
      "text/html": [
       "Tracking run with wandb version 0.16.6"
      ],
      "text/plain": [
       "<IPython.core.display.HTML object>"
      ]
     },
     "metadata": {},
     "output_type": "display_data"
    },
    {
     "data": {
      "text/html": [
       "Run data is saved locally in <code>/work/pi_jensen_umass_edu/jnainani_umass_edu/ScalableSAECircuits/wandb/run-20250101_123935-lfbewm7c</code>"
      ],
      "text/plain": [
       "<IPython.core.display.HTML object>"
      ]
     },
     "metadata": {},
     "output_type": "display_data"
    },
    {
     "data": {
      "text/html": [
       "Syncing run <strong><a href='https://wandb.ai/jnainani-university-of-massachusetts-amherst/sae%20circuits/runs/lfbewm7c' target=\"_blank\">good-surf-99</a></strong> to <a href='https://wandb.ai/jnainani-university-of-massachusetts-amherst/sae%20circuits' target=\"_blank\">Weights & Biases</a> (<a href='https://wandb.me/run' target=\"_blank\">docs</a>)<br/>"
      ],
      "text/plain": [
       "<IPython.core.display.HTML object>"
      ]
     },
     "metadata": {},
     "output_type": "display_data"
    },
    {
     "data": {
      "text/html": [
       " View project at <a href='https://wandb.ai/jnainani-university-of-massachusetts-amherst/sae%20circuits' target=\"_blank\">https://wandb.ai/jnainani-university-of-massachusetts-amherst/sae%20circuits</a>"
      ],
      "text/plain": [
       "<IPython.core.display.HTML object>"
      ]
     },
     "metadata": {},
     "output_type": "display_data"
    },
    {
     "data": {
      "text/html": [
       " View run at <a href='https://wandb.ai/jnainani-university-of-massachusetts-amherst/sae%20circuits/runs/lfbewm7c' target=\"_blank\">https://wandb.ai/jnainani-university-of-massachusetts-amherst/sae%20circuits/runs/lfbewm7c</a>"
      ],
      "text/plain": [
       "<IPython.core.display.HTML object>"
      ]
     },
     "metadata": {},
     "output_type": "display_data"
    },
    {
     "name": "stderr",
     "output_type": "stream",
     "text": [
      "Training Progress:  99%|█████████▉| 61/61.71000000000001 [02:30<00:01,  2.43s/it, Step=61, Progress=1.2, Avg Nonzero Elements=68.8, Task Loss=0.32, Sparsity Loss=1.41, temperature=tensor(565.2133)]      /home/jnainani_umass_edu/.conda/envs/finetuning/lib/python3.10/site-packages/tqdm/std.py:636: TqdmWarning: clamping frac to range [0, 1]\n",
      "  full_bar = Bar(frac,\n",
      "Training Progress: 63it [02:33,  2.43s/it, Step=62, Progress=1.22, Avg Nonzero Elements=68.8, Task Loss=0.215, Sparsity Loss=1.41, temperature=tensor(627.0910)]                                       \n"
     ]
    },
    {
     "data": {
      "application/vnd.jupyter.widget-view+json": {
       "model_id": "a23cb7eb781d494ab828002933b7ec60",
       "version_major": 2,
       "version_minor": 0
      },
      "text/plain": [
       "VBox(children=(Label(value='0.012 MB of 0.012 MB uploaded\\r'), FloatProgress(value=1.0, max=1.0)))"
      ]
     },
     "metadata": {},
     "output_type": "display_data"
    },
    {
     "data": {
      "text/html": [
       "<style>\n",
       "    table.wandb td:nth-child(1) { padding: 0 10px; text-align: left ; width: auto;} td:nth-child(2) {text-align: left ; width: 100%}\n",
       "    .wandb-row { display: flex; flex-direction: row; flex-wrap: wrap; justify-content: flex-start; width: 100% }\n",
       "    .wandb-col { display: flex; flex-direction: column; flex-basis: 100%; flex: 1; padding: 10px; }\n",
       "    </style>\n",
       "<div class=\"wandb-row\"><div class=\"wandb-col\"><h3>Run history:</h3><br/><table class=\"wandb\"><tr><td>Avg Nonzero Elements</td><td>█▆▂▁▁▁▁▁▁▁▁▁▁▁▁▁▁▁▁▁▁▁▁▁▁▁▁▁▁▁▁▁▁▁▁▁▁▁▁▁</td></tr><tr><td>Progress</td><td>▁▁▁▁▂▂▂▂▂▃▃▃▃▃▄▄▄▄▄▄▅▅▅▅▅▅▆▆▆▆▆▇▇▇▇▇████</td></tr><tr><td>Sparsity Loss</td><td>█▆▂▁▁▁▁▁▁▁▁▁▁▁▁▁▁▁▁▁▁▁▁▁▁▁▁▁▁▁▁▁▁▁▁▁▁▁▁▁</td></tr><tr><td>Step</td><td>▁▁▁▁▂▂▂▂▂▃▃▃▃▃▄▄▄▄▄▄▅▅▅▅▅▅▆▆▆▆▆▇▇▇▇▇████</td></tr><tr><td>Task Loss</td><td>█▃▄▇▄▃▄▃▃▃▄▂▃▃▃▂▃▁▂▂▁▄▄▄▄▁▂▁▃▃▁▃▅▁▃▄▁▂▂▂</td></tr><tr><td>temperature</td><td>▁▁▁▁▁▁▁▁▁▁▁▁▁▁▁▁▁▁▁▁▁▁▁▂▂▂▂▂▂▂▃▃▃▄▄▅▆▆▇█</td></tr></table><br/></div><div class=\"wandb-col\"><h3>Run summary:</h3><br/><table class=\"wandb\"><tr><td>Avg Nonzero Elements</td><td>68.75</td></tr><tr><td>Progress</td><td>1.21569</td></tr><tr><td>Sparsity Loss</td><td>1.40905</td></tr><tr><td>Step</td><td>62</td></tr><tr><td>Task Loss</td><td>0.2154</td></tr><tr><td>temperature</td><td>627.091</td></tr></table><br/></div></div>"
      ],
      "text/plain": [
       "<IPython.core.display.HTML object>"
      ]
     },
     "metadata": {},
     "output_type": "display_data"
    },
    {
     "data": {
      "text/html": [
       " View run <strong style=\"color:#cdcd00\">good-surf-99</strong> at: <a href='https://wandb.ai/jnainani-university-of-massachusetts-amherst/sae%20circuits/runs/lfbewm7c' target=\"_blank\">https://wandb.ai/jnainani-university-of-massachusetts-amherst/sae%20circuits/runs/lfbewm7c</a><br/> View project at: <a href='https://wandb.ai/jnainani-university-of-massachusetts-amherst/sae%20circuits' target=\"_blank\">https://wandb.ai/jnainani-university-of-massachusetts-amherst/sae%20circuits</a><br/>Synced 5 W&B file(s), 0 media file(s), 0 artifact file(s) and 0 other file(s)"
      ],
      "text/plain": [
       "<IPython.core.display.HTML object>"
      ]
     },
     "metadata": {},
     "output_type": "display_data"
    },
    {
     "data": {
      "text/html": [
       "Find logs at: <code>./wandb/run-20250101_123935-lfbewm7c/logs</code>"
      ],
      "text/plain": [
       "<IPython.core.display.HTML object>"
      ]
     },
     "metadata": {},
     "output_type": "display_data"
    },
    {
     "name": "stdout",
     "output_type": "stream",
     "text": [
      "CE loss: tensor(2.2610, device='cuda:0')\n",
      "Logit Diff: 4.4948506355285645\n",
      "total # latents in circuit:  275\n",
      "avg density 68.75\n",
      "Saved mask for SAE 0 to sae_mask_0.pt\n",
      "Saved mask for SAE 1 to sae_mask_1.pt\n",
      "Saved mask for SAE 2 to sae_mask_2.pt\n",
      "Saved mask for SAE 3 to sae_mask_3.pt\n",
      "doing a run with sparsity multiplier 0.04474285714285713\n"
     ]
    },
    {
     "data": {
      "text/html": [
       "wandb version 0.19.1 is available!  To upgrade, please run:\n",
       " $ pip install wandb --upgrade"
      ],
      "text/plain": [
       "<IPython.core.display.HTML object>"
      ]
     },
     "metadata": {},
     "output_type": "display_data"
    },
    {
     "data": {
      "text/html": [
       "Tracking run with wandb version 0.16.6"
      ],
      "text/plain": [
       "<IPython.core.display.HTML object>"
      ]
     },
     "metadata": {},
     "output_type": "display_data"
    },
    {
     "data": {
      "text/html": [
       "Run data is saved locally in <code>/work/pi_jensen_umass_edu/jnainani_umass_edu/ScalableSAECircuits/wandb/run-20250101_124222-ox4czyz5</code>"
      ],
      "text/plain": [
       "<IPython.core.display.HTML object>"
      ]
     },
     "metadata": {},
     "output_type": "display_data"
    },
    {
     "data": {
      "text/html": [
       "Syncing run <strong><a href='https://wandb.ai/jnainani-university-of-massachusetts-amherst/sae%20circuits/runs/ox4czyz5' target=\"_blank\">olive-disco-100</a></strong> to <a href='https://wandb.ai/jnainani-university-of-massachusetts-amherst/sae%20circuits' target=\"_blank\">Weights & Biases</a> (<a href='https://wandb.me/run' target=\"_blank\">docs</a>)<br/>"
      ],
      "text/plain": [
       "<IPython.core.display.HTML object>"
      ]
     },
     "metadata": {},
     "output_type": "display_data"
    },
    {
     "data": {
      "text/html": [
       " View project at <a href='https://wandb.ai/jnainani-university-of-massachusetts-amherst/sae%20circuits' target=\"_blank\">https://wandb.ai/jnainani-university-of-massachusetts-amherst/sae%20circuits</a>"
      ],
      "text/plain": [
       "<IPython.core.display.HTML object>"
      ]
     },
     "metadata": {},
     "output_type": "display_data"
    },
    {
     "data": {
      "text/html": [
       " View run at <a href='https://wandb.ai/jnainani-university-of-massachusetts-amherst/sae%20circuits/runs/ox4czyz5' target=\"_blank\">https://wandb.ai/jnainani-university-of-massachusetts-amherst/sae%20circuits/runs/ox4czyz5</a>"
      ],
      "text/plain": [
       "<IPython.core.display.HTML object>"
      ]
     },
     "metadata": {},
     "output_type": "display_data"
    },
    {
     "name": "stderr",
     "output_type": "stream",
     "text": [
      "Training Progress:  99%|█████████▉| 61/61.71000000000001 [02:30<00:01,  2.42s/it, Step=61, Progress=1.2, Avg Nonzero Elements=43.5, Task Loss=0.356, Sparsity Loss=1.95, temperature=tensor(565.2133)]     /home/jnainani_umass_edu/.conda/envs/finetuning/lib/python3.10/site-packages/tqdm/std.py:636: TqdmWarning: clamping frac to range [0, 1]\n",
      "  full_bar = Bar(frac,\n",
      "Training Progress: 63it [02:32,  2.43s/it, Step=62, Progress=1.22, Avg Nonzero Elements=43.5, Task Loss=0.24, Sparsity Loss=1.95, temperature=tensor(627.0910)]                                       \n"
     ]
    },
    {
     "data": {
      "application/vnd.jupyter.widget-view+json": {
       "model_id": "b197c5944da744bd93250bb0c57c88af",
       "version_major": 2,
       "version_minor": 0
      },
      "text/plain": [
       "VBox(children=(Label(value='0.012 MB of 0.012 MB uploaded\\r'), FloatProgress(value=1.0, max=1.0)))"
      ]
     },
     "metadata": {},
     "output_type": "display_data"
    },
    {
     "data": {
      "text/html": [
       "<style>\n",
       "    table.wandb td:nth-child(1) { padding: 0 10px; text-align: left ; width: auto;} td:nth-child(2) {text-align: left ; width: 100%}\n",
       "    .wandb-row { display: flex; flex-direction: row; flex-wrap: wrap; justify-content: flex-start; width: 100% }\n",
       "    .wandb-col { display: flex; flex-direction: column; flex-basis: 100%; flex: 1; padding: 10px; }\n",
       "    </style>\n",
       "<div class=\"wandb-row\"><div class=\"wandb-col\"><h3>Run history:</h3><br/><table class=\"wandb\"><tr><td>Avg Nonzero Elements</td><td>█▆▂▁▁▁▁▁▁▁▁▁▁▁▁▁▁▁▁▁▁▁▁▁▁▁▁▁▁▁▁▁▁▁▁▁▁▁▁▁</td></tr><tr><td>Progress</td><td>▁▁▁▁▂▂▂▂▂▃▃▃▃▃▄▄▄▄▄▄▅▅▅▅▅▅▆▆▆▆▆▇▇▇▇▇████</td></tr><tr><td>Sparsity Loss</td><td>█▆▂▁▁▁▁▁▁▁▁▁▁▁▁▁▁▁▁▁▁▁▁▁▁▁▁▁▁▁▁▁▁▁▁▁▁▁▁▁</td></tr><tr><td>Step</td><td>▁▁▁▁▂▂▂▂▂▃▃▃▃▃▄▄▄▄▄▄▅▅▅▅▅▅▆▆▆▆▆▇▇▇▇▇████</td></tr><tr><td>Task Loss</td><td>█▆▃▂▂▃▁▁▂▂▁▅▂▂▂▃▂▃▃▃▃▂▁▁▂▃▂▄▁▂▄▂▂▄▁▁▄▂▂▂</td></tr><tr><td>temperature</td><td>▁▁▁▁▁▁▁▁▁▁▁▁▁▁▁▁▁▁▁▁▁▁▁▂▂▂▂▂▂▂▃▃▃▄▄▅▆▆▇█</td></tr></table><br/></div><div class=\"wandb-col\"><h3>Run summary:</h3><br/><table class=\"wandb\"><tr><td>Avg Nonzero Elements</td><td>43.5</td></tr><tr><td>Progress</td><td>1.21569</td></tr><tr><td>Sparsity Loss</td><td>1.94631</td></tr><tr><td>Step</td><td>62</td></tr><tr><td>Task Loss</td><td>0.23989</td></tr><tr><td>temperature</td><td>627.091</td></tr></table><br/></div></div>"
      ],
      "text/plain": [
       "<IPython.core.display.HTML object>"
      ]
     },
     "metadata": {},
     "output_type": "display_data"
    },
    {
     "data": {
      "text/html": [
       " View run <strong style=\"color:#cdcd00\">olive-disco-100</strong> at: <a href='https://wandb.ai/jnainani-university-of-massachusetts-amherst/sae%20circuits/runs/ox4czyz5' target=\"_blank\">https://wandb.ai/jnainani-university-of-massachusetts-amherst/sae%20circuits/runs/ox4czyz5</a><br/> View project at: <a href='https://wandb.ai/jnainani-university-of-massachusetts-amherst/sae%20circuits' target=\"_blank\">https://wandb.ai/jnainani-university-of-massachusetts-amherst/sae%20circuits</a><br/>Synced 5 W&B file(s), 0 media file(s), 0 artifact file(s) and 0 other file(s)"
      ],
      "text/plain": [
       "<IPython.core.display.HTML object>"
      ]
     },
     "metadata": {},
     "output_type": "display_data"
    },
    {
     "data": {
      "text/html": [
       "Find logs at: <code>./wandb/run-20250101_124222-ox4czyz5/logs</code>"
      ],
      "text/plain": [
       "<IPython.core.display.HTML object>"
      ]
     },
     "metadata": {},
     "output_type": "display_data"
    },
    {
     "name": "stdout",
     "output_type": "stream",
     "text": [
      "CE loss: tensor(2.2360, device='cuda:0')\n",
      "Logit Diff: 3.881232976913452\n",
      "total # latents in circuit:  174\n",
      "avg density 43.5\n",
      "Saved mask for SAE 0 to sae_mask_0.pt\n",
      "Saved mask for SAE 1 to sae_mask_1.pt\n",
      "Saved mask for SAE 2 to sae_mask_2.pt\n",
      "Saved mask for SAE 3 to sae_mask_3.pt\n",
      "doing a run with sparsity multiplier 0.08274285714285712\n"
     ]
    },
    {
     "data": {
      "text/html": [
       "wandb version 0.19.1 is available!  To upgrade, please run:\n",
       " $ pip install wandb --upgrade"
      ],
      "text/plain": [
       "<IPython.core.display.HTML object>"
      ]
     },
     "metadata": {},
     "output_type": "display_data"
    },
    {
     "data": {
      "text/html": [
       "Tracking run with wandb version 0.16.6"
      ],
      "text/plain": [
       "<IPython.core.display.HTML object>"
      ]
     },
     "metadata": {},
     "output_type": "display_data"
    },
    {
     "data": {
      "text/html": [
       "Run data is saved locally in <code>/work/pi_jensen_umass_edu/jnainani_umass_edu/ScalableSAECircuits/wandb/run-20250101_124509-x68mn600</code>"
      ],
      "text/plain": [
       "<IPython.core.display.HTML object>"
      ]
     },
     "metadata": {},
     "output_type": "display_data"
    },
    {
     "data": {
      "text/html": [
       "Syncing run <strong><a href='https://wandb.ai/jnainani-university-of-massachusetts-amherst/sae%20circuits/runs/x68mn600' target=\"_blank\">snowy-snowball-101</a></strong> to <a href='https://wandb.ai/jnainani-university-of-massachusetts-amherst/sae%20circuits' target=\"_blank\">Weights & Biases</a> (<a href='https://wandb.me/run' target=\"_blank\">docs</a>)<br/>"
      ],
      "text/plain": [
       "<IPython.core.display.HTML object>"
      ]
     },
     "metadata": {},
     "output_type": "display_data"
    },
    {
     "data": {
      "text/html": [
       " View project at <a href='https://wandb.ai/jnainani-university-of-massachusetts-amherst/sae%20circuits' target=\"_blank\">https://wandb.ai/jnainani-university-of-massachusetts-amherst/sae%20circuits</a>"
      ],
      "text/plain": [
       "<IPython.core.display.HTML object>"
      ]
     },
     "metadata": {},
     "output_type": "display_data"
    },
    {
     "data": {
      "text/html": [
       " View run at <a href='https://wandb.ai/jnainani-university-of-massachusetts-amherst/sae%20circuits/runs/x68mn600' target=\"_blank\">https://wandb.ai/jnainani-university-of-massachusetts-amherst/sae%20circuits/runs/x68mn600</a>"
      ],
      "text/plain": [
       "<IPython.core.display.HTML object>"
      ]
     },
     "metadata": {},
     "output_type": "display_data"
    },
    {
     "name": "stderr",
     "output_type": "stream",
     "text": [
      "Training Progress:  99%|█████████▉| 61/61.71000000000001 [02:30<00:01,  2.43s/it, Step=61, Progress=1.2, Avg Nonzero Elements=26, Task Loss=1.16, Sparsity Loss=2.15, temperature=tensor(565.2133)]       /home/jnainani_umass_edu/.conda/envs/finetuning/lib/python3.10/site-packages/tqdm/std.py:636: TqdmWarning: clamping frac to range [0, 1]\n",
      "  full_bar = Bar(frac,\n",
      "Training Progress: 63it [02:32,  2.43s/it, Step=62, Progress=1.22, Avg Nonzero Elements=26, Task Loss=1.22, Sparsity Loss=2.15, temperature=tensor(627.0910)]                                       \n"
     ]
    },
    {
     "data": {
      "application/vnd.jupyter.widget-view+json": {
       "model_id": "ee9992cb3ae8427eb4f7d50e6c4fa50d",
       "version_major": 2,
       "version_minor": 0
      },
      "text/plain": [
       "VBox(children=(Label(value='0.012 MB of 0.012 MB uploaded\\r'), FloatProgress(value=1.0, max=1.0)))"
      ]
     },
     "metadata": {},
     "output_type": "display_data"
    },
    {
     "data": {
      "text/html": [
       "<style>\n",
       "    table.wandb td:nth-child(1) { padding: 0 10px; text-align: left ; width: auto;} td:nth-child(2) {text-align: left ; width: 100%}\n",
       "    .wandb-row { display: flex; flex-direction: row; flex-wrap: wrap; justify-content: flex-start; width: 100% }\n",
       "    .wandb-col { display: flex; flex-direction: column; flex-basis: 100%; flex: 1; padding: 10px; }\n",
       "    </style>\n",
       "<div class=\"wandb-row\"><div class=\"wandb-col\"><h3>Run history:</h3><br/><table class=\"wandb\"><tr><td>Avg Nonzero Elements</td><td>█▆▂▁▁▁▁▁▁▁▁▁▁▁▁▁▁▁▁▁▁▁▁▁▁▁▁▁▁▁▁▁▁▁▁▁▁▁▁▁</td></tr><tr><td>Progress</td><td>▁▁▁▁▂▂▂▂▂▃▃▃▃▃▄▄▄▄▄▄▅▅▅▅▅▅▆▆▆▆▆▇▇▇▇▇████</td></tr><tr><td>Sparsity Loss</td><td>█▆▂▁▁▁▁▁▁▁▁▁▁▁▁▁▁▁▁▁▁▁▁▁▁▁▁▁▁▁▁▁▁▁▁▁▁▁▁▁</td></tr><tr><td>Step</td><td>▁▁▁▁▂▂▂▂▂▃▃▃▃▃▄▄▄▄▄▄▅▅▅▅▅▅▆▆▆▆▆▇▇▇▇▇████</td></tr><tr><td>Task Loss</td><td>▇██▄▆▅▃▂▄▃▂█▅▄▄▅▄▇▅▅▅▂▁▂▄▆▄▆▂▄▇▄▄▆▃▂▇▅▃▄</td></tr><tr><td>temperature</td><td>▁▁▁▁▁▁▁▁▁▁▁▁▁▁▁▁▁▁▁▁▁▁▁▂▂▂▂▂▂▂▃▃▃▄▄▅▆▆▇█</td></tr></table><br/></div><div class=\"wandb-col\"><h3>Run summary:</h3><br/><table class=\"wandb\"><tr><td>Avg Nonzero Elements</td><td>26.0</td></tr><tr><td>Progress</td><td>1.21569</td></tr><tr><td>Sparsity Loss</td><td>2.15131</td></tr><tr><td>Step</td><td>62</td></tr><tr><td>Task Loss</td><td>1.22399</td></tr><tr><td>temperature</td><td>627.091</td></tr></table><br/></div></div>"
      ],
      "text/plain": [
       "<IPython.core.display.HTML object>"
      ]
     },
     "metadata": {},
     "output_type": "display_data"
    },
    {
     "data": {
      "text/html": [
       " View run <strong style=\"color:#cdcd00\">snowy-snowball-101</strong> at: <a href='https://wandb.ai/jnainani-university-of-massachusetts-amherst/sae%20circuits/runs/x68mn600' target=\"_blank\">https://wandb.ai/jnainani-university-of-massachusetts-amherst/sae%20circuits/runs/x68mn600</a><br/> View project at: <a href='https://wandb.ai/jnainani-university-of-massachusetts-amherst/sae%20circuits' target=\"_blank\">https://wandb.ai/jnainani-university-of-massachusetts-amherst/sae%20circuits</a><br/>Synced 5 W&B file(s), 0 media file(s), 0 artifact file(s) and 0 other file(s)"
      ],
      "text/plain": [
       "<IPython.core.display.HTML object>"
      ]
     },
     "metadata": {},
     "output_type": "display_data"
    },
    {
     "data": {
      "text/html": [
       "Find logs at: <code>./wandb/run-20250101_124509-x68mn600/logs</code>"
      ],
      "text/plain": [
       "<IPython.core.display.HTML object>"
      ]
     },
     "metadata": {},
     "output_type": "display_data"
    },
    {
     "name": "stdout",
     "output_type": "stream",
     "text": [
      "CE loss: tensor(2.7140, device='cuda:0')\n",
      "Logit Diff: 2.8806142807006836\n",
      "total # latents in circuit:  104\n",
      "avg density 26.0\n",
      "Saved mask for SAE 0 to sae_mask_0.pt\n",
      "Saved mask for SAE 1 to sae_mask_1.pt\n",
      "Saved mask for SAE 2 to sae_mask_2.pt\n",
      "Saved mask for SAE 3 to sae_mask_3.pt\n",
      "doing a run with sparsity multiplier 0.13449523809523808\n"
     ]
    },
    {
     "data": {
      "text/html": [
       "wandb version 0.19.1 is available!  To upgrade, please run:\n",
       " $ pip install wandb --upgrade"
      ],
      "text/plain": [
       "<IPython.core.display.HTML object>"
      ]
     },
     "metadata": {},
     "output_type": "display_data"
    },
    {
     "data": {
      "text/html": [
       "Tracking run with wandb version 0.16.6"
      ],
      "text/plain": [
       "<IPython.core.display.HTML object>"
      ]
     },
     "metadata": {},
     "output_type": "display_data"
    },
    {
     "data": {
      "text/html": [
       "Run data is saved locally in <code>/work/pi_jensen_umass_edu/jnainani_umass_edu/ScalableSAECircuits/wandb/run-20250101_124756-7t4xj91h</code>"
      ],
      "text/plain": [
       "<IPython.core.display.HTML object>"
      ]
     },
     "metadata": {},
     "output_type": "display_data"
    },
    {
     "data": {
      "text/html": [
       "Syncing run <strong><a href='https://wandb.ai/jnainani-university-of-massachusetts-amherst/sae%20circuits/runs/7t4xj91h' target=\"_blank\">soft-donkey-102</a></strong> to <a href='https://wandb.ai/jnainani-university-of-massachusetts-amherst/sae%20circuits' target=\"_blank\">Weights & Biases</a> (<a href='https://wandb.me/run' target=\"_blank\">docs</a>)<br/>"
      ],
      "text/plain": [
       "<IPython.core.display.HTML object>"
      ]
     },
     "metadata": {},
     "output_type": "display_data"
    },
    {
     "data": {
      "text/html": [
       " View project at <a href='https://wandb.ai/jnainani-university-of-massachusetts-amherst/sae%20circuits' target=\"_blank\">https://wandb.ai/jnainani-university-of-massachusetts-amherst/sae%20circuits</a>"
      ],
      "text/plain": [
       "<IPython.core.display.HTML object>"
      ]
     },
     "metadata": {},
     "output_type": "display_data"
    },
    {
     "data": {
      "text/html": [
       " View run at <a href='https://wandb.ai/jnainani-university-of-massachusetts-amherst/sae%20circuits/runs/7t4xj91h' target=\"_blank\">https://wandb.ai/jnainani-university-of-massachusetts-amherst/sae%20circuits/runs/7t4xj91h</a>"
      ],
      "text/plain": [
       "<IPython.core.display.HTML object>"
      ]
     },
     "metadata": {},
     "output_type": "display_data"
    },
    {
     "name": "stderr",
     "output_type": "stream",
     "text": [
      "Training Progress:  99%|█████████▉| 61/61.71000000000001 [02:30<00:01,  2.43s/it, Step=61, Progress=1.2, Avg Nonzero Elements=10.5, Task Loss=3.11, Sparsity Loss=1.41, temperature=tensor(565.2133)]     /home/jnainani_umass_edu/.conda/envs/finetuning/lib/python3.10/site-packages/tqdm/std.py:636: TqdmWarning: clamping frac to range [0, 1]\n",
      "  full_bar = Bar(frac,\n",
      "Training Progress: 63it [02:33,  2.43s/it, Step=62, Progress=1.22, Avg Nonzero Elements=10.5, Task Loss=3.02, Sparsity Loss=1.41, temperature=tensor(627.0910)]                                       \n"
     ]
    },
    {
     "data": {
      "application/vnd.jupyter.widget-view+json": {
       "model_id": "8241e79eebfb4e2a99cb1eefda07e808",
       "version_major": 2,
       "version_minor": 0
      },
      "text/plain": [
       "VBox(children=(Label(value='0.012 MB of 0.012 MB uploaded\\r'), FloatProgress(value=1.0, max=1.0)))"
      ]
     },
     "metadata": {},
     "output_type": "display_data"
    },
    {
     "data": {
      "text/html": [
       "<style>\n",
       "    table.wandb td:nth-child(1) { padding: 0 10px; text-align: left ; width: auto;} td:nth-child(2) {text-align: left ; width: 100%}\n",
       "    .wandb-row { display: flex; flex-direction: row; flex-wrap: wrap; justify-content: flex-start; width: 100% }\n",
       "    .wandb-col { display: flex; flex-direction: column; flex-basis: 100%; flex: 1; padding: 10px; }\n",
       "    </style>\n",
       "<div class=\"wandb-row\"><div class=\"wandb-col\"><h3>Run history:</h3><br/><table class=\"wandb\"><tr><td>Avg Nonzero Elements</td><td>█▆▂▁▁▁▁▁▁▁▁▁▁▁▁▁▁▁▁▁▁▁▁▁▁▁▁▁▁▁▁▁▁▁▁▁▁▁▁▁</td></tr><tr><td>Progress</td><td>▁▁▁▁▂▂▂▂▂▃▃▃▃▃▄▄▄▄▄▄▅▅▅▅▅▅▆▆▆▆▆▇▇▇▇▇████</td></tr><tr><td>Sparsity Loss</td><td>█▆▂▁▁▁▁▁▁▁▁▁▁▁▁▁▁▁▁▁▁▁▁▁▁▁▁▁▁▁▁▁▁▁▁▁▁▁▁▁</td></tr><tr><td>Step</td><td>▁▁▁▁▂▂▂▂▂▃▃▃▃▃▄▄▄▄▄▄▅▅▅▅▅▅▆▆▆▆▆▇▇▇▇▇████</td></tr><tr><td>Task Loss</td><td>▁▂█▅▅▅▄▄▅▅▄▆▅▅▅▅▅▆▅▆▅▄▄▅▅▆▅▆▄▅▅▅▅▆▅▄▆▅▅▅</td></tr><tr><td>temperature</td><td>▁▁▁▁▁▁▁▁▁▁▁▁▁▁▁▁▁▁▁▁▁▁▁▂▂▂▂▂▂▂▃▃▃▄▄▅▆▆▇█</td></tr></table><br/></div><div class=\"wandb-col\"><h3>Run summary:</h3><br/><table class=\"wandb\"><tr><td>Avg Nonzero Elements</td><td>10.5</td></tr><tr><td>Progress</td><td>1.21569</td></tr><tr><td>Sparsity Loss</td><td>1.4122</td></tr><tr><td>Step</td><td>62</td></tr><tr><td>Task Loss</td><td>3.01984</td></tr><tr><td>temperature</td><td>627.091</td></tr></table><br/></div></div>"
      ],
      "text/plain": [
       "<IPython.core.display.HTML object>"
      ]
     },
     "metadata": {},
     "output_type": "display_data"
    },
    {
     "data": {
      "text/html": [
       " View run <strong style=\"color:#cdcd00\">soft-donkey-102</strong> at: <a href='https://wandb.ai/jnainani-university-of-massachusetts-amherst/sae%20circuits/runs/7t4xj91h' target=\"_blank\">https://wandb.ai/jnainani-university-of-massachusetts-amherst/sae%20circuits/runs/7t4xj91h</a><br/> View project at: <a href='https://wandb.ai/jnainani-university-of-massachusetts-amherst/sae%20circuits' target=\"_blank\">https://wandb.ai/jnainani-university-of-massachusetts-amherst/sae%20circuits</a><br/>Synced 5 W&B file(s), 0 media file(s), 0 artifact file(s) and 0 other file(s)"
      ],
      "text/plain": [
       "<IPython.core.display.HTML object>"
      ]
     },
     "metadata": {},
     "output_type": "display_data"
    },
    {
     "data": {
      "text/html": [
       "Find logs at: <code>./wandb/run-20250101_124756-7t4xj91h/logs</code>"
      ],
      "text/plain": [
       "<IPython.core.display.HTML object>"
      ]
     },
     "metadata": {},
     "output_type": "display_data"
    },
    {
     "name": "stdout",
     "output_type": "stream",
     "text": [
      "CE loss: tensor(2.8780, device='cuda:0')\n",
      "Logit Diff: 1.1070846319198608\n",
      "total # latents in circuit:  42\n",
      "avg density 10.5\n",
      "Saved mask for SAE 0 to sae_mask_0.pt\n",
      "Saved mask for SAE 1 to sae_mask_1.pt\n",
      "Saved mask for SAE 2 to sae_mask_2.pt\n",
      "Saved mask for SAE 3 to sae_mask_3.pt\n"
     ]
    }
   ],
   "source": [
    "for i in thresholds:\n",
    "    do_training_run(token_dataset=clean_tokens, labels_dataset= clean_label_tokens, corr_labels_dataset=corr_label_tokens, sparsity_multiplier=i, task=f'codereason/index/len6_digit1', example_length=example_length, loss_function=\"logit_diff\", per_token_mask=True, use_mask=True, mean_mask=True, portion_of_data=0.3)"
   ]
  },
  {
   "cell_type": "markdown",
   "metadata": {},
   "source": [
    "## IG"
   ]
  },
  {
   "cell_type": "code",
   "execution_count": 63,
   "metadata": {},
   "outputs": [],
   "source": [
    "import torch.nn.functional as F\n",
    "def get_ig_effect_batch(sae_id, token_dataset, corr_token_dataset, labels_dataset, corr_labels_dataset):\n",
    "    # ig_batch_size = 4\n",
    "\n",
    "    def logitfn_cache(tokens):\n",
    "        logits =  model.run_with_hooks(\n",
    "            tokens, \n",
    "            return_type=\"logits\", \n",
    "            fwd_hooks=build_hooks_list(tokens, use_mask=use_mask, mean_mask=mean_mask, cache_sae_activations=True)\n",
    "            )\n",
    "        cached_activations = [sae.feature_acts for sae in saes]\n",
    "        return logits, cached_activations\n",
    "    \n",
    "    # cache_sae_logitfn = build_sae_logitfn(cache_sae_activations=True)\n",
    "\n",
    "    # def cache_sae_activations(tokens):\n",
    "    #     logits = cache_sae_logitfn(tokens)\n",
    "    #     cached_activations = [sae.feature_acts for sae in saes]\n",
    "    #     return logits, cached_activations\n",
    "    # def build_sae_logitfn(**kwargs):\n",
    "    # def logitfn(tokens):\n",
    "    #     return model.run_with_hooks(\n",
    "    #         tokens, \n",
    "    #         return_type=\"logits\", \n",
    "    #         fwd_hooks=build_hooks_list(tokens, **kwargs)\n",
    "    #         )\n",
    "    # return logitfn\n",
    "\n",
    "    def sae_continue_cache_logitfn(tokens, sae_idx, cache, **kwargs):\n",
    "        logits = model.run_with_hooks(\n",
    "            tokens, \n",
    "            return_type=\"logits\", \n",
    "            fwd_hooks=build_hooks_list(tokens, fake_activations=(sae_idx, cache),**kwargs)\n",
    "            )\n",
    "        # logitfn = build_sae_logitfn(fake_activations=(sae_idx, cache), **kwargs)\n",
    "        return logits\n",
    "\n",
    "    # correct_tokenized = batch.correct_tokenized\n",
    "    # traceback_tokenized = batch.error_tokenized\n",
    "    # correct_labels = batch.correct_labels\n",
    "    # traceback_labels = batch.error_labels\n",
    "\n",
    "    # run a forward pass on the correct and error examples\n",
    "    with torch.no_grad():\n",
    "        _, clean_activations = logitfn_cache(token_dataset)\n",
    "        _, corr_activations = logitfn_cache(corr_token_dataset)\n",
    "\n",
    "\n",
    "    sae = saes[sae_id]\n",
    "    sae_clean_acts = clean_activations[sae_id]\n",
    "    sae_corr_acts = corr_activations[sae_id]\n",
    "\n",
    "    steps = 10\n",
    "    ratios = [i/steps for i in range(steps)] # we skip the last one b/c we are integrating, obv\n",
    "        \n",
    "    effects = []\n",
    "    for ratio in ratios:\n",
    "        interpolation = (sae_clean_acts * (1-ratio) + sae_corr_acts * (ratio)).requires_grad_(True)\n",
    "        interpolation.retain_grad()\n",
    "        interpolated_out = sae_continue_cache_logitfn(\n",
    "            token_dataset, sae.cfg.hook_layer, interpolation,\n",
    "        )\n",
    "        answer_logits = interpolated_out[..., -1, :] # get the logits of the last tokens\n",
    "        # get the logprob on the inner most dimension\n",
    "        answer_logprobs = F.log_softmax(answer_logits, dim=-1)\n",
    "\n",
    "        clean_logprobs = answer_logprobs[..., torch.arange(answer_logprobs.shape[-2]), labels_dataset]\n",
    "        corr_logprobs = answer_logprobs[..., torch.arange(answer_logprobs.shape[-2]), corr_labels_dataset]\n",
    "        metric = torch.sum(clean_logprobs - corr_logprobs)\n",
    "        metric.backward()\n",
    "\n",
    "        counterfactual_delta = sae_clean_acts - sae_corr_acts\n",
    "        \n",
    "        effect = (interpolation.grad * counterfactual_delta).mean(dim=0)\n",
    "\n",
    "        effects.append(effect)\n",
    "\n",
    "    effects = torch.stack(effects)\n",
    "    clear_memory()\n",
    "    return effects.mean(dim=0)\n"
   ]
  },
  {
   "cell_type": "code",
   "execution_count": 64,
   "metadata": {},
   "outputs": [],
   "source": [
    "def get_sae_ig_effect(sae_id, num_batches, clean_tokens, corr_tokens, clean_label_tokens, corr_label_tokens):\n",
    "    effect_batches = []\n",
    "    for i in tqdm(range(0, num_batches)):\n",
    "        clean_batch = clean_tokens[i]  \n",
    "        corr_batch = corr_tokens[i]\n",
    "        clean_label_batch = clean_label_tokens[i]\n",
    "        corr_label_batch = corr_label_tokens[i]\n",
    "        effect_batches.append(get_ig_effect_batch(sae_id, clean_batch, corr_batch, clean_label_batch, corr_label_batch))\n",
    "    return torch.stack(effect_batches).mean(dim=0)"
   ]
  },
  {
   "cell_type": "code",
   "execution_count": 65,
   "metadata": {},
   "outputs": [],
   "source": [
    "def get_all_sae_ig_effects(num_batches, clean_tokens, corr_tokens, clean_label_tokens, corr_label_tokens):\n",
    "    for i in range(len(saes)):\n",
    "        ig_effect = get_sae_ig_effect(i, num_batches, clean_tokens, corr_tokens, clean_label_tokens, corr_label_tokens)\n",
    "        saes[i].igmask = IGMask(ig_effect)\n",
    "        "
   ]
  },
  {
   "cell_type": "code",
   "execution_count": 66,
   "metadata": {},
   "outputs": [
    {
     "name": "stderr",
     "output_type": "stream",
     "text": [
      "100%|██████████| 25/25 [05:16<00:00, 12.65s/it]\n",
      "100%|██████████| 25/25 [05:16<00:00, 12.65s/it]\n",
      "100%|██████████| 25/25 [05:16<00:00, 12.64s/it]\n",
      "100%|██████████| 25/25 [05:16<00:00, 12.65s/it]\n"
     ]
    }
   ],
   "source": [
    "get_all_sae_ig_effects(25, clean_tokens, corr_tokens, clean_label_tokens, corr_label_tokens)"
   ]
  },
  {
   "cell_type": "code",
   "execution_count": 67,
   "metadata": {},
   "outputs": [
    {
     "data": {
      "text/plain": [
       "tensor(510, device='cuda:0')"
      ]
     },
     "execution_count": 67,
     "metadata": {},
     "output_type": "execute_result"
    }
   ],
   "source": [
    "torch.count_nonzero(saes[1].igmask.ig_scores)"
   ]
  },
  {
   "cell_type": "code",
   "execution_count": 68,
   "metadata": {},
   "outputs": [],
   "source": [
    "def save_igmask(igmask, file_path):\n",
    "    \"\"\"Save the IGMask instance to a file.\"\"\"\n",
    "    if not isinstance(igmask, IGMask):\n",
    "        raise ValueError(\"The object to save must be an instance of IGMask.\")\n",
    "\n",
    "    # Save the ig_scores and any additional parameters if needed\n",
    "    state_dict = {\n",
    "        'ig_scores': igmask.ig_scores\n",
    "    }\n",
    "    \n",
    "    # Create directory if it doesn't exist\n",
    "    os.makedirs(os.path.dirname(file_path), exist_ok=True)\n",
    "\n",
    "    # Save the state dictionary using PyTorch\n",
    "    torch.save(state_dict, file_path)\n",
    "\n",
    "for sae in saes:\n",
    "    save_igmask(sae.igmask, f\"masks/codereason/index/len6_digit1/igmask/igmask_{sae.cfg.hook_layer}.pt\")"
   ]
  },
  {
   "cell_type": "code",
   "execution_count": 69,
   "metadata": {},
   "outputs": [],
   "source": [
    "masks = produce_ig_binary_masks(threshold=0.01)"
   ]
  },
  {
   "cell_type": "code",
   "execution_count": 70,
   "metadata": {},
   "outputs": [
    {
     "name": "stdout",
     "output_type": "stream",
     "text": [
      "Statistics for mask 'blocks.7.hook_resid_post':\n",
      "  - Shape: [29, 16384]\n",
      "  - Total latents: 475136\n",
      "  - Latents ON (mask=1): 24\n",
      "  - Average ON per token: 0.8276\n",
      "\n",
      "Statistics for mask 'blocks.14.hook_resid_post':\n",
      "  - Shape: [29, 16384]\n",
      "  - Total latents: 475136\n",
      "  - Latents ON (mask=1): 48\n",
      "  - Average ON per token: 1.6552\n",
      "\n",
      "Statistics for mask 'blocks.21.hook_resid_post':\n",
      "  - Shape: [29, 16384]\n",
      "  - Total latents: 475136\n",
      "  - Latents ON (mask=1): 201\n",
      "  - Average ON per token: 6.9310\n",
      "\n",
      "Statistics for mask 'blocks.40.hook_resid_post':\n",
      "  - Shape: [29, 16384]\n",
      "  - Total latents: 475136\n",
      "  - Latents ON (mask=1): 172\n",
      "  - Average ON per token: 5.9310\n",
      "\n"
     ]
    }
   ],
   "source": [
    "masks.print_mask_statistics()"
   ]
  },
  {
   "cell_type": "code",
   "execution_count": 71,
   "metadata": {},
   "outputs": [],
   "source": [
    "def pp(x):\n",
    "    keys = list(x.keys())\n",
    "    values = list(x.values())\n",
    "    for i in range(len(keys)):\n",
    "        print(f\"{keys[i]}: {values[i]}\")"
   ]
  },
  {
   "cell_type": "code",
   "execution_count": 72,
   "metadata": {},
   "outputs": [
    {
     "name": "stdout",
     "output_type": "stream",
     "text": [
      "layer: 7\n",
      "81.0\n",
      "layer: 14\n",
      "166.0\n",
      "layer: 21\n",
      "733.0\n",
      "layer: 40\n",
      "335.0\n",
      "total 1315.0\n",
      "========================================\n",
      "tensor(2.0767, device='cuda:0')\n"
     ]
    }
   ],
   "source": [
    "threshold = 0.001\n",
    "sum = 0\n",
    "for sae in saes:\n",
    "    print(\"layer:\", sae.cfg.hook_layer)\n",
    "    latents_in_sae = sae.igmask.get_threshold_info(threshold)['total_latents'].item()\n",
    "    sum += latents_in_sae\n",
    "    print(latents_in_sae)\n",
    "\n",
    "print(\"total\", sum)\n",
    "\n",
    "print(\"=\"*40)\n",
    "with torch.no_grad():\n",
    "    ig_logits = model.run_with_hooks(\n",
    "            clean_tokens[-1], \n",
    "            return_type=\"logits\", \n",
    "            fwd_hooks=build_hooks_list(clean_tokens[-1], ig_mask_threshold=threshold, mean_mask=True)\n",
    "            )\n",
    "    ld = logit_diff_fn(ig_logits, clean_label_tokens[-1], corr_label_tokens[-1])\n",
    "    print(ld)\n",
    "    # ig_logitfn = build_sae_logitfn(ig_mask_threshold=threshold, mean_mask=True)\n",
    "    # metrics = sanity_check_model_performance(ig_logitfn)\n",
    "    # top1_correct_avg = (metrics['top1_correct'] + metrics['top1_error'])/2\n",
    "    # ce_avg = (metrics['ce_loss_correct'] + metrics['ce_loss_error'])/2\n",
    "    # pp(metrics)\n",
    "    # print(\"avg top1 correct\", top1_correct_avg)\n",
    "    # print(\"avg CE loss\", ce_avg)"
   ]
  },
  {
   "cell_type": "code",
   "execution_count": 73,
   "metadata": {},
   "outputs": [
    {
     "name": "stderr",
     "output_type": "stream",
     "text": [
      "100%|██████████| 10/10 [01:13<00:00,  7.35s/it]\n"
     ]
    }
   ],
   "source": [
    "# Comparison:\n",
    "\n",
    "def get_faithfulness(clean_tokens, clean_label_tokens, corr_label_tokens, mask, modelsae_ld):\n",
    "    avg_ig_ld = 0\n",
    "    with torch.no_grad():\n",
    "        for i in range(10):\n",
    "            ig_logits = model.run_with_hooks(\n",
    "                    clean_tokens[-i], \n",
    "                    return_type=\"logits\", \n",
    "                    fwd_hooks=build_hooks_list(clean_tokens[-i], circuit_mask=mask, mean_mask=True)\n",
    "                    )\n",
    "            ld = logit_diff_fn(ig_logits, clean_label_tokens[-i], corr_label_tokens[-i])\n",
    "            avg_ig_ld += ld\n",
    "            del ig_logits\n",
    "            cleanup_cuda()\n",
    "    avg_ig = (avg_ig_ld / 10).item()\n",
    "    faithfulness_ratio = avg_ig/modelsae_ld\n",
    "    return faithfulness_ratio\n",
    "\n",
    "def get_faithfulness_frontier(mask_producer_fn, start_threshold, end_threshold, clean_tokens, clean_label_tokens, corr_label_tokens, modelsae_ld, steps = 10, modify_fn = lambda x: x):\n",
    "    thresholds = []\n",
    "    delta = (end_threshold - start_threshold) / steps\n",
    "\n",
    "    # apply a linear function such that the linear_map(modify_fn(start_threshold)) = start_threshold\n",
    "    # and linear_map(modify_fn(end_threshold)) = end_threshold\n",
    "\n",
    "    def linear_map(x):\n",
    "        mod_start = modify_fn(start_threshold)\n",
    "        mod_end = modify_fn(end_threshold)\n",
    "        return (x - mod_start) / (mod_end - mod_start) * (end_threshold - start_threshold) + start_threshold\n",
    "    \n",
    "    mf = lambda x: linear_map(modify_fn(x))\n",
    "    \n",
    "\n",
    "\n",
    "    for i in range(steps):\n",
    "        thresholds.append(\n",
    "            mf(start_threshold + i*delta)\n",
    "            )\n",
    "    \n",
    "    faithfulness_scores = []\n",
    "    for threshold in tqdm(thresholds):\n",
    "        mask = mask_producer_fn(threshold=threshold)\n",
    "        num_latents = mask.get_num_latents()\n",
    "        faithfulness_ratio = get_faithfulness(clean_tokens, clean_label_tokens, corr_label_tokens, mask, modelsae_ld\n",
    "        )\n",
    "        faithfulness_scores.append([num_latents, faithfulness_ratio])\n",
    "    return faithfulness_scores        \n",
    "\n",
    "ig_faithfulness_frontier = get_faithfulness_frontier(produce_ig_binary_masks, 0.00005, 0.05, clean_tokens, clean_label_tokens, corr_label_tokens, avg_logit_diff, steps=10, modify_fn=lambda x: x**2)\n"
   ]
  },
  {
   "cell_type": "code",
   "execution_count": 74,
   "metadata": {},
   "outputs": [
    {
     "data": {
      "image/png": "[encoded data removed]",
      "text/plain": [
       "<Figure size 1000x600 with 1 Axes>"
      ]
     },
     "metadata": {},
     "output_type": "display_data"
    }
   ],
   "source": [
    "\n",
    "def plot_faithfulness_frontier(faithfulness_frontier):\n",
    "    # Assuming faithfulness_frontier is your list of tuples\n",
    "    # Example: faithfulness_frontier = [(10, 0.8), (20, 0.85), (30, 0.89), ...]\n",
    "\n",
    "    # Unzip the tuples into separate lists for x and y coordinates\n",
    "    num_latents, faithfulness = zip(*faithfulness_frontier)\n",
    "\n",
    "    # Create the plot\n",
    "    plt.figure(figsize=(10, 6))\n",
    "    plt.plot(num_latents, faithfulness, 'b.-', linewidth=2, markersize=10)\n",
    "\n",
    "    # Add labels and title\n",
    "    plt.xlabel('Number of Latents')\n",
    "    plt.ylabel('Faithfulness')\n",
    "    plt.title('Faithfulness Frontier')\n",
    "\n",
    "    # Add grid for better readability\n",
    "    plt.grid(True, linestyle='--', alpha=0.7)\n",
    "\n",
    "    # Optionally, you can customize the axis ranges if needed\n",
    "    # plt.xlim([min(num_latents), max(num_latents)])\n",
    "    # plt.ylim([min(faithfulness), max(faithfulness)])\n",
    "\n",
    "    # Display the plot\n",
    "    plt.tight_layout()\n",
    "    plt.show()\n",
    "plot_faithfulness_frontier(ig_faithfulness_frontier)"
   ]
  },
  {
   "cell_type": "code",
   "execution_count": 78,
   "metadata": {},
   "outputs": [
    {
     "data": {
      "text/plain": [
       "[0.01,\n",
       " 0.020495238095238094,\n",
       " 0.04474285714285713,\n",
       " 0.08274285714285712,\n",
       " 0.13449523809523808]"
      ]
     },
     "execution_count": 78,
     "metadata": {},
     "output_type": "execute_result"
    }
   ],
   "source": [
    "thresholds = []\n",
    "modify_fn=lambda x: x**2\n",
    "start_threshold = 0.01\n",
    "end_threshold = 0.2\n",
    "n_runs = 5\n",
    "delta = (end_threshold - start_threshold) / n_runs\n",
    "def linear_map(x):\n",
    "        mod_start = modify_fn(start_threshold)\n",
    "        mod_end = modify_fn(end_threshold)\n",
    "        return (x - mod_start) / (mod_end - mod_start) * (end_threshold - start_threshold) + start_threshold\n",
    "    \n",
    "mf = lambda x: linear_map(modify_fn(x))\n",
    "for i in range(n_runs):\n",
    "    thresholds.append(\n",
    "        mf(start_threshold + i*delta)\n",
    "        )\n",
    "thresholds"
   ]
  },
  {
   "cell_type": "code",
   "execution_count": 79,
   "metadata": {},
   "outputs": [
    {
     "data": {
      "image/png": "[encoded data removed]",
      "text/plain": [
       "<Figure size 1200x800 with 1 Axes>"
      ]
     },
     "metadata": {},
     "output_type": "display_data"
    }
   ],
   "source": [
    "import matplotlib.pyplot as plt\n",
    "import json\n",
    "thresholds = []\n",
    "modify_fn=lambda x: x**2\n",
    "# thresholds = []\n",
    "# modify_fn=lambda x: x**2\n",
    "start_threshold = 0.01\n",
    "end_threshold = 0.2\n",
    "n_runs = 5\n",
    "delta = (end_threshold - start_threshold) / n_runs\n",
    "def linear_map(x):\n",
    "        mod_start = modify_fn(start_threshold)\n",
    "        mod_end = modify_fn(end_threshold)\n",
    "        return (x - mod_start) / (mod_end - mod_start) * (end_threshold - start_threshold) + start_threshold\n",
    "    \n",
    "mf = lambda x: linear_map(modify_fn(x))\n",
    "for i in range(n_runs):\n",
    "    thresholds.append(\n",
    "        mf(start_threshold + i*delta)\n",
    "        )\n",
    "thresholds\n",
    "nnodes = []\n",
    "faithfulness = []\n",
    "for i in thresholds:\n",
    "    sparsity_multiplier = i\n",
    "    bdir = f\"masks/codereason/index/len6_digit1/logit_diff_{str(sparsity_multiplier)}_run/{str(sparsity_multiplier)}_run.json\"\n",
    "    # load the dict \n",
    "    with open(bdir, 'r') as file:\n",
    "        mask_dict = json.load(file)\n",
    "    nnodes.append(mask_dict['total_density'])\n",
    "    faithfulness.append(mask_dict['faithfulness'])\n",
    "\n",
    "\n",
    "# Unzip the tuples into separate lists for Integrated Gradients plot\n",
    "num_latents, ig_faithfulness = zip(*ig_faithfulness_frontier)\n",
    "\n",
    "# Create the combined plot\n",
    "plt.figure(figsize=(12, 8))\n",
    "\n",
    "# Plot \"Integrated Gradients\"\n",
    "plt.plot(num_latents, ig_faithfulness, marker='o',linestyle='-', linewidth=2, markersize=8,  label='Integrated Gradients', color='blue')\n",
    "\n",
    "# Plot \"Masking\"\n",
    "plt.plot(nnodes, faithfulness, marker='o', linestyle='-', linewidth=2, markersize=8, label='Masking', color='orange')\n",
    "\n",
    "# Add labels, legend, and title\n",
    "plt.xlabel('Number of Nodes / Latents', fontsize=14)\n",
    "plt.ylabel('Faithfulness', fontsize=14)\n",
    "plt.title('Faithfulness Comparison: Masking vs Integrated Gradients', fontsize=16)\n",
    "plt.legend(fontsize=12)\n",
    "\n",
    "# Add grid for better readability\n",
    "plt.grid(visible=True, linestyle='--', alpha=0.7)\n",
    "\n",
    "# Adjust layout and display the plot\n",
    "plt.tight_layout()\n",
    "plt.show()\n"
   ]
  },
  {
   "cell_type": "markdown",
   "metadata": {},
   "source": [
    "## overlap stuff "
   ]
  },
  {
   "cell_type": "code",
   "execution_count": 83,
   "metadata": {},
   "outputs": [
    {
     "data": {
      "text/plain": [
       "[0.01,\n",
       " 0.020495238095238094,\n",
       " 0.04474285714285713,\n",
       " 0.08274285714285712,\n",
       " 0.13449523809523808]"
      ]
     },
     "execution_count": 83,
     "metadata": {},
     "output_type": "execute_result"
    }
   ],
   "source": [
    "thresholds\n"
   ]
  },
  {
   "cell_type": "code",
   "execution_count": 89,
   "metadata": {},
   "outputs": [
    {
     "name": "stderr",
     "output_type": "stream",
     "text": [
      "/tmp/ipykernel_601139/1915346626.py:7: FutureWarning: You are using `torch.load` with `weights_only=False` (the current default value), which uses the default pickle module implicitly. It is possible to construct malicious pickle data which will execute arbitrary code during unpickling (See https://github.com/pytorch/pytorch/blob/main/SECURITY.md#untrusted-models for more details). In a future release, the default value for `weights_only` will be flipped to `True`. This limits the functions that could be executed during unpickling. Arbitrary objects will no longer be allowed to be loaded via this mode unless they are explicitly allowlisted by the user via `torch.serialization.add_safe_globals`. We recommend you start setting `weights_only=True` for any use case where you don't have full control of the loaded file. Please open an issue on GitHub for any issues related to this experimental feature.\n",
      "  sae_mask.load_state_dict(torch.load(f\"masks/codereason/index/len6_digit1/logit_diff_{str(sparsity_multiplier)}_run/sae_mask_{i}.pt\"))\n"
     ]
    }
   ],
   "source": [
    "sparsity_multiplier = thresholds[0]\n",
    "bdir = f\"masks/codereason/index/len6_digit1/logit_diff_{str(sparsity_multiplier)}_run/{str(sparsity_multiplier)}_run.json\"\n",
    "sae_masks = []\n",
    "example_length = 29\n",
    "for i in range(4):\n",
    "    sae_mask = SparseMask(saes[i].cfg.d_sae, 1.0, seq_len=example_length).to(device)\n",
    "    sae_mask.load_state_dict(torch.load(f\"masks/codereason/index/len6_digit1/logit_diff_{str(sparsity_multiplier)}_run/sae_mask_{i}.pt\"))\n",
    "    sae_masks.append(sae_mask)"
   ]
  },
  {
   "cell_type": "code",
   "execution_count": 90,
   "metadata": {},
   "outputs": [
    {
     "name": "stderr",
     "output_type": "stream",
     "text": [
      "/tmp/ipykernel_601139/460521388.py:4: FutureWarning: You are using `torch.load` with `weights_only=False` (the current default value), which uses the default pickle module implicitly. It is possible to construct malicious pickle data which will execute arbitrary code during unpickling (See https://github.com/pytorch/pytorch/blob/main/SECURITY.md#untrusted-models for more details). In a future release, the default value for `weights_only` will be flipped to `True`. This limits the functions that could be executed during unpickling. Arbitrary objects will no longer be allowed to be loaded via this mode unless they are explicitly allowlisted by the user via `torch.serialization.add_safe_globals`. We recommend you start setting `weights_only=True` for any use case where you don't have full control of the loaded file. Please open an issue on GitHub for any issues related to this experimental feature.\n",
      "  state_dict = torch.load(file_path)\n"
     ]
    }
   ],
   "source": [
    "ig_masks = []\n",
    "def load_igmask(file_path):\n",
    "    \"\"\"Load an IGMask instance from a file.\"\"\"\n",
    "    state_dict = torch.load(file_path)\n",
    "\n",
    "    # Ensure the loaded state contains the necessary components\n",
    "    if 'ig_scores' not in state_dict:\n",
    "        raise ValueError(\"The saved file does not contain the necessary components for IGMask.\")\n",
    "\n",
    "    # Recreate the IGMask instance\n",
    "    igmask = IGMask(ig_scores=state_dict['ig_scores'])\n",
    "    return igmask\n",
    "\n",
    "for i in range(4):\n",
    "    ig_mask = load_igmask(f\"masks/ioi/baba21/igmask/igmask_{saes[i].cfg.hook_layer}.pt\")\n",
    "    \n",
    "    #IGMask(torch.load(f\"masks/ioi/baba21/igmask/igmask_{saes[i].cfg.hook_layer}.pt\"))\n",
    "    ig_masks.append(ig_mask)"
   ]
  },
  {
   "cell_type": "code",
   "execution_count": 91,
   "metadata": {},
   "outputs": [
    {
     "data": {
      "text/plain": [
       "[5e-05,\n",
       " 0.000558482017982018,\n",
       " 0.0020639680319680317,\n",
       " 0.004566458041958042,\n",
       " 0.008065952047952048,\n",
       " 0.012562450049950049,\n",
       " 0.018055952047952052,\n",
       " 0.02454645804195805,\n",
       " 0.032033968031968035,\n",
       " 0.04051848201798201]"
      ]
     },
     "execution_count": 91,
     "metadata": {},
     "output_type": "execute_result"
    }
   ],
   "source": [
    "ig_thres = []\n",
    "start_threshold = 0.00005\n",
    "end_threshold = 0.05\n",
    "steps = 10\n",
    "modify_fn=lambda x: x**2\n",
    "delta = (end_threshold - start_threshold) / steps\n",
    "mf = lambda x: linear_map(modify_fn(x))\n",
    "for i in range(steps):\n",
    "    ig_thres.append(\n",
    "        mf(start_threshold + i*delta)\n",
    "        )\n",
    "ig_thres"
   ]
  },
  {
   "cell_type": "code",
   "execution_count": 99,
   "metadata": {},
   "outputs": [
    {
     "name": "stdout",
     "output_type": "stream",
     "text": [
      "233\n"
     ]
    },
    {
     "data": {
      "text/plain": [
       "{'blocks.7.hook_resid_post': [2304,\n",
       "  3781,\n",
       "  7330,\n",
       "  7386,\n",
       "  8536,\n",
       "  9329,\n",
       "  13973,\n",
       "  1392,\n",
       "  1598,\n",
       "  1675,\n",
       "  2223,\n",
       "  2304,\n",
       "  2529,\n",
       "  2846,\n",
       "  4203,\n",
       "  4276,\n",
       "  4384,\n",
       "  7330,\n",
       "  7386,\n",
       "  7844,\n",
       "  9329,\n",
       "  9353,\n",
       "  10211,\n",
       "  11558,\n",
       "  13973,\n",
       "  956,\n",
       "  3781,\n",
       "  6624],\n",
       " 'blocks.14.hook_resid_post': [1156,\n",
       "  1690,\n",
       "  3943,\n",
       "  6726,\n",
       "  8059,\n",
       "  10813,\n",
       "  11341,\n",
       "  11973,\n",
       "  15625,\n",
       "  30,\n",
       "  1156,\n",
       "  1477,\n",
       "  1530,\n",
       "  1822,\n",
       "  3724,\n",
       "  3943,\n",
       "  5917,\n",
       "  6601,\n",
       "  6726,\n",
       "  7897,\n",
       "  8059,\n",
       "  9006,\n",
       "  9235,\n",
       "  10813,\n",
       "  11341,\n",
       "  11973,\n",
       "  12239,\n",
       "  13474,\n",
       "  13797,\n",
       "  14632,\n",
       "  15625,\n",
       "  15776,\n",
       "  16059,\n",
       "  604,\n",
       "  1448,\n",
       "  3751,\n",
       "  4418,\n",
       "  4811,\n",
       "  6191,\n",
       "  8629,\n",
       "  8746,\n",
       "  9066,\n",
       "  14778,\n",
       "  15305,\n",
       "  15939],\n",
       " 'blocks.21.hook_resid_post': [611,\n",
       "  654,\n",
       "  10356,\n",
       "  13526,\n",
       "  13664,\n",
       "  14108,\n",
       "  229,\n",
       "  611,\n",
       "  654,\n",
       "  918,\n",
       "  1876,\n",
       "  2003,\n",
       "  2248,\n",
       "  3445,\n",
       "  4381,\n",
       "  6066,\n",
       "  6189,\n",
       "  6387,\n",
       "  6567,\n",
       "  6911,\n",
       "  7638,\n",
       "  8240,\n",
       "  8500,\n",
       "  8842,\n",
       "  8931,\n",
       "  10231,\n",
       "  10356,\n",
       "  10986,\n",
       "  11306,\n",
       "  11527,\n",
       "  13145,\n",
       "  13216,\n",
       "  13526,\n",
       "  13664,\n",
       "  14054,\n",
       "  14108,\n",
       "  14949,\n",
       "  15170,\n",
       "  15474,\n",
       "  322,\n",
       "  361,\n",
       "  1049,\n",
       "  3835,\n",
       "  6311,\n",
       "  6567,\n",
       "  7544,\n",
       "  7770,\n",
       "  10356,\n",
       "  11527,\n",
       "  13256,\n",
       "  13526,\n",
       "  13627,\n",
       "  14108,\n",
       "  14386,\n",
       "  14949,\n",
       "  16178,\n",
       "  16178,\n",
       "  4718,\n",
       "  10260,\n",
       "  11732,\n",
       "  14053,\n",
       "  16178],\n",
       " 'blocks.40.hook_resid_post': [167,\n",
       "  389,\n",
       "  445,\n",
       "  707,\n",
       "  1001,\n",
       "  1264,\n",
       "  1265,\n",
       "  1482,\n",
       "  1500,\n",
       "  1950,\n",
       "  2201,\n",
       "  2444,\n",
       "  2584,\n",
       "  2708,\n",
       "  3108,\n",
       "  3347,\n",
       "  3685,\n",
       "  3723,\n",
       "  3762,\n",
       "  3947,\n",
       "  4366,\n",
       "  4417,\n",
       "  4501,\n",
       "  4843,\n",
       "  4975,\n",
       "  5196,\n",
       "  5784,\n",
       "  5924,\n",
       "  6069,\n",
       "  6773,\n",
       "  6810,\n",
       "  6921,\n",
       "  7001,\n",
       "  7044,\n",
       "  7272,\n",
       "  7273,\n",
       "  7280,\n",
       "  7306,\n",
       "  7586,\n",
       "  7707,\n",
       "  7751,\n",
       "  7791,\n",
       "  8053,\n",
       "  8079,\n",
       "  8101,\n",
       "  8415,\n",
       "  8792,\n",
       "  8904,\n",
       "  9347,\n",
       "  9525,\n",
       "  9576,\n",
       "  9618,\n",
       "  9642,\n",
       "  9721,\n",
       "  10100,\n",
       "  10269,\n",
       "  10454,\n",
       "  10517,\n",
       "  10540,\n",
       "  11365,\n",
       "  11484,\n",
       "  11650,\n",
       "  11768,\n",
       "  11794,\n",
       "  11915,\n",
       "  12312,\n",
       "  12348,\n",
       "  12426,\n",
       "  12444,\n",
       "  12746,\n",
       "  13531,\n",
       "  13643,\n",
       "  13648,\n",
       "  13921,\n",
       "  14048,\n",
       "  14107,\n",
       "  14155,\n",
       "  14216,\n",
       "  14331,\n",
       "  14338,\n",
       "  14365,\n",
       "  14462,\n",
       "  14495,\n",
       "  14543,\n",
       "  14550,\n",
       "  14692,\n",
       "  14788,\n",
       "  14875,\n",
       "  14955,\n",
       "  15010,\n",
       "  15300,\n",
       "  15362,\n",
       "  15382,\n",
       "  15628,\n",
       "  15705,\n",
       "  15893,\n",
       "  16086,\n",
       "  16154]}"
      ]
     },
     "execution_count": 99,
     "metadata": {},
     "output_type": "execute_result"
    }
   ],
   "source": [
    "ttl_ig_nodes = 0\n",
    "ig_full_nodes = {}\n",
    "for i in range(4):\n",
    "    ig_mask_obj = ig_masks[i].get_binarized_mask(threshold=ig_thres[-5])\n",
    "    ig_mask_nodes = torch.where(ig_mask_obj > 0)[1].tolist()\n",
    "    ig_full_nodes[saes[i].cfg.hook_name] = ig_mask_nodes\n",
    "    # len(ig_mask_nodes)\n",
    "    ttl_ig_nodes += len(ig_mask_nodes)\n",
    "print(ttl_ig_nodes)\n",
    "ig_full_nodes"
   ]
  },
  {
   "cell_type": "code",
   "execution_count": 100,
   "metadata": {},
   "outputs": [
    {
     "name": "stdout",
     "output_type": "stream",
     "text": [
      "399\n",
      "{'blocks.7.hook_resid_post': [1496, 6882, 197, 2498, 4958, 9843, 15880, 197, 2157, 2498, 5337, 9299, 9938, 15041, 197, 2157, 2498, 4958, 5337, 11644, 2157, 2498, 5337, 11644, 2157, 4958, 5337, 10665, 11522, 11669, 15041, 528, 4140, 4807, 4958, 5337, 8045, 8987, 10122, 10501, 10665, 11073, 11522, 11669, 12797, 14667, 15041, 15244, 15753], 'blocks.14.hook_resid_post': [9663, 534, 2038, 3021, 8734, 534, 4093, 11578, 12405, 13245, 534, 3021, 11578, 13245, 14869, 15322, 534, 11578, 13245, 15322, 3021, 4170, 11578, 12405, 13245, 501, 534, 1788, 3021, 3742, 3818, 4170, 4241, 4554, 5137, 5689, 7078, 8157, 8330, 9393, 11578, 11891, 11946, 12357, 12405, 12548, 13677, 14308, 14567, 14743, 15421, 15588], 'blocks.21.hook_resid_post': [5225, 12112, 2453, 2498, 6201, 14219, 15373, 2453, 2498, 4328, 6201, 12295, 12529, 14219, 2453, 2498, 4170, 6201, 12295, 12529, 14219, 15373, 2453, 2498, 4170, 6201, 12529, 14219, 4170, 6201, 10996, 14219, 15373, 2453, 4170, 4328, 22, 52, 613, 972, 1197, 1408, 1592, 1622, 1677, 1974, 1983, 2283, 2686, 3076, 3101, 3272, 3278, 3385, 3643, 3867, 3893, 4170, 4328, 4351, 5057, 5066, 5478, 6125, 6219, 6740, 6777, 6902, 6917, 6931, 6970, 7015, 7454, 7482, 7762, 7848, 7992, 8255, 8615, 8781, 8853, 9162, 9412, 9601, 10368, 10644, 10824, 10996, 11351, 11489, 11594, 11889, 11926, 12295, 12314, 12353, 12808, 12815, 12959, 13410, 13926, 14202, 14219, 14298, 14857, 15282, 15373, 15954, 16372, 1408, 2739, 3076, 3610, 3638, 4351, 6902, 8853, 10655, 11574, 11752, 12314, 15881, 194, 246, 712, 1275, 1408, 1677, 1744, 2445, 2739, 2957, 3063, 3076, 3278, 3377, 3638, 4351, 4672, 4781, 4893, 4926, 5148, 5162, 5394, 5623, 5952, 6004, 6650, 8082, 8127, 8255, 8775, 9551, 10003, 10340, 10488, 10532, 11752, 11983, 12314, 12598, 12643, 12797, 12987, 13117, 13284, 13372, 13774, 14140, 14343, 14638, 15178, 15881], 'blocks.40.hook_resid_post': [34, 130, 215, 311, 445, 504, 547, 597, 637, 673, 803, 950, 1073, 1205, 1300, 1322, 1827, 1849, 2355, 2493, 2534, 2646, 2653, 2664, 2993, 2996, 3191, 3330, 3607, 3685, 3799, 3825, 3827, 3828, 3895, 3960, 3987, 4694, 4956, 4970, 5306, 5312, 5894, 5936, 6072, 6610, 6810, 6842, 6971, 7010, 7312, 7421, 7622, 8176, 8407, 8456, 8468, 8552, 8586, 8853, 8870, 8965, 9230, 9262, 9447, 9487, 9538, 9578, 9682, 10000, 10069, 10134, 10155, 10628, 10644, 10757, 10978, 11066, 11103, 11211, 11431, 11579, 11657, 11704, 11754, 11839, 11861, 12037, 12049, 12102, 12175, 12203, 12321, 12388, 12689, 12945, 12988, 13095, 13113, 13131, 13380, 13479, 13483, 13576, 13785, 13788, 13836, 13925, 13967, 14423, 14425, 14810, 15246, 15394, 15458, 15505, 15526, 15628, 15690, 15777, 15851, 16039, 16231, 16342]}\n"
     ]
    }
   ],
   "source": [
    "ttl_bi_nodes = 0\n",
    "bi_full_nodes = {}\n",
    "for i in range(4):\n",
    "    bimask_nodes = torch.where(sae_masks[i].mask > 0)[1].tolist()\n",
    "    bi_full_nodes[saes[i].cfg.hook_name] = bimask_nodes\n",
    "    ttl_bi_nodes += len(bimask_nodes)\n",
    "print(ttl_bi_nodes)\n",
    "print(bi_full_nodes)"
   ]
  },
  {
   "cell_type": "code",
   "execution_count": 101,
   "metadata": {},
   "outputs": [
    {
     "data": {
      "text/plain": [
       "{'blocks.7.hook_resid_post': [0.0, 22, 28, 0, 50],\n",
       " 'blocks.14.hook_resid_post': [0.0, 37, 34, 0, 71],\n",
       " 'blocks.21.hook_resid_post': [0.0, 48, 127, 0, 175],\n",
       " 'blocks.40.hook_resid_post': [0.01834862385321101, 98, 124, 4, 218]}"
      ]
     },
     "execution_count": 101,
     "metadata": {},
     "output_type": "execute_result"
    }
   ],
   "source": [
    "def calculate_overlap(small_dict, big_dict):\n",
    "    ious = {}\n",
    "    for block, small_elements in small_dict.items():\n",
    "        if block in big_dict and block.startswith(\"blocks\"):\n",
    "            unique1 = set(small_elements)\n",
    "            unique2 = set(big_dict[block])\n",
    "            # big_elements = big_dict[block]\n",
    "            # overlap_count = len(set(small_elements) & set(big_elements))\n",
    "            intersection = unique1.intersection(unique2)\n",
    "            union = unique1.union(unique2)\n",
    "            ious[block] = [len(intersection) / len(union), len(unique1), len(unique2), len(intersection), len(union)]\n",
    "    return ious\n",
    "\n",
    "calculate_overlap(ig_full_nodes, bi_full_nodes)"
   ]
  },
  {
   "cell_type": "markdown",
   "metadata": {},
   "source": [
    "# data creation - Key Error "
   ]
  },
  {
   "cell_type": "code",
   "execution_count": 24,
   "metadata": {},
   "outputs": [
    {
     "name": "stdout",
     "output_type": "stream",
     "text": [
      "Dataset saved to data/codereason/key/data_len5_digit1.json\n"
     ]
    }
   ],
   "source": [
    "# Expanding the name pool with a larger set of names\n",
    "extended_name_pool = [\n",
    "    \"Bob\", \"Sam\", \"Lilly\", \"Rob\", \"Alice\", \"Charlie\", \"Sally\", \"Tom\", \"Jake\", \"Emily\", \n",
    "    \"Megan\", \"Chris\", \"Sophia\", \"James\", \"Oliver\", \"Isabella\", \"Mia\", \"Jackson\", \n",
    "    \"Emma\", \"Ava\", \"Lucas\", \"Benjamin\", \"Ethan\", \"Grace\", \"Olivia\", \"Liam\", \"Noah\", \"Diego\"\n",
    "]\n",
    "var_name_pool = [\"age\", \"scores\", \"data\", \"height\", \"weight\", \"grades\"]\n",
    "for name in extended_name_pool:\n",
    "    assert len(model.tokenizer.encode(name)) == 2, f\"Name {name} has more than 1 token\"\n",
    "\n",
    "for var in var_name_pool:\n",
    "    assert len(model.tokenizer.encode(var)) == 2, f\"Variable {var} has more than 1 token\"\n",
    "\n",
    "# Function to generate the dataset with correct and incorrect keying into dictionaries\n",
    "def generate_extended_dataset(name_pool, output_path, num_samples=5, num_keys=5, digit=1):\n",
    "    dataset = []\n",
    "    for _ in range(num_samples):\n",
    "        # Randomly select 5 names from the pool\n",
    "        selected_names = random.sample(name_pool, 5)\n",
    "        selected_var = random.choice(var_name_pool)\n",
    "        \n",
    "        # Assign random ages to the selected names\n",
    "        person_dict = {name: random.randint(10**(digit-1), 10**digit - 1) for name in selected_names}\n",
    "        # Create a correct example\n",
    "        correct_name = random.choice(list(person_dict.keys()))\n",
    "        correct_prompt = f'>>> {selected_var} = {person_dict}\\n>>> {selected_var}[\"{correct_name}\"]\\n'\n",
    "        correct_response = person_dict[correct_name]\n",
    "        correct_token = str(correct_response)[0]\n",
    "        # Create an incorrect example with a name not in the dictionary\n",
    "        \n",
    "        incorrect_name = random.choice([name for name in name_pool if name not in person_dict])\n",
    "        if random.random()>0.5:\n",
    "            # put the new name in the key.\n",
    "            incorrect_prompt = f'>>> {selected_var} = {person_dict}\\n>>> {selected_var}[\"{incorrect_name}\"]\\n'\n",
    "        else:\n",
    "            # put the new name in the dict, and swap the key.\n",
    "            keys = list(person_dict.keys())\n",
    "            items = list(person_dict.values())\n",
    "\n",
    "            location = keys.index(correct_name)\n",
    "            keys[location] = incorrect_name\n",
    "\n",
    "            broken_age_dict = dict(zip(keys, items))\n",
    "            incorrect_prompt = f'>>> {selected_var} = {broken_age_dict}\\n>>> {selected_var}[\"{correct_name}\"]\\n'\n",
    "\n",
    "        dataset.append({\n",
    "            \"clean_prefix\": correct_prompt,\n",
    "            \"patch_prefix\": incorrect_prompt,\n",
    "            \"clean_answer\": correct_token,\n",
    "            \"patch_answer\": \"Traceback\",\n",
    "            \"case\": f\"key_len{num_keys}_digit{digit}_no_err\"\n",
    "        })\n",
    "        dataset.append({\n",
    "            \"clean_prefix\": incorrect_prompt,\n",
    "            \"patch_prefix\": correct_prompt,\n",
    "            \"clean_answer\": \"Traceback\",\n",
    "            \"patch_answer\": correct_token,\n",
    "            \"case\": f\"key_len{num_keys}_digit{digit}_err\"\n",
    "        })\n",
    "\n",
    "    os.makedirs(output_path, exist_ok=True)\n",
    "    save_path = os.path.join(output_path, f\"data_len{num_keys}_digit{digit}.json\")\n",
    "    # Save the dataset to a JSON file\n",
    "    with open(save_path, \"w\") as json_file:\n",
    "        json.dump(dataset, json_file, indent=2)\n",
    "\n",
    "    # Display confirmation\n",
    "    print(f\"Dataset saved to {save_path}\")\n",
    "\n",
    "    # return dataset\n",
    "# Generate the extended dataset\n",
    "dpath = \"data/codereason/key/\"\n",
    "generate_extended_dataset(extended_name_pool, dpath, num_samples=10000, num_keys=5)\n",
    "# json_dataset"
   ]
  },
  {
   "cell_type": "code",
   "execution_count": 12,
   "metadata": {},
   "outputs": [
    {
     "name": "stdout",
     "output_type": "stream",
     "text": [
      "Tokenized prompt: ['<bos>', '>>>', ' weight', ' =', \" {'\", 'Benjamin', \"':\", ' ', '4', ',', \" '\", 'Isabella', \"':\", ' ', '6', ',', \" '\", 'James', \"':\", ' ', '4', ',', \" '\", 'Emily', \"':\", ' ', '9', ',', \" '\", 'Mia', \"':\", ' ', '2', '}', '\\n', '>>>', ' weight', '[\"', 'Ethan', '\"]', '\\n']\n",
      "Tokenized answer: ['9']\n"
     ]
    },
    {
     "data": {
      "text/html": [
       "<pre style=\"white-space:pre;overflow-x:auto;line-height:normal;font-family:Menlo,'DejaVu Sans Mono',consolas,'Courier New',monospace\">Performance on answer token:\n",
       "<span style=\"font-weight: bold\">Rank: </span><span style=\"color: #008080; text-decoration-color: #008080; font-weight: bold\">19</span><span style=\"font-weight: bold\">       Logit: </span><span style=\"color: #008080; text-decoration-color: #008080; font-weight: bold\">19.07</span><span style=\"font-weight: bold\"> Prob:  </span><span style=\"color: #008080; text-decoration-color: #008080; font-weight: bold\">0.18</span><span style=\"font-weight: bold\">% Token: |</span><span style=\"color: #008080; text-decoration-color: #008080; font-weight: bold\">9</span><span style=\"font-weight: bold\">|</span>\n",
       "</pre>\n"
      ],
      "text/plain": [
       "Performance on answer token:\n",
       "\u001b[1mRank: \u001b[0m\u001b[1;36m19\u001b[0m\u001b[1m       Logit: \u001b[0m\u001b[1;36m19.07\u001b[0m\u001b[1m Prob:  \u001b[0m\u001b[1;36m0.18\u001b[0m\u001b[1m% Token: |\u001b[0m\u001b[1;36m9\u001b[0m\u001b[1m|\u001b[0m\n"
      ]
     },
     "metadata": {},
     "output_type": "display_data"
    },
    {
     "name": "stdout",
     "output_type": "stream",
     "text": [
      "Top 0th token. Logit: 24.92 Prob: 63.66% Token: |Traceback|\n",
      "Top 1th token. Logit: 23.51 Prob: 15.62% Token: |>>>|\n",
      "Top 2th token. Logit: 21.93 Prob:  3.21% Token: |None|\n",
      "Top 3th token. Logit: 21.75 Prob:  2.69% Token: |Name|\n",
      "Top 4th token. Logit: 21.55 Prob:  2.19% Token: |0|\n",
      "Top 5th token. Logit: 21.28 Prob:  1.67% Token: |4|\n",
      "Top 6th token. Logit: 21.10 Prob:  1.40% Token: |Key|\n",
      "Top 7th token. Logit: 20.60 Prob:  0.85% Token: |'|\n",
      "Top 8th token. Logit: 20.49 Prob:  0.76% Token: |1|\n",
      "Top 9th token. Logit: 20.33 Prob:  0.65% Token: |<eos>|\n"
     ]
    },
    {
     "data": {
      "text/html": [
       "<pre style=\"white-space:pre;overflow-x:auto;line-height:normal;font-family:Menlo,'DejaVu Sans Mono',consolas,'Courier New',monospace\"><span style=\"font-weight: bold\">Ranks of the answer tokens:</span> <span style=\"font-weight: bold\">[(</span><span style=\"color: #008000; text-decoration-color: #008000\">'9'</span>, <span style=\"color: #008080; text-decoration-color: #008080; font-weight: bold\">19</span><span style=\"font-weight: bold\">)]</span>\n",
       "</pre>\n"
      ],
      "text/plain": [
       "\u001b[1mRanks of the answer tokens:\u001b[0m \u001b[1m[\u001b[0m\u001b[1m(\u001b[0m\u001b[32m'9'\u001b[0m, \u001b[1;36m19\u001b[0m\u001b[1m)\u001b[0m\u001b[1m]\u001b[0m\n"
      ]
     },
     "metadata": {},
     "output_type": "display_data"
    }
   ],
   "source": [
    "from transformer_lens.utils import test_prompt\n",
    "test_prompt(json_dataset[0]['error']['prompt'], \"9\", model, prepend_space_to_answer=False)"
   ]
  },
  {
   "cell_type": "code",
   "execution_count": 25,
   "metadata": {},
   "outputs": [
    {
     "data": {
      "text/plain": [
       "{'clean_prefix': '>>> weight = {\\'Bob\\': 9, \\'Diego\\': 6, \\'Rob\\': 5, \\'James\\': 2, \\'Jackson\\': 1}\\n>>> weight[\"Diego\"]\\n',\n",
       " 'patch_prefix': '>>> weight = {\\'Bob\\': 9, \\'Diego\\': 6, \\'Rob\\': 5, \\'James\\': 2, \\'Jackson\\': 1}\\n>>> weight[\"Tom\"]\\n',\n",
       " 'clean_answer': '6',\n",
       " 'patch_answer': 'Traceback',\n",
       " 'case': 'key_len5_digit1_no_err'}"
      ]
     },
     "execution_count": 25,
     "metadata": {},
     "output_type": "execute_result"
    }
   ],
   "source": [
    "import json\n",
    "N = 5\n",
    "K = 1\n",
    "file_path = f'data/codereason/key/data_len{N}_digit{K}.json'\n",
    "with open(file_path, 'r') as file:\n",
    "    data = json.load(file)\n",
    "data[0]"
   ]
  },
  {
   "cell_type": "code",
   "execution_count": 29,
   "metadata": {},
   "outputs": [
    {
     "data": {
      "text/plain": [
       "41"
      ]
     },
     "execution_count": 29,
     "metadata": {},
     "output_type": "execute_result"
    }
   ],
   "source": [
    "len(model.tokenizer(data[1]['clean_prefix']).input_ids)"
   ]
  },
  {
   "cell_type": "code",
   "execution_count": 28,
   "metadata": {},
   "outputs": [
    {
     "data": {
      "text/plain": [
       "41"
      ]
     },
     "execution_count": 28,
     "metadata": {},
     "output_type": "execute_result"
    }
   ],
   "source": [
    "len(model.tokenizer(data[1]['patch_prefix']).input_ids)"
   ]
  },
  {
   "cell_type": "code",
   "execution_count": 30,
   "metadata": {},
   "outputs": [
    {
     "name": "stdout",
     "output_type": "stream",
     "text": [
      "20000\n"
     ]
    }
   ],
   "source": [
    "clean_data = []\n",
    "corr_data = []\n",
    "clean_labels = []\n",
    "corr_labels = []\n",
    "for entry in data:\n",
    "    clean_len = len(model.tokenizer(entry['clean_prefix']).input_ids)\n",
    "    corr_len = len(model.tokenizer(entry['patch_prefix']).input_ids)\n",
    "    if clean_len == corr_len == 41:\n",
    "        clean_data.append(entry['clean_prefix'])\n",
    "        corr_data.append(entry['patch_prefix'])\n",
    "        clean_labels.append(entry['clean_answer'])\n",
    "        corr_labels.append(entry['patch_answer'])\n",
    "print(len(clean_data))"
   ]
  },
  {
   "cell_type": "code",
   "execution_count": 31,
   "metadata": {},
   "outputs": [
    {
     "name": "stdout",
     "output_type": "stream",
     "text": [
      "torch.Size([3000, 41]) torch.Size([3000, 41])\n",
      "torch.Size([187, 16, 41]) torch.Size([187, 16, 41]) torch.Size([187, 16]) torch.Size([187, 16])\n"
     ]
    }
   ],
   "source": [
    "N = 3000\n",
    "clean_tokens = model.to_tokens(clean_data[:N])\n",
    "corr_tokens = model.to_tokens(corr_data[:N])\n",
    "clean_label_tokens = model.to_tokens(clean_labels[:N], prepend_bos=False).squeeze(-1)\n",
    "corr_label_tokens = model.to_tokens(corr_labels[:N], prepend_bos=False).squeeze(-1)\n",
    "print(clean_tokens.shape, corr_tokens.shape)\n",
    "\n",
    "def logit_diff_fn(logits, clean_labels, corr_labels, token_wise=False):\n",
    "    clean_logits = logits[torch.arange(logits.shape[0]), -1, clean_labels]\n",
    "    corr_logits = logits[torch.arange(logits.shape[0]), -1, corr_labels]\n",
    "    return (clean_logits - corr_logits).mean() if not token_wise else (clean_logits - corr_logits)\n",
    "\n",
    "batch_size = 16 \n",
    "clean_tokens = clean_tokens[:batch_size*(len(clean_tokens)//batch_size)]\n",
    "corr_tokens = corr_tokens[:batch_size*(len(corr_tokens)//batch_size)]\n",
    "clean_label_tokens = clean_label_tokens[:batch_size*(len(clean_label_tokens)//batch_size)]\n",
    "corr_label_tokens = corr_label_tokens[:batch_size*(len(corr_label_tokens)//batch_size)]\n",
    "\n",
    "clean_tokens = clean_tokens.reshape(-1, batch_size, clean_tokens.shape[-1])\n",
    "corr_tokens = corr_tokens.reshape(-1, batch_size, corr_tokens.shape[-1])\n",
    "clean_label_tokens = clean_label_tokens.reshape(-1, batch_size)\n",
    "corr_label_tokens = corr_label_tokens.reshape(-1, batch_size)\n",
    "\n",
    "print(clean_tokens.shape, corr_tokens.shape, clean_label_tokens.shape, corr_label_tokens.shape)"
   ]
  },
  {
   "cell_type": "code",
   "execution_count": 32,
   "metadata": {},
   "outputs": [],
   "source": [
    "example_length = 41"
   ]
  },
  {
   "cell_type": "code",
   "execution_count": 36,
   "metadata": {},
   "outputs": [
    {
     "name": "stdout",
     "output_type": "stream",
     "text": [
      "tensor(5.0600, device='cuda:0')\n",
      "tensor(4.3833, device='cuda:0')\n",
      "tensor(4.8820, device='cuda:0')\n",
      "tensor(4.8589, device='cuda:0')\n",
      "tensor(4.5987, device='cuda:0')\n",
      "tensor(4.8964, device='cuda:0')\n",
      "tensor(4.6313, device='cuda:0')\n",
      "tensor(4.9902, device='cuda:0')\n",
      "tensor(4.8940, device='cuda:0')\n",
      "tensor(5.2038, device='cuda:0')\n",
      "Average LD:  4.839864253997803\n"
     ]
    }
   ],
   "source": [
    "use_mask = False \n",
    "mean_mask = False\n",
    "avg_logit_diff = 0\n",
    "cleanup_cuda()\n",
    "with torch.no_grad():\n",
    "    for i in range(10):\n",
    "        logits = model.run_with_hooks(\n",
    "            clean_tokens[i], \n",
    "            return_type=\"logits\", \n",
    "            fwd_hooks=build_hooks_list(clean_tokens[i], use_mask=use_mask, mean_mask=mean_mask)\n",
    "            )\n",
    "        ld = logit_diff_fn(logits, clean_label_tokens[i], corr_label_tokens[i])\n",
    "        print(ld)\n",
    "        avg_logit_diff += ld\n",
    "        del logits\n",
    "        cleanup_cuda()\n",
    "avg_logit_diff = (avg_logit_diff / 10).item()\n",
    "print(\"Average LD: \", avg_logit_diff)"
   ]
  },
  {
   "cell_type": "code",
   "execution_count": 37,
   "metadata": {},
   "outputs": [
    {
     "name": "stderr",
     "output_type": "stream",
     "text": [
      "Mean Accum Progress: 100%|██████████| 400/400 [01:50<00:00,  3.63it/s]\n"
     ]
    }
   ],
   "source": [
    "for sae in saes:\n",
    "    sae.mask = SparseMask(sae.cfg.d_sae, 1.0, seq_len=example_length).to(device)\n",
    "    \n",
    "def running_mean_tensor(old_mean, new_value, n):\n",
    "    return old_mean + (new_value - old_mean) / n\n",
    "\n",
    "def get_sae_means(mean_tokens, total_batches, batch_size, per_token_mask=False):\n",
    "    for sae in saes:\n",
    "        sae.mean_ablation = torch.zeros(sae.cfg.d_sae).float().to(device)\n",
    "    \n",
    "    with tqdm(total=total_batches*batch_size, desc=\"Mean Accum Progress\") as pbar:\n",
    "        for i in range(total_batches):\n",
    "            for j in range(batch_size):\n",
    "                with torch.no_grad():\n",
    "                    _ = model.run_with_hooks(\n",
    "                        mean_tokens[i, j], \n",
    "                        return_type=\"logits\", \n",
    "                        fwd_hooks=build_hooks_list(mean_tokens[i, j], cache_sae_activations=True)\n",
    "                        )\n",
    "                    for sae in saes:\n",
    "                        sae.mean_ablation = running_mean_tensor(sae.mean_ablation, sae.feature_acts, i+1)\n",
    "                    cleanup_cuda()\n",
    "                pbar.update(1)\n",
    "\n",
    "            if i >= total_batches:\n",
    "                break\n",
    "\n",
    "get_sae_means(corr_tokens, 25, 16)"
   ]
  },
  {
   "cell_type": "code",
   "execution_count": 38,
   "metadata": {},
   "outputs": [
    {
     "name": "stdout",
     "output_type": "stream",
     "text": [
      "tensor(0., device='cuda:0')\n",
      "tensor(0., device='cuda:0')\n",
      "tensor(0., device='cuda:0')\n",
      "tensor(0., device='cuda:0')\n",
      "tensor(0., device='cuda:0')\n",
      "Average LD:  tensor(0., device='cuda:0')\n"
     ]
    }
   ],
   "source": [
    "avg_mean_diff = 0\n",
    "with torch.no_grad():\n",
    "    for i in range(5):\n",
    "        logits = model.run_with_hooks(\n",
    "            clean_tokens[i], \n",
    "            return_type=\"logits\", \n",
    "            fwd_hooks=build_hooks_list(clean_tokens[i], mean_ablate=True)\n",
    "            )\n",
    "        ld = logit_diff_fn(logits, clean_label_tokens[i], corr_label_tokens[i])\n",
    "        print(ld)\n",
    "        avg_mean_diff += ld\n",
    "        del logits\n",
    "        cleanup_cuda()\n",
    "print(\"Average LD: \", avg_mean_diff)"
   ]
  },
  {
   "cell_type": "markdown",
   "metadata": {},
   "source": [
    "## Mask training"
   ]
  },
  {
   "cell_type": "code",
   "execution_count": 39,
   "metadata": {},
   "outputs": [],
   "source": [
    "import torch.nn.functional as F\n",
    "import wandb\n",
    "import signal\n",
    "class KeyboardInterruptBlocker:\n",
    "    def __enter__(self):\n",
    "        # Block SIGINT and store old mask\n",
    "        self.old_mask = signal.pthread_sigmask(signal.SIG_BLOCK, {signal.SIGINT})\n",
    "\n",
    "    def __exit__(self, exc_type, exc_value, traceback):\n",
    "        # Restore old mask (unblock SIGINT)\n",
    "        signal.pthread_sigmask(signal.SIG_SETMASK, self.old_mask)\n",
    "\n",
    "class Range:\n",
    "    def __init__(self, *args):\n",
    "        # Support for range(start, stop, step) or range(stop)\n",
    "        self.args = args\n",
    "\n",
    "        # Validate input like the built-in range does\n",
    "        if len(self.args) not in {1, 2, 3}:\n",
    "            raise TypeError(f\"Range expected at most 3 arguments, got {len(self.args)}\")\n",
    "        \n",
    "        self.range = __builtins__.range(*self.args)  # Create the range object\n",
    "\n",
    "    def __iter__(self):\n",
    "        for i in self.range:\n",
    "            try:\n",
    "                with KeyboardInterruptBlocker():\n",
    "                    yield i\n",
    "            except KeyboardInterrupt:\n",
    "                print(\"Keyboard interrupt received. Exiting iteration.\")\n",
    "                break\n",
    "\n",
    "    def __len__(self):\n",
    "        return len(self.range)"
   ]
  },
  {
   "cell_type": "code",
   "execution_count": 40,
   "metadata": {},
   "outputs": [],
   "source": [
    "def do_training_run(token_dataset, labels_dataset, corr_labels_dataset, sparsity_multiplier, task, example_length=6, loss_function='ce', per_token_mask=False, use_mask=True, mean_mask=False, portion_of_data = 0.5, distinct_sparsity_multiplier=0 ):\n",
    "\n",
    "    def logitfn(tokens, use_mask, mean_mask):\n",
    "        logits =  model.run_with_hooks(\n",
    "            tokens, \n",
    "            return_type=\"logits\", \n",
    "            fwd_hooks=build_hooks_list(tokens, use_mask=use_mask, mean_mask=mean_mask)\n",
    "            )\n",
    "        return logits\n",
    "\n",
    "    def forward_pass(batch, clean_label_tokens, corr_label_tokens, logitfn, ratio_trained=1, loss_function='ce'):\n",
    "        for sae in saes:\n",
    "            sae.mask.ratio_trained = ratio_trained\n",
    "        tokens = batch\n",
    "        logits = logitfn(tokens, use_mask, mean_mask)\n",
    "        model_logits = logitfn(tokens, False, False)\n",
    "        last_token_logits = logits[:, -1, :]\n",
    "        if loss_function == 'ce':\n",
    "            loss = F.cross_entropy(last_token_logits, clean_label_tokens)\n",
    "        elif loss_function == 'logit_diff':\n",
    "            fwd_logit_diff = logit_diff_fn(logits, clean_label_tokens, corr_label_tokens)\n",
    "            model_logit_diff = logit_diff_fn(model_logits, clean_label_tokens, corr_label_tokens)\n",
    "            loss = torch.abs(model_logit_diff - fwd_logit_diff)\n",
    "        \n",
    "        del model_logits, logits\n",
    "        cleanup_cuda()\n",
    "\n",
    "        sparsity_loss = 0\n",
    "        distinct_sparsity_loss = 0\n",
    "        # if per_token_mask:\n",
    "        #     distinct_sparsity_loss = 0\n",
    "        for sae in saes:\n",
    "            sparsity_loss = sparsity_loss + sae.mask.sparsity_loss\n",
    "            # if per_token_mask:\n",
    "            #     distinct_sparsity_loss = distinct_sparsity_loss + sae.mask.distinct_sparsity_loss\n",
    "        \n",
    "        sparsity_loss = sparsity_loss / len(saes)\n",
    "        distinct_sparsity_loss = distinct_sparsity_loss / len(saes)\n",
    "\n",
    "        return loss, sparsity_loss, distinct_sparsity_loss\n",
    "\n",
    "    print(\"doing a run with sparsity multiplier\", sparsity_multiplier)\n",
    "    all_optimized_params = []\n",
    "    config = {\n",
    "        \"batch_size\": 16,\n",
    "        \"learning_rate\": 1,\n",
    "        \"total_steps\": token_dataset.shape[0]*portion_of_data,\n",
    "        \"sparsity_multiplier\": sparsity_multiplier\n",
    "    }\n",
    "\n",
    "    for sae in saes:\n",
    "        if per_token_mask:\n",
    "            sae.mask = SparseMask(sae.cfg.d_sae, 1.0, seq_len=example_length).to(device)\n",
    "        else:\n",
    "            sae.mask = SparseMask(sae.cfg.d_sae, 1.0).to(device)\n",
    "        all_optimized_params.extend(list(sae.mask.parameters()))\n",
    "        sae.mask.max_temp = torch.tensor(200.0)\n",
    "    \n",
    "    wandb.init(project=\"sae circuits\", config=config)\n",
    "    optimizer = optim.Adam(all_optimized_params, lr=config[\"learning_rate\"])\n",
    "    total_steps = config[\"total_steps\"] #*20 #*config[\"batch_size\"]\n",
    "    # epochs = 20\n",
    "    with tqdm(total=total_steps*1.1, desc=\"Training Progress\") as pbar:\n",
    "        # for epoch in range(epochs):\n",
    "        for i, (x, y, z) in enumerate(zip(token_dataset, labels_dataset, corr_labels_dataset)):\n",
    "            with KeyboardInterruptBlocker():\n",
    "                optimizer.zero_grad()\n",
    "                \n",
    "                # Calculate ratio trained\n",
    "                ratio_trained =  i / total_steps*1.1\n",
    "                \n",
    "                # Update mask ratio for each SAE\n",
    "                for sae in saes:\n",
    "                    sae.mask.ratio_trained = ratio_trained\n",
    "                \n",
    "                # Forward pass with updated ratio_trained\n",
    "                loss, sparsity_loss, _ = forward_pass(x, y, z, logitfn, ratio_trained=ratio_trained, loss_function=loss_function)\n",
    "                # if per_token_mask:\n",
    "                #     sparsity_loss = sparsity_loss / example_length\n",
    "                # print(\"sp loss\", sparsity_loss)\n",
    "                # print(\"sae 0 sp loss\", saes[0].mask.sparsity_loss)\n",
    "                # print(\"sae 1 sp loss\", saes[1].mask.sparsity_loss)\n",
    "                # print(\"sae 2 sp loss\", saes[2].mask.sparsity_loss)\n",
    "                # print(\"sae 3 sp loss\", saes[3].mask.sparsity_loss)\n",
    "                \n",
    "                avg_nonzero_elements = sparsity_loss\n",
    "                # avg_distinct_nonzero_elements = distinct_sparsity_loss\n",
    "                    \n",
    "                sparsity_loss = sparsity_loss * config[\"sparsity_multiplier\"] #+ distinct_sparsity_loss * distinct_sparsity_multiplier\n",
    "                total_loss = sparsity_loss + loss\n",
    "                infodict  = {\"Step\": i, \"Progress\": ratio_trained, \"Avg Nonzero Elements\": avg_nonzero_elements.item(), \"Task Loss\": loss.item(), \"Sparsity Loss\": sparsity_loss.item(), \"temperature\": saes[0].mask.temperature} # \"avg distinct lat/sae\":avg_distinct_nonzero_elements.item()\n",
    "                wandb.log(infodict)\n",
    "                # break\n",
    "                # Backward pass and optimizer step\n",
    "                total_loss.backward()\n",
    "                optimizer.step()\n",
    "                \n",
    "                # Update tqdm bar with relevant metrics\n",
    "                pbar.set_postfix(infodict)\n",
    "                \n",
    "                # Update the tqdm progress bar\n",
    "                pbar.update(1)\n",
    "                # break\n",
    "                if i >= total_steps*1.1:\n",
    "                    break\n",
    "    wandb.finish()\n",
    "\n",
    "    optimizer.zero_grad()\n",
    "\n",
    "    for sae in saes:\n",
    "        for param in sae.parameters():\n",
    "            param.grad = None\n",
    "        for param in sae.mask.parameters():\n",
    "            param.grad = None\n",
    "    \n",
    "    for param in model.parameters():\n",
    "        param.grad = None\n",
    "\n",
    "    torch.cuda.empty_cache()\n",
    "\n",
    "    ### EVAL ###\n",
    "    def masked_logit_fn(tokens):\n",
    "        logits =  model.run_with_hooks(\n",
    "            tokens, \n",
    "            return_type=\"logits\", \n",
    "            fwd_hooks=build_hooks_list(tokens, use_mask=use_mask, mean_mask=mean_mask, binarize_mask=True)\n",
    "            )\n",
    "        return logits\n",
    "\n",
    "    def eval_ce_loss(batch, labels, logitfn, ratio_trained=10):\n",
    "        for sae in saes:\n",
    "            sae.mask.ratio_trained = ratio_trained\n",
    "        tokens = batch\n",
    "        logits = logitfn(tokens)\n",
    "        last_token_logits = logits[:, -1, :]\n",
    "        loss = F.cross_entropy(last_token_logits, labels)\n",
    "        return loss\n",
    "    \n",
    "    def eval_logit_diff(num_batches, batch, clean_labels, corr_labels, logitfn, ratio_trained=10):\n",
    "        for sae in saes:\n",
    "            sae.mask.ratio_trained = ratio_trained\n",
    "        avg_ld = 0\n",
    "        for i in range(num_batches):\n",
    "            tokens = batch[-i]\n",
    "            logits = logitfn(tokens)\n",
    "            ld = logit_diff_fn(logits, clean_labels[-i], corr_labels[-i])\n",
    "            avg_ld += ld\n",
    "            del logits\n",
    "            cleanup_cuda()\n",
    "        return (avg_ld / num_batches).item()\n",
    "\n",
    "    with torch.no_grad():\n",
    "        loss = eval_ce_loss(token_dataset[-1], labels_dataset[-1], masked_logit_fn)\n",
    "        print(\"CE loss:\", loss)\n",
    "        cleanup_cuda()\n",
    "        logit_diff = eval_logit_diff(10, token_dataset, labels_dataset, corr_labels_dataset, masked_logit_fn)\n",
    "        print(\"Logit Diff:\", logit_diff)\n",
    "        cleanup_cuda()\n",
    "    \n",
    "    mask_dict = {}\n",
    "\n",
    "    total_density = 0\n",
    "    for sae in saes:\n",
    "        mask_dict[sae.cfg.hook_name] = torch.where(sae.mask.mask > 0)[1].tolist()   # rob thinks .view(-1) needed here\n",
    "        total_density += (sae.mask.mask > 0).sum().item()\n",
    "    mask_dict[\"total_density\"] = total_density\n",
    "    mask_dict['avg_density'] = total_density / len(saes)\n",
    "\n",
    "    if per_token_mask:\n",
    "        print(\"total # latents in circuit: \", total_density)\n",
    "    print(\"avg density\", mask_dict['avg_density'])\n",
    "\n",
    "    save_path = f\"masks/{task}/{loss_function}_{str(sparsity_multiplier)}_run/\"\n",
    "    os.makedirs(save_path, exist_ok=True)\n",
    "    mask_dict['ce_loss'] = loss.item()\n",
    "    mask_dict['logit_diff'] = logit_diff\n",
    "    faithfulness = logit_diff / avg_logit_diff\n",
    "    mask_dict['faithfulness'] = faithfulness\n",
    "    \n",
    "    for idx, sae in enumerate(saes):\n",
    "        mask_path = f\"sae_mask_{idx}.pt\"\n",
    "        torch.save(sae.mask.state_dict(), os.path.join(save_path,mask_path))\n",
    "        print(f\"Saved mask for SAE {idx} to {mask_path}\")\n",
    "\n",
    "    json.dump(mask_dict, open(os.path.join(save_path,f\"{str(sparsity_multiplier)}_run.json\"), \"w\"))"
   ]
  },
  {
   "cell_type": "code",
   "execution_count": 42,
   "metadata": {},
   "outputs": [
    {
     "name": "stdout",
     "output_type": "stream",
     "text": [
      "doing a run with sparsity multiplier 0.5\n"
     ]
    },
    {
     "data": {
      "text/html": [
       "wandb version 0.19.1 is available!  To upgrade, please run:\n",
       " $ pip install wandb --upgrade"
      ],
      "text/plain": [
       "<IPython.core.display.HTML object>"
      ]
     },
     "metadata": {},
     "output_type": "display_data"
    },
    {
     "data": {
      "text/html": [
       "Tracking run with wandb version 0.16.6"
      ],
      "text/plain": [
       "<IPython.core.display.HTML object>"
      ]
     },
     "metadata": {},
     "output_type": "display_data"
    },
    {
     "data": {
      "text/html": [
       "Run data is saved locally in <code>/work/pi_jensen_umass_edu/jnainani_umass_edu/ScalableSAECircuits/wandb/run-20250102_034438-iq26axbs</code>"
      ],
      "text/plain": [
       "<IPython.core.display.HTML object>"
      ]
     },
     "metadata": {},
     "output_type": "display_data"
    },
    {
     "data": {
      "text/html": [
       "Syncing run <strong><a href='https://wandb.ai/jnainani-university-of-massachusetts-amherst/sae%20circuits/runs/iq26axbs' target=\"_blank\">eternal-dew-105</a></strong> to <a href='https://wandb.ai/jnainani-university-of-massachusetts-amherst/sae%20circuits' target=\"_blank\">Weights & Biases</a> (<a href='https://wandb.me/run' target=\"_blank\">docs</a>)<br/>"
      ],
      "text/plain": [
       "<IPython.core.display.HTML object>"
      ]
     },
     "metadata": {},
     "output_type": "display_data"
    },
    {
     "data": {
      "text/html": [
       " View project at <a href='https://wandb.ai/jnainani-university-of-massachusetts-amherst/sae%20circuits' target=\"_blank\">https://wandb.ai/jnainani-university-of-massachusetts-amherst/sae%20circuits</a>"
      ],
      "text/plain": [
       "<IPython.core.display.HTML object>"
      ]
     },
     "metadata": {},
     "output_type": "display_data"
    },
    {
     "data": {
      "text/html": [
       " View run at <a href='https://wandb.ai/jnainani-university-of-massachusetts-amherst/sae%20circuits/runs/iq26axbs' target=\"_blank\">https://wandb.ai/jnainani-university-of-massachusetts-amherst/sae%20circuits/runs/iq26axbs</a>"
      ],
      "text/plain": [
       "<IPython.core.display.HTML object>"
      ]
     },
     "metadata": {},
     "output_type": "display_data"
    },
    {
     "name": "stderr",
     "output_type": "stream",
     "text": [
      "Training Progress: 84it [04:40,  3.34s/it, Step=83, Progress=1.22, Avg Nonzero Elements=0.5, Task Loss=5.01, Sparsity Loss=0.25, temperature=tensor(643.5912)]                                \n"
     ]
    },
    {
     "data": {
      "application/vnd.jupyter.widget-view+json": {
       "model_id": "4ed2c5a7c958432eb20f1d1d5431ab1e",
       "version_major": 2,
       "version_minor": 0
      },
      "text/plain": [
       "VBox(children=(Label(value='0.012 MB of 0.012 MB uploaded\\r'), FloatProgress(value=1.0, max=1.0)))"
      ]
     },
     "metadata": {},
     "output_type": "display_data"
    },
    {
     "data": {
      "text/html": [
       "<style>\n",
       "    table.wandb td:nth-child(1) { padding: 0 10px; text-align: left ; width: auto;} td:nth-child(2) {text-align: left ; width: 100%}\n",
       "    .wandb-row { display: flex; flex-direction: row; flex-wrap: wrap; justify-content: flex-start; width: 100% }\n",
       "    .wandb-col { display: flex; flex-direction: column; flex-basis: 100%; flex: 1; padding: 10px; }\n",
       "    </style>\n",
       "<div class=\"wandb-row\"><div class=\"wandb-col\"><h3>Run history:</h3><br/><table class=\"wandb\"><tr><td>Avg Nonzero Elements</td><td>█▃▁▁▁▁▁▁▁▁▁▁▁▁▁▁▁▁▁▁▁▁▁▁▁▁▁▁▁▁▁▁▁▁▁▁▁▁▁▁</td></tr><tr><td>Progress</td><td>▁▁▁▂▂▂▂▂▂▃▃▃▃▃▃▄▄▄▄▄▅▅▅▅▅▅▆▆▆▆▆▆▇▇▇▇▇███</td></tr><tr><td>Sparsity Loss</td><td>█▃▁▁▁▁▁▁▁▁▁▁▁▁▁▁▁▁▁▁▁▁▁▁▁▁▁▁▁▁▁▁▁▁▁▁▁▁▁▁</td></tr><tr><td>Step</td><td>▁▁▁▂▂▂▂▂▂▃▃▃▃▃▃▄▄▄▄▄▅▅▅▅▅▅▆▆▆▆▆▆▇▇▇▇▇███</td></tr><tr><td>Task Loss</td><td>▁▇▇▇▇▇▇▆▇█▇▆▇▇▆▆▆▆▇▇▇▆▇▇█▇▇██▇█▇▇██▇▇▇█▇</td></tr><tr><td>temperature</td><td>▁▁▁▁▁▁▁▁▁▁▁▁▁▁▁▁▁▁▁▁▁▁▁▁▂▂▂▂▂▂▂▃▃▄▄▄▅▆▇█</td></tr></table><br/></div><div class=\"wandb-col\"><h3>Run summary:</h3><br/><table class=\"wandb\"><tr><td>Avg Nonzero Elements</td><td>0.5</td></tr><tr><td>Progress</td><td>1.22059</td></tr><tr><td>Sparsity Loss</td><td>0.25</td></tr><tr><td>Step</td><td>83</td></tr><tr><td>Task Loss</td><td>5.0064</td></tr><tr><td>temperature</td><td>643.59125</td></tr></table><br/></div></div>"
      ],
      "text/plain": [
       "<IPython.core.display.HTML object>"
      ]
     },
     "metadata": {},
     "output_type": "display_data"
    },
    {
     "data": {
      "text/html": [
       " View run <strong style=\"color:#cdcd00\">eternal-dew-105</strong> at: <a href='https://wandb.ai/jnainani-university-of-massachusetts-amherst/sae%20circuits/runs/iq26axbs' target=\"_blank\">https://wandb.ai/jnainani-university-of-massachusetts-amherst/sae%20circuits/runs/iq26axbs</a><br/> View project at: <a href='https://wandb.ai/jnainani-university-of-massachusetts-amherst/sae%20circuits' target=\"_blank\">https://wandb.ai/jnainani-university-of-massachusetts-amherst/sae%20circuits</a><br/>Synced 5 W&B file(s), 0 media file(s), 0 artifact file(s) and 0 other file(s)"
      ],
      "text/plain": [
       "<IPython.core.display.HTML object>"
      ]
     },
     "metadata": {},
     "output_type": "display_data"
    },
    {
     "data": {
      "text/html": [
       "Find logs at: <code>./wandb/run-20250102_034438-iq26axbs/logs</code>"
      ],
      "text/plain": [
       "<IPython.core.display.HTML object>"
      ]
     },
     "metadata": {},
     "output_type": "display_data"
    },
    {
     "name": "stdout",
     "output_type": "stream",
     "text": [
      "CE loss: tensor(4.0406, device='cuda:0')\n",
      "Logit Diff: 0.0\n",
      "total # latents in circuit:  2\n",
      "avg density 0.5\n",
      "Saved mask for SAE 0 to sae_mask_0.pt\n",
      "Saved mask for SAE 1 to sae_mask_1.pt\n",
      "Saved mask for SAE 2 to sae_mask_2.pt\n",
      "Saved mask for SAE 3 to sae_mask_3.pt\n"
     ]
    }
   ],
   "source": [
    "do_training_run(token_dataset=clean_tokens, labels_dataset= clean_label_tokens, corr_labels_dataset=corr_label_tokens, sparsity_multiplier=0.5, task=f'codereason/key/len5_digit1', example_length=example_length, loss_function=\"logit_diff\", per_token_mask=True, use_mask=True, mean_mask=True, portion_of_data=0.4)"
   ]
  },
  {
   "cell_type": "code",
   "execution_count": 43,
   "metadata": {},
   "outputs": [
    {
     "data": {
      "text/plain": [
       "[0.01,\n",
       " 0.020495238095238094,\n",
       " 0.04474285714285713,\n",
       " 0.08274285714285712,\n",
       " 0.13449523809523808]"
      ]
     },
     "execution_count": 43,
     "metadata": {},
     "output_type": "execute_result"
    }
   ],
   "source": [
    "thresholds = []\n",
    "modify_fn=lambda x: x**2\n",
    "start_threshold = 0.01\n",
    "end_threshold = 0.2\n",
    "n_runs = 5\n",
    "delta = (end_threshold - start_threshold) / n_runs\n",
    "def linear_map(x):\n",
    "        mod_start = modify_fn(start_threshold)\n",
    "        mod_end = modify_fn(end_threshold)\n",
    "        return (x - mod_start) / (mod_end - mod_start) * (end_threshold - start_threshold) + start_threshold\n",
    "    \n",
    "mf = lambda x: linear_map(modify_fn(x))\n",
    "for i in range(n_runs):\n",
    "    thresholds.append(\n",
    "        mf(start_threshold + i*delta)\n",
    "        )\n",
    "thresholds"
   ]
  },
  {
   "cell_type": "code",
   "execution_count": 44,
   "metadata": {},
   "outputs": [
    {
     "name": "stdout",
     "output_type": "stream",
     "text": [
      "doing a run with sparsity multiplier 0.020495238095238094\n"
     ]
    },
    {
     "data": {
      "text/html": [
       "wandb version 0.19.1 is available!  To upgrade, please run:\n",
       " $ pip install wandb --upgrade"
      ],
      "text/plain": [
       "<IPython.core.display.HTML object>"
      ]
     },
     "metadata": {},
     "output_type": "display_data"
    },
    {
     "data": {
      "text/html": [
       "Tracking run with wandb version 0.16.6"
      ],
      "text/plain": [
       "<IPython.core.display.HTML object>"
      ]
     },
     "metadata": {},
     "output_type": "display_data"
    },
    {
     "data": {
      "text/html": [
       "Run data is saved locally in <code>/work/pi_jensen_umass_edu/jnainani_umass_edu/ScalableSAECircuits/wandb/run-20250102_035049-vo7x3apj</code>"
      ],
      "text/plain": [
       "<IPython.core.display.HTML object>"
      ]
     },
     "metadata": {},
     "output_type": "display_data"
    },
    {
     "data": {
      "text/html": [
       "Syncing run <strong><a href='https://wandb.ai/jnainani-university-of-massachusetts-amherst/sae%20circuits/runs/vo7x3apj' target=\"_blank\">winter-sun-106</a></strong> to <a href='https://wandb.ai/jnainani-university-of-massachusetts-amherst/sae%20circuits' target=\"_blank\">Weights & Biases</a> (<a href='https://wandb.me/run' target=\"_blank\">docs</a>)<br/>"
      ],
      "text/plain": [
       "<IPython.core.display.HTML object>"
      ]
     },
     "metadata": {},
     "output_type": "display_data"
    },
    {
     "data": {
      "text/html": [
       " View project at <a href='https://wandb.ai/jnainani-university-of-massachusetts-amherst/sae%20circuits' target=\"_blank\">https://wandb.ai/jnainani-university-of-massachusetts-amherst/sae%20circuits</a>"
      ],
      "text/plain": [
       "<IPython.core.display.HTML object>"
      ]
     },
     "metadata": {},
     "output_type": "display_data"
    },
    {
     "data": {
      "text/html": [
       " View run at <a href='https://wandb.ai/jnainani-university-of-massachusetts-amherst/sae%20circuits/runs/vo7x3apj' target=\"_blank\">https://wandb.ai/jnainani-university-of-massachusetts-amherst/sae%20circuits/runs/vo7x3apj</a>"
      ],
      "text/plain": [
       "<IPython.core.display.HTML object>"
      ]
     },
     "metadata": {},
     "output_type": "display_data"
    },
    {
     "name": "stderr",
     "output_type": "stream",
     "text": [
      "Training Progress:  99%|█████████▉| 61/61.71000000000001 [03:27<00:02,  3.34s/it, Step=61, Progress=1.2, Avg Nonzero Elements=73.8, Task Loss=0.0432, Sparsity Loss=1.51, temperature=tensor(565.2133)]   /home/jnainani_umass_edu/.conda/envs/finetuning/lib/python3.10/site-packages/tqdm/std.py:636: TqdmWarning: clamping frac to range [0, 1]\n",
      "  full_bar = Bar(frac,\n",
      "Training Progress: 63it [03:30,  3.35s/it, Step=62, Progress=1.22, Avg Nonzero Elements=73.8, Task Loss=0.0147, Sparsity Loss=1.51, temperature=tensor(627.0910)]                                       \n"
     ]
    },
    {
     "data": {
      "application/vnd.jupyter.widget-view+json": {
       "model_id": "23495c7388ed4274ad448b0b0d1e9171",
       "version_major": 2,
       "version_minor": 0
      },
      "text/plain": [
       "VBox(children=(Label(value='0.012 MB of 0.012 MB uploaded\\r'), FloatProgress(value=1.0, max=1.0)))"
      ]
     },
     "metadata": {},
     "output_type": "display_data"
    },
    {
     "data": {
      "text/html": [
       "<style>\n",
       "    table.wandb td:nth-child(1) { padding: 0 10px; text-align: left ; width: auto;} td:nth-child(2) {text-align: left ; width: 100%}\n",
       "    .wandb-row { display: flex; flex-direction: row; flex-wrap: wrap; justify-content: flex-start; width: 100% }\n",
       "    .wandb-col { display: flex; flex-direction: column; flex-basis: 100%; flex: 1; padding: 10px; }\n",
       "    </style>\n",
       "<div class=\"wandb-row\"><div class=\"wandb-col\"><h3>Run history:</h3><br/><table class=\"wandb\"><tr><td>Avg Nonzero Elements</td><td>█▆▂▁▁▁▁▁▁▁▁▁▁▁▁▁▁▁▁▁▁▁▁▁▁▁▁▁▁▁▁▁▁▁▁▁▁▁▁▁</td></tr><tr><td>Progress</td><td>▁▁▁▁▂▂▂▂▂▃▃▃▃▃▄▄▄▄▄▄▅▅▅▅▅▅▆▆▆▆▆▇▇▇▇▇████</td></tr><tr><td>Sparsity Loss</td><td>█▆▂▁▁▁▁▁▁▁▁▁▁▁▁▁▁▁▁▁▁▁▁▁▁▁▁▁▁▁▁▁▁▁▁▁▁▁▁▁</td></tr><tr><td>Step</td><td>▁▁▁▁▂▂▂▂▂▃▃▃▃▃▄▄▄▄▄▄▅▅▅▅▅▅▆▆▆▆▆▇▇▇▇▇████</td></tr><tr><td>Task Loss</td><td>█▆▄▂▁▂▂▃▂▁▁▁▁▁▁▂▄▁▁▂▂▁▁▂▁▁▂▂▁▂▂▂▁▁▃▂▄▂▁▁</td></tr><tr><td>temperature</td><td>▁▁▁▁▁▁▁▁▁▁▁▁▁▁▁▁▁▁▁▁▁▁▁▂▂▂▂▂▂▂▃▃▃▄▄▅▆▆▇█</td></tr></table><br/></div><div class=\"wandb-col\"><h3>Run summary:</h3><br/><table class=\"wandb\"><tr><td>Avg Nonzero Elements</td><td>73.75</td></tr><tr><td>Progress</td><td>1.21569</td></tr><tr><td>Sparsity Loss</td><td>1.51152</td></tr><tr><td>Step</td><td>62</td></tr><tr><td>Task Loss</td><td>0.01469</td></tr><tr><td>temperature</td><td>627.091</td></tr></table><br/></div></div>"
      ],
      "text/plain": [
       "<IPython.core.display.HTML object>"
      ]
     },
     "metadata": {},
     "output_type": "display_data"
    },
    {
     "data": {
      "text/html": [
       " View run <strong style=\"color:#cdcd00\">winter-sun-106</strong> at: <a href='https://wandb.ai/jnainani-university-of-massachusetts-amherst/sae%20circuits/runs/vo7x3apj' target=\"_blank\">https://wandb.ai/jnainani-university-of-massachusetts-amherst/sae%20circuits/runs/vo7x3apj</a><br/> View project at: <a href='https://wandb.ai/jnainani-university-of-massachusetts-amherst/sae%20circuits' target=\"_blank\">https://wandb.ai/jnainani-university-of-massachusetts-amherst/sae%20circuits</a><br/>Synced 5 W&B file(s), 0 media file(s), 0 artifact file(s) and 0 other file(s)"
      ],
      "text/plain": [
       "<IPython.core.display.HTML object>"
      ]
     },
     "metadata": {},
     "output_type": "display_data"
    },
    {
     "data": {
      "text/html": [
       "Find logs at: <code>./wandb/run-20250102_035049-vo7x3apj/logs</code>"
      ],
      "text/plain": [
       "<IPython.core.display.HTML object>"
      ]
     },
     "metadata": {},
     "output_type": "display_data"
    },
    {
     "name": "stdout",
     "output_type": "stream",
     "text": [
      "CE loss: tensor(2.1658, device='cuda:0')\n",
      "Logit Diff: 5.004411220550537\n",
      "total # latents in circuit:  295\n",
      "avg density 73.75\n",
      "Saved mask for SAE 0 to sae_mask_0.pt\n",
      "Saved mask for SAE 1 to sae_mask_1.pt\n",
      "Saved mask for SAE 2 to sae_mask_2.pt\n",
      "Saved mask for SAE 3 to sae_mask_3.pt\n",
      "doing a run with sparsity multiplier 0.04474285714285713\n"
     ]
    },
    {
     "data": {
      "text/html": [
       "wandb version 0.19.1 is available!  To upgrade, please run:\n",
       " $ pip install wandb --upgrade"
      ],
      "text/plain": [
       "<IPython.core.display.HTML object>"
      ]
     },
     "metadata": {},
     "output_type": "display_data"
    },
    {
     "data": {
      "text/html": [
       "Tracking run with wandb version 0.16.6"
      ],
      "text/plain": [
       "<IPython.core.display.HTML object>"
      ]
     },
     "metadata": {},
     "output_type": "display_data"
    },
    {
     "data": {
      "text/html": [
       "Run data is saved locally in <code>/work/pi_jensen_umass_edu/jnainani_umass_edu/ScalableSAECircuits/wandb/run-20250102_035436-m0526kh8</code>"
      ],
      "text/plain": [
       "<IPython.core.display.HTML object>"
      ]
     },
     "metadata": {},
     "output_type": "display_data"
    },
    {
     "data": {
      "text/html": [
       "Syncing run <strong><a href='https://wandb.ai/jnainani-university-of-massachusetts-amherst/sae%20circuits/runs/m0526kh8' target=\"_blank\">drawn-dew-107</a></strong> to <a href='https://wandb.ai/jnainani-university-of-massachusetts-amherst/sae%20circuits' target=\"_blank\">Weights & Biases</a> (<a href='https://wandb.me/run' target=\"_blank\">docs</a>)<br/>"
      ],
      "text/plain": [
       "<IPython.core.display.HTML object>"
      ]
     },
     "metadata": {},
     "output_type": "display_data"
    },
    {
     "data": {
      "text/html": [
       " View project at <a href='https://wandb.ai/jnainani-university-of-massachusetts-amherst/sae%20circuits' target=\"_blank\">https://wandb.ai/jnainani-university-of-massachusetts-amherst/sae%20circuits</a>"
      ],
      "text/plain": [
       "<IPython.core.display.HTML object>"
      ]
     },
     "metadata": {},
     "output_type": "display_data"
    },
    {
     "data": {
      "text/html": [
       " View run at <a href='https://wandb.ai/jnainani-university-of-massachusetts-amherst/sae%20circuits/runs/m0526kh8' target=\"_blank\">https://wandb.ai/jnainani-university-of-massachusetts-amherst/sae%20circuits/runs/m0526kh8</a>"
      ],
      "text/plain": [
       "<IPython.core.display.HTML object>"
      ]
     },
     "metadata": {},
     "output_type": "display_data"
    },
    {
     "name": "stderr",
     "output_type": "stream",
     "text": [
      "Training Progress:  99%|█████████▉| 61/61.71000000000001 [03:27<00:02,  3.34s/it, Step=61, Progress=1.2, Avg Nonzero Elements=45.8, Task Loss=0.882, Sparsity Loss=2.05, temperature=tensor(565.2133)]    /home/jnainani_umass_edu/.conda/envs/finetuning/lib/python3.10/site-packages/tqdm/std.py:636: TqdmWarning: clamping frac to range [0, 1]\n",
      "  full_bar = Bar(frac,\n",
      "Training Progress: 63it [03:30,  3.34s/it, Step=62, Progress=1.22, Avg Nonzero Elements=45.8, Task Loss=1.09, Sparsity Loss=2.05, temperature=tensor(627.0910)]                                       \n"
     ]
    },
    {
     "data": {
      "application/vnd.jupyter.widget-view+json": {
       "model_id": "569af90e38204c9a9b45c8c75f9e8dab",
       "version_major": 2,
       "version_minor": 0
      },
      "text/plain": [
       "VBox(children=(Label(value='0.012 MB of 0.012 MB uploaded\\r'), FloatProgress(value=1.0, max=1.0)))"
      ]
     },
     "metadata": {},
     "output_type": "display_data"
    },
    {
     "data": {
      "text/html": [
       "<style>\n",
       "    table.wandb td:nth-child(1) { padding: 0 10px; text-align: left ; width: auto;} td:nth-child(2) {text-align: left ; width: 100%}\n",
       "    .wandb-row { display: flex; flex-direction: row; flex-wrap: wrap; justify-content: flex-start; width: 100% }\n",
       "    .wandb-col { display: flex; flex-direction: column; flex-basis: 100%; flex: 1; padding: 10px; }\n",
       "    </style>\n",
       "<div class=\"wandb-row\"><div class=\"wandb-col\"><h3>Run history:</h3><br/><table class=\"wandb\"><tr><td>Avg Nonzero Elements</td><td>█▆▂▁▁▁▁▁▁▁▁▁▁▁▁▁▁▁▁▁▁▁▁▁▁▁▁▁▁▁▁▁▁▁▁▁▁▁▁▁</td></tr><tr><td>Progress</td><td>▁▁▁▁▂▂▂▂▂▃▃▃▃▃▄▄▄▄▄▄▅▅▅▅▅▅▆▆▆▆▆▇▇▇▇▇████</td></tr><tr><td>Sparsity Loss</td><td>█▆▂▁▁▁▁▁▁▁▁▁▁▁▁▁▁▁▁▁▁▁▁▁▁▁▁▁▁▁▁▁▁▁▁▁▁▁▁▁</td></tr><tr><td>Step</td><td>▁▁▁▁▂▂▂▂▂▃▃▃▃▃▄▄▄▄▄▄▅▅▅▅▅▅▆▆▆▆▆▇▇▇▇▇████</td></tr><tr><td>Task Loss</td><td>▇█▇▇▄▄▄▁▄▃▄▃▃▄▃▄▄▃▂▂▂▃▂▂▄▃▄▂▃▂▄▄▅▄▂▁▄▂▃▃</td></tr><tr><td>temperature</td><td>▁▁▁▁▁▁▁▁▁▁▁▁▁▁▁▁▁▁▁▁▁▁▁▂▂▂▂▂▂▂▃▃▃▄▄▅▆▆▇█</td></tr></table><br/></div><div class=\"wandb-col\"><h3>Run summary:</h3><br/><table class=\"wandb\"><tr><td>Avg Nonzero Elements</td><td>45.75</td></tr><tr><td>Progress</td><td>1.21569</td></tr><tr><td>Sparsity Loss</td><td>2.04699</td></tr><tr><td>Step</td><td>62</td></tr><tr><td>Task Loss</td><td>1.0862</td></tr><tr><td>temperature</td><td>627.091</td></tr></table><br/></div></div>"
      ],
      "text/plain": [
       "<IPython.core.display.HTML object>"
      ]
     },
     "metadata": {},
     "output_type": "display_data"
    },
    {
     "data": {
      "text/html": [
       " View run <strong style=\"color:#cdcd00\">drawn-dew-107</strong> at: <a href='https://wandb.ai/jnainani-university-of-massachusetts-amherst/sae%20circuits/runs/m0526kh8' target=\"_blank\">https://wandb.ai/jnainani-university-of-massachusetts-amherst/sae%20circuits/runs/m0526kh8</a><br/> View project at: <a href='https://wandb.ai/jnainani-university-of-massachusetts-amherst/sae%20circuits' target=\"_blank\">https://wandb.ai/jnainani-university-of-massachusetts-amherst/sae%20circuits</a><br/>Synced 5 W&B file(s), 0 media file(s), 0 artifact file(s) and 0 other file(s)"
      ],
      "text/plain": [
       "<IPython.core.display.HTML object>"
      ]
     },
     "metadata": {},
     "output_type": "display_data"
    },
    {
     "data": {
      "text/html": [
       "Find logs at: <code>./wandb/run-20250102_035436-m0526kh8/logs</code>"
      ],
      "text/plain": [
       "<IPython.core.display.HTML object>"
      ]
     },
     "metadata": {},
     "output_type": "display_data"
    },
    {
     "name": "stdout",
     "output_type": "stream",
     "text": [
      "CE loss: tensor(2.3046, device='cuda:0')\n",
      "Logit Diff: 4.265265464782715\n",
      "total # latents in circuit:  183\n",
      "avg density 45.75\n",
      "Saved mask for SAE 0 to sae_mask_0.pt\n",
      "Saved mask for SAE 1 to sae_mask_1.pt\n",
      "Saved mask for SAE 2 to sae_mask_2.pt\n",
      "Saved mask for SAE 3 to sae_mask_3.pt\n",
      "doing a run with sparsity multiplier 0.08274285714285712\n"
     ]
    },
    {
     "data": {
      "text/html": [
       "wandb version 0.19.1 is available!  To upgrade, please run:\n",
       " $ pip install wandb --upgrade"
      ],
      "text/plain": [
       "<IPython.core.display.HTML object>"
      ]
     },
     "metadata": {},
     "output_type": "display_data"
    },
    {
     "data": {
      "text/html": [
       "Tracking run with wandb version 0.16.6"
      ],
      "text/plain": [
       "<IPython.core.display.HTML object>"
      ]
     },
     "metadata": {},
     "output_type": "display_data"
    },
    {
     "data": {
      "text/html": [
       "Run data is saved locally in <code>/work/pi_jensen_umass_edu/jnainani_umass_edu/ScalableSAECircuits/wandb/run-20250102_035824-dw3trxep</code>"
      ],
      "text/plain": [
       "<IPython.core.display.HTML object>"
      ]
     },
     "metadata": {},
     "output_type": "display_data"
    },
    {
     "data": {
      "text/html": [
       "Syncing run <strong><a href='https://wandb.ai/jnainani-university-of-massachusetts-amherst/sae%20circuits/runs/dw3trxep' target=\"_blank\">happy-durian-108</a></strong> to <a href='https://wandb.ai/jnainani-university-of-massachusetts-amherst/sae%20circuits' target=\"_blank\">Weights & Biases</a> (<a href='https://wandb.me/run' target=\"_blank\">docs</a>)<br/>"
      ],
      "text/plain": [
       "<IPython.core.display.HTML object>"
      ]
     },
     "metadata": {},
     "output_type": "display_data"
    },
    {
     "data": {
      "text/html": [
       " View project at <a href='https://wandb.ai/jnainani-university-of-massachusetts-amherst/sae%20circuits' target=\"_blank\">https://wandb.ai/jnainani-university-of-massachusetts-amherst/sae%20circuits</a>"
      ],
      "text/plain": [
       "<IPython.core.display.HTML object>"
      ]
     },
     "metadata": {},
     "output_type": "display_data"
    },
    {
     "data": {
      "text/html": [
       " View run at <a href='https://wandb.ai/jnainani-university-of-massachusetts-amherst/sae%20circuits/runs/dw3trxep' target=\"_blank\">https://wandb.ai/jnainani-university-of-massachusetts-amherst/sae%20circuits/runs/dw3trxep</a>"
      ],
      "text/plain": [
       "<IPython.core.display.HTML object>"
      ]
     },
     "metadata": {},
     "output_type": "display_data"
    },
    {
     "name": "stderr",
     "output_type": "stream",
     "text": [
      "Training Progress:  99%|█████████▉| 61/61.71000000000001 [03:28<00:02,  3.34s/it, Step=61, Progress=1.2, Avg Nonzero Elements=19.8, Task Loss=2.8, Sparsity Loss=1.63, temperature=tensor(565.2133)]      /home/jnainani_umass_edu/.conda/envs/finetuning/lib/python3.10/site-packages/tqdm/std.py:636: TqdmWarning: clamping frac to range [0, 1]\n",
      "  full_bar = Bar(frac,\n",
      "Training Progress: 63it [03:31,  3.36s/it, Step=62, Progress=1.22, Avg Nonzero Elements=19.8, Task Loss=2.69, Sparsity Loss=1.63, temperature=tensor(627.0910)]                                       \n"
     ]
    },
    {
     "data": {
      "application/vnd.jupyter.widget-view+json": {
       "model_id": "3213a85cf051469882af680087ce7c2c",
       "version_major": 2,
       "version_minor": 0
      },
      "text/plain": [
       "VBox(children=(Label(value='0.012 MB of 0.013 MB uploaded\\r'), FloatProgress(value=0.9043571428571429, max=1.0…"
      ]
     },
     "metadata": {},
     "output_type": "display_data"
    },
    {
     "data": {
      "text/html": [
       "<style>\n",
       "    table.wandb td:nth-child(1) { padding: 0 10px; text-align: left ; width: auto;} td:nth-child(2) {text-align: left ; width: 100%}\n",
       "    .wandb-row { display: flex; flex-direction: row; flex-wrap: wrap; justify-content: flex-start; width: 100% }\n",
       "    .wandb-col { display: flex; flex-direction: column; flex-basis: 100%; flex: 1; padding: 10px; }\n",
       "    </style>\n",
       "<div class=\"wandb-row\"><div class=\"wandb-col\"><h3>Run history:</h3><br/><table class=\"wandb\"><tr><td>Avg Nonzero Elements</td><td>█▆▂▁▁▁▁▁▁▁▁▁▁▁▁▁▁▁▁▁▁▁▁▁▁▁▁▁▁▁▁▁▁▁▁▁▁▁▁▁</td></tr><tr><td>Progress</td><td>▁▁▁▁▂▂▂▂▂▃▃▃▃▃▄▄▄▄▄▄▅▅▅▅▅▅▆▆▆▆▆▇▇▇▇▇████</td></tr><tr><td>Sparsity Loss</td><td>█▆▂▁▁▁▁▁▁▁▁▁▁▁▁▁▁▁▁▁▁▁▁▁▁▁▁▁▁▁▁▁▁▁▁▁▁▁▁▁</td></tr><tr><td>Step</td><td>▁▁▁▁▂▂▂▂▂▃▃▃▃▃▄▄▄▄▄▄▅▅▅▅▅▅▆▆▆▆▆▇▇▇▇▇████</td></tr><tr><td>Task Loss</td><td>▁▅█▆▆▆▆▃▄▃▃▄▄▅▄▄▅▄▃▃▃▄▃▃▃▄▄▄▃▅▅▄▅▄▂▃▅▃▄▄</td></tr><tr><td>temperature</td><td>▁▁▁▁▁▁▁▁▁▁▁▁▁▁▁▁▁▁▁▁▁▁▁▂▂▂▂▂▂▂▃▃▃▄▄▅▆▆▇█</td></tr></table><br/></div><div class=\"wandb-col\"><h3>Run summary:</h3><br/><table class=\"wandb\"><tr><td>Avg Nonzero Elements</td><td>19.75</td></tr><tr><td>Progress</td><td>1.21569</td></tr><tr><td>Sparsity Loss</td><td>1.63417</td></tr><tr><td>Step</td><td>62</td></tr><tr><td>Task Loss</td><td>2.69111</td></tr><tr><td>temperature</td><td>627.091</td></tr></table><br/></div></div>"
      ],
      "text/plain": [
       "<IPython.core.display.HTML object>"
      ]
     },
     "metadata": {},
     "output_type": "display_data"
    },
    {
     "data": {
      "text/html": [
       " View run <strong style=\"color:#cdcd00\">happy-durian-108</strong> at: <a href='https://wandb.ai/jnainani-university-of-massachusetts-amherst/sae%20circuits/runs/dw3trxep' target=\"_blank\">https://wandb.ai/jnainani-university-of-massachusetts-amherst/sae%20circuits/runs/dw3trxep</a><br/> View project at: <a href='https://wandb.ai/jnainani-university-of-massachusetts-amherst/sae%20circuits' target=\"_blank\">https://wandb.ai/jnainani-university-of-massachusetts-amherst/sae%20circuits</a><br/>Synced 5 W&B file(s), 0 media file(s), 0 artifact file(s) and 0 other file(s)"
      ],
      "text/plain": [
       "<IPython.core.display.HTML object>"
      ]
     },
     "metadata": {},
     "output_type": "display_data"
    },
    {
     "data": {
      "text/html": [
       "Find logs at: <code>./wandb/run-20250102_035824-dw3trxep/logs</code>"
      ],
      "text/plain": [
       "<IPython.core.display.HTML object>"
      ]
     },
     "metadata": {},
     "output_type": "display_data"
    },
    {
     "name": "stdout",
     "output_type": "stream",
     "text": [
      "CE loss: tensor(2.8741, device='cuda:0')\n",
      "Logit Diff: 2.3407113552093506\n",
      "total # latents in circuit:  79\n",
      "avg density 19.75\n",
      "Saved mask for SAE 0 to sae_mask_0.pt\n",
      "Saved mask for SAE 1 to sae_mask_1.pt\n",
      "Saved mask for SAE 2 to sae_mask_2.pt\n",
      "Saved mask for SAE 3 to sae_mask_3.pt\n",
      "doing a run with sparsity multiplier 0.13449523809523808\n"
     ]
    },
    {
     "data": {
      "text/html": [
       "wandb version 0.19.1 is available!  To upgrade, please run:\n",
       " $ pip install wandb --upgrade"
      ],
      "text/plain": [
       "<IPython.core.display.HTML object>"
      ]
     },
     "metadata": {},
     "output_type": "display_data"
    },
    {
     "data": {
      "text/html": [
       "Tracking run with wandb version 0.16.6"
      ],
      "text/plain": [
       "<IPython.core.display.HTML object>"
      ]
     },
     "metadata": {},
     "output_type": "display_data"
    },
    {
     "data": {
      "text/html": [
       "Run data is saved locally in <code>/work/pi_jensen_umass_edu/jnainani_umass_edu/ScalableSAECircuits/wandb/run-20250102_040212-x2zcv728</code>"
      ],
      "text/plain": [
       "<IPython.core.display.HTML object>"
      ]
     },
     "metadata": {},
     "output_type": "display_data"
    },
    {
     "data": {
      "text/html": [
       "Syncing run <strong><a href='https://wandb.ai/jnainani-university-of-massachusetts-amherst/sae%20circuits/runs/x2zcv728' target=\"_blank\">swept-monkey-109</a></strong> to <a href='https://wandb.ai/jnainani-university-of-massachusetts-amherst/sae%20circuits' target=\"_blank\">Weights & Biases</a> (<a href='https://wandb.me/run' target=\"_blank\">docs</a>)<br/>"
      ],
      "text/plain": [
       "<IPython.core.display.HTML object>"
      ]
     },
     "metadata": {},
     "output_type": "display_data"
    },
    {
     "data": {
      "text/html": [
       " View project at <a href='https://wandb.ai/jnainani-university-of-massachusetts-amherst/sae%20circuits' target=\"_blank\">https://wandb.ai/jnainani-university-of-massachusetts-amherst/sae%20circuits</a>"
      ],
      "text/plain": [
       "<IPython.core.display.HTML object>"
      ]
     },
     "metadata": {},
     "output_type": "display_data"
    },
    {
     "data": {
      "text/html": [
       " View run at <a href='https://wandb.ai/jnainani-university-of-massachusetts-amherst/sae%20circuits/runs/x2zcv728' target=\"_blank\">https://wandb.ai/jnainani-university-of-massachusetts-amherst/sae%20circuits/runs/x2zcv728</a>"
      ],
      "text/plain": [
       "<IPython.core.display.HTML object>"
      ]
     },
     "metadata": {},
     "output_type": "display_data"
    },
    {
     "name": "stderr",
     "output_type": "stream",
     "text": [
      "Training Progress:  99%|█████████▉| 61/61.71000000000001 [03:27<00:02,  3.34s/it, Step=61, Progress=1.2, Avg Nonzero Elements=11, Task Loss=3.88, Sparsity Loss=1.48, temperature=tensor(565.2133)]       /home/jnainani_umass_edu/.conda/envs/finetuning/lib/python3.10/site-packages/tqdm/std.py:636: TqdmWarning: clamping frac to range [0, 1]\n",
      "  full_bar = Bar(frac,\n",
      "Training Progress: 63it [03:30,  3.34s/it, Step=62, Progress=1.22, Avg Nonzero Elements=11, Task Loss=3.74, Sparsity Loss=1.48, temperature=tensor(627.0910)]                                       \n"
     ]
    },
    {
     "data": {
      "application/vnd.jupyter.widget-view+json": {
       "model_id": "f2a1484ba0d64ab4aafd7a743b94f657",
       "version_major": 2,
       "version_minor": 0
      },
      "text/plain": [
       "VBox(children=(Label(value='0.012 MB of 0.012 MB uploaded\\r'), FloatProgress(value=1.0, max=1.0)))"
      ]
     },
     "metadata": {},
     "output_type": "display_data"
    },
    {
     "data": {
      "text/html": [
       "<style>\n",
       "    table.wandb td:nth-child(1) { padding: 0 10px; text-align: left ; width: auto;} td:nth-child(2) {text-align: left ; width: 100%}\n",
       "    .wandb-row { display: flex; flex-direction: row; flex-wrap: wrap; justify-content: flex-start; width: 100% }\n",
       "    .wandb-col { display: flex; flex-direction: column; flex-basis: 100%; flex: 1; padding: 10px; }\n",
       "    </style>\n",
       "<div class=\"wandb-row\"><div class=\"wandb-col\"><h3>Run history:</h3><br/><table class=\"wandb\"><tr><td>Avg Nonzero Elements</td><td>█▆▂▁▁▁▁▁▁▁▁▁▁▁▁▁▁▁▁▁▁▁▁▁▁▁▁▁▁▁▁▁▁▁▁▁▁▁▁▁</td></tr><tr><td>Progress</td><td>▁▁▁▁▂▂▂▂▂▃▃▃▃▃▄▄▄▄▄▄▅▅▅▅▅▅▆▆▆▆▆▇▇▇▇▇████</td></tr><tr><td>Sparsity Loss</td><td>█▆▂▁▁▁▁▁▁▁▁▁▁▁▁▁▁▁▁▁▁▁▁▁▁▁▁▁▁▁▁▁▁▁▁▁▁▁▁▁</td></tr><tr><td>Step</td><td>▁▁▁▁▂▂▂▂▂▃▃▃▃▃▄▄▄▄▄▄▅▅▅▅▅▅▆▆▆▆▆▇▇▇▇▇████</td></tr><tr><td>Task Loss</td><td>▁▄█▇▇██▇▇▅▆▆▆▇▆▆▇▆▆▇▅▆▆▆▇▆▇▆▆▇▇▇▇▇▇▆▇▆▆▇</td></tr><tr><td>temperature</td><td>▁▁▁▁▁▁▁▁▁▁▁▁▁▁▁▁▁▁▁▁▁▁▁▂▂▂▂▂▂▂▃▃▃▄▄▅▆▆▇█</td></tr></table><br/></div><div class=\"wandb-col\"><h3>Run summary:</h3><br/><table class=\"wandb\"><tr><td>Avg Nonzero Elements</td><td>11.0</td></tr><tr><td>Progress</td><td>1.21569</td></tr><tr><td>Sparsity Loss</td><td>1.47945</td></tr><tr><td>Step</td><td>62</td></tr><tr><td>Task Loss</td><td>3.73897</td></tr><tr><td>temperature</td><td>627.091</td></tr></table><br/></div></div>"
      ],
      "text/plain": [
       "<IPython.core.display.HTML object>"
      ]
     },
     "metadata": {},
     "output_type": "display_data"
    },
    {
     "data": {
      "text/html": [
       " View run <strong style=\"color:#cdcd00\">swept-monkey-109</strong> at: <a href='https://wandb.ai/jnainani-university-of-massachusetts-amherst/sae%20circuits/runs/x2zcv728' target=\"_blank\">https://wandb.ai/jnainani-university-of-massachusetts-amherst/sae%20circuits/runs/x2zcv728</a><br/> View project at: <a href='https://wandb.ai/jnainani-university-of-massachusetts-amherst/sae%20circuits' target=\"_blank\">https://wandb.ai/jnainani-university-of-massachusetts-amherst/sae%20circuits</a><br/>Synced 5 W&B file(s), 0 media file(s), 0 artifact file(s) and 0 other file(s)"
      ],
      "text/plain": [
       "<IPython.core.display.HTML object>"
      ]
     },
     "metadata": {},
     "output_type": "display_data"
    },
    {
     "data": {
      "text/html": [
       "Find logs at: <code>./wandb/run-20250102_040212-x2zcv728/logs</code>"
      ],
      "text/plain": [
       "<IPython.core.display.HTML object>"
      ]
     },
     "metadata": {},
     "output_type": "display_data"
    },
    {
     "name": "stdout",
     "output_type": "stream",
     "text": [
      "CE loss: tensor(3.5776, device='cuda:0')\n",
      "Logit Diff: 0.9293985366821289\n",
      "total # latents in circuit:  44\n",
      "avg density 11.0\n",
      "Saved mask for SAE 0 to sae_mask_0.pt\n",
      "Saved mask for SAE 1 to sae_mask_1.pt\n",
      "Saved mask for SAE 2 to sae_mask_2.pt\n",
      "Saved mask for SAE 3 to sae_mask_3.pt\n"
     ]
    }
   ],
   "source": [
    "for i in thresholds[1:]:\n",
    "    do_training_run(token_dataset=clean_tokens, labels_dataset= clean_label_tokens, corr_labels_dataset=corr_label_tokens, sparsity_multiplier=i, task=f'codereason/key/len5_digit1', example_length=example_length, loss_function=\"logit_diff\", per_token_mask=True, use_mask=True, mean_mask=True, portion_of_data=0.3)"
   ]
  },
  {
   "cell_type": "code",
   "execution_count": 45,
   "metadata": {},
   "outputs": [],
   "source": [
    "import torch.nn.functional as F\n",
    "def get_ig_effect_batch(sae_id, token_dataset, corr_token_dataset, labels_dataset, corr_labels_dataset):\n",
    "    # ig_batch_size = 4\n",
    "\n",
    "    def logitfn_cache(tokens):\n",
    "        logits =  model.run_with_hooks(\n",
    "            tokens, \n",
    "            return_type=\"logits\", \n",
    "            fwd_hooks=build_hooks_list(tokens, use_mask=use_mask, mean_mask=mean_mask, cache_sae_activations=True)\n",
    "            )\n",
    "        cached_activations = [sae.feature_acts for sae in saes]\n",
    "        return logits, cached_activations\n",
    "    \n",
    "    # cache_sae_logitfn = build_sae_logitfn(cache_sae_activations=True)\n",
    "\n",
    "    # def cache_sae_activations(tokens):\n",
    "    #     logits = cache_sae_logitfn(tokens)\n",
    "    #     cached_activations = [sae.feature_acts for sae in saes]\n",
    "    #     return logits, cached_activations\n",
    "    # def build_sae_logitfn(**kwargs):\n",
    "    # def logitfn(tokens):\n",
    "    #     return model.run_with_hooks(\n",
    "    #         tokens, \n",
    "    #         return_type=\"logits\", \n",
    "    #         fwd_hooks=build_hooks_list(tokens, **kwargs)\n",
    "    #         )\n",
    "    # return logitfn\n",
    "\n",
    "    def sae_continue_cache_logitfn(tokens, sae_idx, cache, **kwargs):\n",
    "        logits = model.run_with_hooks(\n",
    "            tokens, \n",
    "            return_type=\"logits\", \n",
    "            fwd_hooks=build_hooks_list(tokens, fake_activations=(sae_idx, cache),**kwargs)\n",
    "            )\n",
    "        # logitfn = build_sae_logitfn(fake_activations=(sae_idx, cache), **kwargs)\n",
    "        return logits\n",
    "\n",
    "    # correct_tokenized = batch.correct_tokenized\n",
    "    # traceback_tokenized = batch.error_tokenized\n",
    "    # correct_labels = batch.correct_labels\n",
    "    # traceback_labels = batch.error_labels\n",
    "\n",
    "    # run a forward pass on the correct and error examples\n",
    "    with torch.no_grad():\n",
    "        _, clean_activations = logitfn_cache(token_dataset)\n",
    "        _, corr_activations = logitfn_cache(corr_token_dataset)\n",
    "\n",
    "\n",
    "    sae = saes[sae_id]\n",
    "    sae_clean_acts = clean_activations[sae_id]\n",
    "    sae_corr_acts = corr_activations[sae_id]\n",
    "\n",
    "    steps = 10\n",
    "    ratios = [i/steps for i in range(steps)] # we skip the last one b/c we are integrating, obv\n",
    "        \n",
    "    effects = []\n",
    "    for ratio in ratios:\n",
    "        interpolation = (sae_clean_acts * (1-ratio) + sae_corr_acts * (ratio)).requires_grad_(True)\n",
    "        interpolation.retain_grad()\n",
    "        interpolated_out = sae_continue_cache_logitfn(\n",
    "            token_dataset, sae.cfg.hook_layer, interpolation,\n",
    "        )\n",
    "        answer_logits = interpolated_out[..., -1, :] # get the logits of the last tokens\n",
    "        # get the logprob on the inner most dimension\n",
    "        answer_logprobs = F.log_softmax(answer_logits, dim=-1)\n",
    "\n",
    "        clean_logprobs = answer_logprobs[..., torch.arange(answer_logprobs.shape[-2]), labels_dataset]\n",
    "        corr_logprobs = answer_logprobs[..., torch.arange(answer_logprobs.shape[-2]), corr_labels_dataset]\n",
    "        metric = torch.sum(clean_logprobs - corr_logprobs)\n",
    "        metric.backward()\n",
    "\n",
    "        counterfactual_delta = sae_clean_acts - sae_corr_acts\n",
    "        \n",
    "        effect = (interpolation.grad * counterfactual_delta).mean(dim=0)\n",
    "\n",
    "        effects.append(effect)\n",
    "\n",
    "    effects = torch.stack(effects)\n",
    "    clear_memory()\n",
    "    return effects.mean(dim=0)\n",
    "\n",
    "def get_sae_ig_effect(sae_id, num_batches, clean_tokens, corr_tokens, clean_label_tokens, corr_label_tokens):\n",
    "    effect_batches = []\n",
    "    for i in tqdm(range(0, num_batches)):\n",
    "        clean_batch = clean_tokens[i]  \n",
    "        corr_batch = corr_tokens[i]\n",
    "        clean_label_batch = clean_label_tokens[i]\n",
    "        corr_label_batch = corr_label_tokens[i]\n",
    "        effect_batches.append(get_ig_effect_batch(sae_id, clean_batch, corr_batch, clean_label_batch, corr_label_batch))\n",
    "    return torch.stack(effect_batches).mean(dim=0)\n",
    "\n",
    "def get_all_sae_ig_effects(num_batches, clean_tokens, corr_tokens, clean_label_tokens, corr_label_tokens):\n",
    "    for i in range(len(saes)):\n",
    "        ig_effect = get_sae_ig_effect(i, num_batches, clean_tokens, corr_tokens, clean_label_tokens, corr_label_tokens)\n",
    "        saes[i].igmask = IGMask(ig_effect)"
   ]
  },
  {
   "cell_type": "code",
   "execution_count": 46,
   "metadata": {},
   "outputs": [
    {
     "name": "stderr",
     "output_type": "stream",
     "text": [
      "100%|██████████| 25/25 [07:19<00:00, 17.56s/it]\n",
      "100%|██████████| 25/25 [07:19<00:00, 17.57s/it]\n",
      "100%|██████████| 25/25 [07:19<00:00, 17.58s/it]\n",
      "100%|██████████| 25/25 [07:19<00:00, 17.59s/it]\n"
     ]
    }
   ],
   "source": [
    "get_all_sae_ig_effects(25, clean_tokens, corr_tokens, clean_label_tokens, corr_label_tokens)"
   ]
  },
  {
   "cell_type": "code",
   "execution_count": 47,
   "metadata": {},
   "outputs": [
    {
     "data": {
      "text/plain": [
       "tensor(9947, device='cuda:0')"
      ]
     },
     "execution_count": 47,
     "metadata": {},
     "output_type": "execute_result"
    }
   ],
   "source": [
    "torch.count_nonzero(saes[1].igmask.ig_scores)"
   ]
  },
  {
   "cell_type": "code",
   "execution_count": 48,
   "metadata": {},
   "outputs": [],
   "source": [
    "def save_igmask(igmask, file_path):\n",
    "    \"\"\"Save the IGMask instance to a file.\"\"\"\n",
    "    if not isinstance(igmask, IGMask):\n",
    "        raise ValueError(\"The object to save must be an instance of IGMask.\")\n",
    "\n",
    "    # Save the ig_scores and any additional parameters if needed\n",
    "    state_dict = {\n",
    "        'ig_scores': igmask.ig_scores\n",
    "    }\n",
    "    \n",
    "    # Create directory if it doesn't exist\n",
    "    os.makedirs(os.path.dirname(file_path), exist_ok=True)\n",
    "\n",
    "    # Save the state dictionary using PyTorch\n",
    "    torch.save(state_dict, file_path)\n",
    "\n",
    "for sae in saes:\n",
    "    save_igmask(sae.igmask, f\"masks/codereason/key/len5_digit1/igmask/igmask_{sae.cfg.hook_layer}.pt\")"
   ]
  },
  {
   "cell_type": "code",
   "execution_count": 49,
   "metadata": {},
   "outputs": [
    {
     "name": "stdout",
     "output_type": "stream",
     "text": [
      "Statistics for mask 'blocks.7.hook_resid_post':\n",
      "  - Shape: [41, 16384]\n",
      "  - Total latents: 671744\n",
      "  - Latents ON (mask=1): 22\n",
      "  - Average ON per token: 0.5366\n",
      "\n",
      "Statistics for mask 'blocks.14.hook_resid_post':\n",
      "  - Shape: [41, 16384]\n",
      "  - Total latents: 671744\n",
      "  - Latents ON (mask=1): 77\n",
      "  - Average ON per token: 1.8780\n",
      "\n",
      "Statistics for mask 'blocks.21.hook_resid_post':\n",
      "  - Shape: [41, 16384]\n",
      "  - Total latents: 671744\n",
      "  - Latents ON (mask=1): 266\n",
      "  - Average ON per token: 6.4878\n",
      "\n",
      "Statistics for mask 'blocks.40.hook_resid_post':\n",
      "  - Shape: [41, 16384]\n",
      "  - Total latents: 671744\n",
      "  - Latents ON (mask=1): 156\n",
      "  - Average ON per token: 3.8049\n",
      "\n"
     ]
    }
   ],
   "source": [
    "masks = produce_ig_binary_masks(threshold=0.01)\n",
    "masks.print_mask_statistics()"
   ]
  },
  {
   "cell_type": "code",
   "execution_count": 50,
   "metadata": {},
   "outputs": [],
   "source": [
    "def pp(x):\n",
    "    keys = list(x.keys())\n",
    "    values = list(x.values())\n",
    "    for i in range(len(keys)):\n",
    "        print(f\"{keys[i]}: {values[i]}\")"
   ]
  },
  {
   "cell_type": "code",
   "execution_count": 53,
   "metadata": {},
   "outputs": [
    {
     "name": "stdout",
     "output_type": "stream",
     "text": [
      "layer: 7\n",
      "6786.0\n",
      "layer: 14\n",
      "4687.0\n",
      "layer: 21\n",
      "7560.0\n",
      "layer: 40\n",
      "1129.0\n",
      "total 20162.0\n",
      "========================================\n",
      "tensor(3.3223, device='cuda:0')\n"
     ]
    }
   ],
   "source": [
    "threshold = 0.00001\n",
    "sum = 0\n",
    "for sae in saes:\n",
    "    print(\"layer:\", sae.cfg.hook_layer)\n",
    "    latents_in_sae = sae.igmask.get_threshold_info(threshold)['total_latents'].item()\n",
    "    sum += latents_in_sae\n",
    "    print(latents_in_sae)\n",
    "\n",
    "print(\"total\", sum)\n",
    "\n",
    "print(\"=\"*40)\n",
    "with torch.no_grad():\n",
    "    ig_logits = model.run_with_hooks(\n",
    "            clean_tokens[-1], \n",
    "            return_type=\"logits\", \n",
    "            fwd_hooks=build_hooks_list(clean_tokens[-1], ig_mask_threshold=threshold, mean_mask=True)\n",
    "            )\n",
    "    ld = logit_diff_fn(ig_logits, clean_label_tokens[-1], corr_label_tokens[-1])\n",
    "    print(ld)"
   ]
  },
  {
   "cell_type": "code",
   "execution_count": 54,
   "metadata": {},
   "outputs": [
    {
     "name": "stderr",
     "output_type": "stream",
     "text": [
      "100%|██████████| 10/10 [01:40<00:00, 10.06s/it]\n"
     ]
    }
   ],
   "source": [
    "# Comparison:\n",
    "\n",
    "def get_faithfulness(clean_tokens, clean_label_tokens, corr_label_tokens, mask, modelsae_ld):\n",
    "    avg_ig_ld = 0\n",
    "    with torch.no_grad():\n",
    "        for i in range(10):\n",
    "            ig_logits = model.run_with_hooks(\n",
    "                    clean_tokens[-i], \n",
    "                    return_type=\"logits\", \n",
    "                    fwd_hooks=build_hooks_list(clean_tokens[-i], circuit_mask=mask, mean_mask=True)\n",
    "                    )\n",
    "            ld = logit_diff_fn(ig_logits, clean_label_tokens[-i], corr_label_tokens[-i])\n",
    "            avg_ig_ld += ld\n",
    "            del ig_logits\n",
    "            cleanup_cuda()\n",
    "    avg_ig = (avg_ig_ld / 10).item()\n",
    "    faithfulness_ratio = avg_ig/modelsae_ld\n",
    "    return faithfulness_ratio\n",
    "\n",
    "def get_faithfulness_frontier(mask_producer_fn, start_threshold, end_threshold, clean_tokens, clean_label_tokens, corr_label_tokens, modelsae_ld, steps = 10, modify_fn = lambda x: x):\n",
    "    thresholds = []\n",
    "    delta = (end_threshold - start_threshold) / steps\n",
    "\n",
    "    # apply a linear function such that the linear_map(modify_fn(start_threshold)) = start_threshold\n",
    "    # and linear_map(modify_fn(end_threshold)) = end_threshold\n",
    "\n",
    "    def linear_map(x):\n",
    "        mod_start = modify_fn(start_threshold)\n",
    "        mod_end = modify_fn(end_threshold)\n",
    "        return (x - mod_start) / (mod_end - mod_start) * (end_threshold - start_threshold) + start_threshold\n",
    "    \n",
    "    mf = lambda x: linear_map(modify_fn(x))\n",
    "    \n",
    "\n",
    "\n",
    "    for i in range(steps):\n",
    "        thresholds.append(\n",
    "            mf(start_threshold + i*delta)\n",
    "            )\n",
    "    \n",
    "    faithfulness_scores = []\n",
    "    for threshold in tqdm(thresholds):\n",
    "        mask = mask_producer_fn(threshold=threshold)\n",
    "        num_latents = mask.get_num_latents()\n",
    "        faithfulness_ratio = get_faithfulness(clean_tokens, clean_label_tokens, corr_label_tokens, mask, modelsae_ld\n",
    "        )\n",
    "        faithfulness_scores.append([num_latents, faithfulness_ratio])\n",
    "    return faithfulness_scores        \n",
    "\n",
    "ig_faithfulness_frontier = get_faithfulness_frontier(produce_ig_binary_masks, 0.00005, 0.05, clean_tokens, clean_label_tokens, corr_label_tokens, avg_logit_diff, steps=10, modify_fn=lambda x: x**2)\n"
   ]
  },
  {
   "cell_type": "code",
   "execution_count": 55,
   "metadata": {},
   "outputs": [
    {
     "data": {
      "image/png": "[encoded data removed]",
      "text/plain": [
       "<Figure size 1000x600 with 1 Axes>"
      ]
     },
     "metadata": {},
     "output_type": "display_data"
    }
   ],
   "source": [
    "\n",
    "def plot_faithfulness_frontier(faithfulness_frontier):\n",
    "    # Assuming faithfulness_frontier is your list of tuples\n",
    "    # Example: faithfulness_frontier = [(10, 0.8), (20, 0.85), (30, 0.89), ...]\n",
    "\n",
    "    # Unzip the tuples into separate lists for x and y coordinates\n",
    "    num_latents, faithfulness = zip(*faithfulness_frontier)\n",
    "\n",
    "    # Create the plot\n",
    "    plt.figure(figsize=(10, 6))\n",
    "    plt.plot(num_latents, faithfulness, 'b.-', linewidth=2, markersize=10)\n",
    "\n",
    "    # Add labels and title\n",
    "    plt.xlabel('Number of Latents')\n",
    "    plt.ylabel('Faithfulness')\n",
    "    plt.title('Faithfulness Frontier')\n",
    "\n",
    "    # Add grid for better readability\n",
    "    plt.grid(True, linestyle='--', alpha=0.7)\n",
    "\n",
    "    # Optionally, you can customize the axis ranges if needed\n",
    "    # plt.xlim([min(num_latents), max(num_latents)])\n",
    "    # plt.ylim([min(faithfulness), max(faithfulness)])\n",
    "\n",
    "    # Display the plot\n",
    "    plt.tight_layout()\n",
    "    plt.show()\n",
    "plot_faithfulness_frontier(ig_faithfulness_frontier)"
   ]
  },
  {
   "cell_type": "code",
   "execution_count": 56,
   "metadata": {},
   "outputs": [
    {
     "data": {
      "text/plain": [
       "[0.01,\n",
       " 0.020495238095238094,\n",
       " 0.04474285714285713,\n",
       " 0.08274285714285712,\n",
       " 0.13449523809523808]"
      ]
     },
     "execution_count": 56,
     "metadata": {},
     "output_type": "execute_result"
    }
   ],
   "source": [
    "thresholds = []\n",
    "modify_fn=lambda x: x**2\n",
    "start_threshold = 0.01\n",
    "end_threshold = 0.2\n",
    "n_runs = 5\n",
    "delta = (end_threshold - start_threshold) / n_runs\n",
    "def linear_map(x):\n",
    "        mod_start = modify_fn(start_threshold)\n",
    "        mod_end = modify_fn(end_threshold)\n",
    "        return (x - mod_start) / (mod_end - mod_start) * (end_threshold - start_threshold) + start_threshold\n",
    "    \n",
    "mf = lambda x: linear_map(modify_fn(x))\n",
    "for i in range(n_runs):\n",
    "    thresholds.append(\n",
    "        mf(start_threshold + i*delta)\n",
    "        )\n",
    "thresholds"
   ]
  },
  {
   "cell_type": "code",
   "execution_count": 57,
   "metadata": {},
   "outputs": [
    {
     "data": {
      "image/png": "[encoded data removed]",
      "text/plain": [
       "<Figure size 1200x800 with 1 Axes>"
      ]
     },
     "metadata": {},
     "output_type": "display_data"
    }
   ],
   "source": [
    "import matplotlib.pyplot as plt\n",
    "import json\n",
    "thresholds = []\n",
    "modify_fn=lambda x: x**2\n",
    "# thresholds = []\n",
    "# modify_fn=lambda x: x**2\n",
    "start_threshold = 0.01\n",
    "end_threshold = 0.2\n",
    "n_runs = 5\n",
    "delta = (end_threshold - start_threshold) / n_runs\n",
    "def linear_map(x):\n",
    "        mod_start = modify_fn(start_threshold)\n",
    "        mod_end = modify_fn(end_threshold)\n",
    "        return (x - mod_start) / (mod_end - mod_start) * (end_threshold - start_threshold) + start_threshold\n",
    "    \n",
    "mf = lambda x: linear_map(modify_fn(x))\n",
    "for i in range(n_runs):\n",
    "    thresholds.append(\n",
    "        mf(start_threshold + i*delta)\n",
    "        )\n",
    "thresholds\n",
    "nnodes = []\n",
    "faithfulness = []\n",
    "for i in thresholds:\n",
    "    sparsity_multiplier = i\n",
    "    bdir = f\"masks/codereason/key/len5_digit1/logit_diff_{str(sparsity_multiplier)}_run/{str(sparsity_multiplier)}_run.json\"\n",
    "    # load the dict \n",
    "    with open(bdir, 'r') as file:\n",
    "        mask_dict = json.load(file)\n",
    "    nnodes.append(mask_dict['total_density'])\n",
    "    faithfulness.append(mask_dict['faithfulness'])\n",
    "\n",
    "\n",
    "# Unzip the tuples into separate lists for Integrated Gradients plot\n",
    "num_latents, ig_faithfulness = zip(*ig_faithfulness_frontier)\n",
    "\n",
    "# Create the combined plot\n",
    "plt.figure(figsize=(12, 8))\n",
    "\n",
    "# Plot \"Integrated Gradients\"\n",
    "plt.plot(num_latents, ig_faithfulness, marker='o',linestyle='-', linewidth=2, markersize=8,  label='Integrated Gradients', color='blue')\n",
    "\n",
    "# Plot \"Masking\"\n",
    "plt.plot(nnodes, faithfulness, marker='o', linestyle='-', linewidth=2, markersize=8, label='Masking', color='orange')\n",
    "\n",
    "# Add labels, legend, and title\n",
    "plt.xlabel('Number of Nodes / Latents', fontsize=14)\n",
    "plt.ylabel('Faithfulness', fontsize=14)\n",
    "plt.title('Faithfulness Comparison: Masking vs Integrated Gradients', fontsize=16)\n",
    "plt.legend(fontsize=12)\n",
    "\n",
    "# Add grid for better readability\n",
    "plt.grid(visible=True, linestyle='--', alpha=0.7)\n",
    "\n",
    "# Adjust layout and display the plot\n",
    "plt.tight_layout()\n",
    "plt.show()\n"
   ]
  },
  {
   "cell_type": "markdown",
   "metadata": {},
   "source": [
    "## completeness"
   ]
  },
  {
   "cell_type": "code",
   "execution_count": 87,
   "metadata": {},
   "outputs": [
    {
     "name": "stdout",
     "output_type": "stream",
     "text": [
      "Logit Diff: 4.913758945465088\n"
     ]
    }
   ],
   "source": [
    "for sae in saes:\n",
    "    sae.mask = SparseMask(sae.cfg.d_sae, 1.0, seq_len=example_length, distinct_l1=1.0).to(device)\n",
    "\n",
    "def eval_logit_diff(batch, clean_labels, corr_labels, ratio_trained=10):\n",
    "    for sae in saes:\n",
    "        sae.mask.ratio_trained = ratio_trained\n",
    "    logits = model.run_with_hooks(\n",
    "        batch, \n",
    "        return_type=\"logits\", \n",
    "        fwd_hooks=build_hooks_list(batch, use_mask=True, mean_mask=True, binarize_mask=True)\n",
    "        )\n",
    "    return logit_diff_fn(logits, clean_labels, corr_labels)\n",
    "\n",
    "model_logit_diff = 0 \n",
    "with torch.no_grad():\n",
    "    for i in range(10):\n",
    "        batch_model_logit_diff = eval_logit_diff(clean_tokens[-i], clean_label_tokens[-i], corr_label_tokens[-i]).item()\n",
    "        model_logit_diff += batch_model_logit_diff\n",
    "    model_logit_diff = (model_logit_diff / 10)\n",
    "    cleanup_cuda()\n",
    "print(\"Logit Diff:\", model_logit_diff)"
   ]
  },
  {
   "cell_type": "code",
   "execution_count": 88,
   "metadata": {},
   "outputs": [
    {
     "name": "stderr",
     "output_type": "stream",
     "text": [
      "/tmp/ipykernel_841511/3471767433.py:6: FutureWarning: You are using `torch.load` with `weights_only=False` (the current default value), which uses the default pickle module implicitly. It is possible to construct malicious pickle data which will execute arbitrary code during unpickling (See https://github.com/pytorch/pytorch/blob/main/SECURITY.md#untrusted-models for more details). In a future release, the default value for `weights_only` will be flipped to `True`. This limits the functions that could be executed during unpickling. Arbitrary objects will no longer be allowed to be loaded via this mode unless they are explicitly allowlisted by the user via `torch.serialization.add_safe_globals`. We recommend you start setting `weights_only=True` for any use case where you don't have full control of the loaded file. Please open an issue on GitHub for any issues related to this experimental feature.\n",
      "  state_dict = torch.load(mask_path)\n"
     ]
    },
    {
     "name": "stdout",
     "output_type": "stream",
     "text": [
      "Loaded mask for SAE 0 from masks/codereason/key/len5_digit1/logit_diff_0.04474285714285713_run/sae_mask_0.pt\n",
      "Loaded mask for SAE 1 from masks/codereason/key/len5_digit1/logit_diff_0.04474285714285713_run/sae_mask_1.pt\n",
      "Loaded mask for SAE 2 from masks/codereason/key/len5_digit1/logit_diff_0.04474285714285713_run/sae_mask_2.pt\n",
      "Loaded mask for SAE 3 from masks/codereason/key/len5_digit1/logit_diff_0.04474285714285713_run/sae_mask_3.pt\n",
      "Logit Diff: 4.2652651309967045\n"
     ]
    }
   ],
   "source": [
    "# Load masks before inference or further training\n",
    "sparsity_multiplier = 0.04474285714285713\n",
    "path = \"masks/codereason/key/len5_digit1\"\n",
    "for idx, sae in enumerate(saes):\n",
    "    mask_path = f\"{path}/logit_diff_{str(sparsity_multiplier)}_run/sae_mask_{idx}.pt\"\n",
    "    state_dict = torch.load(mask_path)\n",
    "    sae.mask.load_state_dict(state_dict)\n",
    "    print(f\"Loaded mask for SAE {idx} from {mask_path}\")\n",
    "\n",
    "circuit_logit_diff = 0\n",
    "with torch.no_grad():\n",
    "    for i in range(10):\n",
    "        batch_circuit_logit_diff = eval_logit_diff(clean_tokens[-i], clean_label_tokens[-i], corr_label_tokens[-i]).item()\n",
    "        circuit_logit_diff += batch_circuit_logit_diff\n",
    "        cleanup_cuda()\n",
    "    circuit_logit_diff = (circuit_logit_diff / 10)\n",
    "print(\"Logit Diff:\", circuit_logit_diff)"
   ]
  },
  {
   "cell_type": "code",
   "execution_count": 89,
   "metadata": {},
   "outputs": [
    {
     "data": {
      "text/plain": [
       "{'blocks.7.hook_resid_post': [9152,\n",
       "  9299,\n",
       "  9938,\n",
       "  15380,\n",
       "  4344,\n",
       "  4958,\n",
       "  9843,\n",
       "  2157,\n",
       "  9299,\n",
       "  9938,\n",
       "  1361,\n",
       "  4786,\n",
       "  5583,\n",
       "  6180,\n",
       "  9089,\n",
       "  10768,\n",
       "  10862,\n",
       "  11635],\n",
       " 'blocks.14.hook_resid_post': [5082,\n",
       "  4093,\n",
       "  3021,\n",
       "  8734,\n",
       "  4093,\n",
       "  12405,\n",
       "  13245,\n",
       "  1563,\n",
       "  1788,\n",
       "  2576,\n",
       "  3742,\n",
       "  3805,\n",
       "  4542,\n",
       "  4811,\n",
       "  4834,\n",
       "  6868,\n",
       "  8269,\n",
       "  8538,\n",
       "  8629,\n",
       "  8657,\n",
       "  8746,\n",
       "  9066,\n",
       "  9930,\n",
       "  10954,\n",
       "  11766,\n",
       "  12725,\n",
       "  12929,\n",
       "  14864,\n",
       "  15603,\n",
       "  3742,\n",
       "  8746,\n",
       "  10244,\n",
       "  11991,\n",
       "  15628],\n",
       " 'blocks.21.hook_resid_post': [5225,\n",
       "  13730,\n",
       "  2453,\n",
       "  6201,\n",
       "  15373,\n",
       "  4170,\n",
       "  4328,\n",
       "  12529,\n",
       "  534,\n",
       "  3433,\n",
       "  5066,\n",
       "  6352,\n",
       "  6740,\n",
       "  7015,\n",
       "  7992,\n",
       "  9663,\n",
       "  11416,\n",
       "  11455,\n",
       "  12808,\n",
       "  15546,\n",
       "  20,\n",
       "  3076,\n",
       "  5066,\n",
       "  5880,\n",
       "  7454,\n",
       "  8615,\n",
       "  9663,\n",
       "  11416,\n",
       "  11455,\n",
       "  11489,\n",
       "  14638,\n",
       "  52,\n",
       "  639,\n",
       "  712,\n",
       "  964,\n",
       "  1408,\n",
       "  1744,\n",
       "  1831,\n",
       "  1961,\n",
       "  2707,\n",
       "  3278,\n",
       "  3638,\n",
       "  4343,\n",
       "  4672,\n",
       "  4708,\n",
       "  4781,\n",
       "  5394,\n",
       "  5880,\n",
       "  6650,\n",
       "  7192,\n",
       "  8082,\n",
       "  8127,\n",
       "  8615,\n",
       "  8775,\n",
       "  8781,\n",
       "  8853,\n",
       "  9551,\n",
       "  10532,\n",
       "  10824,\n",
       "  11135,\n",
       "  12314,\n",
       "  12598,\n",
       "  12643,\n",
       "  13284,\n",
       "  13578,\n",
       "  14377,\n",
       "  14515,\n",
       "  14638,\n",
       "  14958],\n",
       " 'blocks.40.hook_resid_post': [445,\n",
       "  637,\n",
       "  673,\n",
       "  1322,\n",
       "  2355,\n",
       "  2493,\n",
       "  2930,\n",
       "  3191,\n",
       "  3685,\n",
       "  3825,\n",
       "  3987,\n",
       "  4664,\n",
       "  4694,\n",
       "  4956,\n",
       "  5659,\n",
       "  5862,\n",
       "  5911,\n",
       "  6072,\n",
       "  6522,\n",
       "  6807,\n",
       "  6810,\n",
       "  7604,\n",
       "  7622,\n",
       "  8398,\n",
       "  8416,\n",
       "  8456,\n",
       "  8468,\n",
       "  8564,\n",
       "  8828,\n",
       "  9230,\n",
       "  9262,\n",
       "  9309,\n",
       "  9538,\n",
       "  10069,\n",
       "  10155,\n",
       "  10628,\n",
       "  10978,\n",
       "  11066,\n",
       "  11103,\n",
       "  11704,\n",
       "  11839,\n",
       "  12037,\n",
       "  12258,\n",
       "  12388,\n",
       "  13131,\n",
       "  13479,\n",
       "  13483,\n",
       "  13576,\n",
       "  13751,\n",
       "  13967,\n",
       "  14244,\n",
       "  14423,\n",
       "  14425,\n",
       "  14549,\n",
       "  14564,\n",
       "  15045,\n",
       "  15246,\n",
       "  15628,\n",
       "  15777,\n",
       "  15863,\n",
       "  16039,\n",
       "  16342],\n",
       " 'total_density': 183,\n",
       " 'avg_density': 45.75,\n",
       " 'ce_loss': 2.3046000003814697,\n",
       " 'logit_diff': 4.265265464782715,\n",
       " 'faithfulness': 0.8812779121355603}"
      ]
     },
     "execution_count": 89,
     "metadata": {},
     "output_type": "execute_result"
    }
   ],
   "source": [
    "sparsity_multiplier = 0.04474285714285713\n",
    "path = \"masks/codereason/key/len5_digit1\"\n",
    "bdir = f\"{path}/logit_diff_{str(sparsity_multiplier)}_run/{str(sparsity_multiplier)}_run.json\"\n",
    "with open(bdir, 'r') as file:\n",
    "    mask_dict = json.load(file)\n",
    "mask_dict"
   ]
  },
  {
   "cell_type": "code",
   "execution_count": 90,
   "metadata": {},
   "outputs": [],
   "source": [
    "import torch\n",
    "\n",
    "# Number of elements to remove from the last dimension\n",
    "num_remove = 5\n",
    "\n",
    "# Number of batches to process\n",
    "num_batches = 3  # Adjust this as needed\n",
    "batch_size = 16  # Batch size for processing\n",
    "\n",
    "# Remove random subsets of the mask along the [-1] dimension\n",
    "def get_indices_to_remove(mask, num_remove):\n",
    "    active_indices = (mask > 0).nonzero(as_tuple=True)[-1]  # Get indices of active elements in the last dimension\n",
    "    if len(active_indices) < num_remove:\n",
    "        raise ValueError(\"Not enough active elements to remove.\")\n",
    "    indices_to_remove = active_indices[torch.randperm(len(active_indices))[:num_remove]].to(mask.device)  # Move to the same device\n",
    "    return indices_to_remove\n",
    "\n",
    "def apply_subset_removal(mask, indices_to_remove):\n",
    "    indices_to_remove = indices_to_remove.to(mask.device)  # Ensure indices are on the same device\n",
    "    modified_mask = mask.clone()\n",
    "    modified_mask.index_fill_(-1, indices_to_remove, -1.9455)  # Set selected elements to 0\n",
    "    return modified_mask"
   ]
  },
  {
   "cell_type": "code",
   "execution_count": 92,
   "metadata": {},
   "outputs": [
    {
     "name": "stdout",
     "output_type": "stream",
     "text": [
      "[{'knockout_indices': [tensor([ 2157,  9938,  6180, 10768,  9843, 15380,  5583,  9152,  4344,  9089],\n",
      "       device='cuda:0'), tensor([9930, 6868, 3742, 1788, 2576, 1563, 8269, 8746], device='cuda:0'), tensor([ 5394,  2453, 11455,  4328,  5066, 11455,  9551,  1408,   534, 14638,\n",
      "         1961,  1831,  7454,  1744,  7192,  4343,  2707, 14958],\n",
      "       device='cuda:0'), tensor([  673,  2355, 15628, 14423,  7622, 11704,  2493, 13479, 15045, 15246,\n",
      "         9309,  3685, 10069, 13576,  9538,  9262,  6072,  7604,  8398,  2930,\n",
      "        13483,  6810,  8564,  8468, 13751], device='cuda:0')]}, {'knockout_indices': [tensor([ 4344,  5583, 15380,  2157,  9938,  4958,  9152,  9843, 10862],\n",
      "       device='cuda:0'), tensor([12929, 15628, 11991,  3021, 15603,  8746,  1788,  4542,  1563, 13245,\n",
      "         9930,  8269,  4093, 14864,  3805, 12405,  8734,  5082,  6868,  3742,\n",
      "         8746, 10954,  8538,  9066,  8629, 10244,  4811,  4093,  8657],\n",
      "       device='cuda:0'), tensor([ 7992, 10532,  5394,    20,  8775,  6201,  4781,  5880,  5066,  3638,\n",
      "        12643,  4672, 11455,  3076,  6650, 15546,  8127, 11135, 13730, 14958,\n",
      "        14515, 14638, 11455, 12314,  9663,  9551,  4343,  7015,  8781,  2707,\n",
      "        11416,  5225,  4170, 14638,  4328,   964,  8853,  7192,  2453,   534,\n",
      "         6352, 12808,  8615,  4708,  1961,  5066,  1408, 11416, 13578,  3433,\n",
      "        14377,  8082,  5880, 13284, 15373,  6740,  1831,    52, 11489,  8615,\n",
      "          639,  7454,  3278,   712], device='cuda:0'), tensor([10155, 11066,  1322,  2355, 13131, 13576,   637, 15863,  7622,   445,\n",
      "         2930,  3825,  4664, 13751, 10628, 12258,  4694,  6522, 12388,  9262,\n",
      "        14549,  8456,  8468, 12037, 15045, 15246,  2493, 13483, 13967, 13479,\n",
      "          673,  8416,  7604,  5911,  5862, 11704, 14423, 15628, 15777, 14425,\n",
      "         5659,  3685, 11103,  6810,  9230, 10978,  8564,  6807,  9538, 14244,\n",
      "         8828,  3191, 16342,  6072,  9309, 11839], device='cuda:0')]}, {'knockout_indices': [tensor([10768,  9843,  5583], device='cuda:0'), tensor([15603, 13245,  4834, 14864, 12405,  3021,  8734, 11766, 12929,  9930,\n",
      "         4542,  8746,  4093, 15628,  3742,  8538,  1788,  8746,  5082, 12725,\n",
      "         4811,  8657,  3742,  4093], device='cuda:0'), tensor([12598,  6740, 15546,   534,  7992,   964,  5066, 11135,  3638,  8615,\n",
      "         4781,  4672,  2707, 13284,  8781,  3278,    52, 14515,  6201,  4170,\n",
      "        13730,  5066,  3076,  1961, 10532, 12643,  8853,  2453,  6352,  5394,\n",
      "        11489,   639, 11455,  8775, 12314, 14638,  1744,  1831, 11416,  9663,\n",
      "        14638, 12808,  8127,  8082, 14958,    20,  8615], device='cuda:0'), tensor([11704, 14549, 13751,  5659,  9230,  9309,   637,  4956, 13479, 15628,\n",
      "        12258, 13131,   445, 10155, 14564,  9538, 11839,  6810,  3191,  7622,\n",
      "         8416,  8456,  8828, 10628,  4664], device='cuda:0')]}, {'knockout_indices': [tensor([11635, 10862,  6180,  9843,  9299, 15380,  9938,  9938,  5583,  9152,\n",
      "         4344,  9299, 10768,  2157,  4958,  9089,  1361], device='cuda:0'), tensor([ 8538, 10244, 12725,  4093, 12405,  3805,  3021,  2576,  8657, 15603,\n",
      "        10954,  3742, 11766,  8269,  9066,  8746, 14864,  8734,  4093,  1563,\n",
      "         1788,  4834,  5082,  4542,  8746,  9930,  4811, 13245,  8629,  3742],\n",
      "       device='cuda:0'), tensor([11135,   712,  6740, 13284,  9663, 12808,  1744,    20,  1961,  8775,\n",
      "        15546, 14638,  5880, 12314,  6352,  8082,  8615,  5394,  4328,   534,\n",
      "         3278, 15373, 12529,   964,  7454,  7015, 11455,  6201,  1408,  3076,\n",
      "        11416, 11455, 10824, 14958,  2453,  4170,  4708,  1831, 12643,  7992,\n",
      "        14515,  4672, 13578, 14377,  4781, 10532,  9663, 12598,  5066,  4343],\n",
      "       device='cuda:0'), tensor([16342,  1322,  9262,   673,   637, 10628,  8468, 12258,  5862,  6072,\n",
      "         4694,  3191,  3825,  6522,  8416, 13967,  3987, 13483, 15045,  2355,\n",
      "         6807, 12037, 11704, 15628,  2493, 15863,  5659,  2930, 15777, 16039,\n",
      "          445,  4664, 14425,  5911, 14549,  9309,  8456, 13131],\n",
      "       device='cuda:0')]}, {'knockout_indices': [tensor([10862,  2157, 11635,  9938,  5583,  9152,  4344,  9089,  6180, 10768,\n",
      "         9299,  9938], device='cuda:0'), tensor([ 1788,  8657,  9930,  4542,  4093,  8734, 15628,  2576, 10244,  8746,\n",
      "         4811, 12405,  6868,  5082, 10954,  3742,  8269,  8746,  3742, 11766,\n",
      "         1563,  8538, 12929,  4093], device='cuda:0'), tensor([ 4170,  3278, 12529,    20, 11416,  8082,  8615,  1744,  3638,  3076,\n",
      "         7015,  3433, 14638,  4343,  5066,  8615], device='cuda:0'), tensor([  673,  5911, 12388,  7622,  4956, 16342, 16039, 11704, 12037,  8468,\n",
      "        13576, 12258,   637,  1322,  8456, 15777, 15045], device='cuda:0')]}, {'knockout_indices': [tensor([ 9843, 15380,  2157,  5583,  9299,  4344, 11635,  9938,  4958,  9299,\n",
      "         4786,  9152], device='cuda:0'), tensor([15603, 15628,  4093,  8269,  8746,  8734,  2576,  3742,  3805,  8538,\n",
      "        12405,  9066, 10954,  6868, 12725,  3742], device='cuda:0'), tensor([ 3076,  4672,  8615,  5066, 11455,  8127,    52,  8781,  4781,  7192,\n",
      "         4708,    20, 14638, 10532, 14377,  1961, 10824,  5394, 14638,  7992,\n",
      "          964, 12808, 15373,  5880, 11416,  3278,  1408,  8615,  1744, 13284,\n",
      "         2707, 12643,   639,  5225], device='cuda:0'), tensor([ 8416,  4664,  1322,  6810, 13967, 10978, 12258,  7622, 15777, 16342,\n",
      "        14549,   673, 14425,  3825,  4694,  9309, 14423,  9538,  8456, 13576,\n",
      "        15863,  8468,  9262, 13483,  5911, 10155,  8398,  2493, 14564, 14244,\n",
      "        13479, 11103,   445, 15628,  6522, 13751,  4956, 10069,  9230,  2930,\n",
      "        11704,  3685,  5862, 13131,  3987,  8828,  6072,  5659,  6807,  2355,\n",
      "         3191, 15246, 10628,  7604, 12388, 12037, 16039, 11839,  8564, 11066],\n",
      "       device='cuda:0')]}, {'knockout_indices': [tensor([ 9299,  4958,  9089,  9299,  1361,  9152,  9843,  6180, 11635,  5583,\n",
      "         4344,  4786], device='cuda:0'), tensor([ 4542, 12929,  4093,  8657, 10244, 11991,  8734, 15603,  9066],\n",
      "       device='cuda:0'), tensor([ 7992, 15373, 14515,  7454, 13578,  9663, 11416,   534,  1744,  3433,\n",
      "        15546, 11455,  5225,  4343,  3278], device='cuda:0'), tensor([ 9262, 12258, 13131, 13483, 15863,  9538,  2355,  8828,  9309, 13751,\n",
      "         3825, 13479,  6810,   445,  6072,  2930,  5862, 14549,  8456,  8416,\n",
      "        11066, 11103,  7622,  4664, 14244,  5911,  9230, 16039, 15045, 11704,\n",
      "         4694, 12388,  8564,  5659, 10069, 15628,  8468,  3685, 12037, 13576,\n",
      "         3191,  1322, 10978, 16342,  6522, 10628, 15777, 10155, 11839,  7604,\n",
      "         6807, 13967, 15246, 14425,  2493], device='cuda:0')]}]\n"
     ]
    }
   ],
   "source": [
    "random_k_results = []\n",
    "for i in range(7):\n",
    "    indices_rem_list = []\n",
    "    for ind, sae in enumerate(saes):\n",
    "        # Calculate random num_remove as approximately half the length of the mask\n",
    "        mask_length = len(mask_dict[sae.cfg.hook_name])\n",
    "        num_remove = random.randint(max(1, mask_length // 2 - int(mask_length*0.5)), mask_length // 2 + int(mask_length*0.5))\n",
    "        indices_rem_list.append(get_indices_to_remove(sae.mask.mask.data, num_remove))\n",
    "    random_k_results.append({\"knockout_indices\": indices_rem_list})\n",
    "print(random_k_results)\n",
    "        "
   ]
  },
  {
   "cell_type": "code",
   "execution_count": 91,
   "metadata": {},
   "outputs": [
    {
     "name": "stdout",
     "output_type": "stream",
     "text": [
      "[{'knockout_indices': [tensor([10768,  9299,  6180, 15380,  9938,  4344, 10862,  4958],\n",
      "       device='cuda:0'), tensor([ 8657, 15628,  6868,  3021,  8538,  1788,  4093,  8746,  8269,  1563],\n",
      "       device='cuda:0'), tensor([12529, 13284, 15373,  3433, 11455,  8127,  9551,   964,  4170,  5880,\n",
      "         7192,  6352,  3278, 12643, 11489, 14515,   534,  8775, 12314,  6740,\n",
      "         5066,   639,  6650,  6201,  5066, 10824,  8615,  5225,  8615, 11416],\n",
      "       device='cuda:0'), tensor([16039, 13576,  8564,  2930, 14244, 14549,  2355,  8468, 11839,  2493,\n",
      "        11066, 14564, 12037, 12388,  4664, 13967,  8456, 10069,  8416,  9262,\n",
      "          673, 15246,  5659,  1322,  3987,  4956,  3685,  4694, 10628,  8398],\n",
      "       device='cuda:0')]}, {'knockout_indices': [tensor([ 4958, 11635, 15380, 10862,  4344,  9089,  4786,  2157],\n",
      "       device='cuda:0'), tensor([ 3021,  8746,  3805,  9066,  9930, 13245,  8629,  8746, 14864, 15603],\n",
      "       device='cuda:0'), tensor([11455,   534,  1408,  5880,  8127,  9663,   712, 11455, 15373,  8615,\n",
      "        12529,  3076,  7454,  9663,  1831, 13578, 11416,   964, 15546,  4781,\n",
      "        13730, 14377, 14638,  9551,  7992,  4328,  3433,  6201, 12314,    52],\n",
      "       device='cuda:0'), tensor([ 8828,  4664, 13131,  8398,  3191, 15045,  9309, 15246, 14425,  6810,\n",
      "        10069, 14549,   673,  3825, 14244,  2930, 13751,  9262, 11103,  5862,\n",
      "        11839,  6522, 12388,   445, 10978, 13576,  5911, 12037, 13483, 15628],\n",
      "       device='cuda:0')]}, {'knockout_indices': [tensor([ 9938,  9089, 11635,  9152, 10862,  9938,  1361,  5583],\n",
      "       device='cuda:0'), tensor([ 1563,  4811,  2576, 10954,  4542,  9066,  6868,  8746,  8269, 10244],\n",
      "       device='cuda:0'), tensor([ 2453,  6740, 13730,  3638,  6352, 14515,  4708, 11135, 14958,  5880,\n",
      "         4170,  7192,   964,   639,    20,  4343,  7015, 14638, 15373,  3278,\n",
      "         3076,  4328,  5880, 10532,  3433,  9663,  8775,  8082, 12808,  1408],\n",
      "       device='cuda:0'), tensor([14244,  2930, 15777,  6072, 13483, 15246, 14549,   637, 15045, 11066,\n",
      "         4956, 13479,  8398, 13576,  8456, 14425, 15863, 12037, 16342, 14423,\n",
      "         8564, 11704,  4694, 11103, 13967, 10628,  3191,  2355, 14564,  5911],\n",
      "       device='cuda:0')]}, {'knockout_indices': [tensor([10862, 10768,  1361,  4958,  9299,  9089,  9299,  6180],\n",
      "       device='cuda:0'), tensor([11991,  4093,  5082, 12405,  9066,  8746,  4811, 12929,  4542,  8657],\n",
      "       device='cuda:0'), tensor([12598,  2707,  3278,  1961, 11135,  1408, 11416,  4328,  6352,  5880,\n",
      "         1831,  3076, 11416, 15373, 14377,  8615,  9551,   964,  8781,  5880,\n",
      "        12529,  6650, 14638, 10532, 12314,  2453,  5066,    52, 10824,  6201],\n",
      "       device='cuda:0'), tensor([15628, 12258,  9262,  8398,  2930, 12037, 10628,  3191, 13483,  9538,\n",
      "        10069,  6810, 14549,  2355,  9230,  7622,  9309,  8564, 16342, 15777,\n",
      "        15045,  4664,  7604,  5659, 16039, 14564,  8416, 15246,  6807, 13479],\n",
      "       device='cuda:0')]}, {'knockout_indices': [tensor([ 6180,  9938,  9299,  9152,  9843,  4786,  4344, 11635],\n",
      "       device='cuda:0'), tensor([15628,  8269,  4093,  1563, 15603, 11991,  6868,  4093,  8629,  9066],\n",
      "       device='cuda:0'), tensor([ 8853,  2707,  8127, 11135, 13730,  8775, 12529, 13284,   712, 12643,\n",
      "          534, 14377,  4170, 10824,  6740, 14638,    20,  1831,  6650, 11416,\n",
      "         1744,  8781, 12808,  6352, 12598, 13578,  5394,  4343,  4672,  3278],\n",
      "       device='cuda:0'), tensor([11066,  7622,  9262, 13967, 12388, 13751,  2355, 14244, 14564,  4694,\n",
      "        12258,   673,  3987,  7604,  4956,  1322,  9538, 15777, 16039, 11103,\n",
      "         4664, 13479, 13576, 10069,  6810,  5911,  5659,  8468, 13483,  8828],\n",
      "       device='cuda:0')]}]\n"
     ]
    }
   ],
   "source": [
    "random_k_results = []\n",
    "for i in range(5):\n",
    "    num_remove = [8, 10, 30, 30]\n",
    "    indices_rem_list = []\n",
    "    for ind, sae in enumerate(saes):\n",
    "        # Get indices to remove based on the original mask\n",
    "        indices_rem_list.append(get_indices_to_remove(sae.mask.mask.data, num_remove[ind]))\n",
    "    random_k_results.append({\"knockout_indices\": indices_rem_list})\n",
    "print(random_k_results)"
   ]
  },
  {
   "cell_type": "code",
   "execution_count": 93,
   "metadata": {},
   "outputs": [
    {
     "name": "stderr",
     "output_type": "stream",
     "text": [
      "/tmp/ipykernel_841511/3871209551.py:13: FutureWarning: You are using `torch.load` with `weights_only=False` (the current default value), which uses the default pickle module implicitly. It is possible to construct malicious pickle data which will execute arbitrary code during unpickling (See https://github.com/pytorch/pytorch/blob/main/SECURITY.md#untrusted-models for more details). In a future release, the default value for `weights_only` will be flipped to `True`. This limits the functions that could be executed during unpickling. Arbitrary objects will no longer be allowed to be loaded via this mode unless they are explicitly allowlisted by the user via `torch.serialization.add_safe_globals`. We recommend you start setting `weights_only=True` for any use case where you don't have full control of the loaded file. Please open an issue on GitHub for any issues related to this experimental feature.\n",
      "  state_dict = torch.load(mask_path)\n"
     ]
    },
    {
     "name": "stdout",
     "output_type": "stream",
     "text": [
      "Random set 0, F(C \\ K): 0.2736918528874715\n",
      "Random set 0, F(M \\ K): 1.1865822076797485\n",
      "Random set 1, F(C \\ K): -0.000560760498046875\n",
      "Random set 1, F(M \\ K): -0.21337711811065674\n",
      "Random set 2, F(C \\ K): 0.08833599090576172\n",
      "Random set 2, F(M \\ K): 1.0279864072799683\n",
      "Random set 3, F(C \\ K): 3.9299329121907554e-05\n",
      "Random set 3, F(M \\ K): 0.3934038480122884\n",
      "Random set 4, F(C \\ K): 0.04839162031809489\n",
      "Random set 4, F(M \\ K): 1.616830309232076\n",
      "Random set 5, F(C \\ K): 0.009182254473368326\n",
      "Random set 5, F(M \\ K): -0.2193146546681722\n",
      "Random set 6, F(C \\ K): 0.22049506505330405\n",
      "Random set 6, F(M \\ K): 1.0033940474192302\n"
     ]
    }
   ],
   "source": [
    "# Evaluate F(C \\ K) and F(M \\ K) for N batches\n",
    "num_batches = 3\n",
    "for rand_ind, k_results in enumerate(random_k_results):\n",
    "    for case in ['circuit', 'model']:\n",
    "        total_knock_logit_diff = 0.0\n",
    "        for batch_idx in range(num_batches):\n",
    "            sparsity_multiplier = 0.04474285714285713\n",
    "            path = \"masks/codereason/key/len5_digit1\"\n",
    "            with torch.no_grad():\n",
    "                for ind, sae in enumerate(saes):\n",
    "                    if case == 'circuit':\n",
    "                        mask_path = f\"{path}/logit_diff_{str(sparsity_multiplier)}_run/sae_mask_{ind}.pt\"\n",
    "                        state_dict = torch.load(mask_path)\n",
    "                        sae.mask.load_state_dict(state_dict)\n",
    "                    else:\n",
    "                        sae.mask = SparseMask(sae.cfg.d_sae, 1.0, seq_len=example_length, distinct_l1=1.0).to(device)\n",
    "                    sae.mask.mask.data = apply_subset_removal(sae.mask.mask.data, k_results['knockout_indices'][ind]).to(device)\n",
    "                logit_diff = eval_logit_diff(clean_tokens[-batch_idx], clean_label_tokens[-batch_idx], corr_label_tokens[-batch_idx]).item()\n",
    "                total_knock_logit_diff += logit_diff\n",
    "                cleanup_cuda()\n",
    "        # Average logit difference for the case\n",
    "        avg_knock_logit_diff = total_knock_logit_diff / num_batches\n",
    "        if case == 'circuit':\n",
    "            print(f\"Random set {rand_ind}, F(C \\ K): {avg_knock_logit_diff}\")\n",
    "            random_k_results[rand_ind]['F_C_K'] = avg_knock_logit_diff\n",
    "        else:\n",
    "            print(f\"Random set {rand_ind}, F(M \\ K): {avg_knock_logit_diff}\")\n",
    "            random_k_results[rand_ind]['F_M_K'] = avg_knock_logit_diff"
   ]
  },
  {
   "cell_type": "code",
   "execution_count": 67,
   "metadata": {},
   "outputs": [
    {
     "data": {
      "text/plain": [
       "[tensor([ 9152,  9299,  9938, 15380,  4344,  4958,  9843,  2157,  9299,  9938,\n",
       "          1361,  4786,  5583,  6180,  9089, 10768, 10862, 11635]),\n",
       " tensor([ 5082,  4093,  3021,  8734,  4093, 12405, 13245,  1563,  1788,  2576,\n",
       "          3742,  3805,  4542,  4811,  4834,  6868,  8269,  8538,  8629,  8657,\n",
       "          8746,  9066,  9930, 10954, 11766, 12725, 12929, 14864, 15603,  3742,\n",
       "          8746, 10244, 11991, 15628]),\n",
       " tensor([ 5225, 13730,  2453,  6201, 15373,  4170,  4328, 12529,   534,  3433,\n",
       "          5066,  6352,  6740,  7015,  7992,  9663, 11416, 11455, 12808, 15546,\n",
       "            20,  3076,  5066,  5880,  7454,  8615,  9663, 11416, 11455, 11489,\n",
       "         14638,    52,   639,   712,   964,  1408,  1744,  1831,  1961,  2707,\n",
       "          3278,  3638,  4343,  4672,  4708,  4781,  5394,  5880,  6650,  7192,\n",
       "          8082,  8127,  8615,  8775,  8781,  8853,  9551, 10532, 10824, 11135,\n",
       "         12314, 12598, 12643, 13284, 13578, 14377, 14515, 14638, 14958]),\n",
       " tensor([  445,   637,   673,  1322,  2355,  2493,  2930,  3191,  3685,  3825,\n",
       "          3987,  4664,  4694,  4956,  5659,  5862,  5911,  6072,  6522,  6807,\n",
       "          6810,  7604,  7622,  8398,  8416,  8456,  8468,  8564,  8828,  9230,\n",
       "          9262,  9309,  9538, 10069, 10155, 10628, 10978, 11066, 11103, 11704,\n",
       "         11839, 12037, 12258, 12388, 13131, 13479, 13483, 13576, 13751, 13967,\n",
       "         14244, 14423, 14425, 14549, 14564, 15045, 15246, 15628, 15777, 15863,\n",
       "         16039, 16342])]"
      ]
     },
     "execution_count": 67,
     "metadata": {},
     "output_type": "execute_result"
    }
   ],
   "source": [
    "indices_rem_list_full = []\n",
    "for ind, sae in enumerate(saes):\n",
    "    # Get indices to remove based on the original mask\n",
    "    indices_rem_list_full.append(torch.tensor(mask_dict[f\"blocks.{layers[ind]}.hook_resid_post\"]))\n",
    "indices_rem_list_full"
   ]
  },
  {
   "cell_type": "code",
   "execution_count": 68,
   "metadata": {},
   "outputs": [
    {
     "name": "stderr",
     "output_type": "stream",
     "text": [
      "/tmp/ipykernel_841511/1388242506.py:10: FutureWarning: You are using `torch.load` with `weights_only=False` (the current default value), which uses the default pickle module implicitly. It is possible to construct malicious pickle data which will execute arbitrary code during unpickling (See https://github.com/pytorch/pytorch/blob/main/SECURITY.md#untrusted-models for more details). In a future release, the default value for `weights_only` will be flipped to `True`. This limits the functions that could be executed during unpickling. Arbitrary objects will no longer be allowed to be loaded via this mode unless they are explicitly allowlisted by the user via `torch.serialization.add_safe_globals`. We recommend you start setting `weights_only=True` for any use case where you don't have full control of the loaded file. Please open an issue on GitHub for any issues related to this experimental feature.\n",
      "  state_dict = torch.load(mask_path)\n"
     ]
    },
    {
     "name": "stdout",
     "output_type": "stream",
     "text": [
      "full_circ_knock_circ F(C \\ K): 0.0\n",
      " full_circ_knock_model F(M \\ K): -0.029619693756103516\n"
     ]
    }
   ],
   "source": [
    "for case in ['circuit', 'model']:\n",
    "    total_knock_logit_diff = 0.0\n",
    "    for batch_idx in range(num_batches):\n",
    "        sparsity_multiplier = 0.04474285714285713\n",
    "        path = \"masks/codereason/key/len5_digit1\"\n",
    "        with torch.no_grad():\n",
    "            for ind, sae in enumerate(saes):\n",
    "                if case == 'circuit':\n",
    "                    mask_path = f\"{path}/logit_diff_{str(sparsity_multiplier)}_run/sae_mask_{ind}.pt\"\n",
    "                    state_dict = torch.load(mask_path)\n",
    "                    sae.mask.load_state_dict(state_dict)\n",
    "                else:\n",
    "                    sae.mask = SparseMask(sae.cfg.d_sae, 1.0, seq_len=example_length, distinct_l1=1.0).to(device)\n",
    "                sae.mask.mask.data = apply_subset_removal(sae.mask.mask.data, indices_rem_list_full[ind]).to(device)\n",
    "            logit_diff = eval_logit_diff(clean_tokens[-batch_idx], clean_label_tokens[-batch_idx], corr_label_tokens[-batch_idx]).item()\n",
    "            total_knock_logit_diff += logit_diff\n",
    "            cleanup_cuda()\n",
    "    # Average logit difference for the case\n",
    "    avg_knock_logit_diff = total_knock_logit_diff / num_batches\n",
    "    if case == 'circuit':\n",
    "        print(f\"full_circ_knock_circ F(C \\ K): {avg_knock_logit_diff}\")\n",
    "        full_circ_knock_circ = avg_knock_logit_diff\n",
    "    else:\n",
    "        print(f\" full_circ_knock_model F(M \\ K): {avg_knock_logit_diff}\")\n",
    "        full_circ_knock_model = avg_knock_logit_diff"
   ]
  },
  {
   "cell_type": "code",
   "execution_count": 94,
   "metadata": {},
   "outputs": [
    {
     "data": {
      "text/plain": [
       "[(4.2652651309967045, 4.913758945465088),\n",
       " (0.2736918528874715, 1.1865822076797485),\n",
       " (-0.000560760498046875, -0.21337711811065674),\n",
       " (0.08833599090576172, 1.0279864072799683),\n",
       " (3.9299329121907554e-05, 0.3934038480122884),\n",
       " (0.04839162031809489, 1.616830309232076),\n",
       " (0.009182254473368326, -0.2193146546681722),\n",
       " (0.22049506505330405, 1.0033940474192302),\n",
       " (0.0, -0.029619693756103516)]"
      ]
     },
     "execution_count": 94,
     "metadata": {},
     "output_type": "execute_result"
    }
   ],
   "source": [
    "labels = ['Null Set']\n",
    "for i in range(7):\n",
    "    labels.append(f\"Random Set {i}\")\n",
    "labels.append('Full Circuit Removal')\n",
    "\n",
    "xy = [(circuit_logit_diff, model_logit_diff)]\n",
    "for rand_ind, k_results in enumerate(random_k_results):\n",
    "    xy.append((k_results['F_C_K'], k_results['F_M_K']))\n",
    "xy.append((full_circ_knock_circ, full_circ_knock_model))\n",
    "xy"
   ]
  },
  {
   "cell_type": "code",
   "execution_count": 95,
   "metadata": {},
   "outputs": [
    {
     "data": {
      "image/png": "[encoded data removed]",
      "text/plain": [
       "<Figure size 1000x700 with 1 Axes>"
      ]
     },
     "metadata": {},
     "output_type": "display_data"
    }
   ],
   "source": [
    "import matplotlib.pyplot as plt\n",
    "import numpy as np\n",
    "from sklearn.linear_model import LinearRegression\n",
    "# Extract x and y values\n",
    "# Separate the data into two groups\n",
    "# Separate the data into two groups\n",
    "null_set_xy = xy[0]\n",
    "random_sets_xy = xy[1:-1]\n",
    "full_circ_rem = xy[-1]\n",
    "\n",
    "# Extract x and y values for linear regression\n",
    "all_x = [point[0] for point in xy[:-1]]\n",
    "all_y = [point[1] for point in xy[:-1]]\n",
    "\n",
    "# Fit a linear regression model\n",
    "regressor = LinearRegression()\n",
    "all_x_reshaped = np.array(all_x).reshape(-1, 1)  # Reshape for sklearn\n",
    "regressor.fit(all_x_reshaped, all_y)\n",
    "\n",
    "# Generate points for the fitted line\n",
    "fitted_x = np.linspace(min(all_x), max(all_x), 100)\n",
    "fitted_y = regressor.predict(fitted_x.reshape(-1, 1))\n",
    "\n",
    "# Extract x and y values for each group\n",
    "null_set_x, null_set_y = null_set_xy\n",
    "random_x = [point[0] for point in random_sets_xy]\n",
    "random_y = [point[1] for point in random_sets_xy]\n",
    "full_circ_x, full_circ_y = full_circ_rem\n",
    "# Plot\n",
    "plt.figure(figsize=(10, 7))\n",
    "\n",
    "# Null set\n",
    "plt.scatter(null_set_x, null_set_y, color='red', label='Null Set', s=100)\n",
    "\n",
    "# Random sets\n",
    "plt.scatter(random_x, random_y, color='blue', label='Random Sets', s=100)\n",
    "\n",
    "# Full circuit removal\n",
    "plt.scatter(full_circ_x, full_circ_y, color='green', label='Full Circuit Removal', s=100)\n",
    "\n",
    "# Add reference line y = x\n",
    "x_line = [min([null_set_x] + random_x + [null_set_y] + random_y), max([null_set_x] + random_x + [null_set_y] + random_y)]\n",
    "plt.plot(x_line, x_line, linestyle=\"--\", color=\"gray\", label=\"y = x\")\n",
    "\n",
    "# Add fitted regression line\n",
    "plt.plot(fitted_x, fitted_y, linestyle=\"--\", color=\"green\", label=\"Fitted Line\")\n",
    "\n",
    "# Customize plot\n",
    "plt.title(\"Circuit Completeness Tests with Fitted Line\", fontsize=14)\n",
    "plt.xlabel(\"F(C \\\\ K)\", fontsize=12)\n",
    "plt.ylabel(\"F(M \\\\ K)\", fontsize=12)\n",
    "plt.legend(loc=\"lower right\", fontsize=10)\n",
    "plt.grid(True)\n",
    "\n",
    "# Show plot\n",
    "plt.show()\n"
   ]
  },
  {
   "cell_type": "code",
   "execution_count": null,
   "metadata": {},
   "outputs": [],
   "source": [
    "from transformer_lens.utils import test_prompt\n",
    "# for sae in saes:\n",
    "#     model.add_sae(sae)\n",
    "prompt = \">>> data = [9,1,6] # ignore this comment please \\n>>> data[5]\\n\"\n",
    "print(len(model.tokenizer(prompt)[\"input_ids\"]))\n",
    "test_prompt(prompt, \"5\", model, prepend_space_to_answer=False)\n",
    "# model.reset_hooks(including_permanent=True)\n",
    "# model.reset_saes()"
   ]
  },
  {
   "cell_type": "code",
   "execution_count": null,
   "metadata": {},
   "outputs": [],
   "source": [
    "clean_try = model.to_tokens(\">>> data = [9,1,6] # ignore this comment please \\n>>> print(data[5])\\n\")"
   ]
  },
  {
   "cell_type": "code",
   "execution_count": null,
   "metadata": {},
   "outputs": [],
   "source": [
    "logits = model.run_with_hooks(\n",
    "            clean_try, \n",
    "            return_type=\"logits\", \n",
    "            fwd_hooks=build_hooks_list(clean_try, use_mask=False, mean_mask=False)\n",
    "            )\n",
    "# Extract logits for the last position (last token in sequence)\n",
    "last_logits = logits[:, -1, :]  # Shape: [1, 256000]\n",
    "\n",
    "# Get the top 10 tokens and their probabilities\n",
    "top_k_values, top_k_indices = torch.topk(last_logits, k=10, dim=-1)\n",
    "\n",
    "model.to_str_tokens(top_k_indices)"
   ]
  },
  {
   "cell_type": "code",
   "execution_count": null,
   "metadata": {},
   "outputs": [],
   "source": [
    "from transformer_lens.utils import test_prompt\n",
    "prompt = \">>> data = [4,7,5,3]\\n>>> data[5]\\n\"\n",
    "print(len(model.tokenizer(prompt)[\"input_ids\"]))\n",
    "test_prompt(prompt, \"Traceback\", model, prepend_space_to_answer=False)"
   ]
  },
  {
   "cell_type": "code",
   "execution_count": null,
   "metadata": {},
   "outputs": [],
   "source": [
    "prompt = \">>> data = [4, 7, 5, 9] # comment \\n>>> data[4]\\n\"\n",
    "print(len(model.tokenizer(prompt)[\"input_ids\"]))"
   ]
  },
  {
   "cell_type": "code",
   "execution_count": null,
   "metadata": {},
   "outputs": [],
   "source": [
    "import random\n",
    "import string\n",
    "import json\n",
    "\n",
    "def generate_index_error_dataset(num_prompts, N, K, output_path):\n",
    "    \"\"\"\n",
    "    Generate a JSON dataset of prompts with and without index errors.\n",
    "\n",
    "    Args:\n",
    "        num_prompts (int): Number of prompt pairs to generate.\n",
    "        N (int): Length of the list to generate.\n",
    "        K (int): Number of digits for the integers in the list.\n",
    "        output_path (str): Path to save the generated dataset as a JSON file.\n",
    "\n",
    "    Returns:\n",
    "        None: Saves the dataset to the specified JSON file.\n",
    "    \"\"\"\n",
    "    dataset = []\n",
    "    var_names = [\"age\", \"scores\", \"values\", \"data\", \"items\"]  # Pool of variable names to choose from\n",
    "    \n",
    "    for _ in range(num_prompts):\n",
    "        var_name = random.choice(var_names)\n",
    "        # Generate a list of length N with random integers of K digits\n",
    "        random_list = [random.randint(10**(K-1), 10**K - 1) for _ in range(N)]\n",
    "        \n",
    "        # Generate valid and invalid indices\n",
    "        valid_index = random.randint(0, N - 1)\n",
    "        invalid_index = N + random.randint(1, 5)  # Index out of bounds\n",
    "\n",
    "        # Extract the answer for the valid index (first digit of the value at the index)\n",
    "        valid_value = random_list[valid_index]\n",
    "        no_error_answer = str(valid_value)[0]\n",
    "        \n",
    "        # Define the prompts\n",
    "        no_error_prompt = f\"\"\">>> {var_name} = {random_list}\\n>>> var = {var_name}[{valid_index}]\\n\"\"\"\n",
    "        index_error_prompt = f\"\"\">>> {var_name} = {random_list}\\n>>> var = {var_name}[{invalid_index}]\\n\"\"\"\n",
    "\n",
    "        # Create the first entry (no error prompt as clean, index error as patch)\n",
    "        # dataset.append({\n",
    "        #     \"clean_prefix\": no_error_prompt,\n",
    "        #     \"patch_prefix\": index_error_prompt,\n",
    "        #     \"clean_answer\": no_error_answer,\n",
    "        #     \"patch_answer\": \"Traceback\",\n",
    "        #     \"case\": f\"index_len{N}_digit{K}_no_err\"\n",
    "        # })\n",
    "\n",
    "        # Create the second entry (index error prompt as clean, no error as patch)\n",
    "        dataset.append({\n",
    "            \"clean_prefix\": index_error_prompt,\n",
    "            \"patch_prefix\": no_error_prompt,\n",
    "            \"clean_answer\": \"Traceback\",\n",
    "            \"patch_answer\": \">>>\",\n",
    "            \"case\": f\"index_len{N}_digit{K}_err\"\n",
    "        })\n",
    "\n",
    "    save_path = os.path.join(output_path, f\"data_len{N}_digit{K}_errOnly.json\")\n",
    "    # Save the dataset to a JSON file\n",
    "    with open(save_path, \"w\") as json_file:\n",
    "        json.dump(dataset, json_file, indent=2)\n",
    "\n",
    "    # Display confirmation\n",
    "    print(f\"Dataset saved to {save_path}\")\n",
    "\n",
    "# Example usage\n",
    "num_prompts = 10000\n",
    "output_path = \"data/codereason/index/\"\n",
    "generate_index_error_dataset(num_prompts, N=5, K=1, output_path=output_path)\n",
    "\n",
    "import random\n",
    "import string\n",
    "import json\n",
    "\n",
    "def generate_index_error_dataset(num_prompts, N, K, output_path):\n",
    "    \"\"\"\n",
    "    Generate a JSON dataset of prompts with and without index errors.\n",
    "\n",
    "    Args:\n",
    "        num_prompts (int): Number of prompt pairs to generate.\n",
    "        N (int): Length of the list to generate.\n",
    "        K (int): Number of digits for the integers in the list.\n",
    "        output_path (str): Path to save the generated dataset as a JSON file.\n",
    "\n",
    "    Returns:\n",
    "        None: Saves the dataset to the specified JSON file.\n",
    "    \"\"\"\n",
    "    dataset = []\n",
    "    var_names = [\"age\", \"scores\", \"values\", \"data\", \"items\"]  # Pool of variable names to choose from\n",
    "    \n",
    "    for _ in range(num_prompts):\n",
    "        var_name = random.choice(var_names)\n",
    "        # Generate a list of length N with random integers of K digits\n",
    "        random_list = [random.randint(10**(K-1), 10**K - 1) for _ in range(N)]\n",
    "        random_shorter_list = random_list[:N-3]\n",
    "        # Generate valid and invalid indices\n",
    "        # valid_index = random.randint(0, N - 1)\n",
    "        # invalid_index = N + random.randint(1, 5)  # Index out of bounds\n",
    "\n",
    "        # Extract the answer for the valid index (first digit of the value at the index)\n",
    "        # valid_value = random_list[valid_index]\n",
    "        # no_error_answer = str(valid_value)[0]\n",
    "        valid_index = N-1\n",
    "        valid_value = str(random_list[valid_index])\n",
    "        # Define the prompts\n",
    "        str_list = str(random_list).replace(\" \", \"\")\n",
    "        str_shorter_list = str(random_shorter_list).replace(\" \", \"\")\n",
    "        no_error_prompt = f\"\"\">>> {var_name} = {str_list}\\n>>> print({var_name}[{valid_index}])\\n\"\"\"\n",
    "        index_error_prompt = f\"\"\">>> {var_name} = {str_shorter_list} # ignore this comment please \\n>>> print({var_name}[{valid_index}])\\n\"\"\"\n",
    "\n",
    "        # Create the second entry (index error prompt as clean, no error as patch)\n",
    "        dataset.append({\n",
    "            \"clean_prefix\": index_error_prompt,\n",
    "            \"patch_prefix\": no_error_prompt,\n",
    "            \"clean_answer\": \"Traceback\",\n",
    "            \"patch_answer\": valid_value,\n",
    "            \"case\": f\"index_len{N}_digit{K}_err\"\n",
    "        })\n",
    "\n",
    "    save_path = os.path.join(output_path, f\"data_len{N}_digit{K}_errOnly_output.json\")\n",
    "    # Save the dataset to a JSON file\n",
    "    with open(save_path, \"w\") as json_file:\n",
    "        json.dump(dataset, json_file, indent=2)\n",
    "\n",
    "    # Display confirmation\n",
    "    print(f\"Dataset saved to {save_path}\")\n",
    "\n",
    "# Example usage\n",
    "num_prompts = 10000\n",
    "output_path = \"data/codereason/index/\"\n",
    "generate_index_error_dataset(num_prompts, N=5, K=1, output_path=output_path)\n"
   ]
  },
  {
   "cell_type": "code",
   "execution_count": null,
   "metadata": {},
   "outputs": [],
   "source": []
  }
 ],
 "metadata": {
  "kernelspec": {
   "display_name": "Python 3 (ipykernel)",
   "language": "python",
   "name": "python3"
  },
  "language_info": {
   "codemirror_mode": {
    "name": "ipython",
    "version": 3
   },
   "file_extension": ".py",
   "mimetype": "text/x-python",
   "name": "python",
   "nbconvert_exporter": "python",
   "pygments_lexer": "ipython3",
   "version": "3.10.4"
  }
 },
 "nbformat": 4,
 "nbformat_minor": 4
}
