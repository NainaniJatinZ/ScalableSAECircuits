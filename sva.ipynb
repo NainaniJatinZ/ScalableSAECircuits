{
 "cells": [
  {
   "cell_type": "code",
   "execution_count": 1,
   "metadata": {},
   "outputs": [],
   "source": [
    "import json\n",
    "from sae_lens import SAE, HookedSAETransformer\n",
    "from functools import partial\n",
    "import einops\n",
    "import os\n",
    "import gc\n",
    "import torch\n",
    "import torch.nn as nn\n",
    "import matplotlib.pyplot as plt\n",
    "import torch.optim as optim\n",
    "from datasets import load_dataset\n",
    "from transformers import AutoTokenizer\n",
    "from transformer_lens.hook_points import (\n",
    "    HookPoint,\n",
    ") \n",
    "import numpy as np\n",
    "import pandas as pd\n",
    "from pprint import pprint as pp\n",
    "from typing import Tuple\n",
    "from torch import Tensor\n",
    "from functools import lru_cache\n",
    "from typing import TypedDict, Optional, Tuple, Union\n",
    "from tqdm import tqdm\n",
    "import random"
   ]
  },
  {
   "cell_type": "code",
   "execution_count": 2,
   "metadata": {},
   "outputs": [
    {
     "name": "stderr",
     "output_type": "stream",
     "text": [
      "WARNING:root:You tried to specify center_unembed=True for a model using logit softcap, but this can't be done! Softcapping is not invariant upon adding a constantSetting center_unembed=False instead.\n"
     ]
    },
    {
     "name": "stdout",
     "output_type": "stream",
     "text": [
      "Device: cuda\n"
     ]
    },
    {
     "data": {
      "application/vnd.jupyter.widget-view+json": {
       "model_id": "3b1be6c38c97498b8c8845083424069f",
       "version_major": 2,
       "version_minor": 0
      },
      "text/plain": [
       "Loading checkpoint shards:   0%|          | 0/8 [00:00<?, ?it/s]"
      ]
     },
     "metadata": {},
     "output_type": "display_data"
    },
    {
     "name": "stderr",
     "output_type": "stream",
     "text": [
      "WARNING:root:You are not using LayerNorm, so the writing weights can't be centered! Skipping\n"
     ]
    },
    {
     "name": "stdout",
     "output_type": "stream",
     "text": [
      "Loaded pretrained model google/gemma-2-9b into HookedTransformer\n"
     ]
    }
   ],
   "source": [
    "with open(\"config.json\", 'r') as file:\n",
    "   config = json.load(file)\n",
    "token = config.get('huggingface_token', None)\n",
    "os.environ[\"HF_TOKEN\"] = token\n",
    "\n",
    "# Define device\n",
    "device = \"cuda\" if torch.cuda.is_available() else \"cpu\"\n",
    "print(f\"Device: {device}\")\n",
    "\n",
    "hf_cache = \"/work/pi_jensen_umass_edu/jnainani_umass_edu/mechinterp/huggingface_cache/hub\"\n",
    "os.environ[\"HF_HOME\"] = hf_cache\n",
    "\n",
    "# Load the model\n",
    "model = HookedSAETransformer.from_pretrained(\"google/gemma-2-9b\", device=device, cache_dir=hf_cache) "
   ]
  },
  {
   "cell_type": "code",
   "execution_count": 3,
   "metadata": {},
   "outputs": [],
   "source": [
    "pad_token_id = model.tokenizer.pad_token_id\n",
    "for param in model.parameters():\n",
    "   param.requires_grad_(False)\n",
    "\n",
    "device = \"cuda\"\n",
    "layers= [7, 14, 21, 40]\n",
    "l0s = [92, 67, 129, 125]\n",
    "saes = [SAE.from_pretrained(release=\"gemma-scope-9b-pt-res\", sae_id=f\"layer_{layers[i]}/width_16k/average_l0_{l0s[i]}\", device=device)[0] for i in range(len(layers))]"
   ]
  },
  {
   "cell_type": "code",
   "execution_count": 4,
   "metadata": {},
   "outputs": [
    {
     "name": "stdout",
     "output_type": "stream",
     "text": [
      "Wed Dec 25 20:52:44 2024       \n",
      "+-----------------------------------------------------------------------------------------+\n",
      "| NVIDIA-SMI 550.127.05             Driver Version: 550.127.05     CUDA Version: 12.4     |\n",
      "|-----------------------------------------+------------------------+----------------------+\n",
      "| GPU  Name                 Persistence-M | Bus-Id          Disp.A | Volatile Uncorr. ECC |\n",
      "| Fan  Temp   Perf          Pwr:Usage/Cap |           Memory-Usage | GPU-Util  Compute M. |\n",
      "|                                         |                        |               MIG M. |\n",
      "|=========================================+========================+======================|\n",
      "|   0  NVIDIA A100-SXM4-80GB          On  |   00000000:1B:00.0 Off |                    0 |\n",
      "| N/A   31C    P0             68W /  500W |   45027MiB /  81920MiB |      0%      Default |\n",
      "|                                         |                        |             Disabled |\n",
      "+-----------------------------------------+------------------------+----------------------+\n",
      "                                                                                         \n",
      "+-----------------------------------------------------------------------------------------+\n",
      "| Processes:                                                                              |\n",
      "|  GPU   GI   CI        PID   Type   Process name                              GPU Memory |\n",
      "|        ID   ID                                                               Usage      |\n",
      "|=========================================================================================|\n",
      "|    0   N/A  N/A   2102784      C   ...u/.conda/envs/finetuning/bin/python      45018MiB |\n",
      "+-----------------------------------------------------------------------------------------+\n"
     ]
    },
    {
     "name": "stderr",
     "output_type": "stream",
     "text": [
      "huggingface/tokenizers: The current process just got forked, after parallelism has already been used. Disabling parallelism to avoid deadlocks...\n",
      "To disable this warning, you can either:\n",
      "\t- Avoid using `tokenizers` before the fork if possible\n",
      "\t- Explicitly set the environment variable TOKENIZERS_PARALLELISM=(true | false)\n"
     ]
    }
   ],
   "source": [
    "!nvidia-smi"
   ]
  },
  {
   "cell_type": "markdown",
   "metadata": {},
   "source": [
    "# utilities"
   ]
  },
  {
   "cell_type": "code",
   "execution_count": 5,
   "metadata": {},
   "outputs": [],
   "source": [
    "def cleanup_cuda():\n",
    "   torch.cuda.empty_cache()\n",
    "   gc.collect()\n",
    "\n",
    "def clear_memory():\n",
    "   for sae in saes:\n",
    "      for param in sae.parameters():\n",
    "         param.grad = None\n",
    "      for param in sae.mask.parameters():\n",
    "         param.grad = None\n",
    "\n",
    "   for param in model.parameters():\n",
    "      param.grad = None\n",
    "   cleanup_cuda()\n"
   ]
  },
  {
   "cell_type": "code",
   "execution_count": 6,
   "metadata": {},
   "outputs": [],
   "source": [
    "cleanup_cuda()"
   ]
  },
  {
   "cell_type": "markdown",
   "metadata": {},
   "source": [
    "# Mask"
   ]
  },
  {
   "cell_type": "code",
   "execution_count": 7,
   "metadata": {},
   "outputs": [],
   "source": [
    "class SparseMask(nn.Module):\n",
    "    def __init__(self, shape, l1, seq_len=None, distinct_l1=0):\n",
    "        super().__init__()\n",
    "        if seq_len is not None:\n",
    "            self.mask = nn.Parameter(torch.ones(seq_len, shape))\n",
    "        else:\n",
    "            self.mask = nn.Parameter(torch.ones(shape))\n",
    "        self.l1 = l1\n",
    "        self.distinct_l1 = distinct_l1\n",
    "        self.max_temp = torch.tensor(1000.0)\n",
    "        self.sparsity_loss = None\n",
    "        self.ratio_trained = 1\n",
    "        self.temperature = 1\n",
    "        self.distinct_sparsity_loss = 0\n",
    "\n",
    "\n",
    "    def forward(self, x, binary=False, mean_ablation=None):\n",
    "        if binary:\n",
    "            # binary mask, 0 if negative, 1 if positive\n",
    "            binarized = (self.mask > 0).float()\n",
    "            if mean_ablation is None:\n",
    "                return x * binarized\n",
    "            else:\n",
    "                diff = x - mean_ablation\n",
    "                return diff * binarized + mean_ablation\n",
    "            \n",
    "\n",
    "        self.temperature = self.max_temp ** self.ratio_trained\n",
    "        mask = torch.sigmoid(self.mask * self.temperature)\n",
    "        self.sparsity_loss = torch.abs(mask).sum() * self.distinct_l1\n",
    "        if len(mask.shape) == 2:\n",
    "            self.distinct_sparsity_loss = torch.abs(mask).max(dim=0).values.sum() * self.l1\n",
    "\n",
    "        if mean_ablation is None:\n",
    "            return x * mask\n",
    "        else:\n",
    "            diff = x - mean_ablation\n",
    "            return diff * mask + mean_ablation\n",
    "\n",
    "# for sae in saes:\n",
    "#     sae.mask = SparseMask(sae.cfg.d_sae, 1.0, seq_len=65)"
   ]
  },
  {
   "cell_type": "code",
   "execution_count": 8,
   "metadata": {},
   "outputs": [],
   "source": [
    "bos_token_id = model.tokenizer.bos_token_id\n",
    "\n",
    "def build_sae_hook_fn(\n",
    "    sae,\n",
    "    sequence,\n",
    "    circuit_mask=None,\n",
    "    use_mask=False,\n",
    "    binarize_mask=False,\n",
    "    mean_mask=False,\n",
    "    ig_mask_threshold=None,\n",
    "    cache_sae_grads=False,\n",
    "    cache_masked_activations=False,\n",
    "    cache_sae_activations=False,\n",
    "    mean_ablate=False, \n",
    "    fake_activations=False):    \n",
    "    \n",
    "    mask = torch.ones_like(sequence, dtype=torch.bool)\n",
    "    mask[sequence == bos_token_id] = False \n",
    "\n",
    "    def sae_hook(value, hook):\n",
    "        # print(f\"sae {sae.cfg.hook_name} running at layer {hook.layer()}\")\n",
    "        feature_acts = sae.encode(value)\n",
    "        feature_acts = feature_acts * mask.unsqueeze(-1)\n",
    "        if fake_activations != False and sae.cfg.hook_layer == fake_activations[0]:\n",
    "            feature_acts = fake_activations[1]\n",
    "        if cache_sae_grads:\n",
    "            raise NotImplementedError(\"torch is confusing\")\n",
    "            sae.feature_acts = feature_acts.requires_grad_(True)\n",
    "            sae.feature_acts.retain_grad()\n",
    "        \n",
    "        if cache_sae_activations:\n",
    "            sae.feature_acts = feature_acts.detach().clone()\n",
    "        \n",
    "        # Learned Binary Masking\n",
    "        if use_mask:\n",
    "            if mean_mask:\n",
    "                # apply the mask, with mean ablations\n",
    "                feature_acts = sae.mask(feature_acts, binary=binarize_mask, mean_ablation=sae.mean_ablation)\n",
    "            else:\n",
    "                # apply the mask, without mean ablations\n",
    "                feature_acts = sae.mask(feature_acts, binary=binarize_mask)\n",
    "\n",
    "        # IG Masking\n",
    "        if ig_mask_threshold != None:\n",
    "            # apply the ig mask\n",
    "            if mean_mask:\n",
    "                feature_acts = sae.igmask(feature_acts, threshold=ig_mask_threshold, mean_ablation=sae.mean_ablation)\n",
    "            else:\n",
    "                feature_acts = sae.igmask(feature_acts, threshold=ig_mask_threshold)\n",
    "\n",
    "        if circuit_mask is not None:\n",
    "            raise NotImplementedError(\"mask interface not supported\")\n",
    "            mask_method = circuit_mask['mask_method']\n",
    "            mask_indices = circuit_mask[sae.cfg.hook_name]\n",
    "            if mask_method == 'keep_only':\n",
    "                # any activations not in the mask are set to 0\n",
    "                expanded_circuit_mask = torch.zeros_like(feature_acts)\n",
    "                expanded_circuit_mask[:, :, mask_indices] = 1\n",
    "                feature_acts = feature_acts * expanded_circuit_mask\n",
    "            elif mask_method == 'zero_only':\n",
    "                feature_acts[:, :, mask_indices] = 0\n",
    "            else:\n",
    "                raise ValueError(f\"mask_method {mask_method} not recognized\")\n",
    "            \n",
    "        if cache_masked_activations:\n",
    "            sae.feature_acts = feature_acts.detach().clone()\n",
    "        if mean_ablate:\n",
    "            feature_acts = sae.mean_ablation\n",
    "\n",
    "        out = sae.decode(feature_acts)\n",
    "        # choose out or value based on the mask\n",
    "        mask_expanded = mask.unsqueeze(-1).expand_as(value)\n",
    "        value = torch.where(mask_expanded, out, value)\n",
    "        return value\n",
    "    return sae_hook\n",
    "\n",
    "def build_hooks_list(sequence,\n",
    "                    cache_sae_activations=False,\n",
    "                    cache_sae_grads=False,\n",
    "                    circuit_mask=None,\n",
    "                    use_mask=False,\n",
    "                    binarize_mask=False,\n",
    "                    mean_mask=False,\n",
    "                    cache_masked_activations=False,\n",
    "                    mean_ablate=False,\n",
    "                    fake_activations: Tuple[int, torch.Tensor] = False,\n",
    "                    ig_mask_threshold=None,\n",
    "                    ):\n",
    "    hooks = []\n",
    "    for sae in saes:\n",
    "        hooks.append(\n",
    "            (\n",
    "            sae.cfg.hook_name,\n",
    "            build_sae_hook_fn(sae, sequence, cache_sae_grads=cache_sae_grads, circuit_mask=circuit_mask, use_mask=use_mask, binarize_mask=binarize_mask, cache_masked_activations=cache_masked_activations, cache_sae_activations=cache_sae_activations, mean_mask=mean_mask, mean_ablate=mean_ablate, fake_activations=fake_activations, ig_mask_threshold=ig_mask_threshold),\n",
    "            )\n",
    "        )\n",
    "    return hooks \n",
    "\n",
    "def build_sae_logitfn(**kwargs):\n",
    "    def logitfn(tokens):\n",
    "        return model.run_with_hooks(\n",
    "            tokens, \n",
    "            return_type=\"logits\", \n",
    "            fwd_hooks=build_hooks_list(tokens, **kwargs)\n",
    "            )\n",
    "    return logitfn"
   ]
  },
  {
   "cell_type": "markdown",
   "metadata": {},
   "source": [
    "# Data "
   ]
  },
  {
   "cell_type": "code",
   "execution_count": 9,
   "metadata": {},
   "outputs": [
    {
     "name": "stdout",
     "output_type": "stream",
     "text": [
      "{'clean_prefix': 'The friends that the dancer visits', 'patch_prefix': 'The friend that the dancer visits', 'clean_answer': ' go', 'patch_answer': ' goes', 'case': 'plural_singular'}\n"
     ]
    }
   ],
   "source": [
    "import json\n",
    "file_path = 'data/sva/rc_train.json'\n",
    "with open(file_path, 'r') as file:\n",
    "    data = [json.loads(line) for line in file]\n",
    "for entry in data:\n",
    "    print(entry)\n",
    "    break\n",
    "example_length = 7"
   ]
  },
  {
   "cell_type": "code",
   "execution_count": 10,
   "metadata": {},
   "outputs": [
    {
     "name": "stdout",
     "output_type": "stream",
     "text": [
      "Tokenized prompt: ['<bos>', 'The', ' athlete', ' that', ' the', ' chefs', ' hate']\n",
      "Tokenized answer: [' are']\n"
     ]
    },
    {
     "data": {
      "text/html": [
       "<pre style=\"white-space:pre;overflow-x:auto;line-height:normal;font-family:Menlo,'DejaVu Sans Mono',consolas,'Courier New',monospace\">Performance on answer token:\n",
       "<span style=\"font-weight: bold\">Rank: </span><span style=\"color: #008080; text-decoration-color: #008080; font-weight: bold\">49</span><span style=\"font-weight: bold\">       Logit: </span><span style=\"color: #008080; text-decoration-color: #008080; font-weight: bold\">24.10</span><span style=\"font-weight: bold\"> Prob:  </span><span style=\"color: #008080; text-decoration-color: #008080; font-weight: bold\">0.09</span><span style=\"font-weight: bold\">% Token: | are|</span>\n",
       "</pre>\n"
      ],
      "text/plain": [
       "Performance on answer token:\n",
       "\u001b[1mRank: \u001b[0m\u001b[1;36m49\u001b[0m\u001b[1m       Logit: \u001b[0m\u001b[1;36m24.10\u001b[0m\u001b[1m Prob:  \u001b[0m\u001b[1;36m0.09\u001b[0m\u001b[1m% Token: | are|\u001b[0m\n"
      ]
     },
     "metadata": {},
     "output_type": "display_data"
    },
    {
     "name": "stdout",
     "output_type": "stream",
     "text": [
      "Top 0th token. Logit: 29.52 Prob: 20.86% Token: | the|\n",
      "Top 1th token. Logit: 29.34 Prob: 17.35% Token: | to|\n",
      "Top 2th token. Logit: 28.84 Prob: 10.49% Token: |.|\n",
      "Top 3th token. Logit: 28.45 Prob:  7.13% Token: |,|\n",
      "Top 4th token. Logit: 28.29 Prob:  6.06% Token: | is|\n",
      "Top 5th token. Logit: 28.13 Prob:  5.18% Token: |\n",
      "\n",
      "|\n",
      "Top 6th token. Logit: 28.01 Prob:  4.57% Token: | most|\n",
      "Top 7th token. Logit: 27.45 Prob:  2.63% Token: |?|\n",
      "Top 8th token. Logit: 27.33 Prob:  2.33% Token: | and|\n",
      "Top 9th token. Logit: 27.31 Prob:  2.27% Token: |!|\n"
     ]
    },
    {
     "data": {
      "text/html": [
       "<pre style=\"white-space:pre;overflow-x:auto;line-height:normal;font-family:Menlo,'DejaVu Sans Mono',consolas,'Courier New',monospace\"><span style=\"font-weight: bold\">Ranks of the answer tokens:</span> <span style=\"font-weight: bold\">[(</span><span style=\"color: #008000; text-decoration-color: #008000\">' are'</span>, <span style=\"color: #008080; text-decoration-color: #008080; font-weight: bold\">49</span><span style=\"font-weight: bold\">)]</span>\n",
       "</pre>\n"
      ],
      "text/plain": [
       "\u001b[1mRanks of the answer tokens:\u001b[0m \u001b[1m[\u001b[0m\u001b[1m(\u001b[0m\u001b[32m' are'\u001b[0m, \u001b[1;36m49\u001b[0m\u001b[1m)\u001b[0m\u001b[1m]\u001b[0m\n"
      ]
     },
     "metadata": {},
     "output_type": "display_data"
    }
   ],
   "source": [
    "from transformer_lens.utils import test_prompt\n",
    "test_prompt(\"The athlete that the chefs hate\", \" are\", model)"
   ]
  },
  {
   "cell_type": "code",
   "execution_count": 11,
   "metadata": {},
   "outputs": [],
   "source": [
    "clean_data = []\n",
    "corr_data = []\n",
    "clean_labels = []\n",
    "corr_labels = []\n",
    "for entry in data:\n",
    "    if model.to_tokens(entry['clean_prefix']).shape[-1] == example_length:\n",
    "        clean_data.append(entry['clean_prefix'])\n",
    "        corr_data.append(entry['patch_prefix'])\n",
    "        clean_labels.append(entry['clean_answer'])\n",
    "        corr_labels.append(entry['patch_answer'])"
   ]
  },
  {
   "cell_type": "code",
   "execution_count": 12,
   "metadata": {},
   "outputs": [
    {
     "name": "stdout",
     "output_type": "stream",
     "text": [
      "torch.Size([10000, 7]) torch.Size([10000, 7])\n"
     ]
    }
   ],
   "source": [
    "N = 10000\n",
    "clean_tokens = model.to_tokens(clean_data[:N])\n",
    "corr_tokens = model.to_tokens(corr_data[:N])\n",
    "clean_label_tokens = model.to_tokens(clean_labels[:N], prepend_bos=False).squeeze(-1)\n",
    "corr_label_tokens = model.to_tokens(corr_labels[:N], prepend_bos=False).squeeze(-1)\n",
    "print(clean_tokens.shape, corr_tokens.shape)"
   ]
  },
  {
   "cell_type": "code",
   "execution_count": 13,
   "metadata": {},
   "outputs": [],
   "source": [
    "def logit_diff_fn(logits, clean_labels, corr_labels, token_wise=False):\n",
    "    clean_logits = logits[torch.arange(logits.shape[0]), -1, clean_labels]\n",
    "    corr_logits = logits[torch.arange(logits.shape[0]), -1, corr_labels]\n",
    "    return (clean_logits - corr_logits).mean() if not token_wise else (clean_logits - corr_logits)"
   ]
  },
  {
   "cell_type": "code",
   "execution_count": 14,
   "metadata": {},
   "outputs": [
    {
     "name": "stdout",
     "output_type": "stream",
     "text": [
      "torch.Size([625, 16, 7]) torch.Size([625, 16, 7]) torch.Size([625, 16]) torch.Size([625, 16])\n"
     ]
    }
   ],
   "source": [
    "batch_size = 16 \n",
    "clean_tokens = clean_tokens[:batch_size*(len(clean_tokens)//batch_size)]\n",
    "corr_tokens = corr_tokens[:batch_size*(len(corr_tokens)//batch_size)]\n",
    "clean_label_tokens = clean_label_tokens[:batch_size*(len(clean_label_tokens)//batch_size)]\n",
    "corr_label_tokens = corr_label_tokens[:batch_size*(len(corr_label_tokens)//batch_size)]\n",
    "\n",
    "clean_tokens = clean_tokens.reshape(-1, batch_size, clean_tokens.shape[-1])\n",
    "corr_tokens = corr_tokens.reshape(-1, batch_size, corr_tokens.shape[-1])\n",
    "clean_label_tokens = clean_label_tokens.reshape(-1, batch_size)\n",
    "corr_label_tokens = corr_label_tokens.reshape(-1, batch_size)\n",
    "\n",
    "print(clean_tokens.shape, corr_tokens.shape, clean_label_tokens.shape, corr_label_tokens.shape)"
   ]
  },
  {
   "cell_type": "code",
   "execution_count": 16,
   "metadata": {},
   "outputs": [
    {
     "name": "stdout",
     "output_type": "stream",
     "text": [
      "tensor(2.7792, device='cuda:0')\n",
      "tensor(3.6336, device='cuda:0')\n",
      "tensor(3.7514, device='cuda:0')\n",
      "tensor(3.3448, device='cuda:0')\n",
      "tensor(3.6474, device='cuda:0')\n",
      "tensor(4.0851, device='cuda:0')\n",
      "tensor(3.2005, device='cuda:0')\n",
      "tensor(3.2937, device='cuda:0')\n",
      "tensor(3.4509, device='cuda:0')\n",
      "tensor(3.9535, device='cuda:0')\n",
      "Average LD:  tensor(3.5140, device='cuda:0')\n"
     ]
    }
   ],
   "source": [
    "use_mask = False \n",
    "mean_mask = False\n",
    "avg_logit_diff = 0\n",
    "cleanup_cuda()\n",
    "with torch.no_grad():\n",
    "    for i in range(10):\n",
    "        logits = model.run_with_hooks(\n",
    "            clean_tokens[i], \n",
    "            return_type=\"logits\", \n",
    "            fwd_hooks=build_hooks_list(clean_tokens[i], use_mask=use_mask, mean_mask=mean_mask)\n",
    "            )\n",
    "        ld = logit_diff_fn(logits, clean_label_tokens[i], corr_label_tokens[i])\n",
    "        print(ld)\n",
    "        avg_logit_diff += ld\n",
    "        del logits\n",
    "        cleanup_cuda()\n",
    "print(\"Average LD: \", avg_logit_diff / 10)"
   ]
  },
  {
   "cell_type": "code",
   "execution_count": 17,
   "metadata": {},
   "outputs": [],
   "source": [
    "for sae in saes:\n",
    "    sae.mask = SparseMask(sae.cfg.d_sae, 1.0, seq_len=example_length).to(device)"
   ]
  },
  {
   "cell_type": "code",
   "execution_count": 18,
   "metadata": {},
   "outputs": [
    {
     "name": "stderr",
     "output_type": "stream",
     "text": [
      "Mean Accum Progress: 100%|██████████| 160/160 [00:45<00:00,  3.54it/s]\n"
     ]
    }
   ],
   "source": [
    "def running_mean_tensor(old_mean, new_value, n):\n",
    "    return old_mean + (new_value - old_mean) / n\n",
    "\n",
    "def get_sae_means(mean_tokens, total_batches, batch_size, per_token_mask=False):\n",
    "    for sae in saes:\n",
    "        sae.mean_ablation = torch.zeros(sae.cfg.d_sae).float().to(device)\n",
    "    \n",
    "    with tqdm(total=total_batches*batch_size, desc=\"Mean Accum Progress\") as pbar:\n",
    "        for i in range(total_batches):\n",
    "            for j in range(batch_size):\n",
    "                with torch.no_grad():\n",
    "                    _ = model.run_with_hooks(\n",
    "                        mean_tokens[i, j], \n",
    "                        return_type=\"logits\", \n",
    "                        fwd_hooks=build_hooks_list(clean_tokens[i, j], cache_sae_activations=True)\n",
    "                        )\n",
    "                    for sae in saes:\n",
    "                        sae.mean_ablation = running_mean_tensor(sae.mean_ablation, sae.feature_acts, i+1)\n",
    "                    cleanup_cuda()\n",
    "                pbar.update(1)\n",
    "\n",
    "            if i >= total_batches:\n",
    "                break\n",
    "\n",
    "get_sae_means(corr_tokens, 10, 16)"
   ]
  },
  {
   "cell_type": "code",
   "execution_count": 19,
   "metadata": {},
   "outputs": [
    {
     "name": "stdout",
     "output_type": "stream",
     "text": [
      "tensor(-0.0714, device='cuda:0', grad_fn=<MeanBackward0>)\n"
     ]
    }
   ],
   "source": [
    "logits = model.run_with_hooks(\n",
    "        clean_tokens[0], \n",
    "        return_type=\"logits\", \n",
    "        fwd_hooks=build_hooks_list(clean_tokens[0], mean_ablate=True)\n",
    "        )\n",
    "print(logit_diff_fn(logits, clean_label_tokens[0], corr_label_tokens[0]))\n",
    "del logits\n",
    "cleanup_cuda()"
   ]
  },
  {
   "cell_type": "code",
   "execution_count": null,
   "metadata": {},
   "outputs": [],
   "source": []
  },
  {
   "cell_type": "markdown",
   "metadata": {},
   "source": [
    "# Mask training"
   ]
  },
  {
   "cell_type": "code",
   "execution_count": 20,
   "metadata": {},
   "outputs": [],
   "source": [
    "import signal\n",
    "class KeyboardInterruptBlocker:\n",
    "    def __enter__(self):\n",
    "        # Block SIGINT and store old mask\n",
    "        self.old_mask = signal.pthread_sigmask(signal.SIG_BLOCK, {signal.SIGINT})\n",
    "\n",
    "    def __exit__(self, exc_type, exc_value, traceback):\n",
    "        # Restore old mask (unblock SIGINT)\n",
    "        signal.pthread_sigmask(signal.SIG_SETMASK, self.old_mask)\n",
    "\n",
    "class Range:\n",
    "    def __init__(self, *args):\n",
    "        # Support for range(start, stop, step) or range(stop)\n",
    "        self.args = args\n",
    "\n",
    "        # Validate input like the built-in range does\n",
    "        if len(self.args) not in {1, 2, 3}:\n",
    "            raise TypeError(f\"Range expected at most 3 arguments, got {len(self.args)}\")\n",
    "        \n",
    "        self.range = __builtins__.range(*self.args)  # Create the range object\n",
    "\n",
    "    def __iter__(self):\n",
    "        for i in self.range:\n",
    "            try:\n",
    "                with KeyboardInterruptBlocker():\n",
    "                    yield i\n",
    "            except KeyboardInterrupt:\n",
    "                print(\"Keyboard interrupt received. Exiting iteration.\")\n",
    "                break\n",
    "\n",
    "    def __len__(self):\n",
    "        return len(self.range)"
   ]
  },
  {
   "cell_type": "code",
   "execution_count": 21,
   "metadata": {},
   "outputs": [],
   "source": [
    "import torch.nn.functional as F\n",
    "import wandb\n",
    "\n",
    "def forward_pass(batch, labels, logitfn, ratio_trained=1):\n",
    "    for sae in saes:\n",
    "        sae.mask.ratio_trained = ratio_trained\n",
    "    tokens = batch\n",
    "    logits = logitfn(tokens)\n",
    "    last_token_logits = logits[:, -1, :]\n",
    "    loss = F.cross_entropy(last_token_logits, labels)\n",
    "    sparsity_loss = 0\n",
    "    for sae in saes:\n",
    "        sparsity_loss = sparsity_loss + sae.mask.sparsity_loss\n",
    "    \n",
    "    sparsity_loss = sparsity_loss / len(saes)\n",
    "    return loss, sparsity_loss"
   ]
  },
  {
   "cell_type": "code",
   "execution_count": 22,
   "metadata": {},
   "outputs": [
    {
     "data": {
      "text/plain": [
       "62.5"
      ]
     },
     "execution_count": 22,
     "metadata": {},
     "output_type": "execute_result"
    }
   ],
   "source": [
    "clean_tokens.shape[0]*0.1"
   ]
  },
  {
   "cell_type": "code",
   "execution_count": 26,
   "metadata": {},
   "outputs": [],
   "source": [
    "def do_training_run(token_dataset, labels_dataset, corr_labels_dataset, sparsity_multiplier, example_length=6, loss_function='ce', per_token_mask=False, use_mask=False, mean_mask=False, distinct_sparsity_multiplier=0):\n",
    "\n",
    "    def logitfn(tokens):\n",
    "        logits =  model.run_with_hooks(\n",
    "            tokens, \n",
    "            return_type=\"logits\", \n",
    "            fwd_hooks=build_hooks_list(tokens, use_mask=use_mask, mean_mask=mean_mask)\n",
    "            )\n",
    "        return logits\n",
    "\n",
    "    def forward_pass(batch, labels, logitfn, ratio_trained=1):\n",
    "        for sae in saes:\n",
    "            sae.mask.ratio_trained = ratio_trained\n",
    "        tokens = batch\n",
    "        logits = logitfn(tokens)\n",
    "        last_token_logits = logits[:, -1, :]\n",
    "        loss = F.cross_entropy(last_token_logits, labels)\n",
    "\n",
    "        sparsity_loss = 0\n",
    "        if per_token_mask:\n",
    "            distinct_sparsity_loss = 0\n",
    "        for sae in saes:\n",
    "            sparsity_loss = sparsity_loss + sae.mask.sparsity_loss\n",
    "            if per_token_mask:\n",
    "                distinct_sparsity_loss = distinct_sparsity_loss + sae.mask.distinct_sparsity_loss\n",
    "        \n",
    "        sparsity_loss = sparsity_loss / len(saes)\n",
    "        distinct_sparsity_loss = distinct_sparsity_loss / len(saes)\n",
    "\n",
    "        return loss, sparsity_loss, distinct_sparsity_loss\n",
    "\n",
    "    print(\"doing a run with sparsity multiplier\", sparsity_multiplier)\n",
    "    all_optimized_params = []\n",
    "    config = {\n",
    "        \"batch_size\": 16,\n",
    "        \"learning_rate\": 0.05,\n",
    "        \"total_steps\": token_dataset.shape[0]*0.5,\n",
    "        \"sparsity_multiplier\": sparsity_multiplier\n",
    "    }\n",
    "\n",
    "    for sae in saes:\n",
    "        if per_token_mask:\n",
    "            sae.mask = SparseMask(sae.cfg.d_sae, 1.0, seq_len=example_length, distinct_l1=1.0).to(device)\n",
    "        else:\n",
    "            sae.mask = SparseMask(sae.cfg.d_sae, 1.0).to(device)\n",
    "        all_optimized_params.extend(list(sae.mask.parameters()))\n",
    "        sae.mask.max_temp = torch.tensor(200.0)\n",
    "    \n",
    "    wandb.init(project=\"sae circuits\", config=config)\n",
    "    optimizer = optim.Adam(all_optimized_params, lr=config[\"learning_rate\"])\n",
    "    total_steps = config[\"total_steps\"] #*config[\"batch_size\"]\n",
    "\n",
    "    with tqdm(total=total_steps, desc=\"Training Progress\") as pbar:\n",
    "        for i, (x, y) in enumerate(zip(token_dataset, labels_dataset)):\n",
    "            with KeyboardInterruptBlocker():\n",
    "                optimizer.zero_grad()\n",
    "                \n",
    "                # Calculate ratio trained\n",
    "                ratio_trained = i / total_steps\n",
    "                \n",
    "                # Update mask ratio for each SAE\n",
    "                for sae in saes:\n",
    "                    sae.mask.ratio_trained = ratio_trained\n",
    "                \n",
    "                # Forward pass with updated ratio_trained\n",
    "                loss, sparsity_loss, distinct_sparsity_loss = forward_pass(x, y, logitfn, ratio_trained=ratio_trained)\n",
    "                if per_token_mask:\n",
    "                    sparsity_loss = sparsity_loss / example_length\n",
    "\n",
    "                avg_nonzero_elements = sparsity_loss\n",
    "                avg_distinct_nonzero_elements = distinct_sparsity_loss\n",
    "                    \n",
    "                sparsity_loss = sparsity_loss * config[\"sparsity_multiplier\"] + distinct_sparsity_loss * distinct_sparsity_multiplier\n",
    "                total_loss = loss + sparsity_loss\n",
    "                infodict  = {\"Step\": i, \"Progress\": ratio_trained, \"Avg Nonzero Elements\": avg_nonzero_elements.item(), \"avg distinct lat/sae\":avg_distinct_nonzero_elements.item(), \"Task Loss\": loss.item(), \"Sparsity Loss\": sparsity_loss.item(), \"temperature\": saes[0].mask.temperature}\n",
    "                wandb.log(infodict)\n",
    "                \n",
    "                # Backward pass and optimizer step\n",
    "                total_loss.backward()\n",
    "                optimizer.step()\n",
    "                \n",
    "                # Update tqdm bar with relevant metrics\n",
    "                pbar.set_postfix(infodict)\n",
    "                \n",
    "                # Update the tqdm progress bar\n",
    "                pbar.update(1)\n",
    "                if i >= total_steps*1.3:\n",
    "                    break\n",
    "    wandb.finish()\n",
    "\n",
    "    optimizer.zero_grad()\n",
    "\n",
    "    for sae in saes:\n",
    "        for param in sae.parameters():\n",
    "            param.grad = None\n",
    "        for param in sae.mask.parameters():\n",
    "            param.grad = None\n",
    "    \n",
    "    for param in model.parameters():\n",
    "        param.grad = None\n",
    "\n",
    "    torch.cuda.empty_cache()\n",
    "\n",
    "    mask_dict = {}\n",
    "\n",
    "    total_density = 0\n",
    "    for sae in saes:\n",
    "        mask_dict[sae.cfg.hook_name] = torch.where(sae.mask.mask > 0)[1].tolist()   # rob thinks .view(-1) needed here\n",
    "        total_density += (sae.mask.mask > 0).sum().item()\n",
    "    mask_dict[\"total_density\"] = total_density\n",
    "    mask_dict['avg_density'] = total_density / len(saes)\n",
    "\n",
    "    if per_token_mask:\n",
    "        print(\"total # latents in circuit: \", total_density)\n",
    "    print(\"avg density\", mask_dict['avg_density'])\n",
    "\n",
    "    ### EVAL ###\n",
    "    def masked_logit_fn(tokens):\n",
    "        logits =  model.run_with_hooks(\n",
    "            tokens, \n",
    "            return_type=\"logits\", \n",
    "            fwd_hooks=build_hooks_list(tokens, use_mask=use_mask, mean_mask=mean_mask, binarize_mask=True)\n",
    "            )\n",
    "        return logits\n",
    "\n",
    "    def eval_ce_loss(batch, labels, logitfn, ratio_trained=10):\n",
    "        for sae in saes:\n",
    "            sae.mask.ratio_trained = ratio_trained\n",
    "        tokens = batch\n",
    "        logits = logitfn(tokens)\n",
    "        last_token_logits = logits[:, -1, :]\n",
    "        loss = F.cross_entropy(last_token_logits, labels)\n",
    "        return loss\n",
    "    \n",
    "    def eval_logit_diff(batch, clean_labels, corr_labels, logitfn, ratio_trained=10):\n",
    "        for sae in saes:\n",
    "            sae.mask.ratio_trained = ratio_trained\n",
    "        tokens = batch\n",
    "        logits = logitfn(tokens)\n",
    "        return logit_diff_fn(logits, clean_labels, corr_labels)\n",
    "\n",
    "    with torch.no_grad():\n",
    "        loss = eval_ce_loss(token_dataset[-1], labels_dataset[-1], masked_logit_fn)\n",
    "        print(\"CE loss:\", loss)\n",
    "        cleanup_cuda()\n",
    "        logit_diff = eval_logit_diff(token_dataset[-1], clean_label_tokens[-1], corr_label_tokens[-1], masked_logit_fn)\n",
    "        print(\"Logit Diff:\", logit_diff)\n",
    "        cleanup_cuda()\n",
    "\n",
    "    save_path = f\"masks/sva/rc/{str(sparsity_multiplier)}_run/\"\n",
    "    os.makedirs(save_path, exist_ok=True)\n",
    "    mask_dict['ce_loss'] = loss.item()\n",
    "    mask_dict['logit_diff'] = logit_diff.item()\n",
    "    faithfulness = logit_diff / (avg_logit_diff/10)\n",
    "    mask_dict['faithfulness'] = faithfulness.item()\n",
    "    \n",
    "    for idx, sae in enumerate(saes):\n",
    "        mask_path = f\"sae_mask_{idx}.pt\"\n",
    "        torch.save(sae.mask.state_dict(), os.path.join(save_path,mask_path))\n",
    "        print(f\"Saved mask for SAE {idx} to {mask_path}\")\n",
    "\n",
    "    json.dump(mask_dict, open(os.path.join(save_path,f\"{str(sparsity_multiplier)}_run.json\"), \"w\"))"
   ]
  },
  {
   "cell_type": "code",
   "execution_count": 52,
   "metadata": {},
   "outputs": [
    {
     "name": "stdout",
     "output_type": "stream",
     "text": [
      "CE loss: tensor(4.5691, device='cuda:0')\n"
     ]
    }
   ],
   "source": [
    "# for sae in saes:\n",
    "#     sae.mask = SparseMask(sae.cfg.d_sae, 1.0, seq_len=7, distinct_l1=1.0).to(device)\n",
    "\n",
    "def masked_logit_fn(tokens):\n",
    "    return model.run_with_hooks(\n",
    "        tokens, \n",
    "        return_type=\"logits\", \n",
    "        fwd_hooks=build_hooks_list(tokens, use_mask=True, mean_mask=True, binarize_mask=True)\n",
    "        )\n",
    "\n",
    "def eval_ce_loss(batch, labels, logitfn, ratio_trained=10):\n",
    "    for sae in saes:\n",
    "        sae.mask.ratio_trained = ratio_trained\n",
    "    tokens = batch\n",
    "    logits = logitfn(tokens)\n",
    "    last_token_logits = logits[:, -1, :]\n",
    "    loss = F.cross_entropy(last_token_logits, labels)\n",
    "    return loss\n",
    "\n",
    "with torch.no_grad():\n",
    "    loss = eval_ce_loss(clean_tokens[21], clean_label_tokens[21], masked_logit_fn)\n",
    "    print(\"CE loss:\", loss)\n",
    "    cleanup_cuda()"
   ]
  },
  {
   "cell_type": "code",
   "execution_count": null,
   "metadata": {},
   "outputs": [],
   "source": [
    "do_training_run(clean_tokens, clean_label_tokens, corr_label_tokens, 0.1, example_length=7, loss_function=\"ce\", per_token_mask=True, use_mask=True, mean_mask=True)"
   ]
  },
  {
   "cell_type": "code",
   "execution_count": null,
   "metadata": {},
   "outputs": [],
   "source": [
    "do_training_run(clean_tokens, clean_label_tokens, corr_label_tokens, 0.1, example_length=7, loss_function=\"ce\", per_token_mask=True, use_mask=True, mean_mask=True)"
   ]
  },
  {
   "cell_type": "code",
   "execution_count": 28,
   "metadata": {},
   "outputs": [
    {
     "data": {
      "text/plain": [
       "0.01"
      ]
     },
     "execution_count": 28,
     "metadata": {},
     "output_type": "execute_result"
    }
   ],
   "source": [
    "1/100"
   ]
  },
  {
   "cell_type": "code",
   "execution_count": null,
   "metadata": {},
   "outputs": [],
   "source": [
    "num_runs = 10\n",
    "start = 0.05\n",
    "end = 1\n",
    "step = (end-start)/num_runs\n",
    "\n",
    "for i in range(num_runs):\n",
    "    sparsity_multiplier = start + i*step\n",
    "    do_training_run(clean_tokens, clean_label_tokens, corr_label_tokens, sparsity_multiplier, example_length=7, loss_function=\"ce\", per_token_mask=True, use_mask=True, mean_mask=True)"
   ]
  },
  {
   "cell_type": "code",
   "execution_count": 38,
   "metadata": {},
   "outputs": [],
   "source": [
    "num_runs = 10\n",
    "start = 0.05\n",
    "end = 1\n",
    "step = (end-start)/num_runs\n",
    "nnodes = []\n",
    "faithfulness = []\n",
    "for i in range(num_runs):\n",
    "    sparsity_multiplier = start + i*step\n",
    "    bdir = f\"masks/sva/rc/{str(sparsity_multiplier)}_run/{str(sparsity_multiplier)}_run.json\"\n",
    "    # load the dict \n",
    "    with open(bdir, 'r') as file:\n",
    "        mask_dict = json.load(file)\n",
    "    nnodes.append(mask_dict['total_density'])\n",
    "    faithfulness.append(mask_dict['faithfulness'])\n",
    "    "
   ]
  },
  {
   "cell_type": "code",
   "execution_count": 39,
   "metadata": {},
   "outputs": [
    {
     "data": {
      "image/png": "[encoded data removed]",
      "text/plain": [
       "<Figure size 1000x600 with 1 Axes>"
      ]
     },
     "metadata": {},
     "output_type": "display_data"
    }
   ],
   "source": [
    "plt.figure(figsize=(10, 6))\n",
    "plt.plot(nnodes, faithfulness, marker='o', linestyle='-', linewidth=2, markersize=8)\n",
    "\n",
    "# Add grid for better readability\n",
    "plt.grid(visible=True, linestyle='--', alpha=0.7)\n",
    "\n",
    "# Highlight data points\n",
    "# for x, y in zip(nnodes, faithfulness):\n",
    "#     plt.scatter(x, y, color='red', edgecolor='black', zorder=5)\n",
    "#     plt.text(x, y + 0.02, f'({x:.2f}, {y:.2f})', fontsize=9, ha='center')\n",
    "\n",
    "# Add labels and title\n",
    "plt.xlabel(\"# Nodes\", fontsize=14)\n",
    "plt.ylabel(\"Faithfulness\", fontsize=14)\n",
    "plt.title(\"Faithfulness vs Average Density\", fontsize=16)\n",
    "\n",
    "# Show the plot\n",
    "plt.tight_layout()\n",
    "plt.show()"
   ]
  },
  {
   "cell_type": "markdown",
   "metadata": {},
   "source": [
    "# Completeness test"
   ]
  },
  {
   "cell_type": "markdown",
   "metadata": {},
   "source": [
    "## Full model + sae "
   ]
  },
  {
   "cell_type": "code",
   "execution_count": 42,
   "metadata": {},
   "outputs": [
    {
     "name": "stdout",
     "output_type": "stream",
     "text": [
      "Logit Diff: 3.664247512817383\n"
     ]
    }
   ],
   "source": [
    "for sae in saes:\n",
    "    sae.mask = SparseMask(sae.cfg.d_sae, 1.0, seq_len=example_length, distinct_l1=1.0).to(device)\n",
    "\n",
    "def eval_logit_diff(batch, clean_labels, corr_labels, ratio_trained=10):\n",
    "    for sae in saes:\n",
    "        sae.mask.ratio_trained = ratio_trained\n",
    "    logits = model.run_with_hooks(\n",
    "        batch, \n",
    "        return_type=\"logits\", \n",
    "        fwd_hooks=build_hooks_list(batch, use_mask=True, mean_mask=True, binarize_mask=True)\n",
    "        )\n",
    "    return logit_diff_fn(logits, clean_labels, corr_labels)\n",
    "\n",
    "with torch.no_grad():\n",
    "    model_logit_diff = eval_logit_diff(clean_tokens[-1], clean_label_tokens[-1], corr_label_tokens[-1]).item()\n",
    "    print(\"Logit Diff:\", model_logit_diff)\n",
    "    cleanup_cuda()\n"
   ]
  },
  {
   "cell_type": "markdown",
   "metadata": {},
   "source": [
    "## circuit"
   ]
  },
  {
   "cell_type": "code",
   "execution_count": 43,
   "metadata": {},
   "outputs": [
    {
     "name": "stderr",
     "output_type": "stream",
     "text": [
      "/tmp/ipykernel_2102784/3619685325.py:5: FutureWarning: You are using `torch.load` with `weights_only=False` (the current default value), which uses the default pickle module implicitly. It is possible to construct malicious pickle data which will execute arbitrary code during unpickling (See https://github.com/pytorch/pytorch/blob/main/SECURITY.md#untrusted-models for more details). In a future release, the default value for `weights_only` will be flipped to `True`. This limits the functions that could be executed during unpickling. Arbitrary objects will no longer be allowed to be loaded via this mode unless they are explicitly allowlisted by the user via `torch.serialization.add_safe_globals`. We recommend you start setting `weights_only=True` for any use case where you don't have full control of the loaded file. Please open an issue on GitHub for any issues related to this experimental feature.\n",
      "  state_dict = torch.load(mask_path)\n"
     ]
    },
    {
     "name": "stdout",
     "output_type": "stream",
     "text": [
      "Loaded mask for SAE 0 from masks/sva/rc/0.14500000000000002_run/sae_mask_0.pt\n",
      "Loaded mask for SAE 1 from masks/sva/rc/0.14500000000000002_run/sae_mask_1.pt\n",
      "Loaded mask for SAE 2 from masks/sva/rc/0.14500000000000002_run/sae_mask_2.pt\n",
      "Loaded mask for SAE 3 from masks/sva/rc/0.14500000000000002_run/sae_mask_3.pt\n",
      "Logit Diff: 3.2237625122070312\n"
     ]
    }
   ],
   "source": [
    "# Load masks before inference or further training\n",
    "sparsity_multiplier = 0.14500000000000002\n",
    "for idx, sae in enumerate(saes):\n",
    "    mask_path = f\"masks/sva/rc/{str(sparsity_multiplier)}_run/sae_mask_{idx}.pt\"\n",
    "    state_dict = torch.load(mask_path)\n",
    "    sae.mask.load_state_dict(state_dict)\n",
    "    print(f\"Loaded mask for SAE {idx} from {mask_path}\")\n",
    "\n",
    "with torch.no_grad():\n",
    "    circuit_logit_diff = eval_logit_diff(clean_tokens[-1], clean_label_tokens[-1], corr_label_tokens[-1]).item()\n",
    "    print(\"Logit Diff:\", circuit_logit_diff)\n",
    "    cleanup_cuda()"
   ]
  },
  {
   "cell_type": "code",
   "execution_count": 47,
   "metadata": {},
   "outputs": [
    {
     "data": {
      "text/plain": [
       "{'blocks.7.hook_resid_post': [9152],\n",
       " 'blocks.14.hook_resid_post': [5082, 9224],\n",
       " 'blocks.21.hook_resid_post': [13730,\n",
       "  7957,\n",
       "  12577,\n",
       "  170,\n",
       "  209,\n",
       "  865,\n",
       "  4297,\n",
       "  4714,\n",
       "  6937,\n",
       "  9502,\n",
       "  10849,\n",
       "  11008],\n",
       " 'blocks.40.hook_resid_post': [520,\n",
       "  1155,\n",
       "  1433,\n",
       "  1452,\n",
       "  1743,\n",
       "  2235,\n",
       "  2488,\n",
       "  2664,\n",
       "  2693,\n",
       "  2820,\n",
       "  3111,\n",
       "  3510,\n",
       "  3764,\n",
       "  3765,\n",
       "  4330,\n",
       "  4661,\n",
       "  4843,\n",
       "  6013,\n",
       "  6214,\n",
       "  6426,\n",
       "  6574,\n",
       "  6851,\n",
       "  7776,\n",
       "  7788,\n",
       "  8003,\n",
       "  8502,\n",
       "  8583,\n",
       "  9294,\n",
       "  10455,\n",
       "  10941,\n",
       "  11314,\n",
       "  11654,\n",
       "  12905,\n",
       "  13582,\n",
       "  13762,\n",
       "  14988,\n",
       "  15427,\n",
       "  15600,\n",
       "  16048,\n",
       "  16098],\n",
       " 'total_density': 55,\n",
       " 'avg_density': 13.75,\n",
       " 'ce_loss': 4.722005367279053,\n",
       " 'logit_diff': 3.2237625122070312,\n",
       " 'faithfulness': 0.9174049496650696}"
      ]
     },
     "execution_count": 47,
     "metadata": {},
     "output_type": "execute_result"
    }
   ],
   "source": [
    "bdir = f\"masks/sva/rc/{str(sparsity_multiplier)}_run/{str(sparsity_multiplier)}_run.json\"\n",
    "with open(bdir, 'r') as file:\n",
    "    mask_dict = json.load(file)\n",
    "mask_dict"
   ]
  },
  {
   "cell_type": "markdown",
   "metadata": {},
   "source": [
    "## Subset ablation test"
   ]
  },
  {
   "cell_type": "code",
   "execution_count": 58,
   "metadata": {},
   "outputs": [],
   "source": [
    "import torch\n",
    "\n",
    "# Number of elements to remove from the last dimension\n",
    "num_remove = 5\n",
    "\n",
    "# Number of batches to process\n",
    "num_batches = 3  # Adjust this as needed\n",
    "batch_size = 16  # Batch size for processing\n",
    "\n",
    "# Remove random subsets of the mask along the [-1] dimension\n",
    "def get_indices_to_remove(mask, num_remove):\n",
    "    active_indices = (mask > 0).nonzero(as_tuple=True)[-1]  # Get indices of active elements in the last dimension\n",
    "    if len(active_indices) < num_remove:\n",
    "        raise ValueError(\"Not enough active elements to remove.\")\n",
    "    indices_to_remove = active_indices[torch.randperm(len(active_indices))[:num_remove]].to(mask.device)  # Move to the same device\n",
    "    return indices_to_remove\n",
    "\n",
    "def apply_subset_removal(mask, indices_to_remove):\n",
    "    indices_to_remove = indices_to_remove.to(mask.device)  # Ensure indices are on the same device\n",
    "    modified_mask = mask.clone()\n",
    "    modified_mask.index_fill_(-1, indices_to_remove, -1.9455)  # Set selected elements to 0\n",
    "    return modified_mask"
   ]
  },
  {
   "cell_type": "code",
   "execution_count": 59,
   "metadata": {},
   "outputs": [
    {
     "data": {
      "text/plain": [
       "tensor([5082], device='cuda:0')"
      ]
     },
     "execution_count": 59,
     "metadata": {},
     "output_type": "execute_result"
    }
   ],
   "source": [
    "ind_temp =  get_indices_to_remove(saes[1].mask.mask.data, 1)\n",
    "ind_temp"
   ]
  },
  {
   "cell_type": "code",
   "execution_count": 60,
   "metadata": {},
   "outputs": [
    {
     "name": "stdout",
     "output_type": "stream",
     "text": [
      "tensor([-1.9455, -1.9455, -1.9455,  1.5002, -1.9931, -1.9455, -1.9384],\n",
      "       device='cuda:0')\n",
      "tensor([-1.9455, -1.9455, -1.9455, -1.9455, -1.9455, -1.9455, -1.9455],\n",
      "       device='cuda:0')\n"
     ]
    }
   ],
   "source": [
    "mod_mask = apply_subset_removal(saes[1].mask.mask.data, ind_temp)\n",
    "print(mod_mask[:, 9224])\n",
    "print(mod_mask[:, 5082])"
   ]
  },
  {
   "cell_type": "code",
   "execution_count": 62,
   "metadata": {},
   "outputs": [
    {
     "data": {
      "text/plain": [
       "tensor([-1.9455, -1.9455,  2.4687, -1.9455, -1.9455, -1.6176, -1.9176],\n",
       "       device='cuda:0')"
      ]
     },
     "execution_count": 62,
     "metadata": {},
     "output_type": "execute_result"
    }
   ],
   "source": [
    "saes[1].mask.mask.data[:, 5082]"
   ]
  },
  {
   "cell_type": "code",
   "execution_count": 65,
   "metadata": {},
   "outputs": [
    {
     "name": "stdout",
     "output_type": "stream",
     "text": [
      "[{'knockout_indices': [tensor([], device='cuda:0', dtype=torch.int64), tensor([], device='cuda:0', dtype=torch.int64), tensor([ 9502,   170, 10849,  4297], device='cuda:0'), tensor([ 8502,  4661,  2235,  8003,  2664, 11654, 10455,  6574,  2488, 16098],\n",
      "       device='cuda:0')]}, {'knockout_indices': [tensor([], device='cuda:0', dtype=torch.int64), tensor([], device='cuda:0', dtype=torch.int64), tensor([12577, 10849,  4297, 13730], device='cuda:0'), tensor([11314,  3764, 13582,  7788,  1155, 10455,  3111,  3765, 10941,  6013],\n",
      "       device='cuda:0')]}, {'knockout_indices': [tensor([], device='cuda:0', dtype=torch.int64), tensor([], device='cuda:0', dtype=torch.int64), tensor([13730,   865, 11008, 10849], device='cuda:0'), tensor([ 6013,  1452, 13582, 12905,  3764,  4661,  2693,  2664,  6214, 11654],\n",
      "       device='cuda:0')]}, {'knockout_indices': [tensor([], device='cuda:0', dtype=torch.int64), tensor([], device='cuda:0', dtype=torch.int64), tensor([7957, 4297,  170,  209], device='cuda:0'), tensor([ 2235,  6851, 16098,  3764,  8583,  2664,  9294, 12905,  1743,  2693],\n",
      "       device='cuda:0')]}, {'knockout_indices': [tensor([], device='cuda:0', dtype=torch.int64), tensor([], device='cuda:0', dtype=torch.int64), tensor([12577, 10849,  4297, 13730], device='cuda:0'), tensor([ 3764,  2693, 14988,  6574,  8583, 15427, 13762,  3765,  1155,  9294],\n",
      "       device='cuda:0')]}]\n"
     ]
    }
   ],
   "source": [
    "random_k_results = []\n",
    "for i in range(5):\n",
    "    num_remove = [0, 0, 4, 10]\n",
    "    indices_rem_list = []\n",
    "    for ind, sae in enumerate(saes):\n",
    "        # Get indices to remove based on the original mask\n",
    "        indices_rem_list.append(get_indices_to_remove(sae.mask.mask.data, num_remove[ind]))\n",
    "    random_k_results.append({\"knockout_indices\": indices_rem_list})\n",
    "print(random_k_results)"
   ]
  },
  {
   "cell_type": "code",
   "execution_count": 69,
   "metadata": {},
   "outputs": [
    {
     "name": "stderr",
     "output_type": "stream",
     "text": [
      "/tmp/ipykernel_2102784/295143282.py:12: FutureWarning: You are using `torch.load` with `weights_only=False` (the current default value), which uses the default pickle module implicitly. It is possible to construct malicious pickle data which will execute arbitrary code during unpickling (See https://github.com/pytorch/pytorch/blob/main/SECURITY.md#untrusted-models for more details). In a future release, the default value for `weights_only` will be flipped to `True`. This limits the functions that could be executed during unpickling. Arbitrary objects will no longer be allowed to be loaded via this mode unless they are explicitly allowlisted by the user via `torch.serialization.add_safe_globals`. We recommend you start setting `weights_only=True` for any use case where you don't have full control of the loaded file. Please open an issue on GitHub for any issues related to this experimental feature.\n",
      "  state_dict = torch.load(mask_path)\n"
     ]
    },
    {
     "name": "stdout",
     "output_type": "stream",
     "text": [
      "Random set 0, F(C \\ K): 2.9093210697174072\n",
      "Random set 0, F(M \\ K): 2.7343018849690757\n",
      "Random set 1, F(C \\ K): 0.23771830399831137\n",
      "Random set 1, F(M \\ K): 1.5550076166788738\n",
      "Random set 2, F(C \\ K): 0.28947647412618\n",
      "Random set 2, F(M \\ K): 0.8046261469523112\n",
      "Random set 3, F(C \\ K): 1.1134881178538005\n",
      "Random set 3, F(M \\ K): 1.1853818893432617\n",
      "Random set 4, F(C \\ K): 0.1393883228302002\n",
      "Random set 4, F(M \\ K): 0.7403132915496826\n"
     ]
    }
   ],
   "source": [
    "# Evaluate F(C \\ K) and F(M \\ K) for N batches\n",
    "num_batches = 3\n",
    "for rand_ind, k_results in enumerate(random_k_results):\n",
    "    for case in ['circuit', 'model']:\n",
    "        total_knock_logit_diff = 0.0\n",
    "        for batch_idx in range(num_batches):\n",
    "            sparsity_multiplier = 0.14500000000000002\n",
    "            with torch.no_grad():\n",
    "                for ind, sae in enumerate(saes):\n",
    "                    if case == 'circuit':\n",
    "                        mask_path = f\"masks/sva/rc/{str(sparsity_multiplier)}_run/sae_mask_{ind}.pt\"\n",
    "                        state_dict = torch.load(mask_path)\n",
    "                        sae.mask.load_state_dict(state_dict)\n",
    "                    else:\n",
    "                        sae.mask = SparseMask(sae.cfg.d_sae, 1.0, seq_len=example_length, distinct_l1=1.0).to(device)\n",
    "                    sae.mask.mask.data = apply_subset_removal(sae.mask.mask.data, k_results['knockout_indices'][ind]).to(device)\n",
    "                logit_diff = eval_logit_diff(clean_tokens[-batch_idx], clean_label_tokens[-batch_idx], corr_label_tokens[-batch_idx]).item()\n",
    "                total_knock_logit_diff += logit_diff\n",
    "                cleanup_cuda()\n",
    "        # Average logit difference for the case\n",
    "        avg_knock_logit_diff = total_knock_logit_diff / num_batches\n",
    "        if case == 'circuit':\n",
    "            print(f\"Random set {rand_ind}, F(C \\ K): {avg_knock_logit_diff}\")\n",
    "            random_k_results[rand_ind]['F_C_K'] = avg_knock_logit_diff\n",
    "        else:\n",
    "            print(f\"Random set {rand_ind}, F(M \\ K): {avg_knock_logit_diff}\")\n",
    "            random_k_results[rand_ind]['F_M_K'] = avg_knock_logit_diff"
   ]
  },
  {
   "cell_type": "code",
   "execution_count": 67,
   "metadata": {},
   "outputs": [
    {
     "data": {
      "text/plain": [
       "torch.Size([16, 7])"
      ]
     },
     "execution_count": 67,
     "metadata": {},
     "output_type": "execute_result"
    }
   ],
   "source": [
    "clean_tokens[-num_batches].shape"
   ]
  },
  {
   "cell_type": "code",
   "execution_count": 70,
   "metadata": {},
   "outputs": [
    {
     "data": {
      "text/plain": [
       "[tensor([9152]),\n",
       " tensor([5082, 9224]),\n",
       " tensor([13730,  7957, 12577,   170,   209,   865,  4297,  4714,  6937,  9502,\n",
       "         10849, 11008]),\n",
       " tensor([  520,  1155,  1433,  1452,  1743,  2235,  2488,  2664,  2693,  2820,\n",
       "          3111,  3510,  3764,  3765,  4330,  4661,  4843,  6013,  6214,  6426,\n",
       "          6574,  6851,  7776,  7788,  8003,  8502,  8583,  9294, 10455, 10941,\n",
       "         11314, 11654, 12905, 13582, 13762, 14988, 15427, 15600, 16048, 16098])]"
      ]
     },
     "execution_count": 70,
     "metadata": {},
     "output_type": "execute_result"
    }
   ],
   "source": [
    "indices_rem_list_full = []\n",
    "for ind, sae in enumerate(saes):\n",
    "    # Get indices to remove based on the original mask\n",
    "    indices_rem_list_full.append(torch.tensor(mask_dict[f\"blocks.{layers[ind]}.hook_resid_post\"]))\n",
    "indices_rem_list_full"
   ]
  },
  {
   "cell_type": "code",
   "execution_count": 72,
   "metadata": {},
   "outputs": [
    {
     "name": "stderr",
     "output_type": "stream",
     "text": [
      "/tmp/ipykernel_2102784/53303709.py:9: FutureWarning: You are using `torch.load` with `weights_only=False` (the current default value), which uses the default pickle module implicitly. It is possible to construct malicious pickle data which will execute arbitrary code during unpickling (See https://github.com/pytorch/pytorch/blob/main/SECURITY.md#untrusted-models for more details). In a future release, the default value for `weights_only` will be flipped to `True`. This limits the functions that could be executed during unpickling. Arbitrary objects will no longer be allowed to be loaded via this mode unless they are explicitly allowlisted by the user via `torch.serialization.add_safe_globals`. We recommend you start setting `weights_only=True` for any use case where you don't have full control of the loaded file. Please open an issue on GitHub for any issues related to this experimental feature.\n",
      "  state_dict = torch.load(mask_path)\n"
     ]
    },
    {
     "name": "stdout",
     "output_type": "stream",
     "text": [
      "full_circ_knock_circ F(C \\ K): -0.04189920425415039\n",
      " full_circ_knock_model F(M \\ K): -0.0016938447952270508\n"
     ]
    }
   ],
   "source": [
    "for case in ['circuit', 'model']:\n",
    "    total_knock_logit_diff = 0.0\n",
    "    for batch_idx in range(num_batches):\n",
    "        sparsity_multiplier = 0.14500000000000002\n",
    "        with torch.no_grad():\n",
    "            for ind, sae in enumerate(saes):\n",
    "                if case == 'circuit':\n",
    "                    mask_path = f\"masks/sva/rc/{str(sparsity_multiplier)}_run/sae_mask_{ind}.pt\"\n",
    "                    state_dict = torch.load(mask_path)\n",
    "                    sae.mask.load_state_dict(state_dict)\n",
    "                else:\n",
    "                    sae.mask = SparseMask(sae.cfg.d_sae, 1.0, seq_len=example_length, distinct_l1=1.0).to(device)\n",
    "                sae.mask.mask.data = apply_subset_removal(sae.mask.mask.data, indices_rem_list_full[ind]).to(device)\n",
    "            logit_diff = eval_logit_diff(clean_tokens[-batch_idx], clean_label_tokens[-batch_idx], corr_label_tokens[-batch_idx]).item()\n",
    "            total_knock_logit_diff += logit_diff\n",
    "            cleanup_cuda()\n",
    "    # Average logit difference for the case\n",
    "    avg_knock_logit_diff = total_knock_logit_diff / num_batches\n",
    "    if case == 'circuit':\n",
    "        print(f\"full_circ_knock_circ F(C \\ K): {avg_knock_logit_diff}\")\n",
    "        full_circ_knock_circ = avg_knock_logit_diff\n",
    "    else:\n",
    "        print(f\" full_circ_knock_model F(M \\ K): {avg_knock_logit_diff}\")\n",
    "        full_circ_knock_model = avg_knock_logit_diff"
   ]
  },
  {
   "cell_type": "code",
   "execution_count": 73,
   "metadata": {},
   "outputs": [],
   "source": [
    "labels = ['Null Set']\n",
    "for i in range(5):\n",
    "    labels.append(f\"Random Set {i}\")\n",
    "labels.append('Full Circuit Removal')"
   ]
  },
  {
   "cell_type": "code",
   "execution_count": 74,
   "metadata": {},
   "outputs": [
    {
     "data": {
      "text/plain": [
       "[(3.2237625122070312, 3.664247512817383),\n",
       " (2.9093210697174072, 2.7343018849690757),\n",
       " (0.23771830399831137, 1.5550076166788738),\n",
       " (0.28947647412618, 0.8046261469523112),\n",
       " (1.1134881178538005, 1.1853818893432617),\n",
       " (0.1393883228302002, 0.7403132915496826),\n",
       " (-0.04189920425415039, -0.0016938447952270508)]"
      ]
     },
     "execution_count": 74,
     "metadata": {},
     "output_type": "execute_result"
    }
   ],
   "source": [
    "xy = [(circuit_logit_diff, model_logit_diff)]\n",
    "for rand_ind, k_results in enumerate(random_k_results):\n",
    "    xy.append((k_results['F_C_K'], k_results['F_M_K']))\n",
    "xy.append((full_circ_knock_circ, full_circ_knock_model))\n",
    "xy"
   ]
  },
  {
   "cell_type": "code",
   "execution_count": 75,
   "metadata": {},
   "outputs": [
    {
     "data": {
      "image/png": "[encoded data removed]",
      "text/plain": [
       "<Figure size 1000x700 with 1 Axes>"
      ]
     },
     "metadata": {},
     "output_type": "display_data"
    }
   ],
   "source": [
    "import matplotlib.pyplot as plt\n",
    "import numpy as np\n",
    "from sklearn.linear_model import LinearRegression\n",
    "# Extract x and y values\n",
    "# Separate the data into two groups\n",
    "# Separate the data into two groups\n",
    "null_set_xy = xy[0]\n",
    "random_sets_xy = xy[1:-1]\n",
    "full_circ_rem = xy[-1]\n",
    "\n",
    "# Extract x and y values for linear regression\n",
    "all_x = [point[0] for point in xy[:-1]]\n",
    "all_y = [point[1] for point in xy[:-1]]\n",
    "\n",
    "# Fit a linear regression model\n",
    "regressor = LinearRegression()\n",
    "all_x_reshaped = np.array(all_x).reshape(-1, 1)  # Reshape for sklearn\n",
    "regressor.fit(all_x_reshaped, all_y)\n",
    "\n",
    "# Generate points for the fitted line\n",
    "fitted_x = np.linspace(min(all_x), max(all_x), 100)\n",
    "fitted_y = regressor.predict(fitted_x.reshape(-1, 1))\n",
    "\n",
    "# Extract x and y values for each group\n",
    "null_set_x, null_set_y = null_set_xy\n",
    "random_x = [point[0] for point in random_sets_xy]\n",
    "random_y = [point[1] for point in random_sets_xy]\n",
    "full_circ_x, full_circ_y = full_circ_rem\n",
    "# Plot\n",
    "plt.figure(figsize=(10, 7))\n",
    "\n",
    "# Null set\n",
    "plt.scatter(null_set_x, null_set_y, color='red', label='Null Set', s=100)\n",
    "\n",
    "# Random sets\n",
    "plt.scatter(random_x, random_y, color='blue', label='Random Sets', s=100)\n",
    "\n",
    "# Full circuit removal\n",
    "plt.scatter(full_circ_x, full_circ_y, color='green', label='Full Circuit Removal', s=100)\n",
    "\n",
    "# Add reference line y = x\n",
    "x_line = [min([null_set_x] + random_x + [null_set_y] + random_y), max([null_set_x] + random_x + [null_set_y] + random_y)]\n",
    "plt.plot(x_line, x_line, linestyle=\"--\", color=\"gray\", label=\"y = x\")\n",
    "\n",
    "# Add fitted regression line\n",
    "plt.plot(fitted_x, fitted_y, linestyle=\"--\", color=\"green\", label=\"Fitted Line\")\n",
    "\n",
    "# Customize plot\n",
    "plt.title(\"Circuit Completeness Tests with Fitted Line\", fontsize=14)\n",
    "plt.xlabel(\"F(C \\\\ K)\", fontsize=12)\n",
    "plt.ylabel(\"F(M \\\\ K)\", fontsize=12)\n",
    "plt.legend(loc=\"lower right\", fontsize=10)\n",
    "plt.grid(True)\n",
    "\n",
    "# Show plot\n",
    "plt.show()\n"
   ]
  },
  {
   "cell_type": "markdown",
   "metadata": {},
   "source": [
    "# Overlap and stability "
   ]
  },
  {
   "cell_type": "code",
   "execution_count": 76,
   "metadata": {},
   "outputs": [
    {
     "name": "stdout",
     "output_type": "stream",
     "text": [
      "{'blocks.7.hook_resid_post': [9152, 4146, 4148, 6415, 14287], 'blocks.14.hook_resid_post': [5082, 9224, 736, 2887, 6570, 10343, 10818, 11236, 14791], 'blocks.21.hook_resid_post': [972, 7105, 7957, 13730, 7957, 12577, 13979, 5533, 6293, 13371, 170, 209, 510, 865, 1181, 3687, 4000, 4297, 4714, 5141, 5704, 6333, 6937, 7250, 7306, 7723, 7887, 8366, 8735, 9103, 9502, 9591, 9633, 10036, 10309, 10502, 10837, 10849, 11008, 11847, 12057, 12585, 12667, 13614, 13702, 15950], 'blocks.40.hook_resid_post': [23, 520, 662, 1035, 1155, 1433, 1452, 1743, 1956, 1980, 2235, 2285, 2488, 2664, 2693, 2820, 3111, 3400, 3506, 3510, 3554, 3764, 3765, 3790, 4330, 4570, 4661, 4740, 4843, 4985, 5312, 5516, 5610, 5909, 5988, 6013, 6214, 6302, 6403, 6426, 6574, 6818, 6851, 7417, 7651, 7776, 7788, 8003, 8019, 8502, 8583, 8958, 9294, 9696, 10267, 10455, 10604, 10702, 10941, 11051, 11314, 11367, 11524, 11654, 12118, 12333, 12349, 12444, 12905, 12923, 13082, 13263, 13386, 13582, 13762, 13776, 14357, 14466, 14571, 14725, 14861, 14988, 15056, 15427, 15600, 15730, 16048, 16098], 'total_density': 148, 'avg_density': 37.0, 'ce_loss': 4.31223726272583, 'logit_diff': 3.814971446990967, 'faithfulness': 1.085648775100708}\n",
      "{'blocks.7.hook_resid_post': [9152], 'blocks.14.hook_resid_post': [5082, 9224], 'blocks.21.hook_resid_post': [13730, 7957, 12577, 170, 209, 865, 4297, 4714, 6937, 9502, 10849, 11008], 'blocks.40.hook_resid_post': [520, 1155, 1433, 1452, 1743, 2235, 2488, 2664, 2693, 2820, 3111, 3510, 3764, 3765, 4330, 4661, 4843, 6013, 6214, 6426, 6574, 6851, 7776, 7788, 8003, 8502, 8583, 9294, 10455, 10941, 11314, 11654, 12905, 13582, 13762, 14988, 15427, 15600, 16048, 16098], 'total_density': 55, 'avg_density': 13.75, 'ce_loss': 4.722005367279053, 'logit_diff': 3.2237625122070312, 'faithfulness': 0.9174049496650696}\n",
      "{'blocks.7.hook_resid_post': [9152], 'blocks.14.hook_resid_post': [5082, 9224], 'blocks.21.hook_resid_post': [13730, 12577, 170, 4714, 10849], 'blocks.40.hook_resid_post': [520, 1452, 1743, 2235, 2488, 2693, 2820, 3111, 3510, 3764, 4661, 6013, 6214, 6426, 6574, 7788, 8003, 9294, 10455, 10941, 11314, 11654, 13762, 14988, 15600, 16048], 'total_density': 34, 'avg_density': 8.5, 'ce_loss': 4.829881191253662, 'logit_diff': 2.91042160987854, 'faithfulness': 0.8282356858253479}\n",
      "{'blocks.7.hook_resid_post': [9152], 'blocks.14.hook_resid_post': [5082], 'blocks.21.hook_resid_post': [13730, 170, 4714, 10849], 'blocks.40.hook_resid_post': [520, 1452, 1743, 2235, 2488, 2693, 2820, 3111, 3510, 3764, 4661, 6013, 6214, 6426, 6574, 7788, 8003, 9294, 10455, 10941, 11314, 14988, 16048], 'total_density': 29, 'avg_density': 7.25, 'ce_loss': 4.858283996582031, 'logit_diff': 2.2211976051330566, 'faithfulness': 0.6320992112159729}\n",
      "{'blocks.7.hook_resid_post': [9152], 'blocks.14.hook_resid_post': [5082], 'blocks.21.hook_resid_post': [13730, 4714, 10849], 'blocks.40.hook_resid_post': [1743, 2235, 2488, 2693, 2820, 3111, 3510, 3764, 4661, 6013, 6214, 6426, 6574, 7788, 9294, 10941, 11314, 14988], 'total_density': 23, 'avg_density': 5.75, 'ce_loss': 4.967090606689453, 'logit_diff': 2.2081048488616943, 'faithfulness': 0.6283733248710632}\n",
      "{'blocks.7.hook_resid_post': [9152], 'blocks.14.hook_resid_post': [5082], 'blocks.21.hook_resid_post': [13730, 10849], 'blocks.40.hook_resid_post': [1743, 2235, 2488, 2693, 2820, 3111, 3510, 3764, 4661, 6214, 6426, 6574, 7788, 9294, 10941, 11314, 14988, 15427], 'total_density': 22, 'avg_density': 5.5, 'ce_loss': 5.0393242835998535, 'logit_diff': 2.2746267318725586, 'faithfulness': 0.6473038196563721}\n",
      "{'blocks.7.hook_resid_post': [9152], 'blocks.14.hook_resid_post': [5082], 'blocks.21.hook_resid_post': [13730, 10849], 'blocks.40.hook_resid_post': [2235, 2488, 2693, 2820, 3111, 3510, 3764, 4661, 6214, 6426, 6574, 9294, 10941, 11314, 14988], 'total_density': 19, 'avg_density': 4.75, 'ce_loss': 5.046967506408691, 'logit_diff': 2.1821417808532715, 'faithfulness': 0.6209848523139954}\n",
      "{'blocks.7.hook_resid_post': [9152], 'blocks.14.hook_resid_post': [5082], 'blocks.21.hook_resid_post': [13730, 10849], 'blocks.40.hook_resid_post': [2488, 2693, 2820, 3510, 3764, 4661, 6214, 6426, 6574, 9294, 10941, 11314, 14988], 'total_density': 17, 'avg_density': 4.25, 'ce_loss': 5.059316158294678, 'logit_diff': 2.062178611755371, 'faithfulness': 0.5868462324142456}\n",
      "{'blocks.7.hook_resid_post': [9152], 'blocks.14.hook_resid_post': [5082], 'blocks.21.hook_resid_post': [13730], 'blocks.40.hook_resid_post': [2488, 2693, 2820, 3510, 3764, 4661, 6426, 6574, 9294, 14988], 'total_density': 13, 'avg_density': 3.25, 'ce_loss': 5.166790962219238, 'logit_diff': 1.9892828464508057, 'faithfulness': 0.5661018490791321}\n",
      "{'blocks.7.hook_resid_post': [9152], 'blocks.14.hook_resid_post': [5082], 'blocks.21.hook_resid_post': [13730], 'blocks.40.hook_resid_post': [2488, 2693, 2820, 3510, 3764, 4661, 6426, 6574, 9294], 'total_density': 12, 'avg_density': 3.0, 'ce_loss': 5.208295822143555, 'logit_diff': 1.996301293373108, 'faithfulness': 0.5680991411209106}\n"
     ]
    }
   ],
   "source": [
    "num_runs = 10\n",
    "start = 0.05\n",
    "end = 1\n",
    "step = (end-start)/num_runs\n",
    "nnodes = []\n",
    "faithfulness = []\n",
    "\n",
    "for i in range(num_runs):\n",
    "    sparsity_multiplier = start + i*step\n",
    "    bdir = f\"masks/sva/rc/{str(sparsity_multiplier)}_run/{str(sparsity_multiplier)}_run.json\"\n",
    "    # load the dict \n",
    "    with open(bdir, 'r') as file:\n",
    "        mask_dict = json.load(file)\n",
    "    print(mask_dict)\n",
    "    # nnodes.append(mask_dict['total_density'])\n",
    "    # faithfulness.append(mask_dict['faithfulness'])\n",
    "    "
   ]
  },
  {
   "cell_type": "code",
   "execution_count": 80,
   "metadata": {},
   "outputs": [],
   "source": [
    "from itertools import combinations\n",
    "num_runs = 10\n",
    "start = 0.05\n",
    "end = 1\n",
    "step = (end - start) / num_runs\n",
    "\n",
    "# Load all dictionaries\n",
    "masks = []\n",
    "for i in range(num_runs):\n",
    "    sparsity_multiplier = start + i * step\n",
    "    bdir = f\"masks/sva/rc/{str(sparsity_multiplier)}_run/{str(sparsity_multiplier)}_run.json\"\n",
    "    with open(bdir, 'r') as file:\n",
    "        masks.append(json.load(file))\n",
    "    \n",
    "rev_mask = list(reversed(masks))"
   ]
  },
  {
   "cell_type": "code",
   "execution_count": 81,
   "metadata": {},
   "outputs": [
    {
     "name": "stdout",
     "output_type": "stream",
     "text": [
      "Comparing 12 and 13\n",
      "Comparing 12 and 17\n",
      "Comparing 12 and 19\n",
      "Comparing 12 and 22\n",
      "Comparing 12 and 23\n",
      "Comparing 12 and 29\n",
      "Comparing 12 and 34\n",
      "Comparing 12 and 55\n",
      "Comparing 12 and 148\n",
      "Comparing 13 and 17\n",
      "Comparing 13 and 19\n",
      "Comparing 13 and 22\n",
      "Comparing 13 and 23\n",
      "Comparing 13 and 29\n",
      "Comparing 13 and 34\n",
      "Comparing 13 and 55\n",
      "Comparing 13 and 148\n",
      "Comparing 17 and 19\n",
      "Comparing 17 and 22\n",
      "Comparing 17 and 23\n",
      "Comparing 17 and 29\n",
      "Comparing 17 and 34\n",
      "Comparing 17 and 55\n",
      "Comparing 17 and 148\n",
      "Comparing 19 and 22\n",
      "Comparing 19 and 23\n",
      "Comparing 19 and 29\n",
      "Comparing 19 and 34\n",
      "Comparing 19 and 55\n",
      "Comparing 19 and 148\n",
      "Comparing 22 and 23\n",
      "Comparing 22 and 29\n",
      "Comparing 22 and 34\n",
      "Comparing 22 and 55\n",
      "Comparing 22 and 148\n",
      "Comparing 23 and 29\n",
      "Comparing 23 and 34\n",
      "Comparing 23 and 55\n",
      "Comparing 23 and 148\n",
      "Comparing 29 and 34\n",
      "Comparing 29 and 55\n",
      "Comparing 29 and 148\n",
      "Comparing 34 and 55\n",
      "Comparing 34 and 148\n",
      "Comparing 55 and 148\n"
     ]
    }
   ],
   "source": [
    "from itertools import combinations\n",
    "for small_idx, big_idx in combinations(range(num_runs), 2):\n",
    "    # print(f\"Comparing {small_idx} and {big_idx}\")\n",
    "    print(f\"Comparing {rev_mask[small_idx]['total_density']} and {rev_mask[big_idx]['total_density']}\")"
   ]
  },
  {
   "cell_type": "code",
   "execution_count": 82,
   "metadata": {},
   "outputs": [
    {
     "data": {
      "text/html": [
       "<div>\n",
       "<style scoped>\n",
       "    .dataframe tbody tr th:only-of-type {\n",
       "        vertical-align: middle;\n",
       "    }\n",
       "\n",
       "    .dataframe tbody tr th {\n",
       "        vertical-align: top;\n",
       "    }\n",
       "\n",
       "    .dataframe thead th {\n",
       "        text-align: right;\n",
       "    }\n",
       "</style>\n",
       "<table border=\"1\" class=\"dataframe\">\n",
       "  <thead>\n",
       "    <tr style=\"text-align: right;\">\n",
       "      <th></th>\n",
       "      <th>small_index</th>\n",
       "      <th>big_index</th>\n",
       "      <th>blocks.7.hook_resid_post</th>\n",
       "      <th>blocks.14.hook_resid_post</th>\n",
       "      <th>blocks.21.hook_resid_post</th>\n",
       "      <th>blocks.40.hook_resid_post</th>\n",
       "    </tr>\n",
       "  </thead>\n",
       "  <tbody>\n",
       "    <tr>\n",
       "      <th>0</th>\n",
       "      <td>0</td>\n",
       "      <td>1</td>\n",
       "      <td>1.0</td>\n",
       "      <td>1.0</td>\n",
       "      <td>1.0</td>\n",
       "      <td>1.000000</td>\n",
       "    </tr>\n",
       "    <tr>\n",
       "      <th>1</th>\n",
       "      <td>0</td>\n",
       "      <td>2</td>\n",
       "      <td>1.0</td>\n",
       "      <td>1.0</td>\n",
       "      <td>1.0</td>\n",
       "      <td>1.000000</td>\n",
       "    </tr>\n",
       "    <tr>\n",
       "      <th>2</th>\n",
       "      <td>0</td>\n",
       "      <td>3</td>\n",
       "      <td>1.0</td>\n",
       "      <td>1.0</td>\n",
       "      <td>1.0</td>\n",
       "      <td>1.000000</td>\n",
       "    </tr>\n",
       "    <tr>\n",
       "      <th>3</th>\n",
       "      <td>0</td>\n",
       "      <td>4</td>\n",
       "      <td>1.0</td>\n",
       "      <td>1.0</td>\n",
       "      <td>1.0</td>\n",
       "      <td>1.000000</td>\n",
       "    </tr>\n",
       "    <tr>\n",
       "      <th>4</th>\n",
       "      <td>0</td>\n",
       "      <td>5</td>\n",
       "      <td>1.0</td>\n",
       "      <td>1.0</td>\n",
       "      <td>1.0</td>\n",
       "      <td>1.000000</td>\n",
       "    </tr>\n",
       "    <tr>\n",
       "      <th>5</th>\n",
       "      <td>0</td>\n",
       "      <td>6</td>\n",
       "      <td>1.0</td>\n",
       "      <td>1.0</td>\n",
       "      <td>1.0</td>\n",
       "      <td>1.000000</td>\n",
       "    </tr>\n",
       "    <tr>\n",
       "      <th>6</th>\n",
       "      <td>0</td>\n",
       "      <td>7</td>\n",
       "      <td>1.0</td>\n",
       "      <td>1.0</td>\n",
       "      <td>1.0</td>\n",
       "      <td>1.000000</td>\n",
       "    </tr>\n",
       "    <tr>\n",
       "      <th>7</th>\n",
       "      <td>0</td>\n",
       "      <td>8</td>\n",
       "      <td>1.0</td>\n",
       "      <td>1.0</td>\n",
       "      <td>1.0</td>\n",
       "      <td>1.000000</td>\n",
       "    </tr>\n",
       "    <tr>\n",
       "      <th>8</th>\n",
       "      <td>0</td>\n",
       "      <td>9</td>\n",
       "      <td>1.0</td>\n",
       "      <td>1.0</td>\n",
       "      <td>1.0</td>\n",
       "      <td>1.000000</td>\n",
       "    </tr>\n",
       "    <tr>\n",
       "      <th>9</th>\n",
       "      <td>1</td>\n",
       "      <td>2</td>\n",
       "      <td>1.0</td>\n",
       "      <td>1.0</td>\n",
       "      <td>1.0</td>\n",
       "      <td>1.000000</td>\n",
       "    </tr>\n",
       "    <tr>\n",
       "      <th>10</th>\n",
       "      <td>1</td>\n",
       "      <td>3</td>\n",
       "      <td>1.0</td>\n",
       "      <td>1.0</td>\n",
       "      <td>1.0</td>\n",
       "      <td>1.000000</td>\n",
       "    </tr>\n",
       "    <tr>\n",
       "      <th>11</th>\n",
       "      <td>1</td>\n",
       "      <td>4</td>\n",
       "      <td>1.0</td>\n",
       "      <td>1.0</td>\n",
       "      <td>1.0</td>\n",
       "      <td>1.000000</td>\n",
       "    </tr>\n",
       "    <tr>\n",
       "      <th>12</th>\n",
       "      <td>1</td>\n",
       "      <td>5</td>\n",
       "      <td>1.0</td>\n",
       "      <td>1.0</td>\n",
       "      <td>1.0</td>\n",
       "      <td>1.000000</td>\n",
       "    </tr>\n",
       "    <tr>\n",
       "      <th>13</th>\n",
       "      <td>1</td>\n",
       "      <td>6</td>\n",
       "      <td>1.0</td>\n",
       "      <td>1.0</td>\n",
       "      <td>1.0</td>\n",
       "      <td>1.000000</td>\n",
       "    </tr>\n",
       "    <tr>\n",
       "      <th>14</th>\n",
       "      <td>1</td>\n",
       "      <td>7</td>\n",
       "      <td>1.0</td>\n",
       "      <td>1.0</td>\n",
       "      <td>1.0</td>\n",
       "      <td>1.000000</td>\n",
       "    </tr>\n",
       "    <tr>\n",
       "      <th>15</th>\n",
       "      <td>1</td>\n",
       "      <td>8</td>\n",
       "      <td>1.0</td>\n",
       "      <td>1.0</td>\n",
       "      <td>1.0</td>\n",
       "      <td>1.000000</td>\n",
       "    </tr>\n",
       "    <tr>\n",
       "      <th>16</th>\n",
       "      <td>1</td>\n",
       "      <td>9</td>\n",
       "      <td>1.0</td>\n",
       "      <td>1.0</td>\n",
       "      <td>1.0</td>\n",
       "      <td>1.000000</td>\n",
       "    </tr>\n",
       "    <tr>\n",
       "      <th>17</th>\n",
       "      <td>2</td>\n",
       "      <td>3</td>\n",
       "      <td>1.0</td>\n",
       "      <td>1.0</td>\n",
       "      <td>1.0</td>\n",
       "      <td>1.000000</td>\n",
       "    </tr>\n",
       "    <tr>\n",
       "      <th>18</th>\n",
       "      <td>2</td>\n",
       "      <td>4</td>\n",
       "      <td>1.0</td>\n",
       "      <td>1.0</td>\n",
       "      <td>1.0</td>\n",
       "      <td>1.000000</td>\n",
       "    </tr>\n",
       "    <tr>\n",
       "      <th>19</th>\n",
       "      <td>2</td>\n",
       "      <td>5</td>\n",
       "      <td>1.0</td>\n",
       "      <td>1.0</td>\n",
       "      <td>1.0</td>\n",
       "      <td>1.000000</td>\n",
       "    </tr>\n",
       "    <tr>\n",
       "      <th>20</th>\n",
       "      <td>2</td>\n",
       "      <td>6</td>\n",
       "      <td>1.0</td>\n",
       "      <td>1.0</td>\n",
       "      <td>1.0</td>\n",
       "      <td>1.000000</td>\n",
       "    </tr>\n",
       "    <tr>\n",
       "      <th>21</th>\n",
       "      <td>2</td>\n",
       "      <td>7</td>\n",
       "      <td>1.0</td>\n",
       "      <td>1.0</td>\n",
       "      <td>1.0</td>\n",
       "      <td>1.000000</td>\n",
       "    </tr>\n",
       "    <tr>\n",
       "      <th>22</th>\n",
       "      <td>2</td>\n",
       "      <td>8</td>\n",
       "      <td>1.0</td>\n",
       "      <td>1.0</td>\n",
       "      <td>1.0</td>\n",
       "      <td>1.000000</td>\n",
       "    </tr>\n",
       "    <tr>\n",
       "      <th>23</th>\n",
       "      <td>2</td>\n",
       "      <td>9</td>\n",
       "      <td>1.0</td>\n",
       "      <td>1.0</td>\n",
       "      <td>1.0</td>\n",
       "      <td>1.000000</td>\n",
       "    </tr>\n",
       "    <tr>\n",
       "      <th>24</th>\n",
       "      <td>3</td>\n",
       "      <td>4</td>\n",
       "      <td>1.0</td>\n",
       "      <td>1.0</td>\n",
       "      <td>1.0</td>\n",
       "      <td>1.000000</td>\n",
       "    </tr>\n",
       "    <tr>\n",
       "      <th>25</th>\n",
       "      <td>3</td>\n",
       "      <td>5</td>\n",
       "      <td>1.0</td>\n",
       "      <td>1.0</td>\n",
       "      <td>1.0</td>\n",
       "      <td>1.000000</td>\n",
       "    </tr>\n",
       "    <tr>\n",
       "      <th>26</th>\n",
       "      <td>3</td>\n",
       "      <td>6</td>\n",
       "      <td>1.0</td>\n",
       "      <td>1.0</td>\n",
       "      <td>1.0</td>\n",
       "      <td>1.000000</td>\n",
       "    </tr>\n",
       "    <tr>\n",
       "      <th>27</th>\n",
       "      <td>3</td>\n",
       "      <td>7</td>\n",
       "      <td>1.0</td>\n",
       "      <td>1.0</td>\n",
       "      <td>1.0</td>\n",
       "      <td>1.000000</td>\n",
       "    </tr>\n",
       "    <tr>\n",
       "      <th>28</th>\n",
       "      <td>3</td>\n",
       "      <td>8</td>\n",
       "      <td>1.0</td>\n",
       "      <td>1.0</td>\n",
       "      <td>1.0</td>\n",
       "      <td>1.000000</td>\n",
       "    </tr>\n",
       "    <tr>\n",
       "      <th>29</th>\n",
       "      <td>3</td>\n",
       "      <td>9</td>\n",
       "      <td>1.0</td>\n",
       "      <td>1.0</td>\n",
       "      <td>1.0</td>\n",
       "      <td>1.000000</td>\n",
       "    </tr>\n",
       "    <tr>\n",
       "      <th>30</th>\n",
       "      <td>4</td>\n",
       "      <td>5</td>\n",
       "      <td>1.0</td>\n",
       "      <td>1.0</td>\n",
       "      <td>1.0</td>\n",
       "      <td>0.944444</td>\n",
       "    </tr>\n",
       "    <tr>\n",
       "      <th>31</th>\n",
       "      <td>4</td>\n",
       "      <td>6</td>\n",
       "      <td>1.0</td>\n",
       "      <td>1.0</td>\n",
       "      <td>1.0</td>\n",
       "      <td>0.944444</td>\n",
       "    </tr>\n",
       "    <tr>\n",
       "      <th>32</th>\n",
       "      <td>4</td>\n",
       "      <td>7</td>\n",
       "      <td>1.0</td>\n",
       "      <td>1.0</td>\n",
       "      <td>1.0</td>\n",
       "      <td>0.944444</td>\n",
       "    </tr>\n",
       "    <tr>\n",
       "      <th>33</th>\n",
       "      <td>4</td>\n",
       "      <td>8</td>\n",
       "      <td>1.0</td>\n",
       "      <td>1.0</td>\n",
       "      <td>1.0</td>\n",
       "      <td>1.000000</td>\n",
       "    </tr>\n",
       "    <tr>\n",
       "      <th>34</th>\n",
       "      <td>4</td>\n",
       "      <td>9</td>\n",
       "      <td>1.0</td>\n",
       "      <td>1.0</td>\n",
       "      <td>1.0</td>\n",
       "      <td>1.000000</td>\n",
       "    </tr>\n",
       "    <tr>\n",
       "      <th>35</th>\n",
       "      <td>5</td>\n",
       "      <td>6</td>\n",
       "      <td>1.0</td>\n",
       "      <td>1.0</td>\n",
       "      <td>1.0</td>\n",
       "      <td>1.000000</td>\n",
       "    </tr>\n",
       "    <tr>\n",
       "      <th>36</th>\n",
       "      <td>5</td>\n",
       "      <td>7</td>\n",
       "      <td>1.0</td>\n",
       "      <td>1.0</td>\n",
       "      <td>1.0</td>\n",
       "      <td>1.000000</td>\n",
       "    </tr>\n",
       "    <tr>\n",
       "      <th>37</th>\n",
       "      <td>5</td>\n",
       "      <td>8</td>\n",
       "      <td>1.0</td>\n",
       "      <td>1.0</td>\n",
       "      <td>1.0</td>\n",
       "      <td>1.000000</td>\n",
       "    </tr>\n",
       "    <tr>\n",
       "      <th>38</th>\n",
       "      <td>5</td>\n",
       "      <td>9</td>\n",
       "      <td>1.0</td>\n",
       "      <td>1.0</td>\n",
       "      <td>1.0</td>\n",
       "      <td>1.000000</td>\n",
       "    </tr>\n",
       "    <tr>\n",
       "      <th>39</th>\n",
       "      <td>6</td>\n",
       "      <td>7</td>\n",
       "      <td>1.0</td>\n",
       "      <td>1.0</td>\n",
       "      <td>1.0</td>\n",
       "      <td>1.000000</td>\n",
       "    </tr>\n",
       "    <tr>\n",
       "      <th>40</th>\n",
       "      <td>6</td>\n",
       "      <td>8</td>\n",
       "      <td>1.0</td>\n",
       "      <td>1.0</td>\n",
       "      <td>1.0</td>\n",
       "      <td>1.000000</td>\n",
       "    </tr>\n",
       "    <tr>\n",
       "      <th>41</th>\n",
       "      <td>6</td>\n",
       "      <td>9</td>\n",
       "      <td>1.0</td>\n",
       "      <td>1.0</td>\n",
       "      <td>1.0</td>\n",
       "      <td>1.000000</td>\n",
       "    </tr>\n",
       "    <tr>\n",
       "      <th>42</th>\n",
       "      <td>7</td>\n",
       "      <td>8</td>\n",
       "      <td>1.0</td>\n",
       "      <td>1.0</td>\n",
       "      <td>1.0</td>\n",
       "      <td>1.000000</td>\n",
       "    </tr>\n",
       "    <tr>\n",
       "      <th>43</th>\n",
       "      <td>7</td>\n",
       "      <td>9</td>\n",
       "      <td>1.0</td>\n",
       "      <td>1.0</td>\n",
       "      <td>1.0</td>\n",
       "      <td>1.000000</td>\n",
       "    </tr>\n",
       "    <tr>\n",
       "      <th>44</th>\n",
       "      <td>8</td>\n",
       "      <td>9</td>\n",
       "      <td>1.0</td>\n",
       "      <td>1.0</td>\n",
       "      <td>1.0</td>\n",
       "      <td>1.000000</td>\n",
       "    </tr>\n",
       "  </tbody>\n",
       "</table>\n",
       "</div>"
      ],
      "text/plain": [
       "    small_index  big_index  blocks.7.hook_resid_post  \\\n",
       "0             0          1                       1.0   \n",
       "1             0          2                       1.0   \n",
       "2             0          3                       1.0   \n",
       "3             0          4                       1.0   \n",
       "4             0          5                       1.0   \n",
       "5             0          6                       1.0   \n",
       "6             0          7                       1.0   \n",
       "7             0          8                       1.0   \n",
       "8             0          9                       1.0   \n",
       "9             1          2                       1.0   \n",
       "10            1          3                       1.0   \n",
       "11            1          4                       1.0   \n",
       "12            1          5                       1.0   \n",
       "13            1          6                       1.0   \n",
       "14            1          7                       1.0   \n",
       "15            1          8                       1.0   \n",
       "16            1          9                       1.0   \n",
       "17            2          3                       1.0   \n",
       "18            2          4                       1.0   \n",
       "19            2          5                       1.0   \n",
       "20            2          6                       1.0   \n",
       "21            2          7                       1.0   \n",
       "22            2          8                       1.0   \n",
       "23            2          9                       1.0   \n",
       "24            3          4                       1.0   \n",
       "25            3          5                       1.0   \n",
       "26            3          6                       1.0   \n",
       "27            3          7                       1.0   \n",
       "28            3          8                       1.0   \n",
       "29            3          9                       1.0   \n",
       "30            4          5                       1.0   \n",
       "31            4          6                       1.0   \n",
       "32            4          7                       1.0   \n",
       "33            4          8                       1.0   \n",
       "34            4          9                       1.0   \n",
       "35            5          6                       1.0   \n",
       "36            5          7                       1.0   \n",
       "37            5          8                       1.0   \n",
       "38            5          9                       1.0   \n",
       "39            6          7                       1.0   \n",
       "40            6          8                       1.0   \n",
       "41            6          9                       1.0   \n",
       "42            7          8                       1.0   \n",
       "43            7          9                       1.0   \n",
       "44            8          9                       1.0   \n",
       "\n",
       "    blocks.14.hook_resid_post  blocks.21.hook_resid_post  \\\n",
       "0                         1.0                        1.0   \n",
       "1                         1.0                        1.0   \n",
       "2                         1.0                        1.0   \n",
       "3                         1.0                        1.0   \n",
       "4                         1.0                        1.0   \n",
       "5                         1.0                        1.0   \n",
       "6                         1.0                        1.0   \n",
       "7                         1.0                        1.0   \n",
       "8                         1.0                        1.0   \n",
       "9                         1.0                        1.0   \n",
       "10                        1.0                        1.0   \n",
       "11                        1.0                        1.0   \n",
       "12                        1.0                        1.0   \n",
       "13                        1.0                        1.0   \n",
       "14                        1.0                        1.0   \n",
       "15                        1.0                        1.0   \n",
       "16                        1.0                        1.0   \n",
       "17                        1.0                        1.0   \n",
       "18                        1.0                        1.0   \n",
       "19                        1.0                        1.0   \n",
       "20                        1.0                        1.0   \n",
       "21                        1.0                        1.0   \n",
       "22                        1.0                        1.0   \n",
       "23                        1.0                        1.0   \n",
       "24                        1.0                        1.0   \n",
       "25                        1.0                        1.0   \n",
       "26                        1.0                        1.0   \n",
       "27                        1.0                        1.0   \n",
       "28                        1.0                        1.0   \n",
       "29                        1.0                        1.0   \n",
       "30                        1.0                        1.0   \n",
       "31                        1.0                        1.0   \n",
       "32                        1.0                        1.0   \n",
       "33                        1.0                        1.0   \n",
       "34                        1.0                        1.0   \n",
       "35                        1.0                        1.0   \n",
       "36                        1.0                        1.0   \n",
       "37                        1.0                        1.0   \n",
       "38                        1.0                        1.0   \n",
       "39                        1.0                        1.0   \n",
       "40                        1.0                        1.0   \n",
       "41                        1.0                        1.0   \n",
       "42                        1.0                        1.0   \n",
       "43                        1.0                        1.0   \n",
       "44                        1.0                        1.0   \n",
       "\n",
       "    blocks.40.hook_resid_post  \n",
       "0                    1.000000  \n",
       "1                    1.000000  \n",
       "2                    1.000000  \n",
       "3                    1.000000  \n",
       "4                    1.000000  \n",
       "5                    1.000000  \n",
       "6                    1.000000  \n",
       "7                    1.000000  \n",
       "8                    1.000000  \n",
       "9                    1.000000  \n",
       "10                   1.000000  \n",
       "11                   1.000000  \n",
       "12                   1.000000  \n",
       "13                   1.000000  \n",
       "14                   1.000000  \n",
       "15                   1.000000  \n",
       "16                   1.000000  \n",
       "17                   1.000000  \n",
       "18                   1.000000  \n",
       "19                   1.000000  \n",
       "20                   1.000000  \n",
       "21                   1.000000  \n",
       "22                   1.000000  \n",
       "23                   1.000000  \n",
       "24                   1.000000  \n",
       "25                   1.000000  \n",
       "26                   1.000000  \n",
       "27                   1.000000  \n",
       "28                   1.000000  \n",
       "29                   1.000000  \n",
       "30                   0.944444  \n",
       "31                   0.944444  \n",
       "32                   0.944444  \n",
       "33                   1.000000  \n",
       "34                   1.000000  \n",
       "35                   1.000000  \n",
       "36                   1.000000  \n",
       "37                   1.000000  \n",
       "38                   1.000000  \n",
       "39                   1.000000  \n",
       "40                   1.000000  \n",
       "41                   1.000000  \n",
       "42                   1.000000  \n",
       "43                   1.000000  \n",
       "44                   1.000000  "
      ]
     },
     "execution_count": 82,
     "metadata": {},
     "output_type": "execute_result"
    }
   ],
   "source": [
    "# Define a function to calculate overlap for two dictionaries\n",
    "def calculate_overlap(small_dict, big_dict):\n",
    "    overlaps = {}\n",
    "    for block, small_elements in small_dict.items():\n",
    "        if block in big_dict and block.startswith(\"blocks\"):\n",
    "            big_elements = big_dict[block]\n",
    "            overlap_count = len(set(small_elements) & set(big_elements))\n",
    "            total_small = len(small_elements)\n",
    "            overlaps[block] = overlap_count / total_small if total_small > 0 else 0\n",
    "    return overlaps\n",
    "\n",
    "# Calculate overlap for all combinations of smaller and larger dictionaries\n",
    "results = []\n",
    "for small_idx, big_idx in combinations(range(num_runs), 2):\n",
    "    small_dict = rev_mask[small_idx]\n",
    "    big_dict = rev_mask[big_idx]\n",
    "    overlap_result = calculate_overlap(small_dict, big_dict)\n",
    "    results.append({\n",
    "        \"small_index\": small_idx,\n",
    "        \"big_index\": big_idx,\n",
    "        \"overlap\": overlap_result\n",
    "    })\n",
    "\n",
    "# Display results\n",
    "import pandas as pd\n",
    "\n",
    "overlap_df = pd.DataFrame([\n",
    "    {\n",
    "        \"small_index\": result[\"small_index\"],\n",
    "        \"big_index\": result[\"big_index\"],\n",
    "        **result[\"overlap\"]\n",
    "    }\n",
    "    for result in results\n",
    "])\n",
    "overlap_df"
   ]
  },
  {
   "cell_type": "code",
   "execution_count": 85,
   "metadata": {},
   "outputs": [
    {
     "data": {
      "image/png": "[encoded data removed]",
      "text/plain": [
       "<Figure size 1000x600 with 1 Axes>"
      ]
     },
     "metadata": {},
     "output_type": "display_data"
    }
   ],
   "source": [
    "import matplotlib.pyplot as plt\n",
    "import pandas as pd\n",
    "\n",
    "# Assuming `results` contains the overlap data calculated earlier\n",
    "# Extracting and averaging overlap values for each `small_index`\n",
    "averaged_overlaps = {}\n",
    "\n",
    "for result in results:\n",
    "    small_index = result[\"small_index\"]\n",
    "    overlap_values = list(result[\"overlap\"].values())  # Get overlap values for all blocks\n",
    "    averaged_overlap = sum(overlap_values) / len(overlap_values) if overlap_values else 0\n",
    "    if small_index not in averaged_overlaps:\n",
    "        averaged_overlaps[small_index] = []\n",
    "    averaged_overlaps[small_index].append(averaged_overlap)\n",
    "\n",
    "# Compute the final average for each `small_index`\n",
    "final_averages = {k: sum(v) / len(v) for k, v in averaged_overlaps.items()}\n",
    "\n",
    "# Create a plot\n",
    "plt.figure(figsize=(10, 6))\n",
    "plt.plot(\n",
    "    list(final_averages.keys()),\n",
    "    list(final_averages.values()),\n",
    "    marker='o',\n",
    "    linestyle='-',\n",
    "    linewidth=2,\n",
    "    markersize=8,\n",
    ")\n",
    "\n",
    "# Add grid, labels, and title\n",
    "plt.grid(visible=True, linestyle='--', alpha=0.7)\n",
    "plt.xlabel(\"Circuits\", fontsize=14)\n",
    "plt.ylabel(\"Average Overlap on Bigger Circuit\", fontsize=14)\n",
    "plt.title(\"Average Overlap Across SAEs for Circuit on a larger Circuit\", fontsize=16)\n",
    "\n",
    "# Show the plot\n",
    "plt.tight_layout()\n",
    "plt.show()\n"
   ]
  },
  {
   "cell_type": "markdown",
   "metadata": {},
   "source": []
  },
  {
   "cell_type": "code",
   "execution_count": null,
   "metadata": {},
   "outputs": [],
   "source": []
  },
  {
   "cell_type": "code",
   "execution_count": 70,
   "metadata": {},
   "outputs": [
    {
     "data": {
      "text/plain": [
       "tensor(50, device='cuda:0')"
      ]
     },
     "execution_count": 70,
     "metadata": {},
     "output_type": "execute_result"
    }
   ],
   "source": [
    "(saes[3].mask.mask > 0).sum()"
   ]
  },
  {
   "cell_type": "code",
   "execution_count": 82,
   "metadata": {},
   "outputs": [
    {
     "data": {
      "text/plain": [
       "{'blocks.7.hook_resid_post': [9152, 4146, 14287],\n",
       " 'blocks.14.hook_resid_post': [5082, 9224, 11236],\n",
       " 'blocks.21.hook_resid_post': [7957,\n",
       "  13730,\n",
       "  7957,\n",
       "  12577,\n",
       "  170,\n",
       "  209,\n",
       "  865,\n",
       "  3687,\n",
       "  4297,\n",
       "  4714,\n",
       "  5141,\n",
       "  6937,\n",
       "  8735,\n",
       "  9502,\n",
       "  9591,\n",
       "  10849,\n",
       "  11008,\n",
       "  12057,\n",
       "  15950],\n",
       " 'blocks.40.hook_resid_post': [23,\n",
       "  520,\n",
       "  1035,\n",
       "  1155,\n",
       "  1433,\n",
       "  1452,\n",
       "  1743,\n",
       "  1980,\n",
       "  2235,\n",
       "  2285,\n",
       "  2488,\n",
       "  2664,\n",
       "  2693,\n",
       "  2820,\n",
       "  3111,\n",
       "  3510,\n",
       "  3764,\n",
       "  3765,\n",
       "  4330,\n",
       "  4661,\n",
       "  4740,\n",
       "  4843,\n",
       "  6013,\n",
       "  6214,\n",
       "  6426,\n",
       "  6574,\n",
       "  6851,\n",
       "  7776,\n",
       "  7788,\n",
       "  8003,\n",
       "  8502,\n",
       "  8583,\n",
       "  9294,\n",
       "  9696,\n",
       "  10455,\n",
       "  10702,\n",
       "  10941,\n",
       "  11051,\n",
       "  11314,\n",
       "  11654,\n",
       "  12333,\n",
       "  12905,\n",
       "  13582,\n",
       "  13762,\n",
       "  14357,\n",
       "  14988,\n",
       "  15427,\n",
       "  15600,\n",
       "  16048,\n",
       "  16098]}"
      ]
     },
     "execution_count": 82,
     "metadata": {},
     "output_type": "execute_result"
    }
   ],
   "source": [
    "actual_mask = {}\n",
    "for sae in saes: \n",
    "    actual_mask[sae.cfg.hook_name] = torch.where(sae.mask.mask > 0)[1].tolist()\n",
    "actual_mask"
   ]
  },
  {
   "cell_type": "code",
   "execution_count": 83,
   "metadata": {},
   "outputs": [],
   "source": [
    "# save the mask\n",
    "json.dump(actual_mask, open(\"updated_01_run.json\", \"w\"))"
   ]
  },
  {
   "cell_type": "code",
   "execution_count": 77,
   "metadata": {},
   "outputs": [
    {
     "data": {
      "text/plain": [
       "tensor([   23,   520,  1035,  1155,  1433,  1452,  1743,  1980,  2235,  2285,\n",
       "         2488,  2664,  2693,  2820,  3111,  3510,  3764,  3765,  4330,  4661,\n",
       "         4740,  4843,  6013,  6214,  6426,  6574,  6851,  7776,  7788,  8003,\n",
       "         8502,  8583,  9294,  9696, 10455, 10702, 10941, 11051, 11314, 11654,\n",
       "        12333, 12905, 13582, 13762, 14357, 14988, 15427, 15600, 16048, 16098],\n",
       "       device='cuda:0')"
      ]
     },
     "execution_count": 77,
     "metadata": {},
     "output_type": "execute_result"
    }
   ],
   "source": [
    "torch.where(saes[3].mask.mask > 0)[1]"
   ]
  },
  {
   "cell_type": "code",
   "execution_count": 72,
   "metadata": {},
   "outputs": [
    {
     "data": {
      "image/png": "[encoded data removed]",
      "text/plain": [
       "<Figure size 1400x600 with 3 Axes>"
      ]
     },
     "metadata": {},
     "output_type": "display_data"
    },
    {
     "name": "stdout",
     "output_type": "stream",
     "text": [
      "layer 0 latents: 3 🖕\n",
      "layer 1 latents: 3 🖕\n",
      "layer 2 latents: 19 🖕\n",
      "layer 3 latents: 50 🖕\n",
      "total # latents: 75 🖕\n"
     ]
    }
   ],
   "source": [
    "import torch\n",
    "import numpy as np\n",
    "import matplotlib.pyplot as plt\n",
    "import seaborn as sns\n",
    "from matplotlib.colors import ListedColormap, BoundaryNorm\n",
    "\n",
    "# Assuming 'saes', 'model', and 'simple_dataset' are defined\n",
    "tokens = model.to_str_tokens(clean_tokens[2][0])\n",
    "num_masks = 4 # Number of masks you have\n",
    "counts_per_mask = []\n",
    "for mask_index in range(num_masks):\n",
    "    testmask = saes[mask_index].mask.mask.data.clone()\n",
    "    binarized = (testmask > 0.0).float()\n",
    "    counts = []\n",
    "    for i in range(len(tokens)):\n",
    "        counts.append(torch.count_nonzero(binarized[i]).item())\n",
    "    counts_per_mask.append(counts)\n",
    "\n",
    "# Convert counts to a NumPy array\n",
    "data = np.array(counts_per_mask) # Shape: (num_masks, num_tokens)\n",
    "\n",
    "# Create a mask for zero values\n",
    "zero_mask = data == 0\n",
    "\n",
    "# Define a colormap\n",
    "cmap = sns.color_palette(\"viridis\", as_cmap=True)\n",
    "\n",
    "# Plot the heatmap with the mask\n",
    "plt.figure(figsize=(14, 6))\n",
    "ax = sns.heatmap(\n",
    "    data,\n",
    "    annot=True,\n",
    "    fmt='d',\n",
    "    cmap=cmap,\n",
    "    mask=zero_mask,\n",
    "    cbar_kws={'label': 'Counts'},\n",
    "    linewidths=0.5,\n",
    "    linecolor='gray'\n",
    ")\n",
    "\n",
    "# Set x-axis labels to tokens\n",
    "ax.set_xticks(np.arange(len(tokens)) + 0.5)\n",
    "ax.set_xticklabels(tokens, rotation=90, fontsize=8)\n",
    "\n",
    "# Add numeric indices above the chart\n",
    "ax2 = ax.twiny()\n",
    "ax2.set_xlim(ax.get_xlim())\n",
    "ax2.set_xticks(np.arange(len(tokens)) + 0.5)\n",
    "ax2.set_xticklabels(np.arange(len(tokens)), rotation=90)  # Rotate indices 90 degrees\n",
    "ax2.set_xlabel('Token Indices')\n",
    "\n",
    "# Set y-axis labels to masks\n",
    "ax.set_yticks(np.arange(num_masks) + 0.5)\n",
    "ax.set_yticklabels([f'SAE {i}' for i in range(num_masks)], rotation=0)\n",
    "\n",
    "plt.xlabel('Tokens')\n",
    "plt.ylabel('SAE Number Active Latents')\n",
    "plt.title('Active SAE Latents per Token per Mask (Zero Counts Hidden)')\n",
    "plt.tight_layout()\n",
    "plt.show()\n",
    "\n",
    "# print the total # latents in the circuit\n",
    "total_latents = 0\n",
    "for i, sae in enumerate(saes):\n",
    "    print(f\"layer {i} latents: {torch.sum(sae.mask.mask > 0)} 🖕\")\n",
    "    total_latents += torch.sum(sae.mask.mask > 0)\n",
    "print(f\"total # latents: {total_latents} 🖕\")\n"
   ]
  },
  {
   "cell_type": "code",
   "execution_count": 76,
   "metadata": {},
   "outputs": [
    {
     "data": {
      "text/plain": [
       "tensor([[9152]], device='cuda:0')"
      ]
     },
     "execution_count": 76,
     "metadata": {},
     "output_type": "execute_result"
    }
   ],
   "source": [
    "torch.nonzero((saes[0].mask.mask>0)[2])"
   ]
  },
  {
   "cell_type": "markdown",
   "metadata": {},
   "source": [
    "# loss calc"
   ]
  },
  {
   "cell_type": "code",
   "execution_count": 59,
   "metadata": {},
   "outputs": [
    {
     "name": "stdout",
     "output_type": "stream",
     "text": [
      "0.04241183027625084 0.125\n"
     ]
    }
   ],
   "source": [
    "logits = model(clean_tokens[21])\n",
    "probs = F.softmax(logits[torch.arange(logits.shape[0]), -1], dim=-1)\n",
    "prob_correct = probs[torch.arange(probs.shape[0]), clean_label_tokens[21]].mean().item()\n",
    "max_prob_idxs = probs.argmax(dim=-1)\n",
    "top1_acc = (max_prob_idxs == clean_label_tokens[21]).float().mean().item()\n",
    "print(prob_correct, top1_acc)"
   ]
  },
  {
   "cell_type": "code",
   "execution_count": 61,
   "metadata": {},
   "outputs": [
    {
     "name": "stdout",
     "output_type": "stream",
     "text": [
      "0.054300688207149506 0.1875\n"
     ]
    }
   ],
   "source": [
    "for sae in saes:\n",
    "    sae.mask = SparseMask(sae.cfg.d_sae, 1.0, seq_len=7, distinct_l1=1.0).to(device)\n",
    "\n",
    "logits = model.run_with_hooks(\n",
    "        clean_tokens[21], \n",
    "        return_type=\"logits\", \n",
    "        fwd_hooks=build_hooks_list(clean_tokens[21], use_mask=False, mean_mask=False) #, binarize_mask=True)\n",
    "        )\n",
    "probs = F.softmax(logits[torch.arange(logits.shape[0]), -1], dim=-1)\n",
    "prob_correct = probs[torch.arange(probs.shape[0]), clean_label_tokens[21]].mean().item()\n",
    "max_prob_idxs = probs.argmax(dim=-1)\n",
    "top1_acc = (max_prob_idxs == clean_label_tokens[21]).float().mean().item()\n",
    "print(prob_correct, top1_acc)"
   ]
  },
  {
   "cell_type": "code",
   "execution_count": null,
   "metadata": {},
   "outputs": [],
   "source": [
    "def compute_token_probabilities(logits, labels):\n",
    "    \"\"\"Compute probabilities, logit differences, and CE loss for token predictions.\"\"\"\n",
    "    # Get probabilities for all tokens at the sequence positions\n",
    "    probs = F.softmax(logits[torch.arange(logits.shape[0]), -1], dim=-1)\n",
    "    \n",
    "    # Calculate mean probabilities for correct and error tokens\n",
    "    prob_correct = probs[torch.arange(probs.shape[0]), labels].mean().item()\n",
    "    max_prob_idxs = probs.argmax(dim=-1)\n",
    "    top1_acc = (max_prob_idxs == labels).float().mean().item()\n",
    "    # prob_error = get_highest_other_prob(probs, labels).mean().item()\n",
    "    \n",
    "    # Calculate logit difference\n",
    "    correct_logits = logits[torch.arange(logits.shape[0]), -1, labels]\n",
    "    # error_logits = get_highest_other_logit(logits[torch.arange(logits.shape[0]), -1], labels)\n",
    "    logit_diff = (correct_logits - error_logits).mean().item()\n",
    "    \n",
    "    # Calculate CE loss\n",
    "    ce_loss = F.cross_entropy(\n",
    "        logits[torch.arange(logits.shape[0]), -1], \n",
    "        labels\n",
    "    ).item()\n",
    "    \n",
    "    return prob_correct, prob_error, logit_diff, top1_acc, ce_loss"
   ]
  }
 ],
 "metadata": {
  "kernelspec": {
   "display_name": "Python 3",
   "language": "python",
   "name": "python3"
  },
  "language_info": {
   "codemirror_mode": {
    "name": "ipython",
    "version": 3
   },
   "file_extension": ".py",
   "mimetype": "text/x-python",
   "name": "python",
   "nbconvert_exporter": "python",
   "pygments_lexer": "ipython3",
   "version": "3.10.4"
  }
 },
 "nbformat": 4,
 "nbformat_minor": 2
}
