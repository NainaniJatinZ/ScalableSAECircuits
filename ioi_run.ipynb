{
 "cells": [
  {
   "cell_type": "code",
   "execution_count": 1,
   "metadata": {},
   "outputs": [],
   "source": [
    "import json\n",
    "from sae_lens import SAE, HookedSAETransformer\n",
    "from functools import partial\n",
    "import einops\n",
    "import os\n",
    "import gc\n",
    "import torch\n",
    "import torch.nn as nn\n",
    "import matplotlib.pyplot as plt\n",
    "import torch.optim as optim\n",
    "from datasets import load_dataset\n",
    "from transformers import AutoTokenizer\n",
    "from transformer_lens.hook_points import (\n",
    "    HookPoint,\n",
    ") \n",
    "import numpy as np\n",
    "import pandas as pd\n",
    "from pprint import pprint as pp\n",
    "from typing import Tuple\n",
    "from torch import Tensor\n",
    "from functools import lru_cache\n",
    "from typing import TypedDict, Optional, Tuple, Union\n",
    "from tqdm import tqdm\n",
    "import random"
   ]
  },
  {
   "cell_type": "code",
   "execution_count": 6,
   "metadata": {},
   "outputs": [
    {
     "name": "stdout",
     "output_type": "stream",
     "text": [
      "Tue Dec 31 00:32:54 2024       \n",
      "+-----------------------------------------------------------------------------------------+\n",
      "| NVIDIA-SMI 550.127.05             Driver Version: 550.127.05     CUDA Version: 12.4     |\n",
      "|-----------------------------------------+------------------------+----------------------+\n",
      "| GPU  Name                 Persistence-M | Bus-Id          Disp.A | Volatile Uncorr. ECC |\n",
      "| Fan  Temp   Perf          Pwr:Usage/Cap |           Memory-Usage | GPU-Util  Compute M. |\n",
      "|                                         |                        |               MIG M. |\n",
      "|=========================================+========================+======================|\n",
      "|   0  NVIDIA A100-SXM4-80GB          On  |   00000000:25:00.0 Off |                    0 |\n",
      "| N/A   41C    P0             77W /  500W |   45029MiB /  81920MiB |      0%      Default |\n",
      "|                                         |                        |             Disabled |\n",
      "+-----------------------------------------+------------------------+----------------------+\n",
      "                                                                                         \n",
      "+-----------------------------------------------------------------------------------------+\n",
      "| Processes:                                                                              |\n",
      "|  GPU   GI   CI        PID   Type   Process name                              GPU Memory |\n",
      "|        ID   ID                                                               Usage      |\n",
      "|=========================================================================================|\n",
      "|    0   N/A  N/A    710715      C   ...u/.conda/envs/finetuning/bin/python      45018MiB |\n",
      "+-----------------------------------------------------------------------------------------+\n"
     ]
    },
    {
     "name": "stderr",
     "output_type": "stream",
     "text": [
      "huggingface/tokenizers: The current process just got forked, after parallelism has already been used. Disabling parallelism to avoid deadlocks...\n",
      "To disable this warning, you can either:\n",
      "\t- Avoid using `tokenizers` before the fork if possible\n",
      "\t- Explicitly set the environment variable TOKENIZERS_PARALLELISM=(true | false)\n"
     ]
    }
   ],
   "source": [
    "!nvidia-smi"
   ]
  },
  {
   "cell_type": "code",
   "execution_count": 3,
   "metadata": {},
   "outputs": [
    {
     "name": "stderr",
     "output_type": "stream",
     "text": [
      "WARNING:root:You tried to specify center_unembed=True for a model using logit softcap, but this can't be done! Softcapping is not invariant upon adding a constantSetting center_unembed=False instead.\n"
     ]
    },
    {
     "name": "stdout",
     "output_type": "stream",
     "text": [
      "Device: cuda\n"
     ]
    },
    {
     "data": {
      "application/vnd.jupyter.widget-view+json": {
       "model_id": "d2dd455b287b483e9612aa138692e25a",
       "version_major": 2,
       "version_minor": 0
      },
      "text/plain": [
       "Loading checkpoint shards:   0%|          | 0/8 [00:00<?, ?it/s]"
      ]
     },
     "metadata": {},
     "output_type": "display_data"
    },
    {
     "name": "stderr",
     "output_type": "stream",
     "text": [
      "WARNING:root:You are not using LayerNorm, so the writing weights can't be centered! Skipping\n"
     ]
    },
    {
     "name": "stdout",
     "output_type": "stream",
     "text": [
      "Loaded pretrained model google/gemma-2-9b into HookedTransformer\n"
     ]
    }
   ],
   "source": [
    "with open(\"config.json\", 'r') as file:\n",
    "   config = json.load(file)\n",
    "token = config.get('huggingface_token', None)\n",
    "os.environ[\"HF_TOKEN\"] = token\n",
    "\n",
    "# Define device\n",
    "device = \"cuda\" if torch.cuda.is_available() else \"cpu\"\n",
    "print(f\"Device: {device}\")\n",
    "\n",
    "hf_cache = \"/work/pi_jensen_umass_edu/jnainani_umass_edu/mechinterp/huggingface_cache/hub\"\n",
    "os.environ[\"HF_HOME\"] = hf_cache\n",
    "\n",
    "# Load the model\n",
    "model = HookedSAETransformer.from_pretrained(\"google/gemma-2-9b\", device=device, cache_dir=hf_cache) \n",
    "\n",
    "pad_token_id = model.tokenizer.pad_token_id\n",
    "for param in model.parameters():\n",
    "   param.requires_grad_(False)"
   ]
  },
  {
   "cell_type": "code",
   "execution_count": 4,
   "metadata": {},
   "outputs": [],
   "source": [
    "device = \"cuda\"\n",
    "layers= [7, 14, 21, 40]\n",
    "l0s = [92, 67, 129, 125]\n",
    "saes = [SAE.from_pretrained(release=\"gemma-scope-9b-pt-res\", sae_id=f\"layer_{layers[i]}/width_16k/average_l0_{l0s[i]}\", device=device)[0] for i in range(len(layers))]"
   ]
  },
  {
   "cell_type": "code",
   "execution_count": 5,
   "metadata": {},
   "outputs": [],
   "source": [
    "def cleanup_cuda():\n",
    "   torch.cuda.empty_cache()\n",
    "   gc.collect()\n",
    "\n",
    "def clear_memory():\n",
    "   for sae in saes:\n",
    "      for param in sae.parameters():\n",
    "         param.grad = None\n",
    "      for param in sae.mask.parameters():\n",
    "         param.grad = None\n",
    "\n",
    "   for param in model.parameters():\n",
    "      param.grad = None\n",
    "   cleanup_cuda()\n"
   ]
  },
  {
   "cell_type": "code",
   "execution_count": 7,
   "metadata": {},
   "outputs": [],
   "source": [
    "class SAEMasks(nn.Module):\n",
    "    def __init__(self, hook_points, masks):\n",
    "        super().__init__()\n",
    "        self.hook_points = hook_points  # list of strings\n",
    "        self.masks = masks\n",
    "\n",
    "    def forward(self, x, sae_hook_point, mean_ablation=None):\n",
    "        index = self.hook_points.index(sae_hook_point)\n",
    "        mask = self.masks[index]\n",
    "        censored_activations = torch.ones_like(x)\n",
    "        if mean_ablation is not None:\n",
    "            censored_activations = censored_activations * mean_ablation\n",
    "        else:\n",
    "            censored_activations = censored_activations * 0\n",
    "        \n",
    "        diff_to_x = x - censored_activations\n",
    "        return censored_activations + diff_to_x * mask\n",
    "\n",
    "    def print_mask_statistics(self):\n",
    "        \"\"\"\n",
    "        Prints statistics about each binary mask:\n",
    "          - total number of elements (latents)\n",
    "          - total number of 'on' latents (mask == 1)\n",
    "          - average on-latents per token\n",
    "            * If shape == [latent_dim], there's effectively 1 token\n",
    "            * If shape == [seq, latent_dim], it's 'sum of on-latents / seq'\n",
    "        \"\"\"\n",
    "        for i, mask in enumerate(self.masks):\n",
    "            shape = list(mask.shape)\n",
    "            total_latents = mask.numel()\n",
    "            total_on = mask.sum().item()  # number of 1's in the mask\n",
    "\n",
    "            # Average on-latents per token depends on dimensions\n",
    "            if len(shape) == 1:\n",
    "                # e.g., shape == [latent_dim]\n",
    "                avg_on_per_token = total_on  # only one token\n",
    "            elif len(shape) == 2:\n",
    "                # e.g., shape == [seq, latent_dim]\n",
    "                seq_len = shape[0]\n",
    "                avg_on_per_token = total_on / seq_len if seq_len > 0 else 0\n",
    "            else:\n",
    "                # If there's more than 2 dims, adapt as needed;\n",
    "                # we'll just define \"token\" as the first dimension.\n",
    "                seq_len = shape[0]\n",
    "                avg_on_per_token = total_on / seq_len if seq_len > 0 else 0\n",
    "\n",
    "            print(f\"Statistics for mask '{self.hook_points[i]}':\")\n",
    "            print(f\"  - Shape: {shape}\")\n",
    "            print(f\"  - Total latents: {total_latents}\")\n",
    "            print(f\"  - Latents ON (mask=1): {int(total_on)}\")\n",
    "            print(f\"  - Average ON per token: {avg_on_per_token:.4f}\\n\")\n",
    "\n",
    "    def save(self, save_dir, file_name=\"sae_masks.pt\"):\n",
    "        \"\"\"\n",
    "        Saves hook_points and masks to a single file (file_name) within save_dir.\n",
    "        If you want multiple mask sets in the same directory, call save() with\n",
    "        different file_name values. The directory is created if it does not exist.\n",
    "        \"\"\"\n",
    "        if not os.path.exists(save_dir):\n",
    "            os.makedirs(save_dir)\n",
    "\n",
    "        save_path = os.path.join(save_dir, file_name)\n",
    "        checkpoint = {\n",
    "            \"hook_points\": self.hook_points,\n",
    "            \"masks\": self.masks\n",
    "        }\n",
    "        torch.save(checkpoint, save_path)\n",
    "        print(f\"SAEMasks saved to {save_path}\")\n",
    "\n",
    "    @classmethod\n",
    "    def load(cls, load_dir, file_name=\"sae_masks.pt\"):\n",
    "        \"\"\"\n",
    "        Loads hook_points and masks from a single file (file_name) within load_dir,\n",
    "        returning an instance of SAEMasks. If you stored multiple mask sets in the\n",
    "        directory, specify the file_name to load the correct one.\n",
    "        \"\"\"\n",
    "        load_path = os.path.join(load_dir, file_name)\n",
    "        if not os.path.isfile(load_path):\n",
    "            raise FileNotFoundError(f\"No saved SAEMasks found at {load_path}\")\n",
    "\n",
    "        checkpoint = torch.load(load_path)\n",
    "        hook_points = checkpoint[\"hook_points\"]\n",
    "        masks = checkpoint[\"masks\"]\n",
    "\n",
    "        instance = cls(hook_points=hook_points, masks=masks)\n",
    "        print(f\"SAEMasks loaded from {load_path}\")\n",
    "        return instance\n",
    "    def get_num_latents(self):\n",
    "        num_latents = 0\n",
    "        for mask in self.masks:\n",
    "            num_latents += (mask>0).sum().item()\n",
    "        return num_latents\n"
   ]
  },
  {
   "cell_type": "code",
   "execution_count": 8,
   "metadata": {},
   "outputs": [],
   "source": [
    "class SparseMask(nn.Module):\n",
    "    def __init__(self, shape, l1, seq_len=None, distinct_l1=0):\n",
    "        super().__init__()\n",
    "        if seq_len is not None:\n",
    "            self.mask = nn.Parameter(torch.ones(seq_len, shape))\n",
    "        else:\n",
    "            self.mask = nn.Parameter(torch.ones(shape))\n",
    "        self.l1 = l1\n",
    "        self.distinct_l1 = distinct_l1\n",
    "        self.max_temp = torch.tensor(1000.0)\n",
    "        self.sparsity_loss = None\n",
    "        self.ratio_trained = 1\n",
    "        self.temperature = 1\n",
    "        self.distinct_sparsity_loss = 0\n",
    "\n",
    "\n",
    "    def forward(self, x, binary=False, mean_ablation=None):\n",
    "        if binary:\n",
    "            # binary mask, 0 if negative, 1 if positive\n",
    "            binarized = (self.mask > 0).float()\n",
    "            if mean_ablation is None:\n",
    "                return x * binarized\n",
    "            else:\n",
    "                diff = x - mean_ablation\n",
    "                return diff * binarized + mean_ablation\n",
    "            \n",
    "\n",
    "        self.temperature = self.max_temp ** self.ratio_trained\n",
    "        mask = torch.sigmoid(self.mask * self.temperature)\n",
    "        # mask = self.mask\n",
    "        self.sparsity_loss = torch.abs(mask).sum() * self.l1\n",
    "        # print(\"hello\", torch.abs(mask).sum()) \n",
    "        # if len(mask.shape) == 2:\n",
    "        #     self.distinct_sparsity_loss = torch.abs(mask).max(dim=0).values.sum() * self.distinct_l1\n",
    "\n",
    "        if mean_ablation is None:\n",
    "            return x * mask\n",
    "        else:\n",
    "            diff = x - mean_ablation\n",
    "            return diff * mask + mean_ablation\n",
    "\n",
    "# for sae in saes:\n",
    "#     sae.mask = SparseMask(sae.cfg.d_sae, 1.0, seq_len=65)"
   ]
  },
  {
   "cell_type": "code",
   "execution_count": 9,
   "metadata": {},
   "outputs": [],
   "source": [
    "class IGMask(nn.Module):\n",
    "    # igscores is seq x num_sae_latents\n",
    "    def __init__(self, ig_scores):\n",
    "        super().__init__()\n",
    "        self.ig_scores = ig_scores\n",
    "\n",
    "    def forward(self, x, threshold, mean_ablation = None):\n",
    "        censored_activations = torch.ones_like(x)\n",
    "        if mean_ablation != None:\n",
    "            censored_activations = censored_activations * mean_ablation\n",
    "        else:\n",
    "            censored_activations = censored_activations * 0\n",
    "\n",
    "        mask = (self.ig_scores.abs() > threshold).float()\n",
    "        \n",
    "        diff_to_x = x - censored_activations\n",
    "        return censored_activations + diff_to_x * mask\n",
    "    \n",
    "    def get_threshold_info(self, threshold):\n",
    "        mask = (self.ig_scores.abs() > threshold).float()\n",
    "\n",
    "        total_latents = mask.sum()\n",
    "        avg_latents_per_tok = mask.sum()/mask.shape[0]\n",
    "        latents_per_tok = mask.sum(dim=-1)\n",
    "        return {\"total_latents\":total_latents,\n",
    "                \"avg_latents_per_tok\":avg_latents_per_tok,\n",
    "                \"latents_per_tok\":latents_per_tok}\n",
    "    \n",
    "    def get_binarized_mask(self, threshold):\n",
    "        return (self.ig_scores.abs()>threshold).float()\n",
    "    \n",
    "def refresh_class():\n",
    "    for sae in saes:\n",
    "        if hasattr(sae, 'igmask'):\n",
    "            sae.igmask = IGMask(sae.igmask.ig_scores)\n",
    "\n",
    "try:\n",
    "    refresh_class()\n",
    "except Exception as e:\n",
    "    print(e)\n",
    "\n",
    "refresh_class()\n",
    "\n",
    "\n",
    "\n",
    "def produce_ig_binary_masks(threshold=0.01):\n",
    "    hook_points = []\n",
    "    masks = []\n",
    "\n",
    "    for sae in saes:\n",
    "        hook_point = sae.cfg.hook_name\n",
    "        mask = sae.igmask.get_binarized_mask(threshold=threshold)\n",
    "        hook_points.append(hook_point)\n",
    "        masks.append(mask)\n",
    "    \n",
    "    return SAEMasks(\n",
    "        hook_points=hook_points,\n",
    "        masks=masks\n",
    "    )"
   ]
  },
  {
   "cell_type": "code",
   "execution_count": 10,
   "metadata": {},
   "outputs": [],
   "source": [
    "bos_token_id = model.tokenizer.bos_token_id\n",
    "\n",
    "def build_sae_hook_fn(\n",
    "    # Core components\n",
    "    sae,\n",
    "    sequence,\n",
    "    \n",
    "    # Masking options\n",
    "    circuit_mask: Optional[SAEMasks] = None,\n",
    "    use_mask=False,\n",
    "    binarize_mask=False,\n",
    "    mean_mask=False,\n",
    "    ig_mask_threshold=None,\n",
    "    \n",
    "    # Caching behavior\n",
    "    cache_sae_grads=False,\n",
    "    cache_masked_activations=False,\n",
    "    cache_sae_activations=False,\n",
    "    \n",
    "    # Ablation options\n",
    "    mean_ablate=False,  # Controls mean ablation of the SAE\n",
    "    fake_activations=False,  # Controls whether to use fake activations\n",
    "    ):    # make the mask for the sequence\n",
    "    mask = torch.ones_like(sequence, dtype=torch.bool)\n",
    "    # mask[sequence == pad_token_id] = False\n",
    "    mask[sequence == bos_token_id] = False # where mask is false, keep original\n",
    "    def sae_hook(value, hook):\n",
    "        # print(f\"sae {sae.cfg.hook_name} running at layer {hook.layer()}\")\n",
    "        feature_acts = sae.encode(value)\n",
    "        feature_acts = feature_acts * mask.unsqueeze(-1)\n",
    "        if fake_activations != False and sae.cfg.hook_layer == fake_activations[0]:\n",
    "            feature_acts = fake_activations[1]\n",
    "        if cache_sae_grads:\n",
    "            raise NotImplementedError(\"torch is confusing\")\n",
    "            sae.feature_acts = feature_acts.requires_grad_(True)\n",
    "            sae.feature_acts.retain_grad()\n",
    "        \n",
    "        if cache_sae_activations:\n",
    "            sae.feature_acts = feature_acts.detach().clone()\n",
    "        \n",
    "        \n",
    "        \n",
    "        # Learned Binary Masking\n",
    "        if use_mask:\n",
    "            if mean_mask:\n",
    "                # apply the mask, with mean ablations\n",
    "                feature_acts = sae.mask(feature_acts, binary=binarize_mask, mean_ablation=sae.mean_ablation)\n",
    "            else:\n",
    "                # apply the mask, without mean ablations\n",
    "                feature_acts = sae.mask(feature_acts, binary=binarize_mask)\n",
    "\n",
    "        # IG Masking\n",
    "        if ig_mask_threshold != None:\n",
    "            # apply the ig mask\n",
    "            if mean_mask:\n",
    "                feature_acts = sae.igmask(feature_acts, threshold=ig_mask_threshold, mean_ablation=sae.mean_ablation)\n",
    "            else:\n",
    "                feature_acts = sae.igmask(feature_acts, threshold=ig_mask_threshold)\n",
    "\n",
    "                \n",
    "        if circuit_mask is not None:\n",
    "            hook_point = sae.cfg.hook_name\n",
    "            if mean_mask==True:\n",
    "                feature_acts = circuit_mask(feature_acts, hook_point, mean_ablation=sae.mean_ablation)\n",
    "            else:\n",
    "                feature_acts = circuit_mask(feature_acts, hook_point)\n",
    "            \n",
    "        if cache_masked_activations:\n",
    "            sae.feature_acts = feature_acts.detach().clone()\n",
    "        if mean_ablate:\n",
    "            feature_acts = sae.mean_ablation\n",
    "\n",
    "        out = sae.decode(feature_acts)\n",
    "        # choose out or value based on the mask\n",
    "        mask_expanded = mask.unsqueeze(-1).expand_as(value)\n",
    "        value = torch.where(mask_expanded, out, value)\n",
    "        return value\n",
    "    return sae_hook\n",
    "\n",
    "\n",
    "    # def sae_hook_ablate(value, hook):\n",
    "    # feature_acts = sae.encode(value)\n",
    "    # # feature_acts[:, :, topsae_attr_indices] = 0\n",
    "    # out = sae.decode(feature_acts)\n",
    "    # return out\n",
    "\n",
    "\n",
    "def build_hooks_list(sequence,\n",
    "                    cache_sae_activations=False,\n",
    "                    cache_sae_grads=False,\n",
    "                    circuit_mask=None,\n",
    "                    use_mask=False,\n",
    "                    binarize_mask=False,\n",
    "                    mean_mask=False,\n",
    "                    cache_masked_activations=False,\n",
    "                    mean_ablate=False,\n",
    "                    fake_activations: Tuple[int, torch.Tensor] = False,\n",
    "                    ig_mask_threshold=None,\n",
    "                    ):\n",
    "    hooks = []\n",
    "    # blocks.0.hook_resid_pre\n",
    "    # # fake hook that adds zero so gradients propagate through the model\n",
    "    # param = nn.Parameter(torch.tensor(0.0, requires_grad=True))\n",
    "    # hooks.append(\n",
    "    #     (\n",
    "    #         \"blocks.0.hook_resid_pre\",\n",
    "    #         lambda value, hook: value + param,\n",
    "    #     )\n",
    "    # )\n",
    "    for sae in saes:\n",
    "        hooks.append(\n",
    "            (\n",
    "            sae.cfg.hook_name,\n",
    "            build_sae_hook_fn(sae, sequence, cache_sae_grads=cache_sae_grads, circuit_mask=circuit_mask, use_mask=use_mask, binarize_mask=binarize_mask, cache_masked_activations=cache_masked_activations, cache_sae_activations=cache_sae_activations, mean_mask=mean_mask, mean_ablate=mean_ablate, fake_activations=fake_activations, ig_mask_threshold=ig_mask_threshold),\n",
    "            )\n",
    "        )\n",
    "    return hooks \n",
    "\n",
    "def build_sae_logitfn(**kwargs):\n",
    "    def logitfn(tokens):\n",
    "        return model.run_with_hooks(\n",
    "            tokens, \n",
    "            return_type=\"logits\", \n",
    "            fwd_hooks=build_hooks_list(tokens, **kwargs)\n",
    "            )\n",
    "    return logitfn"
   ]
  },
  {
   "cell_type": "markdown",
   "metadata": {},
   "source": [
    "# data"
   ]
  },
  {
   "cell_type": "code",
   "execution_count": 11,
   "metadata": {},
   "outputs": [
    {
     "name": "stdout",
     "output_type": "stream",
     "text": [
      "{'clean_prefix': 'Then, Richard and Erica went to the hospital. Richard gave a drink to', 'patch_prefix': 'Then, Matthew and Crystal went to the hospital. Megan gave a drink to', 'clean_answer': ' Erica', 'patch_answer': ' Richard', 'case': 'BABA_16'}\n"
     ]
    }
   ],
   "source": [
    "import json\n",
    "file_path = 'data/ioi/ioi_train.json'\n",
    "with open(file_path, 'r') as file:\n",
    "    data = [json.loads(line) for line in file]\n",
    "for entry in data:\n",
    "    print(entry)\n",
    "    break\n",
    "# example_length = 7"
   ]
  },
  {
   "cell_type": "code",
   "execution_count": 12,
   "metadata": {},
   "outputs": [],
   "source": [
    "file_path = 'data/ioi/ioi_train_21.json'\n",
    "with open(file_path, 'r') as file:\n",
    "    data = json.load(file)"
   ]
  },
  {
   "cell_type": "code",
   "execution_count": 13,
   "metadata": {},
   "outputs": [
    {
     "name": "stdout",
     "output_type": "stream",
     "text": [
      "Tokenized prompt: ['<bos>', 'Then', ',', ' Matthew', ' and', ' Crystal', ' went', ' to', ' the', ' hospital', '.', ' Megan', ' gave', ' a', ' drink', ' to']\n",
      "Tokenized answer: [' Erica']\n"
     ]
    },
    {
     "data": {
      "text/html": [
       "<pre style=\"white-space:pre;overflow-x:auto;line-height:normal;font-family:Menlo,'DejaVu Sans Mono',consolas,'Courier New',monospace\">Performance on answer token:\n",
       "<span style=\"font-weight: bold\">Rank: </span><span style=\"color: #008080; text-decoration-color: #008080; font-weight: bold\">667</span><span style=\"font-weight: bold\">      Logit: </span><span style=\"color: #008080; text-decoration-color: #008080; font-weight: bold\">17.49</span><span style=\"font-weight: bold\"> Prob:  </span><span style=\"color: #008080; text-decoration-color: #008080; font-weight: bold\">0.00</span><span style=\"font-weight: bold\">% Token: | Erica|</span>\n",
       "</pre>\n"
      ],
      "text/plain": [
       "Performance on answer token:\n",
       "\u001b[1mRank: \u001b[0m\u001b[1;36m667\u001b[0m\u001b[1m      Logit: \u001b[0m\u001b[1;36m17.49\u001b[0m\u001b[1m Prob:  \u001b[0m\u001b[1;36m0.00\u001b[0m\u001b[1m% Token: | Erica|\u001b[0m\n"
      ]
     },
     "metadata": {},
     "output_type": "display_data"
    },
    {
     "name": "stdout",
     "output_type": "stream",
     "text": [
      "Top 0th token. Logit: 28.58 Prob: 43.22% Token: | Matthew|\n",
      "Top 1th token. Logit: 27.45 Prob: 13.99% Token: | Crystal|\n",
      "Top 2th token. Logit: 27.27 Prob: 11.63% Token: | her|\n",
      "Top 3th token. Logit: 27.19 Prob: 10.73% Token: | the|\n",
      "Top 4th token. Logit: 26.28 Prob:  4.33% Token: | them|\n",
      "Top 5th token. Logit: 25.45 Prob:  1.88% Token: | both|\n",
      "Top 6th token. Logit: 25.22 Prob:  1.50% Token: | him|\n",
      "Top 7th token. Logit: 25.16 Prob:  1.41% Token: | a|\n",
      "Top 8th token. Logit: 25.14 Prob:  1.39% Token: | each|\n",
      "Top 9th token. Logit: 24.26 Prob:  0.57% Token: | Matt|\n"
     ]
    },
    {
     "data": {
      "text/html": [
       "<pre style=\"white-space:pre;overflow-x:auto;line-height:normal;font-family:Menlo,'DejaVu Sans Mono',consolas,'Courier New',monospace\"><span style=\"font-weight: bold\">Ranks of the answer tokens:</span> <span style=\"font-weight: bold\">[(</span><span style=\"color: #008000; text-decoration-color: #008000\">' Erica'</span>, <span style=\"color: #008080; text-decoration-color: #008080; font-weight: bold\">667</span><span style=\"font-weight: bold\">)]</span>\n",
       "</pre>\n"
      ],
      "text/plain": [
       "\u001b[1mRanks of the answer tokens:\u001b[0m \u001b[1m[\u001b[0m\u001b[1m(\u001b[0m\u001b[32m' Erica'\u001b[0m, \u001b[1;36m667\u001b[0m\u001b[1m)\u001b[0m\u001b[1m]\u001b[0m\n"
      ]
     },
     "metadata": {},
     "output_type": "display_data"
    }
   ],
   "source": [
    "from transformer_lens.utils import test_prompt\n",
    "test_prompt(\"Then, Matthew and Crystal went to the hospital. Megan gave a drink to\", \" Erica\", model)"
   ]
  },
  {
   "cell_type": "code",
   "execution_count": 14,
   "metadata": {},
   "outputs": [],
   "source": [
    "example_length = 20"
   ]
  },
  {
   "cell_type": "code",
   "execution_count": 15,
   "metadata": {},
   "outputs": [
    {
     "name": "stdout",
     "output_type": "stream",
     "text": [
      "2966\n"
     ]
    }
   ],
   "source": [
    "clean_data = []\n",
    "corr_data = []\n",
    "clean_labels = []\n",
    "corr_labels = []\n",
    "for entry in data:\n",
    "    if model.to_tokens(entry['clean_prefix']).shape[-1] == example_length:\n",
    "        clean_data.append(entry['clean_prefix'])\n",
    "        corr_data.append(entry['patch_prefix'])\n",
    "        clean_labels.append(entry['clean_answer'])\n",
    "        corr_labels.append(entry['patch_answer'])\n",
    "print(len(clean_data))"
   ]
  },
  {
   "cell_type": "code",
   "execution_count": 16,
   "metadata": {},
   "outputs": [
    {
     "name": "stdout",
     "output_type": "stream",
     "text": [
      "torch.Size([2900, 20]) torch.Size([2900, 20])\n",
      "torch.Size([181, 16, 20]) torch.Size([181, 16, 20]) torch.Size([181, 16]) torch.Size([181, 16])\n"
     ]
    }
   ],
   "source": [
    "clean_data = []\n",
    "corr_data = []\n",
    "clean_labels = []\n",
    "corr_labels = []\n",
    "for entry in data:\n",
    "    if model.to_tokens(entry['clean_prefix']).shape[-1] == example_length:\n",
    "        clean_data.append(entry['clean_prefix'])\n",
    "        corr_data.append(entry['patch_prefix'])\n",
    "        clean_labels.append(entry['clean_answer'])\n",
    "        corr_labels.append(entry['patch_answer'])\n",
    "\n",
    "N = 2900\n",
    "clean_tokens = model.to_tokens(clean_data[:N])\n",
    "corr_tokens = model.to_tokens(corr_data[:N])\n",
    "clean_label_tokens = model.to_tokens(clean_labels[:N], prepend_bos=False).squeeze(-1)\n",
    "corr_label_tokens = model.to_tokens(corr_labels[:N], prepend_bos=False).squeeze(-1)\n",
    "print(clean_tokens.shape, corr_tokens.shape)\n",
    "\n",
    "def logit_diff_fn(logits, clean_labels, corr_labels, token_wise=False):\n",
    "    clean_logits = logits[torch.arange(logits.shape[0]), -1, clean_labels]\n",
    "    corr_logits = logits[torch.arange(logits.shape[0]), -1, corr_labels]\n",
    "    return (clean_logits - corr_logits).mean() if not token_wise else (clean_logits - corr_logits)\n",
    "\n",
    "batch_size = 16 \n",
    "clean_tokens = clean_tokens[:batch_size*(len(clean_tokens)//batch_size)]\n",
    "corr_tokens = corr_tokens[:batch_size*(len(corr_tokens)//batch_size)]\n",
    "clean_label_tokens = clean_label_tokens[:batch_size*(len(clean_label_tokens)//batch_size)]\n",
    "corr_label_tokens = corr_label_tokens[:batch_size*(len(corr_label_tokens)//batch_size)]\n",
    "\n",
    "clean_tokens = clean_tokens.reshape(-1, batch_size, clean_tokens.shape[-1])\n",
    "corr_tokens = corr_tokens.reshape(-1, batch_size, corr_tokens.shape[-1])\n",
    "clean_label_tokens = clean_label_tokens.reshape(-1, batch_size)\n",
    "corr_label_tokens = corr_label_tokens.reshape(-1, batch_size)\n",
    "\n",
    "print(clean_tokens.shape, corr_tokens.shape, clean_label_tokens.shape, corr_label_tokens.shape)"
   ]
  },
  {
   "cell_type": "code",
   "execution_count": 17,
   "metadata": {},
   "outputs": [
    {
     "name": "stdout",
     "output_type": "stream",
     "text": [
      "tensor(4.3811, device='cuda:0')\n",
      "tensor(4.2698, device='cuda:0')\n",
      "tensor(4.0039, device='cuda:0')\n",
      "tensor(3.3653, device='cuda:0')\n",
      "tensor(3.4589, device='cuda:0')\n",
      "tensor(3.2856, device='cuda:0')\n",
      "tensor(3.1497, device='cuda:0')\n",
      "tensor(3.6056, device='cuda:0')\n",
      "tensor(3.6865, device='cuda:0')\n",
      "tensor(3.4956, device='cuda:0')\n",
      "Average LD:  3.6701977252960205\n"
     ]
    }
   ],
   "source": [
    "use_mask = False \n",
    "mean_mask = False\n",
    "avg_logit_diff = 0\n",
    "cleanup_cuda()\n",
    "with torch.no_grad():\n",
    "    for i in range(10):\n",
    "        logits = model.run_with_hooks(\n",
    "            clean_tokens[i], \n",
    "            return_type=\"logits\", \n",
    "            fwd_hooks=build_hooks_list(clean_tokens[i], use_mask=use_mask, mean_mask=mean_mask)\n",
    "            )\n",
    "        ld = logit_diff_fn(logits, clean_label_tokens[i], corr_label_tokens[i])\n",
    "        print(ld)\n",
    "        avg_logit_diff += ld\n",
    "        del logits\n",
    "        cleanup_cuda()\n",
    "avg_logit_diff = (avg_logit_diff / 10).item()\n",
    "print(\"Average LD: \", avg_logit_diff)"
   ]
  },
  {
   "cell_type": "code",
   "execution_count": 18,
   "metadata": {},
   "outputs": [],
   "source": [
    "for sae in saes:\n",
    "    sae.mask = SparseMask(sae.cfg.d_sae, 1.0, seq_len=example_length).to(device)"
   ]
  },
  {
   "cell_type": "code",
   "execution_count": 19,
   "metadata": {},
   "outputs": [
    {
     "name": "stderr",
     "output_type": "stream",
     "text": [
      "Mean Accum Progress: 100%|██████████| 400/400 [01:40<00:00,  3.99it/s]\n"
     ]
    }
   ],
   "source": [
    "def running_mean_tensor(old_mean, new_value, n):\n",
    "    return old_mean + (new_value - old_mean) / n\n",
    "\n",
    "def get_sae_means(mean_tokens, total_batches, batch_size, per_token_mask=False):\n",
    "    for sae in saes:\n",
    "        sae.mean_ablation = torch.zeros(sae.cfg.d_sae).float().to(device)\n",
    "    \n",
    "    with tqdm(total=total_batches*batch_size, desc=\"Mean Accum Progress\") as pbar:\n",
    "        for i in range(total_batches):\n",
    "            for j in range(batch_size):\n",
    "                with torch.no_grad():\n",
    "                    _ = model.run_with_hooks(\n",
    "                        mean_tokens[i, j], \n",
    "                        return_type=\"logits\", \n",
    "                        fwd_hooks=build_hooks_list(mean_tokens[i, j], cache_sae_activations=True)\n",
    "                        )\n",
    "                    for sae in saes:\n",
    "                        sae.mean_ablation = running_mean_tensor(sae.mean_ablation, sae.feature_acts, i+1)\n",
    "                    cleanup_cuda()\n",
    "                pbar.update(1)\n",
    "\n",
    "            if i >= total_batches:\n",
    "                break\n",
    "\n",
    "get_sae_means(corr_tokens, 25, 16)"
   ]
  },
  {
   "cell_type": "code",
   "execution_count": 20,
   "metadata": {},
   "outputs": [
    {
     "data": {
      "text/plain": [
       "False"
      ]
     },
     "execution_count": 20,
     "metadata": {},
     "output_type": "execute_result"
    }
   ],
   "source": [
    "use_mask"
   ]
  },
  {
   "cell_type": "code",
   "execution_count": 17,
   "metadata": {},
   "outputs": [
    {
     "data": {
      "text/plain": [
       "torch.Size([1, 20, 16384])"
      ]
     },
     "execution_count": 17,
     "metadata": {},
     "output_type": "execute_result"
    }
   ],
   "source": [
    "saes[0].mean_ablation.shape"
   ]
  },
  {
   "cell_type": "code",
   "execution_count": 21,
   "metadata": {},
   "outputs": [
    {
     "name": "stdout",
     "output_type": "stream",
     "text": [
      "tensor(0.1156, device='cuda:0')\n",
      "tensor(-0.1215, device='cuda:0')\n",
      "tensor(-0.1009, device='cuda:0')\n",
      "tensor(-0.1535, device='cuda:0')\n",
      "tensor(-0.0856, device='cuda:0')\n",
      "Average LD:  tensor(-0.3460, device='cuda:0')\n"
     ]
    }
   ],
   "source": [
    "avg_mean_diff = 0\n",
    "with torch.no_grad():\n",
    "    for i in range(5):\n",
    "        logits = model.run_with_hooks(\n",
    "            clean_tokens[i], \n",
    "            return_type=\"logits\", \n",
    "            fwd_hooks=build_hooks_list(clean_tokens[i], mean_ablate=True)\n",
    "            )\n",
    "        ld = logit_diff_fn(logits, clean_label_tokens[i], corr_label_tokens[i])\n",
    "        print(ld)\n",
    "        avg_mean_diff += ld\n",
    "        del logits\n",
    "        cleanup_cuda()\n",
    "print(\"Average LD: \", avg_mean_diff)"
   ]
  },
  {
   "cell_type": "markdown",
   "metadata": {},
   "source": [
    "# mask training "
   ]
  },
  {
   "cell_type": "code",
   "execution_count": 22,
   "metadata": {},
   "outputs": [],
   "source": [
    "import torch.nn.functional as F\n",
    "import wandb"
   ]
  },
  {
   "cell_type": "code",
   "execution_count": 23,
   "metadata": {},
   "outputs": [],
   "source": [
    "import signal\n",
    "class KeyboardInterruptBlocker:\n",
    "    def __enter__(self):\n",
    "        # Block SIGINT and store old mask\n",
    "        self.old_mask = signal.pthread_sigmask(signal.SIG_BLOCK, {signal.SIGINT})\n",
    "\n",
    "    def __exit__(self, exc_type, exc_value, traceback):\n",
    "        # Restore old mask (unblock SIGINT)\n",
    "        signal.pthread_sigmask(signal.SIG_SETMASK, self.old_mask)\n",
    "\n",
    "class Range:\n",
    "    def __init__(self, *args):\n",
    "        # Support for range(start, stop, step) or range(stop)\n",
    "        self.args = args\n",
    "\n",
    "        # Validate input like the built-in range does\n",
    "        if len(self.args) not in {1, 2, 3}:\n",
    "            raise TypeError(f\"Range expected at most 3 arguments, got {len(self.args)}\")\n",
    "        \n",
    "        self.range = __builtins__.range(*self.args)  # Create the range object\n",
    "\n",
    "    def __iter__(self):\n",
    "        for i in self.range:\n",
    "            try:\n",
    "                with KeyboardInterruptBlocker():\n",
    "                    yield i\n",
    "            except KeyboardInterrupt:\n",
    "                print(\"Keyboard interrupt received. Exiting iteration.\")\n",
    "                break\n",
    "\n",
    "    def __len__(self):\n",
    "        return len(self.range)"
   ]
  },
  {
   "cell_type": "code",
   "execution_count": 24,
   "metadata": {},
   "outputs": [
    {
     "data": {
      "text/plain": [
       "3.6701977252960205"
      ]
     },
     "execution_count": 24,
     "metadata": {},
     "output_type": "execute_result"
    }
   ],
   "source": [
    "avg_logit_diff"
   ]
  },
  {
   "cell_type": "code",
   "execution_count": 25,
   "metadata": {},
   "outputs": [],
   "source": [
    "def do_training_run(token_dataset, labels_dataset, corr_labels_dataset, sparsity_multiplier, task, example_length=6, loss_function='ce', per_token_mask=False, use_mask=True, mean_mask=False, distinct_sparsity_multiplier=0 ):\n",
    "\n",
    "    def logitfn(tokens, use_mask, mean_mask):\n",
    "        logits =  model.run_with_hooks(\n",
    "            tokens, \n",
    "            return_type=\"logits\", \n",
    "            fwd_hooks=build_hooks_list(tokens, use_mask=use_mask, mean_mask=mean_mask)\n",
    "            )\n",
    "        return logits\n",
    "\n",
    "    def forward_pass(batch, clean_label_tokens, corr_label_tokens, logitfn, ratio_trained=1, loss_function='ce'):\n",
    "        for sae in saes:\n",
    "            sae.mask.ratio_trained = ratio_trained\n",
    "        tokens = batch\n",
    "        logits = logitfn(tokens, use_mask, mean_mask)\n",
    "        model_logits = logitfn(tokens, False, False)\n",
    "        last_token_logits = logits[:, -1, :]\n",
    "        if loss_function == 'ce':\n",
    "            loss = F.cross_entropy(last_token_logits, clean_label_tokens)\n",
    "        elif loss_function == 'logit_diff':\n",
    "            fwd_logit_diff = logit_diff_fn(logits, clean_label_tokens, corr_label_tokens)\n",
    "            model_logit_diff = logit_diff_fn(model_logits, clean_label_tokens, corr_label_tokens)\n",
    "            loss = torch.abs(model_logit_diff - fwd_logit_diff)\n",
    "        \n",
    "        del model_logits, logits\n",
    "        cleanup_cuda()\n",
    "\n",
    "        sparsity_loss = 0\n",
    "        distinct_sparsity_loss = 0\n",
    "        # if per_token_mask:\n",
    "        #     distinct_sparsity_loss = 0\n",
    "        for sae in saes:\n",
    "            sparsity_loss = sparsity_loss + sae.mask.sparsity_loss\n",
    "            # if per_token_mask:\n",
    "            #     distinct_sparsity_loss = distinct_sparsity_loss + sae.mask.distinct_sparsity_loss\n",
    "        \n",
    "        sparsity_loss = sparsity_loss / len(saes)\n",
    "        distinct_sparsity_loss = distinct_sparsity_loss / len(saes)\n",
    "\n",
    "        return loss, sparsity_loss, distinct_sparsity_loss\n",
    "\n",
    "    print(\"doing a run with sparsity multiplier\", sparsity_multiplier)\n",
    "    all_optimized_params = []\n",
    "    config = {\n",
    "        \"batch_size\": 16,\n",
    "        \"learning_rate\": 1,\n",
    "        \"total_steps\": token_dataset.shape[0]*0.8,\n",
    "        \"sparsity_multiplier\": sparsity_multiplier\n",
    "    }\n",
    "\n",
    "    for sae in saes:\n",
    "        if per_token_mask:\n",
    "            sae.mask = SparseMask(sae.cfg.d_sae, 1.0, seq_len=example_length).to(device)\n",
    "        else:\n",
    "            sae.mask = SparseMask(sae.cfg.d_sae, 1.0).to(device)\n",
    "        all_optimized_params.extend(list(sae.mask.parameters()))\n",
    "        sae.mask.max_temp = torch.tensor(200.0)\n",
    "    \n",
    "    wandb.init(project=\"sae circuits\", config=config)\n",
    "    optimizer = optim.Adam(all_optimized_params, lr=config[\"learning_rate\"])\n",
    "    total_steps = config[\"total_steps\"] #*20 #*config[\"batch_size\"]\n",
    "    # epochs = 20\n",
    "    with tqdm(total=total_steps*1.1, desc=\"Training Progress\") as pbar:\n",
    "        # for epoch in range(epochs):\n",
    "        for i, (x, y, z) in enumerate(zip(token_dataset, labels_dataset, corr_labels_dataset)):\n",
    "            with KeyboardInterruptBlocker():\n",
    "                optimizer.zero_grad()\n",
    "                \n",
    "                # Calculate ratio trained\n",
    "                ratio_trained =  i / total_steps*1.1\n",
    "                \n",
    "                # Update mask ratio for each SAE\n",
    "                for sae in saes:\n",
    "                    sae.mask.ratio_trained = ratio_trained\n",
    "                \n",
    "                # Forward pass with updated ratio_trained\n",
    "                loss, sparsity_loss, _ = forward_pass(x, y, z, logitfn, ratio_trained=ratio_trained, loss_function=loss_function)\n",
    "                # if per_token_mask:\n",
    "                #     sparsity_loss = sparsity_loss / example_length\n",
    "                # print(\"sp loss\", sparsity_loss)\n",
    "                # print(\"sae 0 sp loss\", saes[0].mask.sparsity_loss)\n",
    "                # print(\"sae 1 sp loss\", saes[1].mask.sparsity_loss)\n",
    "                # print(\"sae 2 sp loss\", saes[2].mask.sparsity_loss)\n",
    "                # print(\"sae 3 sp loss\", saes[3].mask.sparsity_loss)\n",
    "                \n",
    "                avg_nonzero_elements = sparsity_loss\n",
    "                # avg_distinct_nonzero_elements = distinct_sparsity_loss\n",
    "                    \n",
    "                sparsity_loss = sparsity_loss * config[\"sparsity_multiplier\"] #+ distinct_sparsity_loss * distinct_sparsity_multiplier\n",
    "                total_loss = sparsity_loss + loss\n",
    "                infodict  = {\"Step\": i, \"Progress\": ratio_trained, \"Avg Nonzero Elements\": avg_nonzero_elements.item(), \"Task Loss\": loss.item(), \"Sparsity Loss\": sparsity_loss.item(), \"temperature\": saes[0].mask.temperature} # \"avg distinct lat/sae\":avg_distinct_nonzero_elements.item()\n",
    "                wandb.log(infodict)\n",
    "                # break\n",
    "                # Backward pass and optimizer step\n",
    "                total_loss.backward()\n",
    "                optimizer.step()\n",
    "                \n",
    "                # Update tqdm bar with relevant metrics\n",
    "                pbar.set_postfix(infodict)\n",
    "                \n",
    "                # Update the tqdm progress bar\n",
    "                pbar.update(1)\n",
    "                # break\n",
    "                if i >= total_steps*1.1:\n",
    "                    break\n",
    "    wandb.finish()\n",
    "\n",
    "    optimizer.zero_grad()\n",
    "\n",
    "    for sae in saes:\n",
    "        for param in sae.parameters():\n",
    "            param.grad = None\n",
    "        for param in sae.mask.parameters():\n",
    "            param.grad = None\n",
    "    \n",
    "    for param in model.parameters():\n",
    "        param.grad = None\n",
    "\n",
    "    torch.cuda.empty_cache()\n",
    "\n",
    "    \n",
    "\n",
    "    ### EVAL ###\n",
    "    def masked_logit_fn(tokens):\n",
    "        logits =  model.run_with_hooks(\n",
    "            tokens, \n",
    "            return_type=\"logits\", \n",
    "            fwd_hooks=build_hooks_list(tokens, use_mask=use_mask, mean_mask=mean_mask, binarize_mask=True)\n",
    "            )\n",
    "        return logits\n",
    "\n",
    "    def eval_ce_loss(batch, labels, logitfn, ratio_trained=10):\n",
    "        for sae in saes:\n",
    "            sae.mask.ratio_trained = ratio_trained\n",
    "        tokens = batch\n",
    "        logits = logitfn(tokens)\n",
    "        last_token_logits = logits[:, -1, :]\n",
    "        loss = F.cross_entropy(last_token_logits, labels)\n",
    "        return loss\n",
    "    \n",
    "    def eval_logit_diff(num_batches, batch, clean_labels, corr_labels, logitfn, ratio_trained=10):\n",
    "        for sae in saes:\n",
    "            sae.mask.ratio_trained = ratio_trained\n",
    "        avg_ld = 0\n",
    "        for i in range(num_batches):\n",
    "            tokens = batch[-i]\n",
    "            logits = logitfn(tokens)\n",
    "            ld = logit_diff_fn(logits, clean_labels[-i], corr_labels[-i])\n",
    "            avg_ld += ld\n",
    "            del logits\n",
    "            cleanup_cuda()\n",
    "        return (avg_ld / num_batches).item()\n",
    "\n",
    "    with torch.no_grad():\n",
    "        loss = eval_ce_loss(token_dataset[-1], labels_dataset[-1], masked_logit_fn)\n",
    "        print(\"CE loss:\", loss)\n",
    "        cleanup_cuda()\n",
    "        logit_diff = eval_logit_diff(10, token_dataset, labels_dataset, corr_labels_dataset, masked_logit_fn)\n",
    "        print(\"Logit Diff:\", logit_diff)\n",
    "        cleanup_cuda()\n",
    "    \n",
    "    mask_dict = {}\n",
    "\n",
    "    total_density = 0\n",
    "    for sae in saes:\n",
    "        mask_dict[sae.cfg.hook_name] = torch.where(sae.mask.mask > 0)[0].tolist()   # rob thinks .view(-1) needed here\n",
    "        total_density += (sae.mask.mask > 0).sum().item()\n",
    "    mask_dict[\"total_density\"] = total_density\n",
    "    mask_dict['avg_density'] = total_density / len(saes)\n",
    "\n",
    "    if per_token_mask:\n",
    "        print(\"total # latents in circuit: \", total_density)\n",
    "    print(\"avg density\", mask_dict['avg_density'])\n",
    "\n",
    "    save_path = f\"masks/{task}/{loss_function}_{str(sparsity_multiplier)}_run/\"\n",
    "    os.makedirs(save_path, exist_ok=True)\n",
    "    mask_dict['ce_loss'] = loss.item()\n",
    "    mask_dict['logit_diff'] = logit_diff\n",
    "    faithfulness = logit_diff / avg_logit_diff\n",
    "    mask_dict['faithfulness'] = faithfulness\n",
    "    \n",
    "    for idx, sae in enumerate(saes):\n",
    "        mask_path = f\"sae_mask_{idx}.pt\"\n",
    "        torch.save(sae.mask.state_dict(), os.path.join(save_path,mask_path))\n",
    "        print(f\"Saved mask for SAE {idx} to {mask_path}\")\n",
    "\n",
    "    json.dump(mask_dict, open(os.path.join(save_path,f\"{str(sparsity_multiplier)}_run.json\"), \"w\"))"
   ]
  },
  {
   "cell_type": "code",
   "execution_count": 46,
   "metadata": {},
   "outputs": [
    {
     "name": "stdout",
     "output_type": "stream",
     "text": [
      "doing a run with sparsity multiplier 0.001\n"
     ]
    },
    {
     "data": {
      "text/html": [
       "wandb version 0.19.1 is available!  To upgrade, please run:\n",
       " $ pip install wandb --upgrade"
      ],
      "text/plain": [
       "<IPython.core.display.HTML object>"
      ]
     },
     "metadata": {},
     "output_type": "display_data"
    },
    {
     "data": {
      "text/html": [
       "Tracking run with wandb version 0.16.6"
      ],
      "text/plain": [
       "<IPython.core.display.HTML object>"
      ]
     },
     "metadata": {},
     "output_type": "display_data"
    },
    {
     "data": {
      "text/html": [
       "Run data is saved locally in <code>/work/pi_jensen_umass_edu/jnainani_umass_edu/ScalableSAECircuits/wandb/run-20241230_211718-h1sofyno</code>"
      ],
      "text/plain": [
       "<IPython.core.display.HTML object>"
      ]
     },
     "metadata": {},
     "output_type": "display_data"
    },
    {
     "data": {
      "text/html": [
       "Syncing run <strong><a href='https://wandb.ai/jnainani-university-of-massachusetts-amherst/sae%20circuits/runs/h1sofyno' target=\"_blank\">dauntless-armadillo-85</a></strong> to <a href='https://wandb.ai/jnainani-university-of-massachusetts-amherst/sae%20circuits' target=\"_blank\">Weights & Biases</a> (<a href='https://wandb.me/run' target=\"_blank\">docs</a>)<br/>"
      ],
      "text/plain": [
       "<IPython.core.display.HTML object>"
      ]
     },
     "metadata": {},
     "output_type": "display_data"
    },
    {
     "data": {
      "text/html": [
       " View project at <a href='https://wandb.ai/jnainani-university-of-massachusetts-amherst/sae%20circuits' target=\"_blank\">https://wandb.ai/jnainani-university-of-massachusetts-amherst/sae%20circuits</a>"
      ],
      "text/plain": [
       "<IPython.core.display.HTML object>"
      ]
     },
     "metadata": {},
     "output_type": "display_data"
    },
    {
     "data": {
      "text/html": [
       " View run at <a href='https://wandb.ai/jnainani-university-of-massachusetts-amherst/sae%20circuits/runs/h1sofyno' target=\"_blank\">https://wandb.ai/jnainani-university-of-massachusetts-amherst/sae%20circuits/runs/h1sofyno</a>"
      ],
      "text/plain": [
       "<IPython.core.display.HTML object>"
      ]
     },
     "metadata": {},
     "output_type": "display_data"
    },
    {
     "name": "stderr",
     "output_type": "stream",
     "text": [
      "Training Progress:  99%|█████████▉| 144/144.8 [04:11<00:01,  1.73s/it, Step=144, Progress=1.09, Avg Nonzero Elements=424, Task Loss=0.99, Sparsity Loss=0.424, temperature=tensor(328.9644)]   /home/jnainani_umass_edu/.conda/envs/finetuning/lib/python3.10/site-packages/tqdm/std.py:636: TqdmWarning: clamping frac to range [0, 1]\n",
      "  full_bar = Bar(frac,\n",
      "Training Progress: 161it [04:39,  1.74s/it, Step=160, Progress=1.22, Avg Nonzero Elements=424, Task Loss=0.576, Sparsity Loss=0.424, temperature=tensor(626.3716)]                          \n"
     ]
    },
    {
     "data": {
      "application/vnd.jupyter.widget-view+json": {
       "model_id": "783293493b304146afe3f0e95fd1d375",
       "version_major": 2,
       "version_minor": 0
      },
      "text/plain": [
       "VBox(children=(Label(value='0.007 MB of 0.007 MB uploaded\\r'), FloatProgress(value=1.0, max=1.0)))"
      ]
     },
     "metadata": {},
     "output_type": "display_data"
    },
    {
     "data": {
      "text/html": [
       "<style>\n",
       "    table.wandb td:nth-child(1) { padding: 0 10px; text-align: left ; width: auto;} td:nth-child(2) {text-align: left ; width: 100%}\n",
       "    .wandb-row { display: flex; flex-direction: row; flex-wrap: wrap; justify-content: flex-start; width: 100% }\n",
       "    .wandb-col { display: flex; flex-direction: column; flex-basis: 100%; flex: 1; padding: 10px; }\n",
       "    </style>\n",
       "<div class=\"wandb-row\"><div class=\"wandb-col\"><h3>Run history:</h3><br/><table class=\"wandb\"><tr><td>Avg Nonzero Elements</td><td>█▁▁▁▁▁▁▁▁▁▁▁▁▁▁▁▁▁▁▁▁▁▁▁▁▁▁▁▁▁▁▁▁▁▁▁▁▁▁▁</td></tr><tr><td>Progress</td><td>▁▁▁▂▂▂▂▂▂▃▃▃▃▃▃▄▄▄▄▄▅▅▅▅▅▅▆▆▆▆▆▆▇▇▇▇▇███</td></tr><tr><td>Sparsity Loss</td><td>█▁▁▁▁▁▁▁▁▁▁▁▁▁▁▁▁▁▁▁▁▁▁▁▁▁▁▁▁▁▁▁▁▁▁▁▁▁▁▁</td></tr><tr><td>Step</td><td>▁▁▁▂▂▂▂▂▂▃▃▃▃▃▃▄▄▄▄▄▅▅▅▅▅▅▆▆▆▆▆▆▇▇▇▇▇███</td></tr><tr><td>Task Loss</td><td>█▂▄▃▄▃▁▂▃▅▂▂▃▂▃▃▂▅▂▄▂▂▂▅▁▃▅▂▄▂▁▂▁▁▃▃▃▄▂▂</td></tr><tr><td>temperature</td><td>▁▁▁▁▁▁▁▁▁▁▁▁▁▁▁▁▁▁▁▁▁▁▁▁▂▂▂▂▂▂▃▃▃▃▄▄▅▆▆█</td></tr></table><br/></div><div class=\"wandb-col\"><h3>Run summary:</h3><br/><table class=\"wandb\"><tr><td>Avg Nonzero Elements</td><td>423.75</td></tr><tr><td>Progress</td><td>1.21547</td></tr><tr><td>Sparsity Loss</td><td>0.42375</td></tr><tr><td>Step</td><td>160</td></tr><tr><td>Task Loss</td><td>0.5762</td></tr><tr><td>temperature</td><td>626.37158</td></tr></table><br/></div></div>"
      ],
      "text/plain": [
       "<IPython.core.display.HTML object>"
      ]
     },
     "metadata": {},
     "output_type": "display_data"
    },
    {
     "data": {
      "text/html": [
       " View run <strong style=\"color:#cdcd00\">dauntless-armadillo-85</strong> at: <a href='https://wandb.ai/jnainani-university-of-massachusetts-amherst/sae%20circuits/runs/h1sofyno' target=\"_blank\">https://wandb.ai/jnainani-university-of-massachusetts-amherst/sae%20circuits/runs/h1sofyno</a><br/> View project at: <a href='https://wandb.ai/jnainani-university-of-massachusetts-amherst/sae%20circuits' target=\"_blank\">https://wandb.ai/jnainani-university-of-massachusetts-amherst/sae%20circuits</a><br/>Synced 5 W&B file(s), 0 media file(s), 0 artifact file(s) and 0 other file(s)"
      ],
      "text/plain": [
       "<IPython.core.display.HTML object>"
      ]
     },
     "metadata": {},
     "output_type": "display_data"
    },
    {
     "data": {
      "text/html": [
       "Find logs at: <code>./wandb/run-20241230_211718-h1sofyno/logs</code>"
      ],
      "text/plain": [
       "<IPython.core.display.HTML object>"
      ]
     },
     "metadata": {},
     "output_type": "display_data"
    },
    {
     "name": "stdout",
     "output_type": "stream",
     "text": [
      "CE loss: tensor(6.7493, device='cuda:0')\n",
      "Logit Diff: 3.4706146717071533\n",
      "total # latents in circuit:  1695\n",
      "avg density 423.75\n",
      "Saved mask for SAE 0 to sae_mask_0.pt\n",
      "Saved mask for SAE 1 to sae_mask_1.pt\n",
      "Saved mask for SAE 2 to sae_mask_2.pt\n",
      "Saved mask for SAE 3 to sae_mask_3.pt\n"
     ]
    }
   ],
   "source": [
    "do_training_run(token_dataset =clean_tokens, labels_dataset= clean_label_tokens, corr_labels_dataset=corr_label_tokens, sparsity_multiplier=0.001, task='ioi/baba21/', example_length=20, loss_function=\"logit_diff\", per_token_mask=True, use_mask=True, mean_mask=True)"
   ]
  },
  {
   "cell_type": "markdown",
   "metadata": {},
   "source": [
    "## sweep"
   ]
  },
  {
   "cell_type": "code",
   "execution_count": 26,
   "metadata": {},
   "outputs": [
    {
     "data": {
      "text/plain": [
       "[0.0001,\n",
       " 0.0008169486447931527,\n",
       " 0.0029279087018544933,\n",
       " 0.006432880171184024,\n",
       " 0.01133186305278174,\n",
       " 0.017624857346647652,\n",
       " 0.025311863052781748,\n",
       " 0.03439288017118403,\n",
       " 0.044867908701854496,\n",
       " 0.05673694864479317]"
      ]
     },
     "execution_count": 26,
     "metadata": {},
     "output_type": "execute_result"
    }
   ],
   "source": [
    "thresholds = []\n",
    "modify_fn=lambda x: x**2\n",
    "start_threshold = 0.0001\n",
    "end_threshold = 0.07\n",
    "n_runs = 10\n",
    "delta = (end_threshold - start_threshold) / n_runs\n",
    "def linear_map(x):\n",
    "        mod_start = modify_fn(start_threshold)\n",
    "        mod_end = modify_fn(end_threshold)\n",
    "        return (x - mod_start) / (mod_end - mod_start) * (end_threshold - start_threshold) + start_threshold\n",
    "    \n",
    "mf = lambda x: linear_map(modify_fn(x))\n",
    "for i in range(n_runs):\n",
    "    thresholds.append(\n",
    "        mf(start_threshold + i*delta)\n",
    "        )\n",
    "thresholds"
   ]
  },
  {
   "cell_type": "markdown",
   "metadata": {},
   "source": [
    "## actual sweep"
   ]
  },
  {
   "cell_type": "code",
   "execution_count": 56,
   "metadata": {},
   "outputs": [
    {
     "name": "stdout",
     "output_type": "stream",
     "text": [
      "doing a run with sparsity multiplier 0.0001\n"
     ]
    },
    {
     "data": {
      "text/html": [
       "Finishing last run (ID:0ruczgwk) before initializing another..."
      ],
      "text/plain": [
       "<IPython.core.display.HTML object>"
      ]
     },
     "metadata": {},
     "output_type": "display_data"
    },
    {
     "data": {
      "application/vnd.jupyter.widget-view+json": {
       "model_id": "d46d3fa32d074f789d63a99923e805c7",
       "version_major": 2,
       "version_minor": 0
      },
      "text/plain": [
       "VBox(children=(Label(value='0.007 MB of 0.007 MB uploaded\\r'), FloatProgress(value=1.0, max=1.0)))"
      ]
     },
     "metadata": {},
     "output_type": "display_data"
    },
    {
     "data": {
      "text/html": [
       "<style>\n",
       "    table.wandb td:nth-child(1) { padding: 0 10px; text-align: left ; width: auto;} td:nth-child(2) {text-align: left ; width: 100%}\n",
       "    .wandb-row { display: flex; flex-direction: row; flex-wrap: wrap; justify-content: flex-start; width: 100% }\n",
       "    .wandb-col { display: flex; flex-direction: column; flex-basis: 100%; flex: 1; padding: 10px; }\n",
       "    </style>\n",
       "<div class=\"wandb-row\"><div class=\"wandb-col\"><h3>Run history:</h3><br/><table class=\"wandb\"><tr><td>Avg Nonzero Elements</td><td>█▃▁▁▁▁▁▁▁▁▁▁▁▁▁▁▁▁▁▁▁▁▁▁▁▁▁▁▁▁▁▁▁▁▁▁▁▁▁▁</td></tr><tr><td>Progress</td><td>▁▁▁▂▂▂▂▂▂▃▃▃▃▃▃▄▄▄▄▄▅▅▅▅▅▅▆▆▆▆▆▇▇▇▇▇▇███</td></tr><tr><td>Sparsity Loss</td><td>█▃▁▁▁▁▁▁▁▁▁▁▁▁▁▁▁▁▁▁▁▁▁▁▁▁▁▁▁▁▁▁▁▁▁▁▁▁▁▁</td></tr><tr><td>Step</td><td>▁▁▁▁▂▂▂▂▂▃▃▃▃▃▃▄▄▄▄▄▅▅▅▅▅▅▆▆▆▆▆▇▇▇▇▇▇███</td></tr><tr><td>Task Loss</td><td>█▃▂▂▂▁▂▂▁▂▂▁▂▁▁▃▃▂▃▂▂▂▁▃▂▁▁▁▂▂▂▂▂▂▁▂▂▁▂▂</td></tr><tr><td>temperature</td><td>▁▁▁▁▁▁▁▁▁▁▁▁▁▂▂▂▂▂▂▂▂▂▂▃▃▃▃▃▄▄▄▄▅▅▅▆▆▇▇█</td></tr></table><br/></div><div class=\"wandb-col\"><h3>Run summary:</h3><br/><table class=\"wandb\"><tr><td>Avg Nonzero Elements</td><td>1939.0</td></tr><tr><td>Progress</td><td>0.63812</td></tr><tr><td>Sparsity Loss</td><td>0.09695</td></tr><tr><td>Step</td><td>84</td></tr><tr><td>Task Loss</td><td>0.38757</td></tr><tr><td>temperature</td><td>29.39929</td></tr></table><br/></div></div>"
      ],
      "text/plain": [
       "<IPython.core.display.HTML object>"
      ]
     },
     "metadata": {},
     "output_type": "display_data"
    },
    {
     "data": {
      "text/html": [
       " View run <strong style=\"color:#cdcd00\">charmed-pond-86</strong> at: <a href='https://wandb.ai/jnainani-university-of-massachusetts-amherst/sae%20circuits/runs/0ruczgwk' target=\"_blank\">https://wandb.ai/jnainani-university-of-massachusetts-amherst/sae%20circuits/runs/0ruczgwk</a><br/> View project at: <a href='https://wandb.ai/jnainani-university-of-massachusetts-amherst/sae%20circuits' target=\"_blank\">https://wandb.ai/jnainani-university-of-massachusetts-amherst/sae%20circuits</a><br/>Synced 5 W&B file(s), 0 media file(s), 0 artifact file(s) and 0 other file(s)"
      ],
      "text/plain": [
       "<IPython.core.display.HTML object>"
      ]
     },
     "metadata": {},
     "output_type": "display_data"
    },
    {
     "data": {
      "text/html": [
       "Find logs at: <code>./wandb/run-20241230_212548-0ruczgwk/logs</code>"
      ],
      "text/plain": [
       "<IPython.core.display.HTML object>"
      ]
     },
     "metadata": {},
     "output_type": "display_data"
    },
    {
     "data": {
      "text/html": [
       "Successfully finished last run (ID:0ruczgwk). Initializing new run:<br/>"
      ],
      "text/plain": [
       "<IPython.core.display.HTML object>"
      ]
     },
     "metadata": {},
     "output_type": "display_data"
    },
    {
     "data": {
      "application/vnd.jupyter.widget-view+json": {
       "model_id": "85c613e798d942a796a61ede296f1687",
       "version_major": 2,
       "version_minor": 0
      },
      "text/plain": [
       "VBox(children=(Label(value='Waiting for wandb.init()...\\r'), FloatProgress(value=0.011112595310745139, max=1.0…"
      ]
     },
     "metadata": {},
     "output_type": "display_data"
    },
    {
     "data": {
      "text/html": [
       "wandb version 0.19.1 is available!  To upgrade, please run:\n",
       " $ pip install wandb --upgrade"
      ],
      "text/plain": [
       "<IPython.core.display.HTML object>"
      ]
     },
     "metadata": {},
     "output_type": "display_data"
    },
    {
     "data": {
      "text/html": [
       "Tracking run with wandb version 0.16.6"
      ],
      "text/plain": [
       "<IPython.core.display.HTML object>"
      ]
     },
     "metadata": {},
     "output_type": "display_data"
    },
    {
     "data": {
      "text/html": [
       "Run data is saved locally in <code>/work/pi_jensen_umass_edu/jnainani_umass_edu/ScalableSAECircuits/wandb/run-20241230_212927-8wzhi8ns</code>"
      ],
      "text/plain": [
       "<IPython.core.display.HTML object>"
      ]
     },
     "metadata": {},
     "output_type": "display_data"
    },
    {
     "data": {
      "text/html": [
       "Syncing run <strong><a href='https://wandb.ai/jnainani-university-of-massachusetts-amherst/sae%20circuits/runs/8wzhi8ns' target=\"_blank\">dutiful-salad-87</a></strong> to <a href='https://wandb.ai/jnainani-university-of-massachusetts-amherst/sae%20circuits' target=\"_blank\">Weights & Biases</a> (<a href='https://wandb.me/run' target=\"_blank\">docs</a>)<br/>"
      ],
      "text/plain": [
       "<IPython.core.display.HTML object>"
      ]
     },
     "metadata": {},
     "output_type": "display_data"
    },
    {
     "data": {
      "text/html": [
       " View project at <a href='https://wandb.ai/jnainani-university-of-massachusetts-amherst/sae%20circuits' target=\"_blank\">https://wandb.ai/jnainani-university-of-massachusetts-amherst/sae%20circuits</a>"
      ],
      "text/plain": [
       "<IPython.core.display.HTML object>"
      ]
     },
     "metadata": {},
     "output_type": "display_data"
    },
    {
     "data": {
      "text/html": [
       " View run at <a href='https://wandb.ai/jnainani-university-of-massachusetts-amherst/sae%20circuits/runs/8wzhi8ns' target=\"_blank\">https://wandb.ai/jnainani-university-of-massachusetts-amherst/sae%20circuits/runs/8wzhi8ns</a>"
      ],
      "text/plain": [
       "<IPython.core.display.HTML object>"
      ]
     },
     "metadata": {},
     "output_type": "display_data"
    },
    {
     "name": "stderr",
     "output_type": "stream",
     "text": [
      "Training Progress:  99%|█████████▉| 144/144.8 [04:11<00:01,  1.73s/it, Step=144, Progress=1.09, Avg Nonzero Elements=1.5e+3, Task Loss=0.344, Sparsity Loss=0.15, temperature=tensor(328.9644)]  /home/jnainani_umass_edu/.conda/envs/finetuning/lib/python3.10/site-packages/tqdm/std.py:636: TqdmWarning: clamping frac to range [0, 1]\n",
      "  full_bar = Bar(frac,\n",
      "Training Progress: 161it [04:39,  1.73s/it, Step=160, Progress=1.22, Avg Nonzero Elements=1.5e+3, Task Loss=0.259, Sparsity Loss=0.15, temperature=tensor(626.3716)]                           \n"
     ]
    },
    {
     "data": {
      "application/vnd.jupyter.widget-view+json": {
       "model_id": "34f45b8470f541408db85614f7c97e00",
       "version_major": 2,
       "version_minor": 0
      },
      "text/plain": [
       "VBox(children=(Label(value='0.007 MB of 0.007 MB uploaded\\r'), FloatProgress(value=1.0, max=1.0)))"
      ]
     },
     "metadata": {},
     "output_type": "display_data"
    },
    {
     "data": {
      "text/html": [
       "<style>\n",
       "    table.wandb td:nth-child(1) { padding: 0 10px; text-align: left ; width: auto;} td:nth-child(2) {text-align: left ; width: 100%}\n",
       "    .wandb-row { display: flex; flex-direction: row; flex-wrap: wrap; justify-content: flex-start; width: 100% }\n",
       "    .wandb-col { display: flex; flex-direction: column; flex-basis: 100%; flex: 1; padding: 10px; }\n",
       "    </style>\n",
       "<div class=\"wandb-row\"><div class=\"wandb-col\"><h3>Run history:</h3><br/><table class=\"wandb\"><tr><td>Avg Nonzero Elements</td><td>█▁▁▁▁▁▁▁▁▁▁▁▁▁▁▁▁▁▁▁▁▁▁▁▁▁▁▁▁▁▁▁▁▁▁▁▁▁▁▁</td></tr><tr><td>Progress</td><td>▁▁▁▂▂▂▂▂▂▃▃▃▃▃▃▄▄▄▄▄▅▅▅▅▅▅▆▆▆▆▆▆▇▇▇▇▇███</td></tr><tr><td>Sparsity Loss</td><td>█▁▁▁▁▁▁▁▁▁▁▁▁▁▁▁▁▁▁▁▁▁▁▁▁▁▁▁▁▁▁▁▁▁▁▁▁▁▁▁</td></tr><tr><td>Step</td><td>▁▁▁▂▂▂▂▂▂▃▃▃▃▃▃▄▄▄▄▄▅▅▅▅▅▅▆▆▆▆▆▆▇▇▇▇▇███</td></tr><tr><td>Task Loss</td><td>█▄▂▂▂▃▂▃▁▆▁▂▃▂▂▂▂▄▂▃▃▂▁▄▁▄▄▃▂▃▂▁▃▂▄▂▃▂▂▂</td></tr><tr><td>temperature</td><td>▁▁▁▁▁▁▁▁▁▁▁▁▁▁▁▁▁▁▁▁▁▁▁▁▂▂▂▂▂▂▃▃▃▃▄▄▅▆▆█</td></tr></table><br/></div><div class=\"wandb-col\"><h3>Run summary:</h3><br/><table class=\"wandb\"><tr><td>Avg Nonzero Elements</td><td>1496.75</td></tr><tr><td>Progress</td><td>1.21547</td></tr><tr><td>Sparsity Loss</td><td>0.14967</td></tr><tr><td>Step</td><td>160</td></tr><tr><td>Task Loss</td><td>0.25914</td></tr><tr><td>temperature</td><td>626.37158</td></tr></table><br/></div></div>"
      ],
      "text/plain": [
       "<IPython.core.display.HTML object>"
      ]
     },
     "metadata": {},
     "output_type": "display_data"
    },
    {
     "data": {
      "text/html": [
       " View run <strong style=\"color:#cdcd00\">dutiful-salad-87</strong> at: <a href='https://wandb.ai/jnainani-university-of-massachusetts-amherst/sae%20circuits/runs/8wzhi8ns' target=\"_blank\">https://wandb.ai/jnainani-university-of-massachusetts-amherst/sae%20circuits/runs/8wzhi8ns</a><br/> View project at: <a href='https://wandb.ai/jnainani-university-of-massachusetts-amherst/sae%20circuits' target=\"_blank\">https://wandb.ai/jnainani-university-of-massachusetts-amherst/sae%20circuits</a><br/>Synced 5 W&B file(s), 0 media file(s), 0 artifact file(s) and 0 other file(s)"
      ],
      "text/plain": [
       "<IPython.core.display.HTML object>"
      ]
     },
     "metadata": {},
     "output_type": "display_data"
    },
    {
     "data": {
      "text/html": [
       "Find logs at: <code>./wandb/run-20241230_212927-8wzhi8ns/logs</code>"
      ],
      "text/plain": [
       "<IPython.core.display.HTML object>"
      ]
     },
     "metadata": {},
     "output_type": "display_data"
    },
    {
     "name": "stdout",
     "output_type": "stream",
     "text": [
      "CE loss: tensor(6.7329, device='cuda:0')\n",
      "Logit Diff: 3.714040756225586\n",
      "total # latents in circuit:  5987\n",
      "avg density 1496.75\n",
      "Saved mask for SAE 0 to sae_mask_0.pt\n",
      "Saved mask for SAE 1 to sae_mask_1.pt\n",
      "Saved mask for SAE 2 to sae_mask_2.pt\n",
      "Saved mask for SAE 3 to sae_mask_3.pt\n",
      "doing a run with sparsity multiplier 0.0008169486447931527\n"
     ]
    },
    {
     "data": {
      "text/html": [
       "wandb version 0.19.1 is available!  To upgrade, please run:\n",
       " $ pip install wandb --upgrade"
      ],
      "text/plain": [
       "<IPython.core.display.HTML object>"
      ]
     },
     "metadata": {},
     "output_type": "display_data"
    },
    {
     "data": {
      "text/html": [
       "Tracking run with wandb version 0.16.6"
      ],
      "text/plain": [
       "<IPython.core.display.HTML object>"
      ]
     },
     "metadata": {},
     "output_type": "display_data"
    },
    {
     "data": {
      "text/html": [
       "Run data is saved locally in <code>/work/pi_jensen_umass_edu/jnainani_umass_edu/ScalableSAECircuits/wandb/run-20241230_213425-q2f6twxi</code>"
      ],
      "text/plain": [
       "<IPython.core.display.HTML object>"
      ]
     },
     "metadata": {},
     "output_type": "display_data"
    },
    {
     "data": {
      "text/html": [
       "Syncing run <strong><a href='https://wandb.ai/jnainani-university-of-massachusetts-amherst/sae%20circuits/runs/q2f6twxi' target=\"_blank\">fiery-sea-88</a></strong> to <a href='https://wandb.ai/jnainani-university-of-massachusetts-amherst/sae%20circuits' target=\"_blank\">Weights & Biases</a> (<a href='https://wandb.me/run' target=\"_blank\">docs</a>)<br/>"
      ],
      "text/plain": [
       "<IPython.core.display.HTML object>"
      ]
     },
     "metadata": {},
     "output_type": "display_data"
    },
    {
     "data": {
      "text/html": [
       " View project at <a href='https://wandb.ai/jnainani-university-of-massachusetts-amherst/sae%20circuits' target=\"_blank\">https://wandb.ai/jnainani-university-of-massachusetts-amherst/sae%20circuits</a>"
      ],
      "text/plain": [
       "<IPython.core.display.HTML object>"
      ]
     },
     "metadata": {},
     "output_type": "display_data"
    },
    {
     "data": {
      "text/html": [
       " View run at <a href='https://wandb.ai/jnainani-university-of-massachusetts-amherst/sae%20circuits/runs/q2f6twxi' target=\"_blank\">https://wandb.ai/jnainani-university-of-massachusetts-amherst/sae%20circuits/runs/q2f6twxi</a>"
      ],
      "text/plain": [
       "<IPython.core.display.HTML object>"
      ]
     },
     "metadata": {},
     "output_type": "display_data"
    },
    {
     "name": "stderr",
     "output_type": "stream",
     "text": [
      "Training Progress:  99%|█████████▉| 144/144.8 [04:11<00:01,  1.73s/it, Step=144, Progress=1.09, Avg Nonzero Elements=482, Task Loss=1.09, Sparsity Loss=0.394, temperature=tensor(328.9644)]   /home/jnainani_umass_edu/.conda/envs/finetuning/lib/python3.10/site-packages/tqdm/std.py:636: TqdmWarning: clamping frac to range [0, 1]\n",
      "  full_bar = Bar(frac,\n",
      "Training Progress: 161it [04:39,  1.73s/it, Step=160, Progress=1.22, Avg Nonzero Elements=482, Task Loss=0.601, Sparsity Loss=0.394, temperature=tensor(626.3716)]                          \n"
     ]
    },
    {
     "data": {
      "application/vnd.jupyter.widget-view+json": {
       "model_id": "7dbb7d3dba894b2b9f69984dd84582d4",
       "version_major": 2,
       "version_minor": 0
      },
      "text/plain": [
       "VBox(children=(Label(value='0.007 MB of 0.007 MB uploaded\\r'), FloatProgress(value=1.0, max=1.0)))"
      ]
     },
     "metadata": {},
     "output_type": "display_data"
    },
    {
     "data": {
      "text/html": [
       "<style>\n",
       "    table.wandb td:nth-child(1) { padding: 0 10px; text-align: left ; width: auto;} td:nth-child(2) {text-align: left ; width: 100%}\n",
       "    .wandb-row { display: flex; flex-direction: row; flex-wrap: wrap; justify-content: flex-start; width: 100% }\n",
       "    .wandb-col { display: flex; flex-direction: column; flex-basis: 100%; flex: 1; padding: 10px; }\n",
       "    </style>\n",
       "<div class=\"wandb-row\"><div class=\"wandb-col\"><h3>Run history:</h3><br/><table class=\"wandb\"><tr><td>Avg Nonzero Elements</td><td>█▁▁▁▁▁▁▁▁▁▁▁▁▁▁▁▁▁▁▁▁▁▁▁▁▁▁▁▁▁▁▁▁▁▁▁▁▁▁▁</td></tr><tr><td>Progress</td><td>▁▁▁▂▂▂▂▂▂▃▃▃▃▃▃▄▄▄▄▄▅▅▅▅▅▅▆▆▆▆▆▆▇▇▇▇▇███</td></tr><tr><td>Sparsity Loss</td><td>█▁▁▁▁▁▁▁▁▁▁▁▁▁▁▁▁▁▁▁▁▁▁▁▁▁▁▁▁▁▁▁▁▁▁▁▁▁▁▁</td></tr><tr><td>Step</td><td>▁▁▁▂▂▂▂▂▂▃▃▃▃▃▃▄▄▄▄▄▅▅▅▅▅▅▆▆▆▆▆▆▇▇▇▇▇███</td></tr><tr><td>Task Loss</td><td>█▂▄▃▄▃▁▂▂▅▁▁▃▂▃▃▂▅▂▄▂▂▂▅▁▄▅▂▃▂▁▂▁▁▃▃▃▃▂▂</td></tr><tr><td>temperature</td><td>▁▁▁▁▁▁▁▁▁▁▁▁▁▁▁▁▁▁▁▁▁▁▁▁▂▂▂▂▂▂▃▃▃▃▄▄▅▆▆█</td></tr></table><br/></div><div class=\"wandb-col\"><h3>Run summary:</h3><br/><table class=\"wandb\"><tr><td>Avg Nonzero Elements</td><td>481.75</td></tr><tr><td>Progress</td><td>1.21547</td></tr><tr><td>Sparsity Loss</td><td>0.39356</td></tr><tr><td>Step</td><td>160</td></tr><tr><td>Task Loss</td><td>0.60055</td></tr><tr><td>temperature</td><td>626.37158</td></tr></table><br/></div></div>"
      ],
      "text/plain": [
       "<IPython.core.display.HTML object>"
      ]
     },
     "metadata": {},
     "output_type": "display_data"
    },
    {
     "data": {
      "text/html": [
       " View run <strong style=\"color:#cdcd00\">fiery-sea-88</strong> at: <a href='https://wandb.ai/jnainani-university-of-massachusetts-amherst/sae%20circuits/runs/q2f6twxi' target=\"_blank\">https://wandb.ai/jnainani-university-of-massachusetts-amherst/sae%20circuits/runs/q2f6twxi</a><br/> View project at: <a href='https://wandb.ai/jnainani-university-of-massachusetts-amherst/sae%20circuits' target=\"_blank\">https://wandb.ai/jnainani-university-of-massachusetts-amherst/sae%20circuits</a><br/>Synced 5 W&B file(s), 0 media file(s), 0 artifact file(s) and 0 other file(s)"
      ],
      "text/plain": [
       "<IPython.core.display.HTML object>"
      ]
     },
     "metadata": {},
     "output_type": "display_data"
    },
    {
     "data": {
      "text/html": [
       "Find logs at: <code>./wandb/run-20241230_213425-q2f6twxi/logs</code>"
      ],
      "text/plain": [
       "<IPython.core.display.HTML object>"
      ]
     },
     "metadata": {},
     "output_type": "display_data"
    },
    {
     "name": "stdout",
     "output_type": "stream",
     "text": [
      "CE loss: tensor(6.7058, device='cuda:0')\n",
      "Logit Diff: 3.480978012084961\n",
      "total # latents in circuit:  1927\n",
      "avg density 481.75\n",
      "Saved mask for SAE 0 to sae_mask_0.pt\n",
      "Saved mask for SAE 1 to sae_mask_1.pt\n",
      "Saved mask for SAE 2 to sae_mask_2.pt\n",
      "Saved mask for SAE 3 to sae_mask_3.pt\n",
      "doing a run with sparsity multiplier 0.0029279087018544933\n"
     ]
    },
    {
     "data": {
      "text/html": [
       "wandb version 0.19.1 is available!  To upgrade, please run:\n",
       " $ pip install wandb --upgrade"
      ],
      "text/plain": [
       "<IPython.core.display.HTML object>"
      ]
     },
     "metadata": {},
     "output_type": "display_data"
    },
    {
     "data": {
      "text/html": [
       "Tracking run with wandb version 0.16.6"
      ],
      "text/plain": [
       "<IPython.core.display.HTML object>"
      ]
     },
     "metadata": {},
     "output_type": "display_data"
    },
    {
     "data": {
      "text/html": [
       "Run data is saved locally in <code>/work/pi_jensen_umass_edu/jnainani_umass_edu/ScalableSAECircuits/wandb/run-20241230_213918-ygojos91</code>"
      ],
      "text/plain": [
       "<IPython.core.display.HTML object>"
      ]
     },
     "metadata": {},
     "output_type": "display_data"
    },
    {
     "data": {
      "text/html": [
       "Syncing run <strong><a href='https://wandb.ai/jnainani-university-of-massachusetts-amherst/sae%20circuits/runs/ygojos91' target=\"_blank\">earnest-glade-89</a></strong> to <a href='https://wandb.ai/jnainani-university-of-massachusetts-amherst/sae%20circuits' target=\"_blank\">Weights & Biases</a> (<a href='https://wandb.me/run' target=\"_blank\">docs</a>)<br/>"
      ],
      "text/plain": [
       "<IPython.core.display.HTML object>"
      ]
     },
     "metadata": {},
     "output_type": "display_data"
    },
    {
     "data": {
      "text/html": [
       " View project at <a href='https://wandb.ai/jnainani-university-of-massachusetts-amherst/sae%20circuits' target=\"_blank\">https://wandb.ai/jnainani-university-of-massachusetts-amherst/sae%20circuits</a>"
      ],
      "text/plain": [
       "<IPython.core.display.HTML object>"
      ]
     },
     "metadata": {},
     "output_type": "display_data"
    },
    {
     "data": {
      "text/html": [
       " View run at <a href='https://wandb.ai/jnainani-university-of-massachusetts-amherst/sae%20circuits/runs/ygojos91' target=\"_blank\">https://wandb.ai/jnainani-university-of-massachusetts-amherst/sae%20circuits/runs/ygojos91</a>"
      ],
      "text/plain": [
       "<IPython.core.display.HTML object>"
      ]
     },
     "metadata": {},
     "output_type": "display_data"
    },
    {
     "name": "stderr",
     "output_type": "stream",
     "text": [
      "Training Progress:  99%|█████████▉| 144/144.8 [04:11<00:01,  1.73s/it, Step=144, Progress=1.09, Avg Nonzero Elements=206, Task Loss=1.46, Sparsity Loss=0.602, temperature=tensor(328.9644)]   /home/jnainani_umass_edu/.conda/envs/finetuning/lib/python3.10/site-packages/tqdm/std.py:636: TqdmWarning: clamping frac to range [0, 1]\n",
      "  full_bar = Bar(frac,\n",
      "Training Progress: 161it [04:39,  1.73s/it, Step=160, Progress=1.22, Avg Nonzero Elements=206, Task Loss=0.694, Sparsity Loss=0.602, temperature=tensor(626.3716)]                          \n"
     ]
    },
    {
     "data": {
      "application/vnd.jupyter.widget-view+json": {
       "model_id": "bca98636a0224000bf9ee8accc4daabe",
       "version_major": 2,
       "version_minor": 0
      },
      "text/plain": [
       "VBox(children=(Label(value='0.007 MB of 0.007 MB uploaded\\r'), FloatProgress(value=1.0, max=1.0)))"
      ]
     },
     "metadata": {},
     "output_type": "display_data"
    },
    {
     "data": {
      "text/html": [
       "<style>\n",
       "    table.wandb td:nth-child(1) { padding: 0 10px; text-align: left ; width: auto;} td:nth-child(2) {text-align: left ; width: 100%}\n",
       "    .wandb-row { display: flex; flex-direction: row; flex-wrap: wrap; justify-content: flex-start; width: 100% }\n",
       "    .wandb-col { display: flex; flex-direction: column; flex-basis: 100%; flex: 1; padding: 10px; }\n",
       "    </style>\n",
       "<div class=\"wandb-row\"><div class=\"wandb-col\"><h3>Run history:</h3><br/><table class=\"wandb\"><tr><td>Avg Nonzero Elements</td><td>█▁▁▁▁▁▁▁▁▁▁▁▁▁▁▁▁▁▁▁▁▁▁▁▁▁▁▁▁▁▁▁▁▁▁▁▁▁▁▁</td></tr><tr><td>Progress</td><td>▁▁▁▂▂▂▂▂▂▃▃▃▃▃▃▄▄▄▄▄▅▅▅▅▅▅▆▆▆▆▆▆▇▇▇▇▇███</td></tr><tr><td>Sparsity Loss</td><td>█▁▁▁▁▁▁▁▁▁▁▁▁▁▁▁▁▁▁▁▁▁▁▁▁▁▁▁▁▁▁▁▁▁▁▁▁▁▁▁</td></tr><tr><td>Step</td><td>▁▁▁▂▂▂▂▂▂▃▃▃▃▃▃▄▄▄▄▄▅▅▅▅▅▅▆▆▆▆▆▆▇▇▇▇▇███</td></tr><tr><td>Task Loss</td><td>█▂▅▄▄▅▁▁▃▆▃▄▂▃▄▄▁▅▃▄▁▃▃▅▂▄▅▁▄▂▁▂▂▂▃▃▄▅▃▄</td></tr><tr><td>temperature</td><td>▁▁▁▁▁▁▁▁▁▁▁▁▁▁▁▁▁▁▁▁▁▁▁▁▂▂▂▂▂▂▃▃▃▃▄▄▅▆▆█</td></tr></table><br/></div><div class=\"wandb-col\"><h3>Run summary:</h3><br/><table class=\"wandb\"><tr><td>Avg Nonzero Elements</td><td>205.5</td></tr><tr><td>Progress</td><td>1.21547</td></tr><tr><td>Sparsity Loss</td><td>0.60169</td></tr><tr><td>Step</td><td>160</td></tr><tr><td>Task Loss</td><td>0.69364</td></tr><tr><td>temperature</td><td>626.37158</td></tr></table><br/></div></div>"
      ],
      "text/plain": [
       "<IPython.core.display.HTML object>"
      ]
     },
     "metadata": {},
     "output_type": "display_data"
    },
    {
     "data": {
      "text/html": [
       " View run <strong style=\"color:#cdcd00\">earnest-glade-89</strong> at: <a href='https://wandb.ai/jnainani-university-of-massachusetts-amherst/sae%20circuits/runs/ygojos91' target=\"_blank\">https://wandb.ai/jnainani-university-of-massachusetts-amherst/sae%20circuits/runs/ygojos91</a><br/> View project at: <a href='https://wandb.ai/jnainani-university-of-massachusetts-amherst/sae%20circuits' target=\"_blank\">https://wandb.ai/jnainani-university-of-massachusetts-amherst/sae%20circuits</a><br/>Synced 5 W&B file(s), 0 media file(s), 0 artifact file(s) and 0 other file(s)"
      ],
      "text/plain": [
       "<IPython.core.display.HTML object>"
      ]
     },
     "metadata": {},
     "output_type": "display_data"
    },
    {
     "data": {
      "text/html": [
       "Find logs at: <code>./wandb/run-20241230_213918-ygojos91/logs</code>"
      ],
      "text/plain": [
       "<IPython.core.display.HTML object>"
      ]
     },
     "metadata": {},
     "output_type": "display_data"
    },
    {
     "name": "stdout",
     "output_type": "stream",
     "text": [
      "CE loss: tensor(6.9674, device='cuda:0')\n",
      "Logit Diff: 3.2195041179656982\n",
      "total # latents in circuit:  822\n",
      "avg density 205.5\n",
      "Saved mask for SAE 0 to sae_mask_0.pt\n",
      "Saved mask for SAE 1 to sae_mask_1.pt\n",
      "Saved mask for SAE 2 to sae_mask_2.pt\n",
      "Saved mask for SAE 3 to sae_mask_3.pt\n",
      "doing a run with sparsity multiplier 0.006432880171184024\n"
     ]
    },
    {
     "data": {
      "text/html": [
       "wandb version 0.19.1 is available!  To upgrade, please run:\n",
       " $ pip install wandb --upgrade"
      ],
      "text/plain": [
       "<IPython.core.display.HTML object>"
      ]
     },
     "metadata": {},
     "output_type": "display_data"
    },
    {
     "data": {
      "text/html": [
       "Tracking run with wandb version 0.16.6"
      ],
      "text/plain": [
       "<IPython.core.display.HTML object>"
      ]
     },
     "metadata": {},
     "output_type": "display_data"
    },
    {
     "data": {
      "text/html": [
       "Run data is saved locally in <code>/work/pi_jensen_umass_edu/jnainani_umass_edu/ScalableSAECircuits/wandb/run-20241230_214411-wspjiqwc</code>"
      ],
      "text/plain": [
       "<IPython.core.display.HTML object>"
      ]
     },
     "metadata": {},
     "output_type": "display_data"
    },
    {
     "data": {
      "text/html": [
       "Syncing run <strong><a href='https://wandb.ai/jnainani-university-of-massachusetts-amherst/sae%20circuits/runs/wspjiqwc' target=\"_blank\">curious-spaceship-90</a></strong> to <a href='https://wandb.ai/jnainani-university-of-massachusetts-amherst/sae%20circuits' target=\"_blank\">Weights & Biases</a> (<a href='https://wandb.me/run' target=\"_blank\">docs</a>)<br/>"
      ],
      "text/plain": [
       "<IPython.core.display.HTML object>"
      ]
     },
     "metadata": {},
     "output_type": "display_data"
    },
    {
     "data": {
      "text/html": [
       " View project at <a href='https://wandb.ai/jnainani-university-of-massachusetts-amherst/sae%20circuits' target=\"_blank\">https://wandb.ai/jnainani-university-of-massachusetts-amherst/sae%20circuits</a>"
      ],
      "text/plain": [
       "<IPython.core.display.HTML object>"
      ]
     },
     "metadata": {},
     "output_type": "display_data"
    },
    {
     "data": {
      "text/html": [
       " View run at <a href='https://wandb.ai/jnainani-university-of-massachusetts-amherst/sae%20circuits/runs/wspjiqwc' target=\"_blank\">https://wandb.ai/jnainani-university-of-massachusetts-amherst/sae%20circuits/runs/wspjiqwc</a>"
      ],
      "text/plain": [
       "<IPython.core.display.HTML object>"
      ]
     },
     "metadata": {},
     "output_type": "display_data"
    },
    {
     "name": "stderr",
     "output_type": "stream",
     "text": [
      "Training Progress:  99%|█████████▉| 144/144.8 [04:11<00:01,  1.74s/it, Step=144, Progress=1.09, Avg Nonzero Elements=81.8, Task Loss=2.55, Sparsity Loss=0.526, temperature=tensor(328.9644)] /home/jnainani_umass_edu/.conda/envs/finetuning/lib/python3.10/site-packages/tqdm/std.py:636: TqdmWarning: clamping frac to range [0, 1]\n",
      "  full_bar = Bar(frac,\n",
      "Training Progress: 161it [04:39,  1.73s/it, Step=160, Progress=1.22, Avg Nonzero Elements=81.8, Task Loss=2.56, Sparsity Loss=0.526, temperature=tensor(626.3716)]                           \n"
     ]
    },
    {
     "data": {
      "application/vnd.jupyter.widget-view+json": {
       "model_id": "a7f49ec744b647acac96d3e83af142b7",
       "version_major": 2,
       "version_minor": 0
      },
      "text/plain": [
       "VBox(children=(Label(value='0.007 MB of 0.007 MB uploaded\\r'), FloatProgress(value=1.0, max=1.0)))"
      ]
     },
     "metadata": {},
     "output_type": "display_data"
    },
    {
     "data": {
      "text/html": [
       "<style>\n",
       "    table.wandb td:nth-child(1) { padding: 0 10px; text-align: left ; width: auto;} td:nth-child(2) {text-align: left ; width: 100%}\n",
       "    .wandb-row { display: flex; flex-direction: row; flex-wrap: wrap; justify-content: flex-start; width: 100% }\n",
       "    .wandb-col { display: flex; flex-direction: column; flex-basis: 100%; flex: 1; padding: 10px; }\n",
       "    </style>\n",
       "<div class=\"wandb-row\"><div class=\"wandb-col\"><h3>Run history:</h3><br/><table class=\"wandb\"><tr><td>Avg Nonzero Elements</td><td>█▁▁▁▁▁▁▁▁▁▁▁▁▁▁▁▁▁▁▁▁▁▁▁▁▁▁▁▁▁▁▁▁▁▁▁▁▁▁▁</td></tr><tr><td>Progress</td><td>▁▁▁▂▂▂▂▂▂▃▃▃▃▃▃▄▄▄▄▄▅▅▅▅▅▅▆▆▆▆▆▆▇▇▇▇▇███</td></tr><tr><td>Sparsity Loss</td><td>█▁▁▁▁▁▁▁▁▁▁▁▁▁▁▁▁▁▁▁▁▁▁▁▁▁▁▁▁▁▁▁▁▁▁▁▁▁▁▁</td></tr><tr><td>Step</td><td>▁▁▁▂▂▂▂▂▂▃▃▃▃▃▃▄▄▄▄▄▅▅▅▅▅▅▆▆▆▆▆▆▇▇▇▇▇███</td></tr><tr><td>Task Loss</td><td>█▁▇▅▅▇▂▄▅█▄▄▁▅▆▄▃▇▅▆▃▅▄█▄▄▆▄▇▄▄▄▃▄▆▅▆▆▅▆</td></tr><tr><td>temperature</td><td>▁▁▁▁▁▁▁▁▁▁▁▁▁▁▁▁▁▁▁▁▁▁▁▁▂▂▂▂▂▂▃▃▃▃▄▄▅▆▆█</td></tr></table><br/></div><div class=\"wandb-col\"><h3>Run summary:</h3><br/><table class=\"wandb\"><tr><td>Avg Nonzero Elements</td><td>81.75</td></tr><tr><td>Progress</td><td>1.21547</td></tr><tr><td>Sparsity Loss</td><td>0.52589</td></tr><tr><td>Step</td><td>160</td></tr><tr><td>Task Loss</td><td>2.56433</td></tr><tr><td>temperature</td><td>626.37158</td></tr></table><br/></div></div>"
      ],
      "text/plain": [
       "<IPython.core.display.HTML object>"
      ]
     },
     "metadata": {},
     "output_type": "display_data"
    },
    {
     "data": {
      "text/html": [
       " View run <strong style=\"color:#cdcd00\">curious-spaceship-90</strong> at: <a href='https://wandb.ai/jnainani-university-of-massachusetts-amherst/sae%20circuits/runs/wspjiqwc' target=\"_blank\">https://wandb.ai/jnainani-university-of-massachusetts-amherst/sae%20circuits/runs/wspjiqwc</a><br/> View project at: <a href='https://wandb.ai/jnainani-university-of-massachusetts-amherst/sae%20circuits' target=\"_blank\">https://wandb.ai/jnainani-university-of-massachusetts-amherst/sae%20circuits</a><br/>Synced 5 W&B file(s), 0 media file(s), 0 artifact file(s) and 0 other file(s)"
      ],
      "text/plain": [
       "<IPython.core.display.HTML object>"
      ]
     },
     "metadata": {},
     "output_type": "display_data"
    },
    {
     "data": {
      "text/html": [
       "Find logs at: <code>./wandb/run-20241230_214411-wspjiqwc/logs</code>"
      ],
      "text/plain": [
       "<IPython.core.display.HTML object>"
      ]
     },
     "metadata": {},
     "output_type": "display_data"
    },
    {
     "name": "stdout",
     "output_type": "stream",
     "text": [
      "CE loss: tensor(7.5353, device='cuda:0')\n",
      "Logit Diff: 1.6274921894073486\n",
      "total # latents in circuit:  327\n",
      "avg density 81.75\n",
      "Saved mask for SAE 0 to sae_mask_0.pt\n",
      "Saved mask for SAE 1 to sae_mask_1.pt\n",
      "Saved mask for SAE 2 to sae_mask_2.pt\n",
      "Saved mask for SAE 3 to sae_mask_3.pt\n",
      "doing a run with sparsity multiplier 0.01133186305278174\n"
     ]
    },
    {
     "data": {
      "text/html": [
       "wandb version 0.19.1 is available!  To upgrade, please run:\n",
       " $ pip install wandb --upgrade"
      ],
      "text/plain": [
       "<IPython.core.display.HTML object>"
      ]
     },
     "metadata": {},
     "output_type": "display_data"
    },
    {
     "data": {
      "text/html": [
       "Tracking run with wandb version 0.16.6"
      ],
      "text/plain": [
       "<IPython.core.display.HTML object>"
      ]
     },
     "metadata": {},
     "output_type": "display_data"
    },
    {
     "data": {
      "text/html": [
       "Run data is saved locally in <code>/work/pi_jensen_umass_edu/jnainani_umass_edu/ScalableSAECircuits/wandb/run-20241230_214904-v6rno72l</code>"
      ],
      "text/plain": [
       "<IPython.core.display.HTML object>"
      ]
     },
     "metadata": {},
     "output_type": "display_data"
    },
    {
     "data": {
      "text/html": [
       "Syncing run <strong><a href='https://wandb.ai/jnainani-university-of-massachusetts-amherst/sae%20circuits/runs/v6rno72l' target=\"_blank\">autumn-serenity-91</a></strong> to <a href='https://wandb.ai/jnainani-university-of-massachusetts-amherst/sae%20circuits' target=\"_blank\">Weights & Biases</a> (<a href='https://wandb.me/run' target=\"_blank\">docs</a>)<br/>"
      ],
      "text/plain": [
       "<IPython.core.display.HTML object>"
      ]
     },
     "metadata": {},
     "output_type": "display_data"
    },
    {
     "data": {
      "text/html": [
       " View project at <a href='https://wandb.ai/jnainani-university-of-massachusetts-amherst/sae%20circuits' target=\"_blank\">https://wandb.ai/jnainani-university-of-massachusetts-amherst/sae%20circuits</a>"
      ],
      "text/plain": [
       "<IPython.core.display.HTML object>"
      ]
     },
     "metadata": {},
     "output_type": "display_data"
    },
    {
     "data": {
      "text/html": [
       " View run at <a href='https://wandb.ai/jnainani-university-of-massachusetts-amherst/sae%20circuits/runs/v6rno72l' target=\"_blank\">https://wandb.ai/jnainani-university-of-massachusetts-amherst/sae%20circuits/runs/v6rno72l</a>"
      ],
      "text/plain": [
       "<IPython.core.display.HTML object>"
      ]
     },
     "metadata": {},
     "output_type": "display_data"
    },
    {
     "name": "stderr",
     "output_type": "stream",
     "text": [
      "Training Progress:  99%|█████████▉| 144/144.8 [04:11<00:01,  1.74s/it, Step=144, Progress=1.09, Avg Nonzero Elements=37.5, Task Loss=2.93, Sparsity Loss=0.425, temperature=tensor(328.9644)] /home/jnainani_umass_edu/.conda/envs/finetuning/lib/python3.10/site-packages/tqdm/std.py:636: TqdmWarning: clamping frac to range [0, 1]\n",
      "  full_bar = Bar(frac,\n",
      "Training Progress: 161it [04:39,  1.74s/it, Step=160, Progress=1.22, Avg Nonzero Elements=37.5, Task Loss=3.04, Sparsity Loss=0.425, temperature=tensor(626.3716)]                           \n"
     ]
    },
    {
     "data": {
      "application/vnd.jupyter.widget-view+json": {
       "model_id": "8a745d5ac58a490c9206d88a01672a95",
       "version_major": 2,
       "version_minor": 0
      },
      "text/plain": [
       "VBox(children=(Label(value='0.007 MB of 0.007 MB uploaded\\r'), FloatProgress(value=1.0, max=1.0)))"
      ]
     },
     "metadata": {},
     "output_type": "display_data"
    },
    {
     "data": {
      "text/html": [
       "<style>\n",
       "    table.wandb td:nth-child(1) { padding: 0 10px; text-align: left ; width: auto;} td:nth-child(2) {text-align: left ; width: 100%}\n",
       "    .wandb-row { display: flex; flex-direction: row; flex-wrap: wrap; justify-content: flex-start; width: 100% }\n",
       "    .wandb-col { display: flex; flex-direction: column; flex-basis: 100%; flex: 1; padding: 10px; }\n",
       "    </style>\n",
       "<div class=\"wandb-row\"><div class=\"wandb-col\"><h3>Run history:</h3><br/><table class=\"wandb\"><tr><td>Avg Nonzero Elements</td><td>█▁▁▁▁▁▁▁▁▁▁▁▁▁▁▁▁▁▁▁▁▁▁▁▁▁▁▁▁▁▁▁▁▁▁▁▁▁▁▁</td></tr><tr><td>Progress</td><td>▁▁▁▂▂▂▂▂▂▃▃▃▃▃▃▄▄▄▄▄▅▅▅▅▅▅▆▆▆▆▆▆▇▇▇▇▇███</td></tr><tr><td>Sparsity Loss</td><td>█▁▁▁▁▁▁▁▁▁▁▁▁▁▁▁▁▁▁▁▁▁▁▁▁▁▁▁▁▁▁▁▁▁▁▁▁▁▁▁</td></tr><tr><td>Step</td><td>▁▁▁▂▂▂▂▂▂▃▃▃▃▃▃▄▄▄▄▄▅▅▅▅▅▅▆▆▆▆▆▆▇▇▇▇▇███</td></tr><tr><td>Task Loss</td><td>▇▁▇▅▅▇▂▄▅█▃▄▁▅▅▄▃▇▄▆▂▅▅▇▃▄▅▄▇▄▄▄▃▄▇▄▆▆▄▆</td></tr><tr><td>temperature</td><td>▁▁▁▁▁▁▁▁▁▁▁▁▁▁▁▁▁▁▁▁▁▁▁▁▂▂▂▂▂▂▃▃▃▃▄▄▅▆▆█</td></tr></table><br/></div><div class=\"wandb-col\"><h3>Run summary:</h3><br/><table class=\"wandb\"><tr><td>Avg Nonzero Elements</td><td>37.5</td></tr><tr><td>Progress</td><td>1.21547</td></tr><tr><td>Sparsity Loss</td><td>0.42494</td></tr><tr><td>Step</td><td>160</td></tr><tr><td>Task Loss</td><td>3.04385</td></tr><tr><td>temperature</td><td>626.37158</td></tr></table><br/></div></div>"
      ],
      "text/plain": [
       "<IPython.core.display.HTML object>"
      ]
     },
     "metadata": {},
     "output_type": "display_data"
    },
    {
     "data": {
      "text/html": [
       " View run <strong style=\"color:#cdcd00\">autumn-serenity-91</strong> at: <a href='https://wandb.ai/jnainani-university-of-massachusetts-amherst/sae%20circuits/runs/v6rno72l' target=\"_blank\">https://wandb.ai/jnainani-university-of-massachusetts-amherst/sae%20circuits/runs/v6rno72l</a><br/> View project at: <a href='https://wandb.ai/jnainani-university-of-massachusetts-amherst/sae%20circuits' target=\"_blank\">https://wandb.ai/jnainani-university-of-massachusetts-amherst/sae%20circuits</a><br/>Synced 5 W&B file(s), 0 media file(s), 0 artifact file(s) and 0 other file(s)"
      ],
      "text/plain": [
       "<IPython.core.display.HTML object>"
      ]
     },
     "metadata": {},
     "output_type": "display_data"
    },
    {
     "data": {
      "text/html": [
       "Find logs at: <code>./wandb/run-20241230_214904-v6rno72l/logs</code>"
      ],
      "text/plain": [
       "<IPython.core.display.HTML object>"
      ]
     },
     "metadata": {},
     "output_type": "display_data"
    },
    {
     "name": "stdout",
     "output_type": "stream",
     "text": [
      "CE loss: tensor(7.8376, device='cuda:0')\n",
      "Logit Diff: 1.0498268604278564\n",
      "total # latents in circuit:  150\n",
      "avg density 37.5\n",
      "Saved mask for SAE 0 to sae_mask_0.pt\n",
      "Saved mask for SAE 1 to sae_mask_1.pt\n",
      "Saved mask for SAE 2 to sae_mask_2.pt\n",
      "Saved mask for SAE 3 to sae_mask_3.pt\n",
      "doing a run with sparsity multiplier 0.017624857346647652\n"
     ]
    },
    {
     "data": {
      "text/html": [
       "wandb version 0.19.1 is available!  To upgrade, please run:\n",
       " $ pip install wandb --upgrade"
      ],
      "text/plain": [
       "<IPython.core.display.HTML object>"
      ]
     },
     "metadata": {},
     "output_type": "display_data"
    },
    {
     "data": {
      "text/html": [
       "Tracking run with wandb version 0.16.6"
      ],
      "text/plain": [
       "<IPython.core.display.HTML object>"
      ]
     },
     "metadata": {},
     "output_type": "display_data"
    },
    {
     "data": {
      "text/html": [
       "Run data is saved locally in <code>/work/pi_jensen_umass_edu/jnainani_umass_edu/ScalableSAECircuits/wandb/run-20241230_215355-coyj5p1s</code>"
      ],
      "text/plain": [
       "<IPython.core.display.HTML object>"
      ]
     },
     "metadata": {},
     "output_type": "display_data"
    },
    {
     "data": {
      "text/html": [
       "Syncing run <strong><a href='https://wandb.ai/jnainani-university-of-massachusetts-amherst/sae%20circuits/runs/coyj5p1s' target=\"_blank\">iconic-yogurt-92</a></strong> to <a href='https://wandb.ai/jnainani-university-of-massachusetts-amherst/sae%20circuits' target=\"_blank\">Weights & Biases</a> (<a href='https://wandb.me/run' target=\"_blank\">docs</a>)<br/>"
      ],
      "text/plain": [
       "<IPython.core.display.HTML object>"
      ]
     },
     "metadata": {},
     "output_type": "display_data"
    },
    {
     "data": {
      "text/html": [
       " View project at <a href='https://wandb.ai/jnainani-university-of-massachusetts-amherst/sae%20circuits' target=\"_blank\">https://wandb.ai/jnainani-university-of-massachusetts-amherst/sae%20circuits</a>"
      ],
      "text/plain": [
       "<IPython.core.display.HTML object>"
      ]
     },
     "metadata": {},
     "output_type": "display_data"
    },
    {
     "data": {
      "text/html": [
       " View run at <a href='https://wandb.ai/jnainani-university-of-massachusetts-amherst/sae%20circuits/runs/coyj5p1s' target=\"_blank\">https://wandb.ai/jnainani-university-of-massachusetts-amherst/sae%20circuits/runs/coyj5p1s</a>"
      ],
      "text/plain": [
       "<IPython.core.display.HTML object>"
      ]
     },
     "metadata": {},
     "output_type": "display_data"
    },
    {
     "name": "stderr",
     "output_type": "stream",
     "text": [
      "Training Progress:  99%|█████████▉| 144/144.8 [04:11<00:01,  1.74s/it, Step=144, Progress=1.09, Avg Nonzero Elements=24, Task Loss=3.01, Sparsity Loss=0.423, temperature=tensor(328.9644)]   /home/jnainani_umass_edu/.conda/envs/finetuning/lib/python3.10/site-packages/tqdm/std.py:636: TqdmWarning: clamping frac to range [0, 1]\n",
      "  full_bar = Bar(frac,\n",
      "Training Progress: 161it [04:39,  1.74s/it, Step=160, Progress=1.22, Avg Nonzero Elements=24, Task Loss=3.1, Sparsity Loss=0.423, temperature=tensor(626.3716)]                            \n"
     ]
    },
    {
     "data": {
      "application/vnd.jupyter.widget-view+json": {
       "model_id": "db12c9e01aa64d399b77f6a2b82719b9",
       "version_major": 2,
       "version_minor": 0
      },
      "text/plain": [
       "VBox(children=(Label(value='0.016 MB of 0.016 MB uploaded\\r'), FloatProgress(value=1.0, max=1.0)))"
      ]
     },
     "metadata": {},
     "output_type": "display_data"
    },
    {
     "data": {
      "text/html": [
       "<style>\n",
       "    table.wandb td:nth-child(1) { padding: 0 10px; text-align: left ; width: auto;} td:nth-child(2) {text-align: left ; width: 100%}\n",
       "    .wandb-row { display: flex; flex-direction: row; flex-wrap: wrap; justify-content: flex-start; width: 100% }\n",
       "    .wandb-col { display: flex; flex-direction: column; flex-basis: 100%; flex: 1; padding: 10px; }\n",
       "    </style>\n",
       "<div class=\"wandb-row\"><div class=\"wandb-col\"><h3>Run history:</h3><br/><table class=\"wandb\"><tr><td>Avg Nonzero Elements</td><td>█▁▁▁▁▁▁▁▁▁▁▁▁▁▁▁▁▁▁▁▁▁▁▁▁▁▁▁▁▁▁▁▁▁▁▁▁▁▁▁</td></tr><tr><td>Progress</td><td>▁▁▁▂▂▂▂▂▂▃▃▃▃▃▃▄▄▄▄▄▅▅▅▅▅▅▆▆▆▆▆▆▇▇▇▇▇███</td></tr><tr><td>Sparsity Loss</td><td>█▁▁▁▁▁▁▁▁▁▁▁▁▁▁▁▁▁▁▁▁▁▁▁▁▁▁▁▁▁▁▁▁▁▁▁▁▁▁▁</td></tr><tr><td>Step</td><td>▁▁▁▂▂▂▂▂▂▃▃▃▃▃▃▄▄▄▄▄▅▅▅▅▅▅▆▆▆▆▆▆▇▇▇▇▇███</td></tr><tr><td>Task Loss</td><td>▆▁▇▅▅▇▂▅▅█▃▄▁▆▅▄▃▇▄▆▂▅▅█▃▃▅▃▇▄▄▄▃▄█▄▆▆▄▆</td></tr><tr><td>temperature</td><td>▁▁▁▁▁▁▁▁▁▁▁▁▁▁▁▁▁▁▁▁▁▁▁▁▂▂▂▂▂▂▃▃▃▃▄▄▅▆▆█</td></tr></table><br/></div><div class=\"wandb-col\"><h3>Run summary:</h3><br/><table class=\"wandb\"><tr><td>Avg Nonzero Elements</td><td>24.0</td></tr><tr><td>Progress</td><td>1.21547</td></tr><tr><td>Sparsity Loss</td><td>0.423</td></tr><tr><td>Step</td><td>160</td></tr><tr><td>Task Loss</td><td>3.09828</td></tr><tr><td>temperature</td><td>626.37158</td></tr></table><br/></div></div>"
      ],
      "text/plain": [
       "<IPython.core.display.HTML object>"
      ]
     },
     "metadata": {},
     "output_type": "display_data"
    },
    {
     "data": {
      "text/html": [
       " View run <strong style=\"color:#cdcd00\">iconic-yogurt-92</strong> at: <a href='https://wandb.ai/jnainani-university-of-massachusetts-amherst/sae%20circuits/runs/coyj5p1s' target=\"_blank\">https://wandb.ai/jnainani-university-of-massachusetts-amherst/sae%20circuits/runs/coyj5p1s</a><br/> View project at: <a href='https://wandb.ai/jnainani-university-of-massachusetts-amherst/sae%20circuits' target=\"_blank\">https://wandb.ai/jnainani-university-of-massachusetts-amherst/sae%20circuits</a><br/>Synced 5 W&B file(s), 0 media file(s), 0 artifact file(s) and 0 other file(s)"
      ],
      "text/plain": [
       "<IPython.core.display.HTML object>"
      ]
     },
     "metadata": {},
     "output_type": "display_data"
    },
    {
     "data": {
      "text/html": [
       "Find logs at: <code>./wandb/run-20241230_215355-coyj5p1s/logs</code>"
      ],
      "text/plain": [
       "<IPython.core.display.HTML object>"
      ]
     },
     "metadata": {},
     "output_type": "display_data"
    },
    {
     "name": "stdout",
     "output_type": "stream",
     "text": [
      "CE loss: tensor(7.7872, device='cuda:0')\n",
      "Logit Diff: 0.9317105412483215\n",
      "total # latents in circuit:  96\n",
      "avg density 24.0\n",
      "Saved mask for SAE 0 to sae_mask_0.pt\n",
      "Saved mask for SAE 1 to sae_mask_1.pt\n",
      "Saved mask for SAE 2 to sae_mask_2.pt\n",
      "Saved mask for SAE 3 to sae_mask_3.pt\n",
      "doing a run with sparsity multiplier 0.025311863052781748\n"
     ]
    },
    {
     "data": {
      "text/html": [
       "wandb version 0.19.1 is available!  To upgrade, please run:\n",
       " $ pip install wandb --upgrade"
      ],
      "text/plain": [
       "<IPython.core.display.HTML object>"
      ]
     },
     "metadata": {},
     "output_type": "display_data"
    },
    {
     "data": {
      "text/html": [
       "Tracking run with wandb version 0.16.6"
      ],
      "text/plain": [
       "<IPython.core.display.HTML object>"
      ]
     },
     "metadata": {},
     "output_type": "display_data"
    },
    {
     "data": {
      "text/html": [
       "Run data is saved locally in <code>/work/pi_jensen_umass_edu/jnainani_umass_edu/ScalableSAECircuits/wandb/run-20241230_215847-d91jyfyj</code>"
      ],
      "text/plain": [
       "<IPython.core.display.HTML object>"
      ]
     },
     "metadata": {},
     "output_type": "display_data"
    },
    {
     "data": {
      "text/html": [
       "Syncing run <strong><a href='https://wandb.ai/jnainani-university-of-massachusetts-amherst/sae%20circuits/runs/d91jyfyj' target=\"_blank\">smart-mountain-93</a></strong> to <a href='https://wandb.ai/jnainani-university-of-massachusetts-amherst/sae%20circuits' target=\"_blank\">Weights & Biases</a> (<a href='https://wandb.me/run' target=\"_blank\">docs</a>)<br/>"
      ],
      "text/plain": [
       "<IPython.core.display.HTML object>"
      ]
     },
     "metadata": {},
     "output_type": "display_data"
    },
    {
     "data": {
      "text/html": [
       " View project at <a href='https://wandb.ai/jnainani-university-of-massachusetts-amherst/sae%20circuits' target=\"_blank\">https://wandb.ai/jnainani-university-of-massachusetts-amherst/sae%20circuits</a>"
      ],
      "text/plain": [
       "<IPython.core.display.HTML object>"
      ]
     },
     "metadata": {},
     "output_type": "display_data"
    },
    {
     "data": {
      "text/html": [
       " View run at <a href='https://wandb.ai/jnainani-university-of-massachusetts-amherst/sae%20circuits/runs/d91jyfyj' target=\"_blank\">https://wandb.ai/jnainani-university-of-massachusetts-amherst/sae%20circuits/runs/d91jyfyj</a>"
      ],
      "text/plain": [
       "<IPython.core.display.HTML object>"
      ]
     },
     "metadata": {},
     "output_type": "display_data"
    },
    {
     "name": "stderr",
     "output_type": "stream",
     "text": [
      "Training Progress:  10%|▉         | 14/144.8 [00:24<03:49,  1.76s/it, Step=13, Progress=0.0988, Avg Nonzero Elements=18.9, Task Loss=3.38, Sparsity Loss=0.477, temperature=tensor(1.6875)]   \n"
     ]
    },
    {
     "ename": "KeyboardInterrupt",
     "evalue": "",
     "output_type": "error",
     "traceback": [
      "\u001b[0;31m---------------------------------------------------------------------------\u001b[0m",
      "\u001b[0;31mKeyboardInterrupt\u001b[0m                         Traceback (most recent call last)",
      "\u001b[1;32m/work/pi_jensen_umass_edu/jnainani_umass_edu/ScalableSAECircuits/ioi_run.ipynb Cell 30\u001b[0m line \u001b[0;36m2\n\u001b[1;32m      <a href='vscode-notebook-cell://ssh-remote%2Buri-gpu002.unity.rc.umass.edu/work/pi_jensen_umass_edu/jnainani_umass_edu/ScalableSAECircuits/ioi_run.ipynb#X65sdnNjb2RlLXJlbW90ZQ%3D%3D?line=0'>1</a>\u001b[0m \u001b[39mfor\u001b[39;00m i \u001b[39min\u001b[39;00m thresholds:\n\u001b[0;32m----> <a href='vscode-notebook-cell://ssh-remote%2Buri-gpu002.unity.rc.umass.edu/work/pi_jensen_umass_edu/jnainani_umass_edu/ScalableSAECircuits/ioi_run.ipynb#X65sdnNjb2RlLXJlbW90ZQ%3D%3D?line=1'>2</a>\u001b[0m     do_training_run(token_dataset\u001b[39m=\u001b[39;49mclean_tokens, labels_dataset\u001b[39m=\u001b[39;49mclean_label_tokens, corr_labels_dataset\u001b[39m=\u001b[39;49mcorr_label_tokens, sparsity_multiplier\u001b[39m=\u001b[39;49mi, task\u001b[39m=\u001b[39;49m\u001b[39m'\u001b[39;49m\u001b[39mioi/baba21/\u001b[39;49m\u001b[39m'\u001b[39;49m, example_length\u001b[39m=\u001b[39;49m\u001b[39m20\u001b[39;49m, loss_function\u001b[39m=\u001b[39;49m\u001b[39m\"\u001b[39;49m\u001b[39mlogit_diff\u001b[39;49m\u001b[39m\"\u001b[39;49m, per_token_mask\u001b[39m=\u001b[39;49m\u001b[39mTrue\u001b[39;49;00m, use_mask\u001b[39m=\u001b[39;49m\u001b[39mTrue\u001b[39;49;00m, mean_mask\u001b[39m=\u001b[39;49m\u001b[39mTrue\u001b[39;49;00m)\n",
      "\u001b[1;32m/work/pi_jensen_umass_edu/jnainani_umass_edu/ScalableSAECircuits/ioi_run.ipynb Cell 30\u001b[0m line \u001b[0;36m7\n\u001b[1;32m     <a href='vscode-notebook-cell://ssh-remote%2Buri-gpu002.unity.rc.umass.edu/work/pi_jensen_umass_edu/jnainani_umass_edu/ScalableSAECircuits/ioi_run.ipynb#X65sdnNjb2RlLXJlbW90ZQ%3D%3D?line=73'>74</a>\u001b[0m     sae\u001b[39m.\u001b[39mmask\u001b[39m.\u001b[39mratio_trained \u001b[39m=\u001b[39m ratio_trained\n\u001b[1;32m     <a href='vscode-notebook-cell://ssh-remote%2Buri-gpu002.unity.rc.umass.edu/work/pi_jensen_umass_edu/jnainani_umass_edu/ScalableSAECircuits/ioi_run.ipynb#X65sdnNjb2RlLXJlbW90ZQ%3D%3D?line=75'>76</a>\u001b[0m \u001b[39m# Forward pass with updated ratio_trained\u001b[39;00m\n\u001b[0;32m---> <a href='vscode-notebook-cell://ssh-remote%2Buri-gpu002.unity.rc.umass.edu/work/pi_jensen_umass_edu/jnainani_umass_edu/ScalableSAECircuits/ioi_run.ipynb#X65sdnNjb2RlLXJlbW90ZQ%3D%3D?line=76'>77</a>\u001b[0m loss, sparsity_loss, _ \u001b[39m=\u001b[39m forward_pass(x, y, z, logitfn, ratio_trained\u001b[39m=\u001b[39;49mratio_trained, loss_function\u001b[39m=\u001b[39;49mloss_function)\n\u001b[1;32m     <a href='vscode-notebook-cell://ssh-remote%2Buri-gpu002.unity.rc.umass.edu/work/pi_jensen_umass_edu/jnainani_umass_edu/ScalableSAECircuits/ioi_run.ipynb#X65sdnNjb2RlLXJlbW90ZQ%3D%3D?line=77'>78</a>\u001b[0m \u001b[39m# if per_token_mask:\u001b[39;00m\n\u001b[1;32m     <a href='vscode-notebook-cell://ssh-remote%2Buri-gpu002.unity.rc.umass.edu/work/pi_jensen_umass_edu/jnainani_umass_edu/ScalableSAECircuits/ioi_run.ipynb#X65sdnNjb2RlLXJlbW90ZQ%3D%3D?line=78'>79</a>\u001b[0m \u001b[39m#     sparsity_loss = sparsity_loss / example_length\u001b[39;00m\n\u001b[1;32m     <a href='vscode-notebook-cell://ssh-remote%2Buri-gpu002.unity.rc.umass.edu/work/pi_jensen_umass_edu/jnainani_umass_edu/ScalableSAECircuits/ioi_run.ipynb#X65sdnNjb2RlLXJlbW90ZQ%3D%3D?line=79'>80</a>\u001b[0m \u001b[39m# print(\"sp loss\", sparsity_loss)\u001b[39;00m\n\u001b[0;32m   (...)\u001b[0m\n\u001b[1;32m     <a href='vscode-notebook-cell://ssh-remote%2Buri-gpu002.unity.rc.umass.edu/work/pi_jensen_umass_edu/jnainani_umass_edu/ScalableSAECircuits/ioi_run.ipynb#X65sdnNjb2RlLXJlbW90ZQ%3D%3D?line=82'>83</a>\u001b[0m \u001b[39m# print(\"sae 2 sp loss\", saes[2].mask.sparsity_loss)\u001b[39;00m\n\u001b[1;32m     <a href='vscode-notebook-cell://ssh-remote%2Buri-gpu002.unity.rc.umass.edu/work/pi_jensen_umass_edu/jnainani_umass_edu/ScalableSAECircuits/ioi_run.ipynb#X65sdnNjb2RlLXJlbW90ZQ%3D%3D?line=83'>84</a>\u001b[0m \u001b[39m# print(\"sae 3 sp loss\", saes[3].mask.sparsity_loss)\u001b[39;00m\n\u001b[1;32m     <a href='vscode-notebook-cell://ssh-remote%2Buri-gpu002.unity.rc.umass.edu/work/pi_jensen_umass_edu/jnainani_umass_edu/ScalableSAECircuits/ioi_run.ipynb#X65sdnNjb2RlLXJlbW90ZQ%3D%3D?line=85'>86</a>\u001b[0m avg_nonzero_elements \u001b[39m=\u001b[39m sparsity_loss\n",
      "\u001b[1;32m/work/pi_jensen_umass_edu/jnainani_umass_edu/ScalableSAECircuits/ioi_run.ipynb Cell 30\u001b[0m line \u001b[0;36m1\n\u001b[1;32m     <a href='vscode-notebook-cell://ssh-remote%2Buri-gpu002.unity.rc.umass.edu/work/pi_jensen_umass_edu/jnainani_umass_edu/ScalableSAECircuits/ioi_run.ipynb#X65sdnNjb2RlLXJlbW90ZQ%3D%3D?line=12'>13</a>\u001b[0m     sae\u001b[39m.\u001b[39mmask\u001b[39m.\u001b[39mratio_trained \u001b[39m=\u001b[39m ratio_trained\n\u001b[1;32m     <a href='vscode-notebook-cell://ssh-remote%2Buri-gpu002.unity.rc.umass.edu/work/pi_jensen_umass_edu/jnainani_umass_edu/ScalableSAECircuits/ioi_run.ipynb#X65sdnNjb2RlLXJlbW90ZQ%3D%3D?line=13'>14</a>\u001b[0m tokens \u001b[39m=\u001b[39m batch\n\u001b[0;32m---> <a href='vscode-notebook-cell://ssh-remote%2Buri-gpu002.unity.rc.umass.edu/work/pi_jensen_umass_edu/jnainani_umass_edu/ScalableSAECircuits/ioi_run.ipynb#X65sdnNjb2RlLXJlbW90ZQ%3D%3D?line=14'>15</a>\u001b[0m logits \u001b[39m=\u001b[39m logitfn(tokens, use_mask, mean_mask)\n\u001b[1;32m     <a href='vscode-notebook-cell://ssh-remote%2Buri-gpu002.unity.rc.umass.edu/work/pi_jensen_umass_edu/jnainani_umass_edu/ScalableSAECircuits/ioi_run.ipynb#X65sdnNjb2RlLXJlbW90ZQ%3D%3D?line=15'>16</a>\u001b[0m model_logits \u001b[39m=\u001b[39m logitfn(tokens, \u001b[39mFalse\u001b[39;00m, \u001b[39mFalse\u001b[39;00m)\n\u001b[1;32m     <a href='vscode-notebook-cell://ssh-remote%2Buri-gpu002.unity.rc.umass.edu/work/pi_jensen_umass_edu/jnainani_umass_edu/ScalableSAECircuits/ioi_run.ipynb#X65sdnNjb2RlLXJlbW90ZQ%3D%3D?line=16'>17</a>\u001b[0m last_token_logits \u001b[39m=\u001b[39m logits[:, \u001b[39m-\u001b[39m\u001b[39m1\u001b[39m, :]\n",
      "\u001b[1;32m/work/pi_jensen_umass_edu/jnainani_umass_edu/ScalableSAECircuits/ioi_run.ipynb Cell 30\u001b[0m line \u001b[0;36m4\n\u001b[1;32m      <a href='vscode-notebook-cell://ssh-remote%2Buri-gpu002.unity.rc.umass.edu/work/pi_jensen_umass_edu/jnainani_umass_edu/ScalableSAECircuits/ioi_run.ipynb#X65sdnNjb2RlLXJlbW90ZQ%3D%3D?line=2'>3</a>\u001b[0m \u001b[39mdef\u001b[39;00m \u001b[39mlogitfn\u001b[39m(tokens, use_mask, mean_mask):\n\u001b[0;32m----> <a href='vscode-notebook-cell://ssh-remote%2Buri-gpu002.unity.rc.umass.edu/work/pi_jensen_umass_edu/jnainani_umass_edu/ScalableSAECircuits/ioi_run.ipynb#X65sdnNjb2RlLXJlbW90ZQ%3D%3D?line=3'>4</a>\u001b[0m     logits \u001b[39m=\u001b[39m  model\u001b[39m.\u001b[39;49mrun_with_hooks(\n\u001b[1;32m      <a href='vscode-notebook-cell://ssh-remote%2Buri-gpu002.unity.rc.umass.edu/work/pi_jensen_umass_edu/jnainani_umass_edu/ScalableSAECircuits/ioi_run.ipynb#X65sdnNjb2RlLXJlbW90ZQ%3D%3D?line=4'>5</a>\u001b[0m         tokens, \n\u001b[1;32m      <a href='vscode-notebook-cell://ssh-remote%2Buri-gpu002.unity.rc.umass.edu/work/pi_jensen_umass_edu/jnainani_umass_edu/ScalableSAECircuits/ioi_run.ipynb#X65sdnNjb2RlLXJlbW90ZQ%3D%3D?line=5'>6</a>\u001b[0m         return_type\u001b[39m=\u001b[39;49m\u001b[39m\"\u001b[39;49m\u001b[39mlogits\u001b[39;49m\u001b[39m\"\u001b[39;49m, \n\u001b[1;32m      <a href='vscode-notebook-cell://ssh-remote%2Buri-gpu002.unity.rc.umass.edu/work/pi_jensen_umass_edu/jnainani_umass_edu/ScalableSAECircuits/ioi_run.ipynb#X65sdnNjb2RlLXJlbW90ZQ%3D%3D?line=6'>7</a>\u001b[0m         fwd_hooks\u001b[39m=\u001b[39;49mbuild_hooks_list(tokens, use_mask\u001b[39m=\u001b[39;49muse_mask, mean_mask\u001b[39m=\u001b[39;49mmean_mask)\n\u001b[1;32m      <a href='vscode-notebook-cell://ssh-remote%2Buri-gpu002.unity.rc.umass.edu/work/pi_jensen_umass_edu/jnainani_umass_edu/ScalableSAECircuits/ioi_run.ipynb#X65sdnNjb2RlLXJlbW90ZQ%3D%3D?line=7'>8</a>\u001b[0m         )\n\u001b[1;32m      <a href='vscode-notebook-cell://ssh-remote%2Buri-gpu002.unity.rc.umass.edu/work/pi_jensen_umass_edu/jnainani_umass_edu/ScalableSAECircuits/ioi_run.ipynb#X65sdnNjb2RlLXJlbW90ZQ%3D%3D?line=8'>9</a>\u001b[0m     \u001b[39mreturn\u001b[39;00m logits\n",
      "File \u001b[0;32m~/.conda/envs/finetuning/lib/python3.10/site-packages/transformer_lens/hook_points.py:454\u001b[0m, in \u001b[0;36mHookedRootModule.run_with_hooks\u001b[0;34m(self, fwd_hooks, bwd_hooks, reset_hooks_end, clear_contexts, *model_args, **model_kwargs)\u001b[0m\n\u001b[1;32m    449\u001b[0m     logging\u001b[39m.\u001b[39mwarning(\n\u001b[1;32m    450\u001b[0m         \u001b[39m\"\u001b[39m\u001b[39mWARNING: Hooks will be reset at the end of run_with_hooks. This removes the backward hooks before a backward pass can occur.\u001b[39m\u001b[39m\"\u001b[39m\n\u001b[1;32m    451\u001b[0m     )\n\u001b[1;32m    453\u001b[0m \u001b[39mwith\u001b[39;00m \u001b[39mself\u001b[39m\u001b[39m.\u001b[39mhooks(fwd_hooks, bwd_hooks, reset_hooks_end, clear_contexts) \u001b[39mas\u001b[39;00m hooked_model:\n\u001b[0;32m--> 454\u001b[0m     \u001b[39mreturn\u001b[39;00m hooked_model\u001b[39m.\u001b[39;49mforward(\u001b[39m*\u001b[39;49mmodel_args, \u001b[39m*\u001b[39;49m\u001b[39m*\u001b[39;49mmodel_kwargs)\n",
      "File \u001b[0;32m~/.conda/envs/finetuning/lib/python3.10/site-packages/transformer_lens/HookedTransformer.py:561\u001b[0m, in \u001b[0;36mHookedTransformer.forward\u001b[0;34m(self, input, return_type, loss_per_token, prepend_bos, padding_side, start_at_layer, tokens, shortformer_pos_embed, attention_mask, stop_at_layer, past_kv_cache)\u001b[0m\n\u001b[1;32m    556\u001b[0m     \u001b[39mif\u001b[39;00m shortformer_pos_embed \u001b[39mis\u001b[39;00m \u001b[39mnot\u001b[39;00m \u001b[39mNone\u001b[39;00m:\n\u001b[1;32m    557\u001b[0m         shortformer_pos_embed \u001b[39m=\u001b[39m shortformer_pos_embed\u001b[39m.\u001b[39mto(\n\u001b[1;32m    558\u001b[0m             devices\u001b[39m.\u001b[39mget_device_for_block_index(i, \u001b[39mself\u001b[39m\u001b[39m.\u001b[39mcfg)\n\u001b[1;32m    559\u001b[0m         )\n\u001b[0;32m--> 561\u001b[0m     residual \u001b[39m=\u001b[39m block(\n\u001b[1;32m    562\u001b[0m         residual,\n\u001b[1;32m    563\u001b[0m         \u001b[39m# Cache contains a list of HookedTransformerKeyValueCache objects, one for each\u001b[39;49;00m\n\u001b[1;32m    564\u001b[0m         \u001b[39m# block\u001b[39;49;00m\n\u001b[1;32m    565\u001b[0m         past_kv_cache_entry\u001b[39m=\u001b[39;49mpast_kv_cache[i] \u001b[39mif\u001b[39;49;00m past_kv_cache \u001b[39mis\u001b[39;49;00m \u001b[39mnot\u001b[39;49;00m \u001b[39mNone\u001b[39;49;00m \u001b[39melse\u001b[39;49;00m \u001b[39mNone\u001b[39;49;00m,\n\u001b[1;32m    566\u001b[0m         shortformer_pos_embed\u001b[39m=\u001b[39;49mshortformer_pos_embed,\n\u001b[1;32m    567\u001b[0m         attention_mask\u001b[39m=\u001b[39;49mattention_mask,\n\u001b[1;32m    568\u001b[0m     )  \u001b[39m# [batch, pos, d_model]\u001b[39;00m\n\u001b[1;32m    570\u001b[0m \u001b[39mif\u001b[39;00m stop_at_layer \u001b[39mis\u001b[39;00m \u001b[39mnot\u001b[39;00m \u001b[39mNone\u001b[39;00m:\n\u001b[1;32m    571\u001b[0m     \u001b[39m# When we stop at an early layer, we end here rather than doing further computation\u001b[39;00m\n\u001b[1;32m    572\u001b[0m     \u001b[39mreturn\u001b[39;00m residual\n",
      "File \u001b[0;32m~/.conda/envs/finetuning/lib/python3.10/site-packages/torch/nn/modules/module.py:1553\u001b[0m, in \u001b[0;36mModule._wrapped_call_impl\u001b[0;34m(self, *args, **kwargs)\u001b[0m\n\u001b[1;32m   1551\u001b[0m     \u001b[39mreturn\u001b[39;00m \u001b[39mself\u001b[39m\u001b[39m.\u001b[39m_compiled_call_impl(\u001b[39m*\u001b[39margs, \u001b[39m*\u001b[39m\u001b[39m*\u001b[39mkwargs)  \u001b[39m# type: ignore[misc]\u001b[39;00m\n\u001b[1;32m   1552\u001b[0m \u001b[39melse\u001b[39;00m:\n\u001b[0;32m-> 1553\u001b[0m     \u001b[39mreturn\u001b[39;00m \u001b[39mself\u001b[39;49m\u001b[39m.\u001b[39;49m_call_impl(\u001b[39m*\u001b[39;49margs, \u001b[39m*\u001b[39;49m\u001b[39m*\u001b[39;49mkwargs)\n",
      "File \u001b[0;32m~/.conda/envs/finetuning/lib/python3.10/site-packages/torch/nn/modules/module.py:1562\u001b[0m, in \u001b[0;36mModule._call_impl\u001b[0;34m(self, *args, **kwargs)\u001b[0m\n\u001b[1;32m   1557\u001b[0m \u001b[39m# If we don't have any hooks, we want to skip the rest of the logic in\u001b[39;00m\n\u001b[1;32m   1558\u001b[0m \u001b[39m# this function, and just call forward.\u001b[39;00m\n\u001b[1;32m   1559\u001b[0m \u001b[39mif\u001b[39;00m \u001b[39mnot\u001b[39;00m (\u001b[39mself\u001b[39m\u001b[39m.\u001b[39m_backward_hooks \u001b[39mor\u001b[39;00m \u001b[39mself\u001b[39m\u001b[39m.\u001b[39m_backward_pre_hooks \u001b[39mor\u001b[39;00m \u001b[39mself\u001b[39m\u001b[39m.\u001b[39m_forward_hooks \u001b[39mor\u001b[39;00m \u001b[39mself\u001b[39m\u001b[39m.\u001b[39m_forward_pre_hooks\n\u001b[1;32m   1560\u001b[0m         \u001b[39mor\u001b[39;00m _global_backward_pre_hooks \u001b[39mor\u001b[39;00m _global_backward_hooks\n\u001b[1;32m   1561\u001b[0m         \u001b[39mor\u001b[39;00m _global_forward_hooks \u001b[39mor\u001b[39;00m _global_forward_pre_hooks):\n\u001b[0;32m-> 1562\u001b[0m     \u001b[39mreturn\u001b[39;00m forward_call(\u001b[39m*\u001b[39;49margs, \u001b[39m*\u001b[39;49m\u001b[39m*\u001b[39;49mkwargs)\n\u001b[1;32m   1564\u001b[0m \u001b[39mtry\u001b[39;00m:\n\u001b[1;32m   1565\u001b[0m     result \u001b[39m=\u001b[39m \u001b[39mNone\u001b[39;00m\n",
      "File \u001b[0;32m~/.conda/envs/finetuning/lib/python3.10/site-packages/transformer_lens/components/transformer_block.py:159\u001b[0m, in \u001b[0;36mTransformerBlock.forward\u001b[0;34m(self, resid_pre, shortformer_pos_embed, past_kv_cache_entry, attention_mask)\u001b[0m\n\u001b[1;32m    152\u001b[0m     key_input \u001b[39m=\u001b[39m attn_in\n\u001b[1;32m    153\u001b[0m     value_input \u001b[39m=\u001b[39m attn_in\n\u001b[1;32m    155\u001b[0m attn_out \u001b[39m=\u001b[39m (\n\u001b[1;32m    156\u001b[0m     \u001b[39m# hook the residual stream states that are used to calculate the\u001b[39;00m\n\u001b[1;32m    157\u001b[0m     \u001b[39m# queries, keys and values, independently.\u001b[39;00m\n\u001b[1;32m    158\u001b[0m     \u001b[39m# Then take the layer norm of these inputs, and pass these to the attention module.\u001b[39;00m\n\u001b[0;32m--> 159\u001b[0m     \u001b[39mself\u001b[39;49m\u001b[39m.\u001b[39;49mattn(\n\u001b[1;32m    160\u001b[0m         query_input\u001b[39m=\u001b[39;49m\u001b[39mself\u001b[39;49m\u001b[39m.\u001b[39;49mln1(query_input)\n\u001b[1;32m    161\u001b[0m         \u001b[39m+\u001b[39;49m (\u001b[39m0.0\u001b[39;49m \u001b[39mif\u001b[39;49;00m shortformer_pos_embed \u001b[39mis\u001b[39;49;00m \u001b[39mNone\u001b[39;49;00m \u001b[39melse\u001b[39;49;00m shortformer_pos_embed),\n\u001b[1;32m    162\u001b[0m         key_input\u001b[39m=\u001b[39;49m\u001b[39mself\u001b[39;49m\u001b[39m.\u001b[39;49mln1(key_input)\n\u001b[1;32m    163\u001b[0m         \u001b[39m+\u001b[39;49m (\u001b[39m0.0\u001b[39;49m \u001b[39mif\u001b[39;49;00m shortformer_pos_embed \u001b[39mis\u001b[39;49;00m \u001b[39mNone\u001b[39;49;00m \u001b[39melse\u001b[39;49;00m shortformer_pos_embed),\n\u001b[1;32m    164\u001b[0m         value_input\u001b[39m=\u001b[39;49m\u001b[39mself\u001b[39;49m\u001b[39m.\u001b[39;49mln1(value_input),\n\u001b[1;32m    165\u001b[0m         past_kv_cache_entry\u001b[39m=\u001b[39;49mpast_kv_cache_entry,\n\u001b[1;32m    166\u001b[0m         attention_mask\u001b[39m=\u001b[39;49mattention_mask,\n\u001b[1;32m    167\u001b[0m     )\n\u001b[1;32m    168\u001b[0m )  \u001b[39m# [batch, pos, d_model]\u001b[39;00m\n\u001b[1;32m    169\u001b[0m \u001b[39mif\u001b[39;00m \u001b[39mself\u001b[39m\u001b[39m.\u001b[39mcfg\u001b[39m.\u001b[39muse_normalization_before_and_after:\n\u001b[1;32m    170\u001b[0m     \u001b[39m# If we use LayerNorm both before and after, then apply the second LN after the layer\u001b[39;00m\n\u001b[1;32m    171\u001b[0m     \u001b[39m# and before the hook. We do it before the hook so hook_attn_out captures \"that which\u001b[39;00m\n\u001b[1;32m    172\u001b[0m     \u001b[39m# is added to the residual stream\"\u001b[39;00m\n\u001b[1;32m    173\u001b[0m     attn_out \u001b[39m=\u001b[39m \u001b[39mself\u001b[39m\u001b[39m.\u001b[39mln1_post(attn_out)\n",
      "File \u001b[0;32m~/.conda/envs/finetuning/lib/python3.10/site-packages/torch/nn/modules/module.py:1553\u001b[0m, in \u001b[0;36mModule._wrapped_call_impl\u001b[0;34m(self, *args, **kwargs)\u001b[0m\n\u001b[1;32m   1551\u001b[0m     \u001b[39mreturn\u001b[39;00m \u001b[39mself\u001b[39m\u001b[39m.\u001b[39m_compiled_call_impl(\u001b[39m*\u001b[39margs, \u001b[39m*\u001b[39m\u001b[39m*\u001b[39mkwargs)  \u001b[39m# type: ignore[misc]\u001b[39;00m\n\u001b[1;32m   1552\u001b[0m \u001b[39melse\u001b[39;00m:\n\u001b[0;32m-> 1553\u001b[0m     \u001b[39mreturn\u001b[39;00m \u001b[39mself\u001b[39;49m\u001b[39m.\u001b[39;49m_call_impl(\u001b[39m*\u001b[39;49margs, \u001b[39m*\u001b[39;49m\u001b[39m*\u001b[39;49mkwargs)\n",
      "File \u001b[0;32m~/.conda/envs/finetuning/lib/python3.10/site-packages/torch/nn/modules/module.py:1562\u001b[0m, in \u001b[0;36mModule._call_impl\u001b[0;34m(self, *args, **kwargs)\u001b[0m\n\u001b[1;32m   1557\u001b[0m \u001b[39m# If we don't have any hooks, we want to skip the rest of the logic in\u001b[39;00m\n\u001b[1;32m   1558\u001b[0m \u001b[39m# this function, and just call forward.\u001b[39;00m\n\u001b[1;32m   1559\u001b[0m \u001b[39mif\u001b[39;00m \u001b[39mnot\u001b[39;00m (\u001b[39mself\u001b[39m\u001b[39m.\u001b[39m_backward_hooks \u001b[39mor\u001b[39;00m \u001b[39mself\u001b[39m\u001b[39m.\u001b[39m_backward_pre_hooks \u001b[39mor\u001b[39;00m \u001b[39mself\u001b[39m\u001b[39m.\u001b[39m_forward_hooks \u001b[39mor\u001b[39;00m \u001b[39mself\u001b[39m\u001b[39m.\u001b[39m_forward_pre_hooks\n\u001b[1;32m   1560\u001b[0m         \u001b[39mor\u001b[39;00m _global_backward_pre_hooks \u001b[39mor\u001b[39;00m _global_backward_hooks\n\u001b[1;32m   1561\u001b[0m         \u001b[39mor\u001b[39;00m _global_forward_hooks \u001b[39mor\u001b[39;00m _global_forward_pre_hooks):\n\u001b[0;32m-> 1562\u001b[0m     \u001b[39mreturn\u001b[39;00m forward_call(\u001b[39m*\u001b[39;49margs, \u001b[39m*\u001b[39;49m\u001b[39m*\u001b[39;49mkwargs)\n\u001b[1;32m   1564\u001b[0m \u001b[39mtry\u001b[39;00m:\n\u001b[1;32m   1565\u001b[0m     result \u001b[39m=\u001b[39m \u001b[39mNone\u001b[39;00m\n",
      "File \u001b[0;32m~/.conda/envs/finetuning/lib/python3.10/site-packages/transformer_lens/components/abstract_attention.py:277\u001b[0m, in \u001b[0;36mAbstractAttention.forward\u001b[0;34m(self, query_input, key_input, value_input, past_kv_cache_entry, additive_attention_mask, attention_mask, position_bias)\u001b[0m\n\u001b[1;32m    266\u001b[0m         out \u001b[39m=\u001b[39m (\n\u001b[1;32m    267\u001b[0m             bnb\u001b[39m.\u001b[39mmatmul_4bit(\n\u001b[1;32m    268\u001b[0m                 z\u001b[39m.\u001b[39mreshape(z\u001b[39m.\u001b[39mshape[\u001b[39m0\u001b[39m], z\u001b[39m.\u001b[39mshape[\u001b[39m1\u001b[39m], \u001b[39mself\u001b[39m\u001b[39m.\u001b[39mcfg\u001b[39m.\u001b[39md_head \u001b[39m*\u001b[39m \u001b[39mself\u001b[39m\u001b[39m.\u001b[39mcfg\u001b[39m.\u001b[39mn_heads),\n\u001b[0;32m   (...)\u001b[0m\n\u001b[1;32m    274\u001b[0m             \u001b[39m+\u001b[39m \u001b[39mself\u001b[39m\u001b[39m.\u001b[39mb_O\n\u001b[1;32m    275\u001b[0m         )\n\u001b[1;32m    276\u001b[0m     \u001b[39melse\u001b[39;00m:\n\u001b[0;32m--> 277\u001b[0m         w \u001b[39m=\u001b[39m einops\u001b[39m.\u001b[39;49mrearrange(\n\u001b[1;32m    278\u001b[0m             \u001b[39mself\u001b[39;49m\u001b[39m.\u001b[39;49mW_O, \u001b[39m\"\u001b[39;49m\u001b[39mhead_index d_head d_model -> d_model (head_index d_head)\u001b[39;49m\u001b[39m\"\u001b[39;49m\n\u001b[1;32m    279\u001b[0m         )\n\u001b[1;32m    280\u001b[0m         out \u001b[39m=\u001b[39m F\u001b[39m.\u001b[39mlinear(\n\u001b[1;32m    281\u001b[0m             z\u001b[39m.\u001b[39mreshape(z\u001b[39m.\u001b[39mshape[\u001b[39m0\u001b[39m], z\u001b[39m.\u001b[39mshape[\u001b[39m1\u001b[39m], \u001b[39mself\u001b[39m\u001b[39m.\u001b[39mcfg\u001b[39m.\u001b[39md_head \u001b[39m*\u001b[39m \u001b[39mself\u001b[39m\u001b[39m.\u001b[39mcfg\u001b[39m.\u001b[39mn_heads),\n\u001b[1;32m    282\u001b[0m             w,\n\u001b[1;32m    283\u001b[0m             \u001b[39mself\u001b[39m\u001b[39m.\u001b[39mb_O,\n\u001b[1;32m    284\u001b[0m         )\n\u001b[1;32m    285\u001b[0m \u001b[39melse\u001b[39;00m:\n\u001b[1;32m    286\u001b[0m     \u001b[39m# Explicitly calculate the attention result so it can be accessed by a hook\u001b[39;00m\n\u001b[1;32m    287\u001b[0m     \u001b[39m# This is off by default because it can easily eat through your GPU memory.\u001b[39;00m\n",
      "File \u001b[0;32m~/.conda/envs/finetuning/lib/python3.10/site-packages/einops/einops.py:591\u001b[0m, in \u001b[0;36mrearrange\u001b[0;34m(tensor, pattern, **axes_lengths)\u001b[0m\n\u001b[1;32m    536\u001b[0m \u001b[39mdef\u001b[39;00m \u001b[39mrearrange\u001b[39m(tensor: Union[Tensor, List[Tensor]], pattern: \u001b[39mstr\u001b[39m, \u001b[39m*\u001b[39m\u001b[39m*\u001b[39maxes_lengths) \u001b[39m-\u001b[39m\u001b[39m>\u001b[39m Tensor:\n\u001b[1;32m    537\u001b[0m \u001b[39m    \u001b[39m\u001b[39m\"\"\"\u001b[39;00m\n\u001b[1;32m    538\u001b[0m \u001b[39m    einops.rearrange is a reader-friendly smart element reordering for multidimensional tensors.\u001b[39;00m\n\u001b[1;32m    539\u001b[0m \u001b[39m    This operation includes functionality of transpose (axes permutation), reshape (view), squeeze, unsqueeze,\u001b[39;00m\n\u001b[0;32m   (...)\u001b[0m\n\u001b[1;32m    589\u001b[0m \n\u001b[1;32m    590\u001b[0m \u001b[39m    \"\"\"\u001b[39;00m\n\u001b[0;32m--> 591\u001b[0m     \u001b[39mreturn\u001b[39;00m reduce(tensor, pattern, reduction\u001b[39m=\u001b[39;49m\u001b[39m\"\u001b[39;49m\u001b[39mrearrange\u001b[39;49m\u001b[39m\"\u001b[39;49m, \u001b[39m*\u001b[39;49m\u001b[39m*\u001b[39;49maxes_lengths)\n",
      "File \u001b[0;32m~/.conda/envs/finetuning/lib/python3.10/site-packages/einops/einops.py:523\u001b[0m, in \u001b[0;36mreduce\u001b[0;34m(tensor, pattern, reduction, **axes_lengths)\u001b[0m\n\u001b[1;32m    521\u001b[0m     shape \u001b[39m=\u001b[39m backend\u001b[39m.\u001b[39mshape(tensor)\n\u001b[1;32m    522\u001b[0m     recipe \u001b[39m=\u001b[39m _prepare_transformation_recipe(pattern, reduction, axes_names\u001b[39m=\u001b[39m\u001b[39mtuple\u001b[39m(axes_lengths), ndim\u001b[39m=\u001b[39m\u001b[39mlen\u001b[39m(shape))\n\u001b[0;32m--> 523\u001b[0m     \u001b[39mreturn\u001b[39;00m _apply_recipe(\n\u001b[1;32m    524\u001b[0m         backend, recipe, cast(Tensor, tensor), reduction_type\u001b[39m=\u001b[39;49mreduction, axes_lengths\u001b[39m=\u001b[39;49mhashable_axes_lengths\n\u001b[1;32m    525\u001b[0m     )\n\u001b[1;32m    526\u001b[0m \u001b[39mexcept\u001b[39;00m EinopsError \u001b[39mas\u001b[39;00m e:\n\u001b[1;32m    527\u001b[0m     message \u001b[39m=\u001b[39m \u001b[39m'\u001b[39m\u001b[39m Error while processing \u001b[39m\u001b[39m{}\u001b[39;00m\u001b[39m-reduction pattern \u001b[39m\u001b[39m\"\u001b[39m\u001b[39m{}\u001b[39;00m\u001b[39m\"\u001b[39m\u001b[39m.\u001b[39m\u001b[39m'\u001b[39m\u001b[39m.\u001b[39mformat(reduction, pattern)\n",
      "File \u001b[0;32m~/.conda/envs/finetuning/lib/python3.10/site-packages/einops/einops.py:244\u001b[0m, in \u001b[0;36m_apply_recipe\u001b[0;34m(backend, recipe, tensor, reduction_type, axes_lengths)\u001b[0m\n\u001b[1;32m    242\u001b[0m     tensor \u001b[39m=\u001b[39m backend\u001b[39m.\u001b[39mreshape(tensor, init_shapes)\n\u001b[1;32m    243\u001b[0m \u001b[39mif\u001b[39;00m axes_reordering \u001b[39mis\u001b[39;00m \u001b[39mnot\u001b[39;00m \u001b[39mNone\u001b[39;00m:\n\u001b[0;32m--> 244\u001b[0m     tensor \u001b[39m=\u001b[39m backend\u001b[39m.\u001b[39;49mtranspose(tensor, axes_reordering)\n\u001b[1;32m    245\u001b[0m \u001b[39mif\u001b[39;00m \u001b[39mlen\u001b[39m(reduced_axes) \u001b[39m>\u001b[39m \u001b[39m0\u001b[39m:\n\u001b[1;32m    246\u001b[0m     tensor \u001b[39m=\u001b[39m _reduce_axes(tensor, reduction_type\u001b[39m=\u001b[39mreduction_type, reduced_axes\u001b[39m=\u001b[39mreduced_axes, backend\u001b[39m=\u001b[39mbackend)\n",
      "File \u001b[0;32m~/.conda/envs/finetuning/lib/python3.10/site-packages/einops/_backends.py:257\u001b[0m, in \u001b[0;36mTorchBackend.transpose\u001b[0;34m(self, x, axes)\u001b[0m\n\u001b[1;32m    256\u001b[0m \u001b[39mdef\u001b[39;00m \u001b[39mtranspose\u001b[39m(\u001b[39mself\u001b[39m, x, axes):\n\u001b[0;32m--> 257\u001b[0m     \u001b[39mreturn\u001b[39;00m x\u001b[39m.\u001b[39;49mpermute(axes)\n",
      "\u001b[0;31mKeyboardInterrupt\u001b[0m: "
     ]
    }
   ],
   "source": [
    "for i in thresholds:\n",
    "    do_training_run(token_dataset=clean_tokens, labels_dataset=clean_label_tokens, corr_labels_dataset=corr_label_tokens, sparsity_multiplier=i, task='ioi/baba21/', example_length=20, loss_function=\"logit_diff\", per_token_mask=True, use_mask=True, mean_mask=True)"
   ]
  },
  {
   "cell_type": "markdown",
   "metadata": {},
   "source": [
    "## mask frontier"
   ]
  },
  {
   "cell_type": "code",
   "execution_count": 37,
   "metadata": {},
   "outputs": [
    {
     "data": {
      "text/plain": [
       "99.55000000000001"
      ]
     },
     "execution_count": 37,
     "metadata": {},
     "output_type": "execute_result"
    }
   ],
   "source": [
    "clean_tokens.shape[0]*0.5*1.1"
   ]
  },
  {
   "cell_type": "code",
   "execution_count": 29,
   "metadata": {},
   "outputs": [
    {
     "data": {
      "text/plain": [
       "[0.0001,\n",
       " 0.0008169486447931527,\n",
       " 0.0029279087018544933,\n",
       " 0.006432880171184024,\n",
       " 0.01133186305278174,\n",
       " 0.017624857346647652]"
      ]
     },
     "execution_count": 29,
     "metadata": {},
     "output_type": "execute_result"
    }
   ],
   "source": [
    "thresholds[:6]"
   ]
  },
  {
   "cell_type": "code",
   "execution_count": 30,
   "metadata": {},
   "outputs": [
    {
     "data": {
      "text/plain": [
       "[1.0119456863665375,\n",
       " 0.9484442726595069,\n",
       " 0.8772018182497316,\n",
       " 0.44343447171530326,\n",
       " 0.2860409544674279,\n",
       " 0.2538584051825639]"
      ]
     },
     "execution_count": 30,
     "metadata": {},
     "output_type": "execute_result"
    }
   ],
   "source": [
    "nnodes = []\n",
    "faithfulness = []\n",
    "for i in thresholds[:6]:\n",
    "    sparsity_multiplier = i\n",
    "    bdir = f\"masks/ioi/baba21/logit_diff_{str(sparsity_multiplier)}_run/{str(sparsity_multiplier)}_run.json\"\n",
    "    # load the dict \n",
    "    with open(bdir, 'r') as file:\n",
    "        mask_dict = json.load(file)\n",
    "    nnodes.append(mask_dict['total_density'])\n",
    "    faithfulness.append(mask_dict['faithfulness'])\n",
    "faithfulness"
   ]
  },
  {
   "cell_type": "code",
   "execution_count": 31,
   "metadata": {},
   "outputs": [
    {
     "data": {
      "image/png": "[encoded data removed]",
      "text/plain": [
       "<Figure size 1000x600 with 1 Axes>"
      ]
     },
     "metadata": {},
     "output_type": "display_data"
    }
   ],
   "source": [
    "plt.figure(figsize=(10, 6))\n",
    "plt.plot(nnodes, faithfulness, marker='o', linestyle='-', linewidth=2, markersize=8)\n",
    "\n",
    "# Add grid for better readability\n",
    "plt.grid(visible=True, linestyle='--', alpha=0.7)\n",
    "\n",
    "# Highlight data points\n",
    "# for x, y in zip(nnodes, faithfulness):\n",
    "#     plt.scatter(x, y, color='red', edgecolor='black', zorder=5)\n",
    "#     plt.text(x, y + 0.02, f'({x:.2f}, {y:.2f})', fontsize=9, ha='center')\n",
    "\n",
    "# Add labels and title\n",
    "plt.xlabel(\"# Nodes\", fontsize=14)\n",
    "plt.ylabel(\"Faithfulness\", fontsize=14)\n",
    "plt.title(\"Faithfulness vs Average Density\", fontsize=16)\n",
    "\n",
    "# Show the plot\n",
    "plt.tight_layout()\n",
    "plt.show()"
   ]
  },
  {
   "cell_type": "markdown",
   "metadata": {},
   "source": [
    "# IG"
   ]
  },
  {
   "cell_type": "code",
   "execution_count": 32,
   "metadata": {},
   "outputs": [],
   "source": [
    "import torch.nn.functional as F\n",
    "def get_ig_effect_batch(sae_id, token_dataset, corr_token_dataset, labels_dataset, corr_labels_dataset):\n",
    "    # ig_batch_size = 4\n",
    "\n",
    "    def logitfn_cache(tokens):\n",
    "        logits =  model.run_with_hooks(\n",
    "            tokens, \n",
    "            return_type=\"logits\", \n",
    "            fwd_hooks=build_hooks_list(tokens, use_mask=use_mask, mean_mask=mean_mask, cache_sae_activations=True)\n",
    "            )\n",
    "        cached_activations = [sae.feature_acts for sae in saes]\n",
    "        return logits, cached_activations\n",
    "    \n",
    "    # cache_sae_logitfn = build_sae_logitfn(cache_sae_activations=True)\n",
    "\n",
    "    # def cache_sae_activations(tokens):\n",
    "    #     logits = cache_sae_logitfn(tokens)\n",
    "    #     cached_activations = [sae.feature_acts for sae in saes]\n",
    "    #     return logits, cached_activations\n",
    "    # def build_sae_logitfn(**kwargs):\n",
    "    # def logitfn(tokens):\n",
    "    #     return model.run_with_hooks(\n",
    "    #         tokens, \n",
    "    #         return_type=\"logits\", \n",
    "    #         fwd_hooks=build_hooks_list(tokens, **kwargs)\n",
    "    #         )\n",
    "    # return logitfn\n",
    "\n",
    "    def sae_continue_cache_logitfn(tokens, sae_idx, cache, **kwargs):\n",
    "        logits = model.run_with_hooks(\n",
    "            tokens, \n",
    "            return_type=\"logits\", \n",
    "            fwd_hooks=build_hooks_list(tokens, fake_activations=(sae_idx, cache),**kwargs)\n",
    "            )\n",
    "        # logitfn = build_sae_logitfn(fake_activations=(sae_idx, cache), **kwargs)\n",
    "        return logits\n",
    "\n",
    "    # correct_tokenized = batch.correct_tokenized\n",
    "    # traceback_tokenized = batch.error_tokenized\n",
    "    # correct_labels = batch.correct_labels\n",
    "    # traceback_labels = batch.error_labels\n",
    "\n",
    "    # run a forward pass on the correct and error examples\n",
    "    with torch.no_grad():\n",
    "        _, clean_activations = logitfn_cache(token_dataset)\n",
    "        _, corr_activations = logitfn_cache(corr_token_dataset)\n",
    "\n",
    "\n",
    "    sae = saes[sae_id]\n",
    "    sae_clean_acts = clean_activations[sae_id]\n",
    "    sae_corr_acts = corr_activations[sae_id]\n",
    "\n",
    "    steps = 10\n",
    "    ratios = [i/steps for i in range(steps)] # we skip the last one b/c we are integrating, obv\n",
    "        \n",
    "    effects = []\n",
    "    for ratio in ratios:\n",
    "        interpolation = (sae_clean_acts * (1-ratio) + sae_corr_acts * (ratio)).requires_grad_(True)\n",
    "        interpolation.retain_grad()\n",
    "        interpolated_out = sae_continue_cache_logitfn(\n",
    "            token_dataset, sae.cfg.hook_layer, interpolation,\n",
    "        )\n",
    "        answer_logits = interpolated_out[..., -1, :] # get the logits of the last tokens\n",
    "        # get the logprob on the inner most dimension\n",
    "        answer_logprobs = F.log_softmax(answer_logits, dim=-1)\n",
    "\n",
    "        clean_logprobs = answer_logprobs[..., torch.arange(answer_logprobs.shape[-2]), labels_dataset]\n",
    "        corr_logprobs = answer_logprobs[..., torch.arange(answer_logprobs.shape[-2]), corr_labels_dataset]\n",
    "        metric = torch.sum(clean_logprobs - corr_logprobs)\n",
    "        metric.backward()\n",
    "\n",
    "        counterfactual_delta = sae_clean_acts - sae_corr_acts\n",
    "        \n",
    "        effect = (interpolation.grad * counterfactual_delta).mean(dim=0)\n",
    "\n",
    "        effects.append(effect)\n",
    "\n",
    "    effects = torch.stack(effects)\n",
    "    clear_memory()\n",
    "    return effects.mean(dim=0)\n"
   ]
  },
  {
   "cell_type": "code",
   "execution_count": 33,
   "metadata": {},
   "outputs": [],
   "source": [
    "def get_sae_ig_effect(sae_id, num_batches, clean_tokens, corr_tokens, clean_label_tokens, corr_label_tokens):\n",
    "    effect_batches = []\n",
    "    for i in tqdm(range(0, num_batches)):\n",
    "        clean_batch = clean_tokens[i]  \n",
    "        corr_batch = corr_tokens[i]\n",
    "        clean_label_batch = clean_label_tokens[i]\n",
    "        corr_label_batch = corr_label_tokens[i]\n",
    "        effect_batches.append(get_ig_effect_batch(sae_id, clean_batch, corr_batch, clean_label_batch, corr_label_batch))\n",
    "    return torch.stack(effect_batches).mean(dim=0)"
   ]
  },
  {
   "cell_type": "code",
   "execution_count": 34,
   "metadata": {},
   "outputs": [],
   "source": [
    "def get_all_sae_ig_effects(num_batches, clean_tokens, corr_tokens, clean_label_tokens, corr_label_tokens):\n",
    "    for i in range(len(saes)):\n",
    "        ig_effect = get_sae_ig_effect(i, num_batches, clean_tokens, corr_tokens, clean_label_tokens, corr_label_tokens)\n",
    "        saes[i].igmask = IGMask(ig_effect)\n",
    "        "
   ]
  },
  {
   "cell_type": "code",
   "execution_count": 39,
   "metadata": {},
   "outputs": [
    {
     "name": "stderr",
     "output_type": "stream",
     "text": [
      "100%|██████████| 25/25 [03:40<00:00,  8.81s/it]\n",
      "100%|██████████| 25/25 [03:40<00:00,  8.81s/it]\n",
      "100%|██████████| 25/25 [03:40<00:00,  8.81s/it]\n",
      "100%|██████████| 25/25 [03:40<00:00,  8.81s/it]\n"
     ]
    }
   ],
   "source": [
    "get_all_sae_ig_effects(25, clean_tokens, corr_tokens, clean_label_tokens, corr_label_tokens)"
   ]
  },
  {
   "cell_type": "code",
   "execution_count": 40,
   "metadata": {},
   "outputs": [
    {
     "data": {
      "text/plain": [
       "tensor(7271, device='cuda:0')"
      ]
     },
     "execution_count": 40,
     "metadata": {},
     "output_type": "execute_result"
    }
   ],
   "source": [
    "torch.count_nonzero(saes[1].igmask.ig_scores)"
   ]
  },
  {
   "cell_type": "code",
   "execution_count": 41,
   "metadata": {},
   "outputs": [],
   "source": [
    "def save_igmask(igmask, file_path):\n",
    "    \"\"\"Save the IGMask instance to a file.\"\"\"\n",
    "    if not isinstance(igmask, IGMask):\n",
    "        raise ValueError(\"The object to save must be an instance of IGMask.\")\n",
    "\n",
    "    # Save the ig_scores and any additional parameters if needed\n",
    "    state_dict = {\n",
    "        'ig_scores': igmask.ig_scores\n",
    "    }\n",
    "    \n",
    "    # Create directory if it doesn't exist\n",
    "    os.makedirs(os.path.dirname(file_path), exist_ok=True)\n",
    "\n",
    "    # Save the state dictionary using PyTorch\n",
    "    torch.save(state_dict, file_path)\n",
    "\n",
    "for sae in saes:\n",
    "    save_igmask(sae.igmask, f\"masks/ioi/baba21/igmask/igmask_{sae.cfg.hook_layer}.pt\")"
   ]
  },
  {
   "cell_type": "code",
   "execution_count": 44,
   "metadata": {},
   "outputs": [],
   "source": [
    "masks = produce_ig_binary_masks(threshold=0.01)"
   ]
  },
  {
   "cell_type": "code",
   "execution_count": 45,
   "metadata": {},
   "outputs": [
    {
     "name": "stdout",
     "output_type": "stream",
     "text": [
      "Statistics for mask 'blocks.7.hook_resid_post':\n",
      "  - Shape: [20, 16384]\n",
      "  - Total latents: 327680\n",
      "  - Latents ON (mask=1): 39\n",
      "  - Average ON per token: 1.9500\n",
      "\n",
      "Statistics for mask 'blocks.14.hook_resid_post':\n",
      "  - Shape: [20, 16384]\n",
      "  - Total latents: 327680\n",
      "  - Latents ON (mask=1): 55\n",
      "  - Average ON per token: 2.7500\n",
      "\n",
      "Statistics for mask 'blocks.21.hook_resid_post':\n",
      "  - Shape: [20, 16384]\n",
      "  - Total latents: 327680\n",
      "  - Latents ON (mask=1): 86\n",
      "  - Average ON per token: 4.3000\n",
      "\n",
      "Statistics for mask 'blocks.40.hook_resid_post':\n",
      "  - Shape: [20, 16384]\n",
      "  - Total latents: 327680\n",
      "  - Latents ON (mask=1): 119\n",
      "  - Average ON per token: 5.9500\n",
      "\n"
     ]
    }
   ],
   "source": [
    "masks.print_mask_statistics()"
   ]
  },
  {
   "cell_type": "code",
   "execution_count": 46,
   "metadata": {},
   "outputs": [],
   "source": [
    "def pp(x):\n",
    "    keys = list(x.keys())\n",
    "    values = list(x.values())\n",
    "    for i in range(len(keys)):\n",
    "        print(f\"{keys[i]}: {values[i]}\")"
   ]
  },
  {
   "cell_type": "code",
   "execution_count": 48,
   "metadata": {},
   "outputs": [
    {
     "name": "stdout",
     "output_type": "stream",
     "text": [
      "layer: 7\n",
      "326.0\n",
      "layer: 14\n",
      "295.0\n",
      "layer: 21\n",
      "479.0\n",
      "layer: 40\n",
      "405.0\n",
      "total 1505.0\n",
      "========================================\n",
      "tensor(1.8417, device='cuda:0')\n"
     ]
    }
   ],
   "source": [
    "threshold = 0.001\n",
    "sum = 0\n",
    "for sae in saes:\n",
    "    print(\"layer:\", sae.cfg.hook_layer)\n",
    "    latents_in_sae = sae.igmask.get_threshold_info(threshold)['total_latents'].item()\n",
    "    sum += latents_in_sae\n",
    "    print(latents_in_sae)\n",
    "\n",
    "print(\"total\", sum)\n",
    "\n",
    "print(\"=\"*40)\n",
    "with torch.no_grad():\n",
    "    ig_logits = model.run_with_hooks(\n",
    "            clean_tokens[-1], \n",
    "            return_type=\"logits\", \n",
    "            fwd_hooks=build_hooks_list(clean_tokens[-1], ig_mask_threshold=threshold, mean_mask=True)\n",
    "            )\n",
    "    ld = logit_diff_fn(ig_logits, clean_label_tokens[-1], corr_label_tokens[-1])\n",
    "    print(ld)\n",
    "    # ig_logitfn = build_sae_logitfn(ig_mask_threshold=threshold, mean_mask=True)\n",
    "    # metrics = sanity_check_model_performance(ig_logitfn)\n",
    "    # top1_correct_avg = (metrics['top1_correct'] + metrics['top1_error'])/2\n",
    "    # ce_avg = (metrics['ce_loss_correct'] + metrics['ce_loss_error'])/2\n",
    "    # pp(metrics)\n",
    "    # print(\"avg top1 correct\", top1_correct_avg)\n",
    "    # print(\"avg CE loss\", ce_avg)"
   ]
  },
  {
   "cell_type": "code",
   "execution_count": 49,
   "metadata": {},
   "outputs": [
    {
     "name": "stdout",
     "output_type": "stream",
     "text": [
      "tensor(2.3134, device='cuda:0')\n",
      "tensor(1.8417, device='cuda:0')\n",
      "tensor(1.0428, device='cuda:0')\n",
      "tensor(2.0360, device='cuda:0')\n",
      "tensor(1.6938, device='cuda:0')\n",
      "tensor(1.4980, device='cuda:0')\n",
      "tensor(3.1923, device='cuda:0')\n",
      "tensor(0.9267, device='cuda:0')\n",
      "tensor(2.7720, device='cuda:0')\n",
      "tensor(2.3065, device='cuda:0')\n",
      "Average LD:  tensor(1.9623, device='cuda:0')\n"
     ]
    }
   ],
   "source": [
    "avg_ig_ld = 0\n",
    "threshold = 0.001\n",
    "with torch.no_grad():\n",
    "    for i in range(10):\n",
    "        ig_logits = model.run_with_hooks(\n",
    "                clean_tokens[-i], \n",
    "                return_type=\"logits\", \n",
    "                fwd_hooks=build_hooks_list(clean_tokens[-i], ig_mask_threshold=threshold, mean_mask=True)\n",
    "                )\n",
    "        ld = logit_diff_fn(ig_logits, clean_label_tokens[-i], corr_label_tokens[-i])\n",
    "        print(ld)\n",
    "        avg_ig_ld += ld\n",
    "        del ig_logits\n",
    "        cleanup_cuda()\n",
    "print(\"Average LD: \", avg_ig_ld / 10)\n",
    "ig_ld = (avg_ig_ld / 10).item()"
   ]
  },
  {
   "cell_type": "code",
   "execution_count": 50,
   "metadata": {},
   "outputs": [
    {
     "data": {
      "text/plain": [
       "3.6701977252960205"
      ]
     },
     "execution_count": 50,
     "metadata": {},
     "output_type": "execute_result"
    }
   ],
   "source": [
    "avg_logit_diff"
   ]
  },
  {
   "cell_type": "code",
   "execution_count": 53,
   "metadata": {},
   "outputs": [
    {
     "name": "stderr",
     "output_type": "stream",
     "text": [
      "100%|██████████| 10/10 [01:01<00:00,  6.16s/it]\n"
     ]
    }
   ],
   "source": [
    "# Comparison:\n",
    "\n",
    "def get_faithfulness(clean_tokens, clean_label_tokens, corr_label_tokens, mask, modelsae_ld):\n",
    "    avg_ig_ld = 0\n",
    "    with torch.no_grad():\n",
    "        for i in range(10):\n",
    "            ig_logits = model.run_with_hooks(\n",
    "                    clean_tokens[-i], \n",
    "                    return_type=\"logits\", \n",
    "                    fwd_hooks=build_hooks_list(clean_tokens[-i], circuit_mask=mask, mean_mask=True)\n",
    "                    )\n",
    "            ld = logit_diff_fn(ig_logits, clean_label_tokens[-i], corr_label_tokens[-i])\n",
    "            avg_ig_ld += ld\n",
    "            del ig_logits\n",
    "            cleanup_cuda()\n",
    "    avg_ig = (avg_ig_ld / 10).item()\n",
    "    faithfulness_ratio = avg_ig/modelsae_ld\n",
    "    return faithfulness_ratio\n",
    "\n",
    "def get_faithfulness_frontier(mask_producer_fn, start_threshold, end_threshold, clean_tokens, clean_label_tokens, corr_label_tokens, modelsae_ld, steps = 10, modify_fn = lambda x: x):\n",
    "    thresholds = []\n",
    "    delta = (end_threshold - start_threshold) / steps\n",
    "\n",
    "    # apply a linear function such that the linear_map(modify_fn(start_threshold)) = start_threshold\n",
    "    # and linear_map(modify_fn(end_threshold)) = end_threshold\n",
    "\n",
    "    def linear_map(x):\n",
    "        mod_start = modify_fn(start_threshold)\n",
    "        mod_end = modify_fn(end_threshold)\n",
    "        return (x - mod_start) / (mod_end - mod_start) * (end_threshold - start_threshold) + start_threshold\n",
    "    \n",
    "    mf = lambda x: linear_map(modify_fn(x))\n",
    "    \n",
    "\n",
    "\n",
    "    for i in range(steps):\n",
    "        thresholds.append(\n",
    "            mf(start_threshold + i*delta)\n",
    "            )\n",
    "    \n",
    "    faithfulness_scores = []\n",
    "    for threshold in tqdm(thresholds):\n",
    "        mask = mask_producer_fn(threshold=threshold)\n",
    "        num_latents = mask.get_num_latents()\n",
    "        faithfulness_ratio = get_faithfulness(clean_tokens, clean_label_tokens, corr_label_tokens, mask, modelsae_ld\n",
    "        )\n",
    "        faithfulness_scores.append([num_latents, faithfulness_ratio])\n",
    "    return faithfulness_scores        \n",
    "\n",
    "ig_faithfulness_frontier = get_faithfulness_frontier(produce_ig_binary_masks, 0.00005, 0.05, clean_tokens, clean_label_tokens, corr_label_tokens, avg_logit_diff, steps=10, modify_fn=lambda x: x**2)\n"
   ]
  },
  {
   "cell_type": "code",
   "execution_count": 54,
   "metadata": {},
   "outputs": [
    {
     "data": {
      "image/png": "[encoded data removed]",
      "text/plain": [
       "<Figure size 1000x600 with 1 Axes>"
      ]
     },
     "metadata": {},
     "output_type": "display_data"
    }
   ],
   "source": [
    "\n",
    "def plot_faithfulness_frontier(faithfulness_frontier):\n",
    "    # Assuming faithfulness_frontier is your list of tuples\n",
    "    # Example: faithfulness_frontier = [(10, 0.8), (20, 0.85), (30, 0.89), ...]\n",
    "\n",
    "    # Unzip the tuples into separate lists for x and y coordinates\n",
    "    num_latents, faithfulness = zip(*faithfulness_frontier)\n",
    "\n",
    "    # Create the plot\n",
    "    plt.figure(figsize=(10, 6))\n",
    "    plt.plot(num_latents, faithfulness, 'b.-', linewidth=2, markersize=10)\n",
    "\n",
    "    # Add labels and title\n",
    "    plt.xlabel('Number of Latents')\n",
    "    plt.ylabel('Faithfulness')\n",
    "    plt.title('Faithfulness Frontier')\n",
    "\n",
    "    # Add grid for better readability\n",
    "    plt.grid(True, linestyle='--', alpha=0.7)\n",
    "\n",
    "    # Optionally, you can customize the axis ranges if needed\n",
    "    # plt.xlim([min(num_latents), max(num_latents)])\n",
    "    # plt.ylim([min(faithfulness), max(faithfulness)])\n",
    "\n",
    "    # Display the plot\n",
    "    plt.tight_layout()\n",
    "    plt.show()\n",
    "plot_faithfulness_frontier(ig_faithfulness_frontier)"
   ]
  },
  {
   "cell_type": "code",
   "execution_count": 55,
   "metadata": {},
   "outputs": [
    {
     "data": {
      "image/png": "[encoded data removed]",
      "text/plain": [
       "<Figure size 1200x800 with 1 Axes>"
      ]
     },
     "metadata": {},
     "output_type": "display_data"
    }
   ],
   "source": [
    "import matplotlib.pyplot as plt\n",
    "import json\n",
    "thresholds = []\n",
    "modify_fn=lambda x: x**2\n",
    "start_threshold = 0.0001\n",
    "end_threshold = 0.07\n",
    "n_runs = 10\n",
    "delta = (end_threshold - start_threshold) / n_runs\n",
    "def linear_map(x):\n",
    "        mod_start = modify_fn(start_threshold)\n",
    "        mod_end = modify_fn(end_threshold)\n",
    "        return (x - mod_start) / (mod_end - mod_start) * (end_threshold - start_threshold) + start_threshold\n",
    "    \n",
    "mf = lambda x: linear_map(modify_fn(x))\n",
    "for i in range(n_runs):\n",
    "    thresholds.append(\n",
    "        mf(start_threshold + i*delta)\n",
    "        )\n",
    "nnodes = []\n",
    "faithfulness = []\n",
    "for i in thresholds[:6]:\n",
    "    sparsity_multiplier = i\n",
    "    bdir = f\"masks/ioi/baba21/logit_diff_{str(sparsity_multiplier)}_run/{str(sparsity_multiplier)}_run.json\"\n",
    "    # load the dict \n",
    "    with open(bdir, 'r') as file:\n",
    "        mask_dict = json.load(file)\n",
    "    nnodes.append(mask_dict['total_density'])\n",
    "    faithfulness.append(mask_dict['faithfulness'])\n",
    "\n",
    "\n",
    "# Unzip the tuples into separate lists for Integrated Gradients plot\n",
    "num_latents, ig_faithfulness = zip(*ig_faithfulness_frontier)\n",
    "\n",
    "# Create the combined plot\n",
    "plt.figure(figsize=(12, 8))\n",
    "\n",
    "# Plot \"Integrated Gradients\"\n",
    "plt.plot(num_latents, ig_faithfulness, marker='o',linestyle='-', linewidth=2, markersize=8,  label='Integrated Gradients', color='blue')\n",
    "\n",
    "# Plot \"Masking\"\n",
    "plt.plot(nnodes, faithfulness, marker='o', linestyle='-', linewidth=2, markersize=8, label='Masking', color='orange')\n",
    "\n",
    "# Add labels, legend, and title\n",
    "plt.xlabel('Number of Nodes / Latents', fontsize=14)\n",
    "plt.ylabel('Faithfulness', fontsize=14)\n",
    "plt.title('Faithfulness Comparison: Masking vs Integrated Gradients', fontsize=16)\n",
    "plt.legend(fontsize=12)\n",
    "\n",
    "# Add grid for better readability\n",
    "plt.grid(visible=True, linestyle='--', alpha=0.7)\n",
    "\n",
    "# Adjust layout and display the plot\n",
    "plt.tight_layout()\n",
    "plt.show()\n"
   ]
  },
  {
   "cell_type": "code",
   "execution_count": null,
   "metadata": {},
   "outputs": [],
   "source": []
  },
  {
   "cell_type": "code",
   "execution_count": null,
   "metadata": {},
   "outputs": [],
   "source": []
  },
  {
   "cell_type": "markdown",
   "metadata": {},
   "source": [
    "# data creation stuff"
   ]
  },
  {
   "cell_type": "code",
   "execution_count": 45,
   "metadata": {},
   "outputs": [
    {
     "data": {
      "text/plain": [
       "tensor(262144., device='cuda:0', grad_fn=<MulBackward0>)"
      ]
     },
     "execution_count": 45,
     "metadata": {},
     "output_type": "execute_result"
    }
   ],
   "source": [
    "torch.abs(saes[0].mask.mask).sum() * saes[0].mask.distinct_l1"
   ]
  },
  {
   "cell_type": "code",
   "execution_count": 65,
   "metadata": {},
   "outputs": [
    {
     "data": {
      "text/plain": [
       "tensor(16384., device='cuda:0', grad_fn=<SumBackward0>)"
      ]
     },
     "execution_count": 65,
     "metadata": {},
     "output_type": "execute_result"
    }
   ],
   "source": [
    "torch.abs(saes[0].mask.mask).sum()"
   ]
  },
  {
   "cell_type": "code",
   "execution_count": 66,
   "metadata": {},
   "outputs": [
    {
     "data": {
      "text/plain": [
       "tensor(1.)"
      ]
     },
     "execution_count": 66,
     "metadata": {},
     "output_type": "execute_result"
    }
   ],
   "source": [
    "saes[0].mask.temperature"
   ]
  },
  {
   "cell_type": "code",
   "execution_count": 70,
   "metadata": {},
   "outputs": [
    {
     "data": {
      "text/plain": [
       "tensor([0.7311, 0.7311, 0.7311,  ..., 0.7311, 0.7311, 0.7311], device='cuda:0',\n",
       "       grad_fn=<SigmoidBackward0>)"
      ]
     },
     "execution_count": 70,
     "metadata": {},
     "output_type": "execute_result"
    }
   ],
   "source": [
    "torch.sigmoid(saes[0].mask.mask * saes[0].mask.temperature)"
   ]
  },
  {
   "cell_type": "code",
   "execution_count": 41,
   "metadata": {},
   "outputs": [
    {
     "data": {
      "text/plain": [
       "tensor(191642.6094, device='cuda:0', grad_fn=<MulBackward0>)"
      ]
     },
     "execution_count": 41,
     "metadata": {},
     "output_type": "execute_result"
    }
   ],
   "source": [
    "saes[0].mask.sparsity_loss"
   ]
  },
  {
   "cell_type": "code",
   "execution_count": 40,
   "metadata": {},
   "outputs": [
    {
     "data": {
      "text/plain": [
       "tensor(262144, device='cuda:0')"
      ]
     },
     "execution_count": 40,
     "metadata": {},
     "output_type": "execute_result"
    }
   ],
   "source": [
    "torch.sum(saes[0].mask.mask == 1)"
   ]
  },
  {
   "cell_type": "code",
   "execution_count": 43,
   "metadata": {},
   "outputs": [
    {
     "data": {
      "text/plain": [
       "tensor(262144, device='cuda:0')"
      ]
     },
     "execution_count": 43,
     "metadata": {},
     "output_type": "execute_result"
    }
   ],
   "source": [
    "torch.sum(saes[0].mask.mask>0)"
   ]
  },
  {
   "cell_type": "code",
   "execution_count": 44,
   "metadata": {},
   "outputs": [
    {
     "data": {
      "text/plain": [
       "256000"
      ]
     },
     "execution_count": 44,
     "metadata": {},
     "output_type": "execute_result"
    }
   ],
   "source": [
    "16056*16"
   ]
  },
  {
   "cell_type": "code",
   "execution_count": 31,
   "metadata": {},
   "outputs": [
    {
     "data": {
      "text/plain": [
       "1.04"
      ]
     },
     "execution_count": 31,
     "metadata": {},
     "output_type": "execute_result"
    }
   ],
   "source": [
    "0.8*1.3"
   ]
  },
  {
   "cell_type": "code",
   "execution_count": 91,
   "metadata": {},
   "outputs": [
    {
     "name": "stderr",
     "output_type": "stream",
     "text": [
      "/home/jnainani_umass_edu/.conda/envs/finetuning/lib/python3.10/site-packages/transformers/tokenization_utils_base.py:1601: FutureWarning: `clean_up_tokenization_spaces` was not set. It will be set to `True` by default. This behavior will be depracted in transformers v4.45, and will be then set to `False` by default. For more details check this issue: https://github.com/huggingface/transformers/issues/31884\n",
      "  warnings.warn(\n",
      "/work/pi_jensen_umass_edu/jnainani_umass_edu/ScalableSAECircuits/data/ioi/ioi_dataset.py:634: UserWarning: S2 index has been computed as the same for S and S2\n",
      "  warnings.warn(\"S2 index has been computed as the same for S and S2\")\n"
     ]
    }
   ],
   "source": [
    "from data.ioi import ioi_dataset\n",
    "\n",
    "ioi_data = ioi_dataset.IOIDataset(prompt_type=\"BABA\",nb_templates=2, N = 6000)\n",
    "abc_data = (\n",
    "    ioi_data.gen_flipped_prompts((\"IO\", \"RAND\"))\n",
    "    .gen_flipped_prompts((\"S\", \"RAND\"))\n",
    "    .gen_flipped_prompts((\"S1\", \"RAND\"))\n",
    "    )"
   ]
  },
  {
   "cell_type": "code",
   "execution_count": 92,
   "metadata": {},
   "outputs": [
    {
     "name": "stdout",
     "output_type": "stream",
     "text": [
      "2966\n"
     ]
    }
   ],
   "source": [
    "lower = 0\n",
    "i = 0\n",
    "for pr in ioi_data.ioi_prompts:\n",
    "    ll = len(model.tokenizer.encode(pr['text']))\n",
    "    # print(ll)\n",
    "    # print(pr['text'])\n",
    "    if ll == 21:\n",
    "        lower += 1\n",
    "    # i += 1\n",
    "    # if i > 10:\n",
    "    #     break\n",
    "print(lower)"
   ]
  },
  {
   "cell_type": "code",
   "execution_count": 94,
   "metadata": {},
   "outputs": [],
   "source": [
    "import re\n",
    "def truncate_to_end_with_to(text):\n",
    "    return re.sub(r'\\s+\\S+$', '', text)"
   ]
  },
  {
   "cell_type": "code",
   "execution_count": 95,
   "metadata": {},
   "outputs": [
    {
     "data": {
      "text/plain": [
       "2966"
      ]
     },
     "execution_count": 95,
     "metadata": {},
     "output_type": "execute_result"
    }
   ],
   "source": [
    "full_ioi_dataset = []\n",
    "for ind, pr in enumerate(ioi_data.ioi_prompts):\n",
    "    pr_abc = abc_data.ioi_prompts[ind]\n",
    "    ll = len(model.tokenizer.encode(pr['text']))\n",
    "    labv = len(model.tokenizer.encode(pr_abc['text']))\n",
    "    if ll == 21 and ll == labv:\n",
    "        ioi_dict = {\"clean_prefix\": truncate_to_end_with_to(pr['text']), \"patch_prefix\": truncate_to_end_with_to(pr_abc['text']), \"clean_answer\": ' '+pr['IO'], \"patch_answer\": ' '+pr['S'], \"case\": \"BABA_21\"}\n",
    "        full_ioi_dataset.append(ioi_dict)\n",
    "\n",
    "len(full_ioi_dataset)"
   ]
  },
  {
   "cell_type": "code",
   "execution_count": 96,
   "metadata": {},
   "outputs": [],
   "source": [
    "# save the ioi dataset\n",
    "with open('data/ioi_train_21.json', 'w') as outfile:\n",
    "    json.dump(full_ioi_dataset, outfile)"
   ]
  },
  {
   "cell_type": "code",
   "execution_count": 98,
   "metadata": {},
   "outputs": [],
   "source": [
    "import json\n",
    "file_path = 'data/ioi/ioi_train_21.json'\n",
    "with open(file_path, 'r') as file:\n",
    "    data = json.load(file)"
   ]
  },
  {
   "cell_type": "code",
   "execution_count": null,
   "metadata": {},
   "outputs": [],
   "source": []
  }
 ],
 "metadata": {
  "kernelspec": {
   "display_name": "Python 3",
   "language": "python",
   "name": "python3"
  },
  "language_info": {
   "codemirror_mode": {
    "name": "ipython",
    "version": 3
   },
   "file_extension": ".py",
   "mimetype": "text/x-python",
   "name": "python",
   "nbconvert_exporter": "python",
   "pygments_lexer": "ipython3",
   "version": "3.10.4"
  }
 },
 "nbformat": 4,
 "nbformat_minor": 2
}
